{
 "cells": [
  {
   "cell_type": "markdown",
   "id": "3446f3b2-33ea-4432-977f-dd8a2a7a005a",
   "metadata": {},
   "source": [
    "## Replicate model in Preisler et al. (2017)\n",
    "\n",
    "Their approach was to use a general additive model with a logit link function. GAMs are hard to implement in Python and do not play well with tensorflow. We will approximate this with a dense neural network with a logit activation function in the output node."
   ]
  },
  {
   "cell_type": "code",
   "execution_count": 1,
   "id": "035bfb8b-e1e2-49e1-a5e6-7818e1ba3e9e",
   "metadata": {},
   "outputs": [
    {
     "name": "stdout",
     "output_type": "stream",
     "text": [
      "Changed working directory to G:\\Other computers\\My Laptop\\UW\\Classes\\ESS521\\project\n"
     ]
    }
   ],
   "source": [
    "import tensorflow as tf\n",
    "import tensorflow_datasets as tfds\n",
    "\n",
    "import os\n",
    "import json\n",
    "import random\n",
    "\n",
    "from google.cloud.storage import Client\n",
    "\n",
    "if \"notebooks\" in os.getcwd():\n",
    "    os.chdir(\"..\")\n",
    "    print(\"Changed working directory to\", os.getcwd())"
   ]
  },
  {
   "cell_type": "markdown",
   "id": "6dd5a3f1-1ee1-4b62-886c-50944ecad7be",
   "metadata": {},
   "source": [
    "### Get example record from GCS"
   ]
  },
  {
   "cell_type": "code",
   "execution_count": 2,
   "id": "6a2a7d9c-1fe5-4655-a8d3-2f794f365c82",
   "metadata": {},
   "outputs": [
    {
     "name": "stdout",
     "output_type": "stream",
     "text": [
      "gs://preisler_tfdata/ca_whole_image/yr2016/00000.tfrecord\n",
      "gs://preisler_tfdata/ca_whole_image/yr2020/00000.tfrecord\n",
      "gs://preisler_tfdata/ca_whole_image/yr2005/00000.tfrecord\n",
      "gs://preisler_tfdata/ca_whole_image/yr2011/00000.tfrecord\n",
      "gs://preisler_tfdata/ca_whole_image/yr2007/00000.tfrecord\n",
      "gs://preisler_tfdata/ca_whole_image/yr2023/00000.tfrecord\n",
      "gs://preisler_tfdata/ca_whole_image/yr2006/00000.tfrecord\n",
      "gs://preisler_tfdata/ca_whole_image/yr2018/00000.tfrecord\n",
      "gs://preisler_tfdata/ca_whole_image/yr2012/00000.tfrecord\n",
      "gs://preisler_tfdata/ca_whole_image/yr2009/00000.tfrecord\n",
      "gs://preisler_tfdata/ca_whole_image/yr2000/00000.tfrecord\n",
      "gs://preisler_tfdata/ca_whole_image/yr2015/00000.tfrecord\n",
      "gs://preisler_tfdata/ca_whole_image/yr2019/00000.tfrecord\n",
      "gs://preisler_tfdata/ca_whole_image/yr2008/00000.tfrecord\n",
      "gs://preisler_tfdata/ca_whole_image/yr2001/00000.tfrecord\n",
      "gs://preisler_tfdata/ca_whole_image/yr2021/00000.tfrecord\n",
      "gs://preisler_tfdata/ca_whole_image/yr2004/00000.tfrecord\n",
      "gs://preisler_tfdata/ca_whole_image/yr2022/00000.tfrecord\n",
      "gs://preisler_tfdata/ca_whole_image/yr2014/00000.tfrecord\n",
      "gs://preisler_tfdata/ca_whole_image/yr2010/00000.tfrecord\n",
      "gs://preisler_tfdata/ca_whole_image/yr2002/00000.tfrecord\n",
      "gs://preisler_tfdata/ca_whole_image/yr2003/00000.tfrecord\n",
      "gs://preisler_tfdata/ca_whole_image/yr2017/00000.tfrecord\n",
      "gs://preisler_tfdata/ca_whole_image/yr2013/00000.tfrecord\n"
     ]
    }
   ],
   "source": [
    "client = Client(project=\"forest-lst\")\n",
    "bucket = \"preisler_tfdata\"\n",
    "\n",
    "records = [\n",
    "    \"/\".join([\"gs://{}\".format(bucket), f.name])\n",
    "    for f in client.list_blobs(bucket, prefix=\"ca_whole_image\")\n",
    "    if \".tfrecord\" in f.name\n",
    "]\n",
    "\n",
    "random.shuffle(records)\n",
    "\n",
    "print(\"\\n\".join(records))"
   ]
  },
  {
   "cell_type": "code",
   "execution_count": 3,
   "id": "65947628-671c-4899-9164-4e89f02cfcdc",
   "metadata": {},
   "outputs": [
    {
     "data": {
      "application/json": {
       "features": {
        "feature": {
         "fire": {
          "floatList": {
           "value": [
            0
           ]
          }
         },
         "latitude": {
          "floatList": {
           "value": [
            0
           ]
          }
         },
         "longitude": {
          "floatList": {
           "value": [
            0
           ]
          }
         },
         "near": {
          "floatList": {
           "value": [
            0
           ]
          }
         },
         "pct_mortality": {
          "floatList": {
           "value": [
            0
           ]
          }
         },
         "prcp1": {
          "floatList": {
           "value": [
            0
           ]
          }
         },
         "prcp2": {
          "floatList": {
           "value": [
            0
           ]
          }
         },
         "prcp3": {
          "floatList": {
           "value": [
            0
           ]
          }
         },
         "prcp4": {
          "floatList": {
           "value": [
            0
           ]
          }
         },
         "rhost": {
          "floatList": {
           "value": [
            0
           ]
          }
         },
         "winter_tmin": {
          "floatList": {
           "value": [
            0
           ]
          }
         },
         "year": {
          "int64List": {
           "value": [
            "0"
           ]
          }
         }
        }
       }
      },
      "text/plain": [
       "<IPython.core.display.JSON object>"
      ]
     },
     "execution_count": 3,
     "metadata": {
      "application/json": {
       "expanded": false,
       "root": "root"
      }
     },
     "output_type": "execute_result"
    }
   ],
   "source": [
    "from google.protobuf import json_format\n",
    "from IPython.display import JSON\n",
    "\n",
    "ds = tf.data.TFRecordDataset(records)\n",
    "\n",
    "raw_record = next(ds.take(1).as_numpy_iterator())\n",
    "example = tf.train.Example()\n",
    "example.ParseFromString(raw_record)\n",
    "m = json.loads(json_format.MessageToJson(example))\n",
    "JSON(m)"
   ]
  },
  {
   "cell_type": "markdown",
   "id": "31dcadbe-e562-4442-a95a-b459fb80dd14",
   "metadata": {},
   "source": [
    "### Tensor spec\n",
    "With this data we are working with the (mostly) raw pixels as output by earth engine. So, we don't have to go through the trouble of making a TF Dataset. Instead we can just define the TensorSpec and go straight to preprocessing. Conveniently, everything here has the same shape so we can use the names from the above JSON to make the spec."
   ]
  },
  {
   "cell_type": "code",
   "execution_count": 4,
   "id": "912ec1ac-214f-405b-ba05-3aef96da403d",
   "metadata": {},
   "outputs": [
    {
     "data": {
      "text/plain": [
       "dict_keys(['year', 'longitude', 'latitude', 'prcp1', 'prcp2', 'prcp3', 'prcp4', 'winter_tmin', 'rhost', 'near', 'fire', 'pct_mortality'])"
      ]
     },
     "execution_count": 4,
     "metadata": {},
     "output_type": "execute_result"
    }
   ],
   "source": [
    "m[\"features\"][\"feature\"].keys()"
   ]
  },
  {
   "cell_type": "code",
   "execution_count": 5,
   "id": "7dac170f-d9a6-48e8-a628-a390d690299c",
   "metadata": {},
   "outputs": [],
   "source": [
    "spec = {\n",
    "    key: tf.io.FixedLenFeature([1], dtype=tf.int64 if key == \"year\" else tf.float32)\n",
    "    for key in m[\"features\"][\"feature\"].keys()\n",
    "}"
   ]
  },
  {
   "cell_type": "code",
   "execution_count": 6,
   "id": "9efe64cf-5f89-4699-b789-ea400ce8e96d",
   "metadata": {},
   "outputs": [],
   "source": [
    "def decode_record(proto):\n",
    "    return tf.io.parse_single_example(proto, spec)\n",
    "\n",
    "def empty_record(record):\n",
    "    return tf.math.count_nonzero(record[\"longitude\"]) > 0\n",
    "\n",
    "ds_dec = ds.map(decode_record).filter(empty_record)\n",
    "\n",
    "feature = next(ds_dec.take(1).as_numpy_iterator())"
   ]
  },
  {
   "cell_type": "code",
   "execution_count": 7,
   "id": "c9d6d48f-036c-4941-8d66-b8030c8a14c1",
   "metadata": {},
   "outputs": [
    {
     "data": {
      "text/plain": [
       "{'fire': array([0.], dtype=float32),\n",
       " 'latitude': array([42.006813], dtype=float32),\n",
       " 'longitude': array([-123.80581], dtype=float32),\n",
       " 'near': array([0.04], dtype=float32),\n",
       " 'pct_mortality': array([0.], dtype=float32),\n",
       " 'prcp1': array([2068.16], dtype=float32),\n",
       " 'prcp2': array([1796.0869], dtype=float32),\n",
       " 'prcp3': array([2266.3794], dtype=float32),\n",
       " 'prcp4': array([2281.8901], dtype=float32),\n",
       " 'rhost': array([0.9794089], dtype=float32),\n",
       " 'winter_tmin': array([-5.0905867], dtype=float32),\n",
       " 'year': array([2016], dtype=int64)}"
      ]
     },
     "execution_count": 7,
     "metadata": {},
     "output_type": "execute_result"
    }
   ],
   "source": [
    "feature"
   ]
  },
  {
   "cell_type": "markdown",
   "id": "7f2b3caa-090c-4cc3-911f-7f82924fd29c",
   "metadata": {},
   "source": [
    "### Preprocessing\n",
    "\n",
    "To match the paper, we have to convert `pct_mortality` to a binary variable. Technically there's another model on top of this one that predicts area affected by mortality given that some mortality is predicted."
   ]
  },
  {
   "cell_type": "code",
   "execution_count": 41,
   "id": "129e63dc-abfb-4a83-a5dd-9289b0ae964c",
   "metadata": {},
   "outputs": [],
   "source": [
    "def preprocess(feature):\n",
    "    # feature[\"pct_mortality\"] = tf.math.greater(feature[\"pct_mortality\"], 0)\n",
    "\n",
    "    output = feature.pop(\"pct_mortality\")\n",
    "\n",
    "    # Example, target, sample weight\n",
    "    return feature, {\"pct_mortality\": output}, output\n",
    "\n",
    "ds_proc = ds_dec.map(preprocess)\n",
    "\n",
    "feature = next(ds_proc.take(1).as_numpy_iterator())"
   ]
  },
  {
   "cell_type": "code",
   "execution_count": 42,
   "id": "3244a7a7-0bad-45d9-9fbd-f9479a5d7ada",
   "metadata": {},
   "outputs": [
    {
     "data": {
      "text/plain": [
       "({'fire': array([0.], dtype=float32),\n",
       "  'latitude': array([42.006813], dtype=float32),\n",
       "  'longitude': array([-123.80581], dtype=float32),\n",
       "  'near': array([0.04], dtype=float32),\n",
       "  'prcp1': array([2068.16], dtype=float32),\n",
       "  'prcp2': array([1796.0869], dtype=float32),\n",
       "  'prcp3': array([2266.3794], dtype=float32),\n",
       "  'prcp4': array([2281.8901], dtype=float32),\n",
       "  'rhost': array([0.9794089], dtype=float32),\n",
       "  'winter_tmin': array([-5.0905867], dtype=float32),\n",
       "  'year': array([2016], dtype=int64)},\n",
       " {'pct_mortality': array([0.], dtype=float32)},\n",
       " array([0.], dtype=float32))"
      ]
     },
     "execution_count": 42,
     "metadata": {},
     "output_type": "execute_result"
    }
   ],
   "source": [
    "feature"
   ]
  },
  {
   "cell_type": "markdown",
   "id": "e7ada927-5e7a-43fa-b46d-8090280f9a05",
   "metadata": {},
   "source": [
    "### Model building"
   ]
  },
  {
   "cell_type": "code",
   "execution_count": 43,
   "id": "9757811c-22bc-459f-9247-2a1edec7892d",
   "metadata": {},
   "outputs": [
    {
     "name": "stdout",
     "output_type": "stream",
     "text": [
      "['fire', 'latitude', 'longitude', 'near', 'pct_mortality', 'prcp1', 'prcp2', 'prcp3', 'prcp4', 'rhost', 'winter_tmin', 'year']\n",
      "Model: \"model_2\"\n",
      "__________________________________________________________________________________________________\n",
      " Layer (type)                   Output Shape         Param #     Connected to                     \n",
      "==================================================================================================\n",
      " fire (InputLayer)              [(None, 1)]          0           []                               \n",
      "                                                                                                  \n",
      " latitude (InputLayer)          [(None, 1)]          0           []                               \n",
      "                                                                                                  \n",
      " longitude (InputLayer)         [(None, 1)]          0           []                               \n",
      "                                                                                                  \n",
      " near (InputLayer)              [(None, 1)]          0           []                               \n",
      "                                                                                                  \n",
      " prcp1 (InputLayer)             [(None, 1)]          0           []                               \n",
      "                                                                                                  \n",
      " prcp2 (InputLayer)             [(None, 1)]          0           []                               \n",
      "                                                                                                  \n",
      " prcp3 (InputLayer)             [(None, 1)]          0           []                               \n",
      "                                                                                                  \n",
      " prcp4 (InputLayer)             [(None, 1)]          0           []                               \n",
      "                                                                                                  \n",
      " rhost (InputLayer)             [(None, 1)]          0           []                               \n",
      "                                                                                                  \n",
      " winter_tmin (InputLayer)       [(None, 1)]          0           []                               \n",
      "                                                                                                  \n",
      " concatenate_2 (Concatenate)    (None, 10)           0           ['fire[0][0]',                   \n",
      "                                                                  'latitude[0][0]',               \n",
      "                                                                  'longitude[0][0]',              \n",
      "                                                                  'near[0][0]',                   \n",
      "                                                                  'prcp1[0][0]',                  \n",
      "                                                                  'prcp2[0][0]',                  \n",
      "                                                                  'prcp3[0][0]',                  \n",
      "                                                                  'prcp4[0][0]',                  \n",
      "                                                                  'rhost[0][0]',                  \n",
      "                                                                  'winter_tmin[0][0]']            \n",
      "                                                                                                  \n",
      " batch_normalization_2 (BatchNo  (None, 10)          40          ['concatenate_2[0][0]']          \n",
      " rmalization)                                                                                     \n",
      "                                                                                                  \n",
      " dense_6 (Dense)                (None, 16)           176         ['batch_normalization_2[0][0]']  \n",
      "                                                                                                  \n",
      " dropout_4 (Dropout)            (None, 16)           0           ['dense_6[0][0]']                \n",
      "                                                                                                  \n",
      " dense_7 (Dense)                (None, 16)           272         ['dropout_4[0][0]']              \n",
      "                                                                                                  \n",
      " dropout_5 (Dropout)            (None, 16)           0           ['dense_7[0][0]']                \n",
      "                                                                                                  \n",
      " dense_8 (Dense)                (None, 8)            136         ['dropout_5[0][0]']              \n",
      "                                                                                                  \n",
      " pct_mortality (Dense)          (None, 1)            9           ['dense_8[0][0]']                \n",
      "                                                                                                  \n",
      "==================================================================================================\n",
      "Total params: 633\n",
      "Trainable params: 613\n",
      "Non-trainable params: 20\n",
      "__________________________________________________________________________________________________\n"
     ]
    }
   ],
   "source": [
    "import tensorflow.keras as keras\n",
    "\n",
    "REG  = keras.regularizers.L1(0.001)\n",
    "DROP = 0.05\n",
    "\n",
    "print(sorted(list(spec.keys())))\n",
    "\n",
    "def build_preisler_model():\n",
    "    # Inputs\n",
    "    inputs =  [\n",
    "        keras.layers.Input(shape=(1,), name=key)\n",
    "        for key in sorted(list(spec.keys())) \n",
    "        if key not in [\"pct_mortality\", \"year\"]\n",
    "    ]\n",
    "\n",
    "    # Concatenate all the inputs together\n",
    "    concat = keras.layers.Concatenate(axis=1)(inputs)\n",
    "\n",
    "    # Normalize each parameter independently\n",
    "    norm = keras.layers.BatchNormalization(axis=-1)(concat)\n",
    "\n",
    "    # Feed normalized data to a few dense layers with dropout\n",
    "    d1 = keras.layers.Dense(16, kernel_regularizer=REG)(norm)\n",
    "    drop1 = keras.layers.Dropout(DROP)(d1)\n",
    "    d2 = keras.layers.Dense(16, kernel_regularizer=REG)(drop1)\n",
    "    drop2 = keras.layers.Dropout(DROP)(d2)\n",
    "    d3 = keras.layers.Dense(8,  kernel_regularizer=REG)(drop2)\n",
    "\n",
    "    # Connect to output\n",
    "    out = keras.layers.Dense(1, activation=\"sigmoid\", name=\"pct_mortality\")(d3)\n",
    "\n",
    "    return keras.models.Model(inputs=inputs, outputs=out)\n",
    "\n",
    "model = build_preisler_model()\n",
    "model.summary()"
   ]
  },
  {
   "cell_type": "markdown",
   "id": "9b374961-9156-4c00-bf59-cb74e4fee087",
   "metadata": {},
   "source": [
    "### Train-test-validate split"
   ]
  },
  {
   "cell_type": "code",
   "execution_count": 44,
   "id": "38ebe830-7711-4445-b62b-809fcbe9f133",
   "metadata": {},
   "outputs": [
    {
     "data": {
      "image/png": "[encoded data removed]",
      "text/plain": [
       "<Figure size 640x480 with 1 Axes>"
      ]
     },
     "metadata": {},
     "output_type": "display_data"
    }
   ],
   "source": [
    "from matplotlib import pyplot as plt\n",
    "\n",
    "n_total = 10000\n",
    "n_train = int(n_total * 0.70)\n",
    "n_test  = int(n_total * 0.15)\n",
    "n_valid = int(n_total * 0.15)\n",
    "batch_size = 64\n",
    "\n",
    "ds_train = ds_proc.take(n_train).shuffle(100).batch(batch_size)\n",
    "ds_test  = ds_proc.skip(n_train).take(n_test).shuffle(100).batch(batch_size)\n",
    "ds_valid = ds_proc.skip(n_train+n_test).take(n_valid).shuffle(100).batch(batch_size)\n",
    "\n",
    "# Check distribution of response in training data\n",
    "y_train = y_test = [[ex[1][\"pct_mortality\"].numpy() for ex in ds_train]]\n",
    "y_train = np.concatenate(y_train[0]).squeeze()\n",
    "\n",
    "plt.hist(y_train)\n",
    "plt.show()"
   ]
  },
  {
   "cell_type": "markdown",
   "id": "ee84bf21-10fd-4069-b590-59f53c274372",
   "metadata": {},
   "source": [
    "### Model training"
   ]
  },
  {
   "cell_type": "code",
   "execution_count": 48,
   "id": "3a2d8eb1-f8ab-4efd-9d54-48c17a126de2",
   "metadata": {},
   "outputs": [],
   "source": [
    "# Reset weights\n",
    "model = build_preisler_model()\n",
    "\n",
    "model.compile(\n",
    "    loss=keras.losses.MeanSquaredLogarithmicError(),\n",
    "    optimizer=keras.optimizers.Adam(learning_rate=0.005),\n",
    "    weighted_metrics=[keras.metrics.RootMeanSquaredError()]\n",
    ")"
   ]
  },
  {
   "cell_type": "code",
   "execution_count": 49,
   "id": "564dbccd-7d0e-47d4-bcec-997c43c8736f",
   "metadata": {},
   "outputs": [
    {
     "name": "stdout",
     "output_type": "stream",
     "text": [
      "110/110 [==============================] - 7s 39ms/step - loss: 0.0410 - root_mean_squared_error: 0.2409 - val_loss: 0.0037 - val_root_mean_squared_error: 0.2881\n"
     ]
    }
   ],
   "source": [
    "earlystop = keras.callbacks.EarlyStopping(monitor=\"loss\", patience=3)\n",
    "checkpoint = keras.callbacks.ModelCheckpoint(\"tmp/preisler_model.keras\")\n",
    "\n",
    "history = model.fit(\n",
    "    x=ds_train,\n",
    "    validation_data=ds_valid,\n",
    "    epochs=1,\n",
    "    verbose=1,\n",
    "    callbacks=[earlystop, checkpoint]\n",
    ")"
   ]
  },
  {
   "cell_type": "markdown",
   "id": "1613aaec-6b17-4811-9b38-dbf7552aa33e",
   "metadata": {},
   "source": [
    "### Show fit on training data"
   ]
  },
  {
   "cell_type": "code",
   "execution_count": 52,
   "id": "0f7643c0-c87c-4a9e-a31a-dd017514606e",
   "metadata": {},
   "outputs": [
    {
     "name": "stdout",
     "output_type": "stream",
     "text": [
      "110/110 [==============================] - 3s 6ms/step\n"
     ]
    },
    {
     "data": {
      "image/png": "[encoded data removed]",
      "text/plain": [
       "<Figure size 640x480 with 1 Axes>"
      ]
     },
     "metadata": {},
     "output_type": "display_data"
    }
   ],
   "source": [
    "y_train_hat = model.predict(ds_train)\n",
    "plt.scatter(y_train, y_train_hat, s=5)\n",
    "plt.ylim(0, 1)\n",
    "plt.xlim(0, 1)\n",
    "plt.xlabel(\"True mortality\")\n",
    "plt.ylabel(\"Predicted mortality\")\n",
    "plt.show()"
   ]
  },
  {
   "cell_type": "markdown",
   "id": "add7ca41-5527-419c-b06f-583d4db3c79c",
   "metadata": {},
   "source": [
    "### Evaluate on new data"
   ]
  },
  {
   "cell_type": "code",
   "execution_count": 16,
   "id": "5be46811-9b43-4806-82d8-b6bb27e34293",
   "metadata": {},
   "outputs": [],
   "source": [
    "import numpy as np\n",
    "y_test = [[ex[1][\"pct_mortality\"].numpy() for ex in ds_test]]\n",
    "y_test = np.concatenate(y_test[0]).squeeze()"
   ]
  },
  {
   "cell_type": "code",
   "execution_count": 17,
   "id": "fbc356cf-cbf9-41d9-bce9-f0576bc76f99",
   "metadata": {},
   "outputs": [
    {
     "name": "stdout",
     "output_type": "stream",
     "text": [
      "469/469 [==============================] - 62s 16ms/step\n"
     ]
    }
   ],
   "source": [
    "y_pred = model.predict(ds_test)"
   ]
  },
  {
   "cell_type": "code",
   "execution_count": 20,
   "id": "ac0b0e6f-97df-412d-b342-382e4fb0a267",
   "metadata": {},
   "outputs": [
    {
     "data": {
      "text/plain": [
       "<tf.Tensor: shape=(1, 10), dtype=float32, numpy=\n",
       "array([[-0.12334561, -4.8656235 ,  0.21250153,  0.3216189 ,  4.543332  ,\n",
       "         2.4590585 ,  2.2418485 ,  1.0195467 ,  1.2524698 ,  0.29772353]],\n",
       "      dtype=float32)>"
      ]
     },
     "execution_count": 20,
     "metadata": {},
     "output_type": "execute_result"
    }
   ],
   "source": [
    "# Check that the normalization layer is working right\n",
    "norm_layer = model.layers[11]\n",
    "my_tensor = tf.constant([0, 37.5, -121, 0.1, 2000, 2000, 2000, 2000, 1, -5])\n",
    "my_tensor = my_tensor[tf.newaxis, :]\n",
    "\n",
    "norm_layer(my_tensor, training=False)"
   ]
  },
  {
   "cell_type": "code",
   "execution_count": 27,
   "id": "852cd670-4839-42b1-91b9-00ad3ad4061c",
   "metadata": {},
   "outputs": [
    {
     "data": {
      "text/plain": [
       "array([0.02036094], dtype=float32)"
      ]
     },
     "execution_count": 27,
     "metadata": {},
     "output_type": "execute_result"
    }
   ],
   "source": [
    "min(y_pred)"
   ]
  },
  {
   "cell_type": "code",
   "execution_count": 28,
   "id": "9c7a706f-0a87-4cf0-855e-db024c98c790",
   "metadata": {},
   "outputs": [
    {
     "data": {
      "text/plain": [
       "array([0.02036095], dtype=float32)"
      ]
     },
     "execution_count": 28,
     "metadata": {},
     "output_type": "execute_result"
    }
   ],
   "source": [
    "max(y_pred)"
   ]
  }
 ],
 "metadata": {
  "kernelspec": {
   "display_name": "Python 3 (ipykernel)",
   "language": "python",
   "name": "python3"
  },
  "language_info": {
   "codemirror_mode": {
    "name": "ipython",
    "version": 3
   },
   "file_extension": ".py",
   "mimetype": "text/x-python",
   "name": "python",
   "nbconvert_exporter": "python",
   "pygments_lexer": "ipython3",
   "version": "3.10.13"
  }
 },
 "nbformat": 4,
 "nbformat_minor": 5
}
