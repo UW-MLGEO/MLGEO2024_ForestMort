{
 "cells": [
  {
   "cell_type": "code",
   "execution_count": 1,
   "id": "2ead5b9c-ec0c-4a16-92c6-ead00ca532df",
   "metadata": {},
   "outputs": [],
   "source": [
    "from google.cloud.storage import Client\n",
    "import tensorflow as tf\n",
    "\n",
    "import numpy as np\n",
    "from matplotlib import pyplot as plt"
   ]
  },
  {
   "cell_type": "markdown",
   "id": "b564b5b1-36a9-4919-8013-0fa4b9fd1dc9",
   "metadata": {},
   "source": [
    "### Examples as annual time series"
   ]
  },
  {
   "cell_type": "code",
   "execution_count": 2,
   "id": "1bb01c00-5ee0-451e-aad7-5b4e41c01681",
   "metadata": {},
   "outputs": [
    {
     "name": "stdout",
     "output_type": "stream",
     "text": [
      "gs://forest-lst-test-export/ca_all_features_label/2016/00000.tfrecord\n",
      "gs://forest-lst-test-export/ca_all_features_label/2016/00001.tfrecord\n",
      "gs://forest-lst-test-export/ca_all_features_label/2016/00002.tfrecord\n",
      "gs://forest-lst-test-export/ca_all_features_label/2017/00000.tfrecord\n",
      "gs://forest-lst-test-export/ca_all_features_label/2017/00001.tfrecord\n",
      "gs://forest-lst-test-export/ca_all_features_label/2017/00002.tfrecord\n",
      "gs://forest-lst-test-export/ca_all_features_label/2018/00000.tfrecord\n",
      "gs://forest-lst-test-export/ca_all_features_label/2018/00001.tfrecord\n",
      "gs://forest-lst-test-export/ca_all_features_label/2018/00002.tfrecord\n",
      "gs://forest-lst-test-export/ca_all_features_label/2019/00000.tfrecord\n",
      "gs://forest-lst-test-export/ca_all_features_label/2019/00001.tfrecord\n",
      "gs://forest-lst-test-export/ca_all_features_label/2019/00002.tfrecord\n"
     ]
    }
   ],
   "source": [
    "import os\n",
    "\n",
    "client = Client(project=\"forest-lst\")\n",
    "bucket = \"forest-lst-test-export\"\n",
    "\n",
    "records = [\n",
    "    \"/\".join([\"gs://{}\".format(bucket), f.name])\n",
    "    for f in client.list_blobs(bucket, prefix=\"ca_all_features_label\")\n",
    "    if \".tfrecord\" in f.name\n",
    "]\n",
    "\n",
    "print(\"\\n\".join(records))"
   ]
  },
  {
   "cell_type": "code",
   "execution_count": 3,
   "id": "047ee0d6-d93d-47a4-8bf0-a41245901f3e",
   "metadata": {},
   "outputs": [
    {
     "data": {
      "application/json": {
       "features": {
        "feature": {
         "SEVERITY": {
          "floatList": {
           "value": [
            0
           ]
          }
         },
         "dT": {
          "floatList": {
           "value": [
            0,
            0,
            0,
            0,
            0,
            0,
            0,
            0,
            0,
            0,
            0,
            0,
            0,
            0,
            0,
            0,
            0,
            0,
            0,
            0,
            0,
            0,
            0,
            0,
            0,
            0,
            0,
            0,
            0,
            0,
            0,
            0,
            0,
            0,
            0,
            0,
            0,
            0,
            0,
            0,
            0,
            0,
            0,
            0,
            0,
            0
           ]
          }
         },
         "elevation": {
          "int64List": {
           "value": [
            "0"
           ]
          }
         },
         "is_cloudy": {
          "bytesList": {
           "value": [
            "AAAAAAAAAAAAAAAAAAAAAAAAAAAAAAAAAAAAAAAAAAAAAAAAAAAAAAAAAAAAAAAAAAAAAAAAAAAAAAAAAAAAAAAAAAAAAAAAAAAAAAAAAAAAAAAAAAAAAAAAAAAAAAAAAAAAAAAAAAAAAAAAAAAAAAAAAAAAAAAAAAAAAAAAAAAAAAAAAAAAAAAAAAAAAAAAAAAAAAAAAAAAAAAAAAAAAAAAAAAAAAAAAAAAAAAAAAAAAAAAAAAAAAAAAAAAAAAAAAAAAAAAAAAAAAAAAAAAAAAAAAAAAAAAAAAAAAAAAAAAAAAAAAAAAAAAAAAAAAAAAAAAAAAAAAAAAAAAAAAAAAAAAAAAAAAAAAAAAAAAAAAAAAAAAAAAAAAAAAAAAAAAAAAAAAAAAAAAAAAAAAAAAAAAAAAAAAAAAAAAAAAAAAAAAAAAAAAAAAAAAAAAAAAAAAAAAAAAAAAAAAAAAAAAAAAAAAAAAAAAAAAAAAA="
           ]
          }
         },
         "latitude": {
          "floatList": {
           "value": [
            0
           ]
          }
         },
         "longitude": {
          "floatList": {
           "value": [
            0
           ]
          }
         },
         "prcp": {
          "floatList": {
           "value": [
            0,
            0,
            0,
            0,
            0,
            0,
            0,
            0,
            0,
            0,
            0,
            0,
            0,
            0,
            0,
            0,
            0,
            0,
            0,
            0,
            0,
            0,
            0,
            0,
            0,
            0,
            0,
            0,
            0,
            0,
            0,
            0,
            0,
            0,
            0,
            0,
            0,
            0,
            0,
            0,
            0,
            0,
            0,
            0,
            0,
            0,
            0,
            0,
            0,
            0,
            0,
            0,
            0,
            0,
            0,
            0,
            0,
            0,
            0,
            0,
            0,
            0,
            0,
            0,
            0,
            0,
            0,
            0,
            0,
            0,
            0,
            0,
            0,
            0,
            0,
            0,
            0,
            0,
            0,
            0,
            0,
            0,
            0,
            0,
            0,
            0,
            0,
            0,
            0,
            0,
            0,
            0,
            0,
            0,
            0,
            0,
            0,
            0,
            0,
            0,
            0,
            0,
            0,
            0,
            0,
            0,
            0,
            0,
            0,
            0,
            0,
            0,
            0,
            0,
            0,
            0,
            0,
            0,
            0,
            0,
            0,
            0,
            0,
            0,
            0,
            0,
            0,
            0,
            0,
            0,
            0,
            0,
            0,
            0,
            0,
            0,
            0,
            0,
            0,
            0,
            0,
            0,
            0,
            0,
            0,
            0,
            0,
            0,
            0,
            0,
            0,
            0,
            0,
            0,
            0,
            0,
            0,
            0,
            0,
            0,
            0,
            0,
            0,
            0,
            0,
            0,
            0,
            0,
            0,
            0,
            0,
            0,
            0,
            0,
            0,
            0,
            0,
            0,
            0,
            0,
            0,
            0,
            0,
            0,
            0,
            0,
            0,
            0,
            0,
            0,
            0,
            0,
            0,
            0,
            0,
            0,
            0,
            0,
            0,
            0,
            0,
            0,
            0,
            0,
            0,
            0,
            0,
            0,
            0,
            0,
            0,
            0,
            0,
            0,
            0,
            0,
            0,
            0,
            0,
            0,
            0,
            0,
            0,
            0,
            0,
            0,
            0,
            0,
            0,
            0,
            0,
            0,
            0,
            0,
            0,
            0,
            0,
            0,
            0,
            0,
            0,
            0,
            0,
            0,
            0,
            0,
            0,
            0,
            0,
            0,
            0,
            0,
            0,
            0,
            0,
            0,
            0,
            0,
            0,
            0,
            0,
            0,
            0,
            0,
            0,
            0,
            0,
            0,
            0,
            0,
            0,
            0,
            0,
            0,
            0,
            0,
            0,
            0,
            0,
            0,
            0,
            0,
            0,
            0,
            0,
            0,
            0,
            0,
            0,
            0,
            0,
            0,
            0,
            0,
            0,
            0,
            0,
            0,
            0,
            0,
            0,
            0,
            0,
            0,
            0,
            0,
            0,
            0,
            0,
            0,
            0,
            0,
            0,
            0,
            0,
            0,
            0,
            0,
            0,
            0,
            0,
            0,
            0,
            0,
            0,
            0,
            0,
            0,
            0,
            0,
            0,
            0,
            0,
            0,
            0,
            0,
            0,
            0,
            0,
            0,
            0,
            0,
            0,
            0,
            0,
            0,
            0,
            0,
            0,
            0,
            0,
            0,
            0,
            0,
            0,
            0,
            0,
            0,
            0,
            0,
            0,
            0,
            0,
            0,
            0
           ]
          }
         }
        }
       }
      },
      "text/plain": [
       "<IPython.core.display.JSON object>"
      ]
     },
     "execution_count": 3,
     "metadata": {
      "application/json": {
       "expanded": false,
       "root": "root"
      }
     },
     "output_type": "execute_result"
    }
   ],
   "source": [
    "from google.protobuf import json_format\n",
    "import json\n",
    "from IPython.display import JSON\n",
    "\n",
    "ds = tf.data.TFRecordDataset(records)\n",
    "\n",
    "raw_record = next(ds.take(1).as_numpy_iterator())\n",
    "example = tf.train.Example()\n",
    "example.ParseFromString(raw_record)\n",
    "m = json.loads(json_format.MessageToJson(example))\n",
    "JSON(m)"
   ]
  },
  {
   "cell_type": "code",
   "execution_count": 4,
   "id": "fbb40472-a29a-44b1-a32c-55cf9334ac36",
   "metadata": {},
   "outputs": [],
   "source": [
    "def decode_record(proto):\n",
    "    spec = {\n",
    "        \"SEVERITY\": tf.io.FixedLenFeature([1], dtype=tf.float32),\n",
    "        \"latitude\": tf.io.FixedLenFeature([1], dtype=tf.float32),\n",
    "        \"longitude\": tf.io.FixedLenFeature([1], dtype=tf.float32),\n",
    "        \"elevation\": tf.io.FixedLenFeature([1], dtype=tf.int64),\n",
    "        \"is_cloudy\": tf.io.FixedLenFeature([1], dtype=tf.string),\n",
    "        \"prcp\": tf.io.FixedLenFeature([365], dtype=tf.float32),\n",
    "        \"dT\": tf.io.FixedLenFeature([46], dtype=tf.float32)\n",
    "    }\n",
    "\n",
    "    ex = tf.io.parse_single_example(proto, spec)\n",
    "\n",
    "    # I'm not sure why we have to make this cast but we do\n",
    "    ex[\"is_cloudy\"] = tf.squeeze(tf.io.decode_raw(ex[\"is_cloudy\"], tf.uint8))\n",
    "\n",
    "    return ex\n",
    "\n",
    "def empty_record(record):\n",
    "    return tf.math.count_nonzero(record[\"longitude\"]) > 0\n",
    "\n",
    "ds_dec = ds.map(decode_record).filter(empty_record)\n",
    "\n",
    "feature = next(ds_dec.take(1).as_numpy_iterator())"
   ]
  },
  {
   "cell_type": "code",
   "execution_count": 5,
   "id": "dfa6eb5b-8bea-4d65-b7b1-116eb5bc02b6",
   "metadata": {},
   "outputs": [
    {
     "data": {
      "image/png": "[encoded data removed]",
      "text/plain": [
       "<Figure size 640x480 with 3 Axes>"
      ]
     },
     "metadata": {},
     "output_type": "display_data"
    }
   ],
   "source": [
    "def plot_annual_feature(feature):\n",
    "    xax_365 = np.arange(0, 365)\n",
    "    xax_46  = np.arange(0, 46) * 8\n",
    "    \n",
    "    fig, ax = plt.subplots(nrows=3)\n",
    "    fig.tight_layout()\n",
    "    fig.subplots_adjust(top=0.88)\n",
    "    \n",
    "    ax[0].scatter(xax_365, feature[\"is_cloudy\"])\n",
    "    ax[0].set_ylabel(\"Clouds\")\n",
    "    \n",
    "    ax[1].plot(xax_365, feature[\"prcp\"])\n",
    "    ax[1].set_ylabel(\"Precip (mm)\")\n",
    "    \n",
    "    ax[2].scatter(xax_46, feature[\"dT\"], c=np.where(feature[\"dT\"] == 0, \"gray\", \"#1f77b4\"))\n",
    "    ax[2].set_ylabel(\"Delta-T (K)\")\n",
    "    ax[2].set_xlabel(\"Julian Day\")\n",
    "    \n",
    "    fig.suptitle(\"({:4.2f}, {:4.2f}) {} masl, {} severity\".format(\n",
    "        feature[\"latitude\"][0], feature[\"longitude\"][0], feature[\"elevation\"][0], feature[\"SEVERITY\"][0]\n",
    "    )) \n",
    "    \n",
    "    plt.show()\n",
    "\n",
    "plot_annual_feature(feature)"
   ]
  },
  {
   "cell_type": "markdown",
   "id": "dddbde11-f3dd-4b38-8b85-01b26eee8563",
   "metadata": {},
   "source": [
    "### Examples as long-term data for one pixel"
   ]
  },
  {
   "cell_type": "code",
   "execution_count": 6,
   "id": "4eadd29b-f6b9-4503-8ccd-cd1b06a62663",
   "metadata": {},
   "outputs": [
    {
     "name": "stdout",
     "output_type": "stream",
     "text": [
      "Records found: 43\n",
      "Here are the first 10\n",
      "gs://forest-lst-test-export/ca_dense_tensors_v3/tile0/00000.tfrecord\n",
      "gs://forest-lst-test-export/ca_dense_tensors_v3/tile1/00000.tfrecord\n",
      "gs://forest-lst-test-export/ca_dense_tensors_v3/tile10/00000.tfrecord\n",
      "gs://forest-lst-test-export/ca_dense_tensors_v3/tile11/00000.tfrecord\n",
      "gs://forest-lst-test-export/ca_dense_tensors_v3/tile12/00000.tfrecord\n",
      "gs://forest-lst-test-export/ca_dense_tensors_v3/tile13/00000.tfrecord\n",
      "gs://forest-lst-test-export/ca_dense_tensors_v3/tile14/00000.tfrecord\n",
      "gs://forest-lst-test-export/ca_dense_tensors_v3/tile15/00000.tfrecord\n",
      "gs://forest-lst-test-export/ca_dense_tensors_v3/tile16/00000.tfrecord\n",
      "gs://forest-lst-test-export/ca_dense_tensors_v3/tile17/00000.tfrecord\n"
     ]
    }
   ],
   "source": [
    "records = [\n",
    "    \"/\".join([\"gs://{}\".format(bucket), f.name])\n",
    "    for f in client.list_blobs(bucket, prefix=\"ca_dense_tensors_v3/\")\n",
    "    if \".tfrecord\" in f.name\n",
    "]\n",
    "\n",
    "print(\"Records found:\", len(records))\n",
    "print(\"Here are the first 10\")\n",
    "print(\"\\n\".join(records[:10]))"
   ]
  },
  {
   "cell_type": "code",
   "execution_count": 7,
   "id": "34b16bf0-8073-451e-9691-cc61c9e4ce64",
   "metadata": {},
   "outputs": [
    {
     "data": {
      "application/json": {
       "features": {
        "feature": {
         "EVI_p5": {
          "floatList": {
           "value": [
            0,
            0,
            0,
            0,
            0,
            0,
            0,
            0,
            0,
            0,
            0,
            0,
            0,
            0,
            0,
            0,
            0,
            0,
            0,
            0,
            0
           ]
          }
         },
         "EVI_p50": {
          "floatList": {
           "value": [
            0,
            0,
            0,
            0,
            0,
            0,
            0,
            0,
            0,
            0,
            0,
            0,
            0,
            0,
            0,
            0,
            0,
            0,
            0,
            0,
            0
           ]
          }
         },
         "EVI_p95": {
          "floatList": {
           "value": [
            0,
            0,
            0,
            0,
            0,
            0,
            0,
            0,
            0,
            0,
            0,
            0,
            0,
            0,
            0,
            0,
            0,
            0,
            0,
            0,
            0
           ]
          }
         },
         "dT_p5": {
          "floatList": {
           "value": [
            0,
            0,
            0,
            0,
            0,
            0,
            0,
            0,
            0,
            0,
            0,
            0,
            0,
            0,
            0,
            0,
            0,
            0,
            0,
            0,
            0
           ]
          }
         },
         "dT_p50": {
          "floatList": {
           "value": [
            0,
            0,
            0,
            0,
            0,
            0,
            0,
            0,
            0,
            0,
            0,
            0,
            0,
            0,
            0,
            0,
            0,
            0,
            0,
            0,
            0
           ]
          }
         },
         "dT_p95": {
          "floatList": {
           "value": [
            0,
            0,
            0,
            0,
            0,
            0,
            0,
            0,
            0,
            0,
            0,
            0,
            0,
            0,
            0,
            0,
            0,
            0,
            0,
            0,
            0
           ]
          }
         },
         "elevation": {
          "int64List": {
           "value": [
            "0",
            "0",
            "0",
            "0",
            "0",
            "0",
            "0",
            "0",
            "0",
            "0",
            "0",
            "0",
            "0",
            "0",
            "0",
            "0",
            "0",
            "0",
            "0",
            "0",
            "0"
           ]
          }
         },
         "latitude": {
          "floatList": {
           "value": [
            0,
            0,
            0,
            0,
            0,
            0,
            0,
            0,
            0,
            0,
            0,
            0,
            0,
            0,
            0,
            0,
            0,
            0,
            0,
            0,
            0
           ]
          }
         },
         "longitude": {
          "floatList": {
           "value": [
            0,
            0,
            0,
            0,
            0,
            0,
            0,
            0,
            0,
            0,
            0,
            0,
            0,
            0,
            0,
            0,
            0,
            0,
            0,
            0,
            0
           ]
          }
         },
         "pct_mortality": {
          "floatList": {
           "value": [
            0,
            0,
            0,
            0,
            0,
            0,
            0,
            0,
            0,
            0,
            0,
            0,
            0,
            0,
            0,
            0,
            0,
            0,
            0,
            0,
            0
           ]
          }
         },
         "prcp": {
          "floatList": {
           "value": [
            0,
            0,
            0,
            0,
            0,
            0,
            0,
            0,
            0,
            0,
            0,
            0,
            0,
            0,
            0,
            0,
            0,
            0,
            0,
            0,
            0
           ]
          }
         },
         "spei30d_p5": {
          "floatList": {
           "value": [
            0,
            0,
            0,
            0,
            0,
            0,
            0,
            0,
            0,
            0,
            0,
            0,
            0,
            0,
            0,
            0,
            0,
            0,
            0,
            0,
            0
           ]
          }
         },
         "spei30d_p50": {
          "floatList": {
           "value": [
            0,
            0,
            0,
            0,
            0,
            0,
            0,
            0,
            0,
            0,
            0,
            0,
            0,
            0,
            0,
            0,
            0,
            0,
            0,
            0,
            0
           ]
          }
         },
         "spei30d_p95": {
          "floatList": {
           "value": [
            0,
            0,
            0,
            0,
            0,
            0,
            0,
            0,
            0,
            0,
            0,
            0,
            0,
            0,
            0,
            0,
            0,
            0,
            0,
            0,
            0
           ]
          }
         },
         "winter_tmin": {
          "floatList": {
           "value": [
            0,
            0,
            0,
            0,
            0,
            0,
            0,
            0,
            0,
            0,
            0,
            0,
            0,
            0,
            0,
            0,
            0,
            0,
            0,
            0,
            0
           ]
          }
         },
         "year": {
          "int64List": {
           "value": [
            "0",
            "0",
            "0",
            "0",
            "0",
            "0",
            "0",
            "0",
            "0",
            "0",
            "0",
            "0",
            "0",
            "0",
            "0",
            "0",
            "0",
            "0",
            "0",
            "0",
            "0"
           ]
          }
         }
        }
       }
      },
      "text/plain": [
       "<IPython.core.display.JSON object>"
      ]
     },
     "execution_count": 7,
     "metadata": {
      "application/json": {
       "expanded": false,
       "root": "root"
      }
     },
     "output_type": "execute_result"
    }
   ],
   "source": [
    "ds_dense = tf.data.TFRecordDataset(records)\n",
    "\n",
    "raw_record = next(ds_dense.take(1).as_numpy_iterator())\n",
    "example = tf.train.Example()\n",
    "example.ParseFromString(raw_record)\n",
    "m = json.loads(json_format.MessageToJson(example))\n",
    "JSON(m)"
   ]
  },
  {
   "cell_type": "code",
   "execution_count": 8,
   "id": "0dc86a63-3523-453c-a347-7e6c7dcb6b58",
   "metadata": {},
   "outputs": [],
   "source": [
    "feature_names = list(m[\"features\"][\"feature\"].keys())\n",
    "feature_ints = [\"year\", \"elevation\"]\n",
    "feature_len   = len(m[\"features\"][\"feature\"][\"year\"][\"int64List\"][\"value\"])\n",
    "\n",
    "spec_dense = {\n",
    "    key: tf.io.FixedLenFeature([feature_len], dtype=tf.int64 if key in feature_ints else tf.float32) \n",
    "    for key in feature_names\n",
    "}\n",
    "\n",
    "def decode_record_dense(proto):\n",
    "    return tf.io.parse_single_example(proto, spec_dense)\n",
    "\n",
    "ds_dense_dec = ds_dense.map(decode_record_dense).filter(empty_record)"
   ]
  },
  {
   "cell_type": "code",
   "execution_count": 9,
   "id": "eeccfb09-5e07-46bb-8fc4-e0825ca6cd4e",
   "metadata": {},
   "outputs": [],
   "source": [
    "# Find a feature with at least 5 data points\n",
    "iter = ds_dense_dec.take(100).as_numpy_iterator()\n",
    "feature = None\n",
    "while True:\n",
    "    feature = next(iter)\n",
    "    if np.count_nonzero(feature[\"longitude\"]) > 5:\n",
    "        break"
   ]
  },
  {
   "cell_type": "code",
   "execution_count": 10,
   "id": "fd88b853-e9f7-4905-a3d3-fb8e0cd4d4e2",
   "metadata": {},
   "outputs": [
    {
     "data": {
      "text/plain": [
       "{'EVI_p5': array([0.3153, 0.327 , 0.3123, 0.3434, 0.3517, 0.1371, 0.    , 0.    ,\n",
       "        0.    , 0.    , 0.    , 0.    , 0.    , 0.    , 0.    , 0.    ,\n",
       "        0.    , 0.    , 0.    , 0.    , 0.    ], dtype=float32),\n",
       " 'EVI_p50': array([0.37575, 0.3939 , 0.3936 , 0.4144 , 0.4333 , 0.3923 , 0.     ,\n",
       "        0.     , 0.     , 0.     , 0.     , 0.     , 0.     , 0.     ,\n",
       "        0.     , 0.     , 0.     , 0.     , 0.     , 0.     , 0.     ],\n",
       "       dtype=float32),\n",
       " 'EVI_p95': array([0.4461, 0.4465, 0.4527, 0.5031, 0.5033, 0.4381, 0.    , 0.    ,\n",
       "        0.    , 0.    , 0.    , 0.    , 0.    , 0.    , 0.    , 0.    ,\n",
       "        0.    , 0.    , 0.    , 0.    , 0.    ], dtype=float32),\n",
       " 'dT_p5': array([-5.03149  , -5.424439 , -5.0691304, -4.50387  , -5.1586804,\n",
       "        -4.677048 ,  0.       ,  0.       ,  0.       ,  0.       ,\n",
       "         0.       ,  0.       ,  0.       ,  0.       ,  0.       ,\n",
       "         0.       ,  0.       ,  0.       ,  0.       ,  0.       ,\n",
       "         0.       ], dtype=float32),\n",
       " 'dT_p50': array([-0.41547376, -2.0981402 , -1.5258209 , -2.0457842 , -2.095628  ,\n",
       "        -0.43734553,  0.        ,  0.        ,  0.        ,  0.        ,\n",
       "         0.        ,  0.        ,  0.        ,  0.        ,  0.        ,\n",
       "         0.        ,  0.        ,  0.        ,  0.        ,  0.        ,\n",
       "         0.        ], dtype=float32),\n",
       " 'dT_p95': array([2.8364136, 1.1937634, 1.3820605, 0.7798529, 1.0848135, 4.3967905,\n",
       "        0.       , 0.       , 0.       , 0.       , 0.       , 0.       ,\n",
       "        0.       , 0.       , 0.       , 0.       , 0.       , 0.       ,\n",
       "        0.       , 0.       , 0.       ], dtype=float32),\n",
       " 'elevation': array([1351, 1351, 1351, 1351, 1351, 1351,    0,    0,    0,    0,    0,\n",
       "           0,    0,    0,    0,    0,    0,    0,    0,    0,    0],\n",
       "       dtype=int64),\n",
       " 'latitude': array([33.30504, 33.30504, 33.30504, 33.30504, 33.30504, 33.30504,\n",
       "         0.     ,  0.     ,  0.     ,  0.     ,  0.     ,  0.     ,\n",
       "         0.     ,  0.     ,  0.     ,  0.     ,  0.     ,  0.     ,\n",
       "         0.     ,  0.     ,  0.     ], dtype=float32),\n",
       " 'longitude': array([-116.866325, -116.866325, -116.866325, -116.866325, -116.866325,\n",
       "        -116.866325,    0.      ,    0.      ,    0.      ,    0.      ,\n",
       "           0.      ,    0.      ,    0.      ,    0.      ,    0.      ,\n",
       "           0.      ,    0.      ,    0.      ,    0.      ,    0.      ,\n",
       "           0.      ], dtype=float32),\n",
       " 'pct_mortality': array([0.   , 0.232, 0.   , 0.   , 0.   , 0.   , 0.   , 0.   , 0.   ,\n",
       "        0.   , 0.   , 0.   , 0.   , 0.   , 0.   , 0.   , 0.   , 0.   ,\n",
       "        0.   , 0.   , 0.   ], dtype=float32),\n",
       " 'prcp': array([ 241.16   ,  849.85004,  307.09   , 1550.57   ,  527.77   ,\n",
       "         254.65   ,    0.     ,    0.     ,    0.     ,    0.     ,\n",
       "           0.     ,    0.     ,    0.     ,    0.     ,    0.     ,\n",
       "           0.     ,    0.     ,    0.     ,    0.     ,    0.     ,\n",
       "           0.     ], dtype=float32),\n",
       " 'spei30d_p5': array([-1.69, -1.28, -1.69, -1.28, -1.69, -1.69,  0.  ,  0.  ,  0.  ,\n",
       "         0.  ,  0.  ,  0.  ,  0.  ,  0.  ,  0.  ,  0.  ,  0.  ,  0.  ,\n",
       "         0.  ,  0.  ,  0.  ], dtype=float32),\n",
       " 'spei30d_p50': array([-0.62,  0.03, -0.39,  0.39, -0.32, -0.62,  0.  ,  0.  ,  0.  ,\n",
       "         0.  ,  0.  ,  0.  ,  0.  ,  0.  ,  0.  ,  0.  ,  0.  ,  0.  ,\n",
       "         0.  ,  0.  ,  0.  ], dtype=float32),\n",
       " 'spei30d_p95': array([1.01, 1.28, 2.09, 1.28, 1.13, 0.63, 0.  , 0.  , 0.  , 0.  , 0.  ,\n",
       "        0.  , 0.  , 0.  , 0.  , 0.  , 0.  , 0.  , 0.  , 0.  , 0.  ],\n",
       "       dtype=float32),\n",
       " 'winter_tmin': array([ -8.02,  -6.3 ,  -6.13,  -4.83,  -5.3 , -11.57,   0.  ,   0.  ,\n",
       "          0.  ,   0.  ,   0.  ,   0.  ,   0.  ,   0.  ,   0.  ,   0.  ,\n",
       "          0.  ,   0.  ,   0.  ,   0.  ,   0.  ], dtype=float32),\n",
       " 'year': array([2002, 2003, 2004, 2005, 2006, 2007,    0,    0,    0,    0,    0,\n",
       "           0,    0,    0,    0,    0,    0,    0,    0,    0,    0],\n",
       "       dtype=int64)}"
      ]
     },
     "execution_count": 10,
     "metadata": {},
     "output_type": "execute_result"
    }
   ],
   "source": [
    "feature"
   ]
  },
  {
   "cell_type": "code",
   "execution_count": 11,
   "id": "bb93bc8a-e155-4d76-a4c8-6ea9b81d28d2",
   "metadata": {},
   "outputs": [],
   "source": [
    "def plot_dense_example(feature):\n",
    "    # Drop years with missing data\n",
    "    use_years = feature[\"year\"] != 0\n",
    "    feature_no_na = {key: feature[key][use_years] for key in feature}\n",
    "    \n",
    "    \n",
    "    title = \"({:.2f}, {:.2f})  {} masl\".format(feature[\"latitude\"][0], feature[\"longitude\"][0], feature[\"elevation\"][0])\n",
    "\n",
    "    fig, ax = plt.subplots(nrows=5, figsize=(8, 8))\n",
    "\n",
    "    # delta-T\n",
    "    ax[0].scatter(feature_no_na[\"year\"], feature_no_na[\"dT_p5\"], c=\"blue\")\n",
    "    ax[0].scatter(feature_no_na[\"year\"], feature_no_na[\"dT_p50\"], c=\"green\")\n",
    "    ax[0].scatter(feature_no_na[\"year\"], feature_no_na[\"dT_p95\"], c=\"red\")\n",
    "    ax[0].set_ylabel(\"Delta-T (K)\")\n",
    "\n",
    "    # EVI\n",
    "    ax[1].scatter(feature_no_na[\"year\"], feature_no_na[\"EVI_p5\"], c=\"blue\")\n",
    "    ax[1].scatter(feature_no_na[\"year\"], feature_no_na[\"EVI_p50\"], c=\"green\")\n",
    "    ax[1].scatter(feature_no_na[\"year\"], feature_no_na[\"EVI_p95\"], c=\"red\")\n",
    "    ax[1].set_ylabel(\"EVI\")\n",
    "\n",
    "    # SPEI\n",
    "    ax[2].scatter(feature_no_na[\"year\"], feature_no_na[\"spei30d_p5\"], c=\"blue\")\n",
    "    ax[2].scatter(feature_no_na[\"year\"], feature_no_na[\"spei30d_p50\"], c=\"green\")\n",
    "    ax[2].scatter(feature_no_na[\"year\"], feature_no_na[\"spei30d_p95\"], c=\"red\")\n",
    "    ax[2].set_ylabel(\"SPEI\")\n",
    "\n",
    "    # Precip and minimum winter T\n",
    "    ax_twin = ax[3].twinx()\n",
    "    ax[3].scatter(feature_no_na[\"year\"], feature_no_na[\"prcp\"], c=\"blue\")\n",
    "    ax[3].set_ylabel(\"Precipitation (mm)\")\n",
    "    ax_twin.scatter(feature_no_na[\"year\"], feature_no_na[\"winter_tmin\"], c=\"green\")\n",
    "    ax_twin.set_ylabel(\"Winter Tmin (C)\")\n",
    "\n",
    "    # Mortality\n",
    "    ax[4].scatter(feature_no_na[\"year\"], feature_no_na[\"pct_mortality\"])\n",
    "    ax[4].set_ylabel(\"% Mortality\")\n",
    "    ax[4].set_xlabel(\"Year\")\n",
    "\n",
    "    # Cleanup\n",
    "    fig.suptitle(title)\n",
    "    fig.tight_layout()\n",
    "\n",
    "    plt.show()"
   ]
  },
  {
   "cell_type": "code",
   "execution_count": 12,
   "id": "595cbfec-7e91-4c10-a67f-c255c1f73a27",
   "metadata": {},
   "outputs": [
    {
     "data": {
      "image/png": "[encoded data removed]",
      "text/plain": [
       "<Figure size 800x800 with 6 Axes>"
      ]
     },
     "metadata": {},
     "output_type": "display_data"
    }
   ],
   "source": [
    "plot_dense_example(feature)"
   ]
  },
  {
   "cell_type": "code",
   "execution_count": 13,
   "id": "abc8c295-fa3d-4197-9bb7-b9ef6f761165",
   "metadata": {},
   "outputs": [
    {
     "name": "stdout",
     "output_type": "stream",
     "text": [
      "Number of non-empty pixels: 1126\n",
      "Number of annual records: 8182\n"
     ]
    },
    {
     "data": {
      "image/png": "[encoded data removed]",
      "text/plain": [
       "<Figure size 640x480 with 1 Axes>"
      ]
     },
     "metadata": {},
     "output_type": "display_data"
    }
   ],
   "source": [
    "# How many non-empty pixels do we have, and how many usable years are in each one?\n",
    "record_count = np.array([np.count_nonzero(f[\"longitude\"]) for f in ds_dense_dec])\n",
    "\n",
    "print(\"Number of non-empty pixels:\", record_count.shape[0])\n",
    "print(\"Number of annual records:\", np.sum(record_count))\n",
    "\n",
    "plt.hist(record_count)\n",
    "plt.xlabel(\"Years in pixel\")\n",
    "plt.ylabel(\"Count\")\n",
    "plt.show()"
   ]
  },
  {
   "cell_type": "code",
   "execution_count": 14,
   "id": "142b6903-07a9-447e-9ce3-c19dd428783f",
   "metadata": {},
   "outputs": [
    {
     "name": "stdout",
     "output_type": "stream",
     "text": [
      "Lookback \t Count\n",
      "1 \t\t 6\n",
      "2 \t\t 3\n",
      "3 \t\t 1\n",
      "4 \t\t 0\n",
      "5 \t\t 0\n",
      "6 \t\t 0\n",
      "7 \t\t 0\n",
      "8 \t\t 0\n",
      "9 \t\t 0\n"
     ]
    }
   ],
   "source": [
    "# How many examples are available for different lookback periods?'\n",
    "# Modified from:\n",
    "# https://www.reddit.com/r/learnpython/comments/jsiubp/fastest_way_to_check_if_a_numpy_array_contains_n/\n",
    "def positive_runs(arr, value):\n",
    "    ones = np.ones_like(arr)\n",
    "    np.bitwise_xor(arr[:-1], arr[1:], out=ones[1:])\n",
    "    idxs = np.flatnonzero(ones)\n",
    "    counts = np.diff(idxs, append=len(arr))\n",
    "    counts_positive = counts[arr[idxs] == value]\n",
    "    return counts_positive\n",
    "\n",
    "def count_n_consecutive_values(arr, n, value):\n",
    "    counts_positive = positive_runs(arr, value)\n",
    "    return np.sum(np.maximum(counts_positive - n + 1, 0))\n",
    "\n",
    "# Test it out\n",
    "arr = np.array([True, True, True, False, True, True, False, False, False, True])\n",
    "\n",
    "print(\"Lookback\", \"\\t\", \"Count\")\n",
    "for i in range(1, len(arr)):\n",
    "    print(i, \"\\t\\t\", count_n_consecutive_values(arr, i, True))"
   ]
  },
  {
   "cell_type": "code",
   "execution_count": 15,
   "id": "82ea8411-4182-4dbb-8507-d8a39adca6b8",
   "metadata": {},
   "outputs": [],
   "source": [
    "# Calculate available examples for each lookback\n",
    "positive_counts = np.fromiter((positive_runs(f[\"longitude\"] != 0, True) for f in ds_dense_dec.as_numpy_iterator()), dtype=object)"
   ]
  },
  {
   "cell_type": "code",
   "execution_count": 16,
   "id": "3adc2b88-b8b6-497f-8e0e-b87d3d5ece25",
   "metadata": {},
   "outputs": [],
   "source": [
    "helper = lambda l: sum(np.sum(np.maximum(pc - l + 1, 0)) for pc in positive_counts)\n",
    "available_examples = np.fromiter(map(helper, np.arange(2, 20)), dtype=int)"
   ]
  },
  {
   "cell_type": "code",
   "execution_count": 17,
   "id": "948140ed-3b96-4ec0-9a6e-b6f18f0f4d48",
   "metadata": {},
   "outputs": [
    {
     "data": {
      "image/png": "[encoded data removed]",
      "text/plain": [
       "<Figure size 640x480 with 1 Axes>"
      ]
     },
     "metadata": {},
     "output_type": "display_data"
    }
   ],
   "source": [
    "plt.plot(np.arange(2, 20), available_examples)\n",
    "plt.xlabel(\"Sequential years of data\")\n",
    "plt.ylabel(\"Available examples\")\n",
    "plt.show()"
   ]
  },
  {
   "cell_type": "code",
   "execution_count": 27,
   "id": "467c2cf9-e643-4a9f-9e7b-8584e3e73462",
   "metadata": {},
   "outputs": [],
   "source": [
    "# What is the distribution of mortality?\n",
    "all_mort = np.hstack(np.fromiter((f[\"pct_mortality\"][f[\"longitude\"] != 0] for f in ds_dense_dec.as_numpy_iterator()), dtype=object))"
   ]
  },
  {
   "cell_type": "code",
   "execution_count": 28,
   "id": "a500be8c-37ac-4243-8bd5-77fb3280e370",
   "metadata": {},
   "outputs": [
    {
     "data": {
      "image/png": "[encoded data removed]",
      "text/plain": [
       "<Figure size 640x480 with 1 Axes>"
      ]
     },
     "metadata": {},
     "output_type": "display_data"
    }
   ],
   "source": [
    "plt.hist(all_mort)\n",
    "plt.xlabel(\"% mortality in pixel\")\n",
    "plt.ylabel(\"Count\")\n",
    "plt.show()"
   ]
  }
 ],
 "metadata": {
  "kernelspec": {
   "display_name": "Python 3 (ipykernel)",
   "language": "python",
   "name": "python3"
  },
  "language_info": {
   "codemirror_mode": {
    "name": "ipython",
    "version": 3
   },
   "file_extension": ".py",
   "mimetype": "text/x-python",
   "name": "python",
   "nbconvert_exporter": "python",
   "pygments_lexer": "ipython3",
   "version": "3.10.13"
  }
 },
 "nbformat": 4,
 "nbformat_minor": 5
}
