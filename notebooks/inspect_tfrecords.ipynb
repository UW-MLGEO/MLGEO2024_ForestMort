{
 "cells": [
  {
   "cell_type": "code",
   "execution_count": 1,
   "id": "2ead5b9c-ec0c-4a16-92c6-ead00ca532df",
   "metadata": {},
   "outputs": [],
   "source": [
    "from google.cloud.storage import Client\n",
    "import tensorflow as tf\n",
    "\n",
    "import numpy as np\n",
    "from matplotlib import pyplot as plt"
   ]
  },
  {
   "cell_type": "markdown",
   "id": "b564b5b1-36a9-4919-8013-0fa4b9fd1dc9",
   "metadata": {},
   "source": [
    "### Examples as annual time series"
   ]
  },
  {
   "cell_type": "code",
   "execution_count": 2,
   "id": "1bb01c00-5ee0-451e-aad7-5b4e41c01681",
   "metadata": {},
   "outputs": [
    {
     "name": "stdout",
     "output_type": "stream",
     "text": [
      "gs://forest-lst-test-export/ca_all_features_label/2016/00000.tfrecord\n",
      "gs://forest-lst-test-export/ca_all_features_label/2016/00001.tfrecord\n",
      "gs://forest-lst-test-export/ca_all_features_label/2016/00002.tfrecord\n",
      "gs://forest-lst-test-export/ca_all_features_label/2017/00000.tfrecord\n",
      "gs://forest-lst-test-export/ca_all_features_label/2017/00001.tfrecord\n",
      "gs://forest-lst-test-export/ca_all_features_label/2017/00002.tfrecord\n",
      "gs://forest-lst-test-export/ca_all_features_label/2018/00000.tfrecord\n",
      "gs://forest-lst-test-export/ca_all_features_label/2018/00001.tfrecord\n",
      "gs://forest-lst-test-export/ca_all_features_label/2018/00002.tfrecord\n",
      "gs://forest-lst-test-export/ca_all_features_label/2019/00000.tfrecord\n",
      "gs://forest-lst-test-export/ca_all_features_label/2019/00001.tfrecord\n",
      "gs://forest-lst-test-export/ca_all_features_label/2019/00002.tfrecord\n"
     ]
    }
   ],
   "source": [
    "import os\n",
    "\n",
    "client = Client(project=\"forest-lst\")\n",
    "bucket = \"forest-lst-test-export\"\n",
    "\n",
    "records = [\n",
    "    \"/\".join([\"gs://{}\".format(bucket), f.name])\n",
    "    for f in client.list_blobs(bucket, prefix=\"ca_all_features_label\")\n",
    "    if \".tfrecord\" in f.name\n",
    "]\n",
    "\n",
    "print(\"\\n\".join(records))"
   ]
  },
  {
   "cell_type": "code",
   "execution_count": 3,
   "id": "047ee0d6-d93d-47a4-8bf0-a41245901f3e",
   "metadata": {},
   "outputs": [
    {
     "data": {
      "application/json": {
       "features": {
        "feature": {
         "SEVERITY": {
          "floatList": {
           "value": [
            0
           ]
          }
         },
         "dT": {
          "floatList": {
           "value": [
            0,
            0,
            0,
            0,
            0,
            0,
            0,
            0,
            0,
            0,
            0,
            0,
            0,
            0,
            0,
            0,
            0,
            0,
            0,
            0,
            0,
            0,
            0,
            0,
            0,
            0,
            0,
            0,
            0,
            0,
            0,
            0,
            0,
            0,
            0,
            0,
            0,
            0,
            0,
            0,
            0,
            0,
            0,
            0,
            0,
            0
           ]
          }
         },
         "elevation": {
          "int64List": {
           "value": [
            "0"
           ]
          }
         },
         "is_cloudy": {
          "bytesList": {
           "value": [
            "AAAAAAAAAAAAAAAAAAAAAAAAAAAAAAAAAAAAAAAAAAAAAAAAAAAAAAAAAAAAAAAAAAAAAAAAAAAAAAAAAAAAAAAAAAAAAAAAAAAAAAAAAAAAAAAAAAAAAAAAAAAAAAAAAAAAAAAAAAAAAAAAAAAAAAAAAAAAAAAAAAAAAAAAAAAAAAAAAAAAAAAAAAAAAAAAAAAAAAAAAAAAAAAAAAAAAAAAAAAAAAAAAAAAAAAAAAAAAAAAAAAAAAAAAAAAAAAAAAAAAAAAAAAAAAAAAAAAAAAAAAAAAAAAAAAAAAAAAAAAAAAAAAAAAAAAAAAAAAAAAAAAAAAAAAAAAAAAAAAAAAAAAAAAAAAAAAAAAAAAAAAAAAAAAAAAAAAAAAAAAAAAAAAAAAAAAAAAAAAAAAAAAAAAAAAAAAAAAAAAAAAAAAAAAAAAAAAAAAAAAAAAAAAAAAAAAAAAAAAAAAAAAAAAAAAAAAAAAAAAAAAAAAA="
           ]
          }
         },
         "latitude": {
          "floatList": {
           "value": [
            0
           ]
          }
         },
         "longitude": {
          "floatList": {
           "value": [
            0
           ]
          }
         },
         "prcp": {
          "floatList": {
           "value": [
            0,
            0,
            0,
            0,
            0,
            0,
            0,
            0,
            0,
            0,
            0,
            0,
            0,
            0,
            0,
            0,
            0,
            0,
            0,
            0,
            0,
            0,
            0,
            0,
            0,
            0,
            0,
            0,
            0,
            0,
            0,
            0,
            0,
            0,
            0,
            0,
            0,
            0,
            0,
            0,
            0,
            0,
            0,
            0,
            0,
            0,
            0,
            0,
            0,
            0,
            0,
            0,
            0,
            0,
            0,
            0,
            0,
            0,
            0,
            0,
            0,
            0,
            0,
            0,
            0,
            0,
            0,
            0,
            0,
            0,
            0,
            0,
            0,
            0,
            0,
            0,
            0,
            0,
            0,
            0,
            0,
            0,
            0,
            0,
            0,
            0,
            0,
            0,
            0,
            0,
            0,
            0,
            0,
            0,
            0,
            0,
            0,
            0,
            0,
            0,
            0,
            0,
            0,
            0,
            0,
            0,
            0,
            0,
            0,
            0,
            0,
            0,
            0,
            0,
            0,
            0,
            0,
            0,
            0,
            0,
            0,
            0,
            0,
            0,
            0,
            0,
            0,
            0,
            0,
            0,
            0,
            0,
            0,
            0,
            0,
            0,
            0,
            0,
            0,
            0,
            0,
            0,
            0,
            0,
            0,
            0,
            0,
            0,
            0,
            0,
            0,
            0,
            0,
            0,
            0,
            0,
            0,
            0,
            0,
            0,
            0,
            0,
            0,
            0,
            0,
            0,
            0,
            0,
            0,
            0,
            0,
            0,
            0,
            0,
            0,
            0,
            0,
            0,
            0,
            0,
            0,
            0,
            0,
            0,
            0,
            0,
            0,
            0,
            0,
            0,
            0,
            0,
            0,
            0,
            0,
            0,
            0,
            0,
            0,
            0,
            0,
            0,
            0,
            0,
            0,
            0,
            0,
            0,
            0,
            0,
            0,
            0,
            0,
            0,
            0,
            0,
            0,
            0,
            0,
            0,
            0,
            0,
            0,
            0,
            0,
            0,
            0,
            0,
            0,
            0,
            0,
            0,
            0,
            0,
            0,
            0,
            0,
            0,
            0,
            0,
            0,
            0,
            0,
            0,
            0,
            0,
            0,
            0,
            0,
            0,
            0,
            0,
            0,
            0,
            0,
            0,
            0,
            0,
            0,
            0,
            0,
            0,
            0,
            0,
            0,
            0,
            0,
            0,
            0,
            0,
            0,
            0,
            0,
            0,
            0,
            0,
            0,
            0,
            0,
            0,
            0,
            0,
            0,
            0,
            0,
            0,
            0,
            0,
            0,
            0,
            0,
            0,
            0,
            0,
            0,
            0,
            0,
            0,
            0,
            0,
            0,
            0,
            0,
            0,
            0,
            0,
            0,
            0,
            0,
            0,
            0,
            0,
            0,
            0,
            0,
            0,
            0,
            0,
            0,
            0,
            0,
            0,
            0,
            0,
            0,
            0,
            0,
            0,
            0,
            0,
            0,
            0,
            0,
            0,
            0,
            0,
            0,
            0,
            0,
            0,
            0,
            0,
            0,
            0,
            0,
            0,
            0,
            0,
            0,
            0,
            0,
            0,
            0,
            0,
            0,
            0,
            0,
            0,
            0,
            0,
            0,
            0,
            0,
            0,
            0
           ]
          }
         }
        }
       }
      },
      "text/plain": [
       "<IPython.core.display.JSON object>"
      ]
     },
     "execution_count": 3,
     "metadata": {
      "application/json": {
       "expanded": false,
       "root": "root"
      }
     },
     "output_type": "execute_result"
    }
   ],
   "source": [
    "from google.protobuf import json_format\n",
    "import json\n",
    "from IPython.display import JSON\n",
    "\n",
    "ds = tf.data.TFRecordDataset(records)\n",
    "\n",
    "raw_record = next(ds.take(1).as_numpy_iterator())\n",
    "example = tf.train.Example()\n",
    "example.ParseFromString(raw_record)\n",
    "m = json.loads(json_format.MessageToJson(example))\n",
    "JSON(m)"
   ]
  },
  {
   "cell_type": "code",
   "execution_count": 4,
   "id": "fbb40472-a29a-44b1-a32c-55cf9334ac36",
   "metadata": {},
   "outputs": [],
   "source": [
    "def decode_record(proto):\n",
    "    spec = {\n",
    "        \"SEVERITY\": tf.io.FixedLenFeature([1], dtype=tf.float32),\n",
    "        \"latitude\": tf.io.FixedLenFeature([1], dtype=tf.float32),\n",
    "        \"longitude\": tf.io.FixedLenFeature([1], dtype=tf.float32),\n",
    "        \"elevation\": tf.io.FixedLenFeature([1], dtype=tf.int64),\n",
    "        \"is_cloudy\": tf.io.FixedLenFeature([1], dtype=tf.string),\n",
    "        \"prcp\": tf.io.FixedLenFeature([365], dtype=tf.float32),\n",
    "        \"dT\": tf.io.FixedLenFeature([46], dtype=tf.float32)\n",
    "    }\n",
    "\n",
    "    ex = tf.io.parse_single_example(proto, spec)\n",
    "\n",
    "    # I'm not sure why we have to make this cast but we do\n",
    "    ex[\"is_cloudy\"] = tf.squeeze(tf.io.decode_raw(ex[\"is_cloudy\"], tf.uint8))\n",
    "\n",
    "    return ex\n",
    "\n",
    "def empty_record(record):\n",
    "    return tf.math.count_nonzero(record[\"longitude\"]) > 0\n",
    "\n",
    "ds_dec = ds.map(decode_record).filter(empty_record)\n",
    "\n",
    "feature = next(ds_dec.take(1).as_numpy_iterator())"
   ]
  },
  {
   "cell_type": "code",
   "execution_count": 5,
   "id": "dfa6eb5b-8bea-4d65-b7b1-116eb5bc02b6",
   "metadata": {},
   "outputs": [
    {
     "data": {
      "image/png": "[encoded data removed]",
      "text/plain": [
       "<Figure size 640x480 with 3 Axes>"
      ]
     },
     "metadata": {},
     "output_type": "display_data"
    }
   ],
   "source": [
    "def plot_annual_feature(feature):\n",
    "    xax_365 = np.arange(0, 365)\n",
    "    xax_46  = np.arange(0, 46) * 8\n",
    "    \n",
    "    fig, ax = plt.subplots(nrows=3)\n",
    "    fig.tight_layout()\n",
    "    fig.subplots_adjust(top=0.88)\n",
    "    \n",
    "    ax[0].scatter(xax_365, feature[\"is_cloudy\"])\n",
    "    ax[0].set_ylabel(\"Clouds\")\n",
    "    \n",
    "    ax[1].plot(xax_365, feature[\"prcp\"])\n",
    "    ax[1].set_ylabel(\"Precip (mm)\")\n",
    "    \n",
    "    ax[2].scatter(xax_46, feature[\"dT\"], c=np.where(feature[\"dT\"] == 0, \"gray\", \"#1f77b4\"))\n",
    "    ax[2].set_ylabel(\"Delta-T (K)\")\n",
    "    ax[2].set_xlabel(\"Julian Day\")\n",
    "    \n",
    "    fig.suptitle(\"({:4.2f}, {:4.2f}) {} masl, {} severity\".format(\n",
    "        feature[\"latitude\"][0], feature[\"longitude\"][0], feature[\"elevation\"][0], feature[\"SEVERITY\"][0]\n",
    "    )) \n",
    "    \n",
    "    plt.show()\n",
    "\n",
    "plot_annual_feature(feature)"
   ]
  },
  {
   "cell_type": "markdown",
   "id": "dddbde11-f3dd-4b38-8b85-01b26eee8563",
   "metadata": {},
   "source": [
    "### Examples as long-term data for one pixel"
   ]
  },
  {
   "cell_type": "code",
   "execution_count": 6,
   "id": "4eadd29b-f6b9-4503-8ccd-cd1b06a62663",
   "metadata": {},
   "outputs": [
    {
     "name": "stdout",
     "output_type": "stream",
     "text": [
      "gs://forest-lst-test-export/ca_dense_tensors_v3/0/00000.tfrecord\n"
     ]
    }
   ],
   "source": [
    "records = [\n",
    "    \"/\".join([\"gs://{}\".format(bucket), f.name])\n",
    "    for f in client.list_blobs(bucket, prefix=\"ca_dense_tensors_v3/\")\n",
    "    if \".tfrecord\" in f.name\n",
    "]\n",
    "\n",
    "print(\"\\n\".join(records))"
   ]
  },
  {
   "cell_type": "code",
   "execution_count": 7,
   "id": "34b16bf0-8073-451e-9691-cc61c9e4ce64",
   "metadata": {},
   "outputs": [
    {
     "data": {
      "application/json": {
       "features": {
        "feature": {
         "EVI_p5": {
          "floatList": {
           "value": [
            0,
            0,
            0,
            0,
            0,
            0,
            0,
            0,
            0,
            0,
            0,
            0,
            0,
            0,
            0,
            0,
            0,
            0,
            0,
            0,
            0
           ]
          }
         },
         "EVI_p50": {
          "floatList": {
           "value": [
            0,
            0,
            0,
            0,
            0,
            0,
            0,
            0,
            0,
            0,
            0,
            0,
            0,
            0,
            0,
            0,
            0,
            0,
            0,
            0,
            0
           ]
          }
         },
         "EVI_p95": {
          "floatList": {
           "value": [
            0,
            0,
            0,
            0,
            0,
            0,
            0,
            0,
            0,
            0,
            0,
            0,
            0,
            0,
            0,
            0,
            0,
            0,
            0,
            0,
            0
           ]
          }
         },
         "dT_p5": {
          "floatList": {
           "value": [
            0,
            0,
            0,
            0,
            0,
            0,
            0,
            0,
            0,
            0,
            0,
            0,
            0,
            0,
            0,
            0,
            0,
            0,
            0,
            0,
            0
           ]
          }
         },
         "dT_p50": {
          "floatList": {
           "value": [
            0,
            0,
            0,
            0,
            0,
            0,
            0,
            0,
            0,
            0,
            0,
            0,
            0,
            0,
            0,
            0,
            0,
            0,
            0,
            0,
            0
           ]
          }
         },
         "dT_p95": {
          "floatList": {
           "value": [
            0,
            0,
            0,
            0,
            0,
            0,
            0,
            0,
            0,
            0,
            0,
            0,
            0,
            0,
            0,
            0,
            0,
            0,
            0,
            0,
            0
           ]
          }
         },
         "elevation": {
          "int64List": {
           "value": [
            "0",
            "0",
            "0",
            "0",
            "0",
            "0",
            "0",
            "0",
            "0",
            "0",
            "0",
            "0",
            "0",
            "0",
            "0",
            "0",
            "0",
            "0",
            "0",
            "0",
            "0"
           ]
          }
         },
         "latitude": {
          "floatList": {
           "value": [
            0,
            0,
            0,
            0,
            0,
            0,
            0,
            0,
            0,
            0,
            0,
            0,
            0,
            0,
            0,
            0,
            0,
            0,
            0,
            0,
            0
           ]
          }
         },
         "longitude": {
          "floatList": {
           "value": [
            0,
            0,
            0,
            0,
            0,
            0,
            0,
            0,
            0,
            0,
            0,
            0,
            0,
            0,
            0,
            0,
            0,
            0,
            0,
            0,
            0
           ]
          }
         },
         "pct_mortality": {
          "floatList": {
           "value": [
            0,
            0,
            0,
            0,
            0,
            0,
            0,
            0,
            0,
            0,
            0,
            0,
            0,
            0,
            0,
            0,
            0,
            0,
            0,
            0,
            0
           ]
          }
         },
         "prcp": {
          "floatList": {
           "value": [
            0,
            0,
            0,
            0,
            0,
            0,
            0,
            0,
            0,
            0,
            0,
            0,
            0,
            0,
            0,
            0,
            0,
            0,
            0,
            0,
            0
           ]
          }
         },
         "spei30d_p5": {
          "floatList": {
           "value": [
            0,
            0,
            0,
            0,
            0,
            0,
            0,
            0,
            0,
            0,
            0,
            0,
            0,
            0,
            0,
            0,
            0,
            0,
            0,
            0,
            0
           ]
          }
         },
         "spei30d_p50": {
          "floatList": {
           "value": [
            0,
            0,
            0,
            0,
            0,
            0,
            0,
            0,
            0,
            0,
            0,
            0,
            0,
            0,
            0,
            0,
            0,
            0,
            0,
            0,
            0
           ]
          }
         },
         "spei30d_p95": {
          "floatList": {
           "value": [
            0,
            0,
            0,
            0,
            0,
            0,
            0,
            0,
            0,
            0,
            0,
            0,
            0,
            0,
            0,
            0,
            0,
            0,
            0,
            0,
            0
           ]
          }
         },
         "winter_tmin": {
          "floatList": {
           "value": [
            0,
            0,
            0,
            0,
            0,
            0,
            0,
            0,
            0,
            0,
            0,
            0,
            0,
            0,
            0,
            0,
            0,
            0,
            0,
            0,
            0
           ]
          }
         },
         "year": {
          "int64List": {
           "value": [
            "0",
            "0",
            "0",
            "0",
            "0",
            "0",
            "0",
            "0",
            "0",
            "0",
            "0",
            "0",
            "0",
            "0",
            "0",
            "0",
            "0",
            "0",
            "0",
            "0",
            "0"
           ]
          }
         }
        }
       }
      },
      "text/plain": [
       "<IPython.core.display.JSON object>"
      ]
     },
     "execution_count": 7,
     "metadata": {
      "application/json": {
       "expanded": false,
       "root": "root"
      }
     },
     "output_type": "execute_result"
    }
   ],
   "source": [
    "ds_dense = tf.data.TFRecordDataset(records)\n",
    "\n",
    "raw_record = next(ds_dense.take(1).as_numpy_iterator())\n",
    "example = tf.train.Example()\n",
    "example.ParseFromString(raw_record)\n",
    "m = json.loads(json_format.MessageToJson(example))\n",
    "JSON(m)"
   ]
  },
  {
   "cell_type": "code",
   "execution_count": 18,
   "id": "ef379cba-bd81-454f-93dd-bb9a8bed4c43",
   "metadata": {},
   "outputs": [],
   "source": [
    "feature_names = list(m[\"features\"][\"feature\"].keys())\n",
    "feature_ints = [\"year\", \"elevation\"]\n",
    "feature_len   = len(m[\"features\"][\"feature\"][\"year\"][\"int64List\"][\"value\"])\n",
    "\n",
    "spec_dense = {\n",
    "    key: tf.io.FixedLenFeature([feature_len], dtype=tf.int64 if key in feature_ints else tf.float32) \n",
    "    for key in feature_names\n",
    "}\n",
    "\n",
    "def decode_record_dense(proto):\n",
    "    return tf.io.parse_single_example(proto, spec_dense)\n",
    "\n",
    "ds_dense_dec = ds_dense.map(decode_record_dense)\n",
    "\n",
    "feature = next(ds_dense_dec.take(1).as_numpy_iterator())"
   ]
  },
  {
   "cell_type": "code",
   "execution_count": 20,
   "id": "fd88b853-e9f7-4905-a3d3-fb8e0cd4d4e2",
   "metadata": {},
   "outputs": [
    {
     "data": {
      "text/plain": [
       "{'EVI_p5': array([0., 0., 0., 0., 0., 0., 0., 0., 0., 0., 0., 0., 0., 0., 0., 0., 0.,\n",
       "        0., 0., 0., 0.], dtype=float32),\n",
       " 'EVI_p50': array([0., 0., 0., 0., 0., 0., 0., 0., 0., 0., 0., 0., 0., 0., 0., 0., 0.,\n",
       "        0., 0., 0., 0.], dtype=float32),\n",
       " 'EVI_p95': array([0., 0., 0., 0., 0., 0., 0., 0., 0., 0., 0., 0., 0., 0., 0., 0., 0.,\n",
       "        0., 0., 0., 0.], dtype=float32),\n",
       " 'dT_p5': array([0., 0., 0., 0., 0., 0., 0., 0., 0., 0., 0., 0., 0., 0., 0., 0., 0.,\n",
       "        0., 0., 0., 0.], dtype=float32),\n",
       " 'dT_p50': array([0., 0., 0., 0., 0., 0., 0., 0., 0., 0., 0., 0., 0., 0., 0., 0., 0.,\n",
       "        0., 0., 0., 0.], dtype=float32),\n",
       " 'dT_p95': array([0., 0., 0., 0., 0., 0., 0., 0., 0., 0., 0., 0., 0., 0., 0., 0., 0.,\n",
       "        0., 0., 0., 0.], dtype=float32),\n",
       " 'elevation': array([0, 0, 0, 0, 0, 0, 0, 0, 0, 0, 0, 0, 0, 0, 0, 0, 0, 0, 0, 0, 0],\n",
       "       dtype=int64),\n",
       " 'latitude': array([0., 0., 0., 0., 0., 0., 0., 0., 0., 0., 0., 0., 0., 0., 0., 0., 0.,\n",
       "        0., 0., 0., 0.], dtype=float32),\n",
       " 'longitude': array([0., 0., 0., 0., 0., 0., 0., 0., 0., 0., 0., 0., 0., 0., 0., 0., 0.,\n",
       "        0., 0., 0., 0.], dtype=float32),\n",
       " 'pct_mortality': array([0., 0., 0., 0., 0., 0., 0., 0., 0., 0., 0., 0., 0., 0., 0., 0., 0.,\n",
       "        0., 0., 0., 0.], dtype=float32),\n",
       " 'prcp': array([0., 0., 0., 0., 0., 0., 0., 0., 0., 0., 0., 0., 0., 0., 0., 0., 0.,\n",
       "        0., 0., 0., 0.], dtype=float32),\n",
       " 'spei30d_p5': array([0., 0., 0., 0., 0., 0., 0., 0., 0., 0., 0., 0., 0., 0., 0., 0., 0.,\n",
       "        0., 0., 0., 0.], dtype=float32),\n",
       " 'spei30d_p50': array([0., 0., 0., 0., 0., 0., 0., 0., 0., 0., 0., 0., 0., 0., 0., 0., 0.,\n",
       "        0., 0., 0., 0.], dtype=float32),\n",
       " 'spei30d_p95': array([0., 0., 0., 0., 0., 0., 0., 0., 0., 0., 0., 0., 0., 0., 0., 0., 0.,\n",
       "        0., 0., 0., 0.], dtype=float32),\n",
       " 'winter_tmin': array([0., 0., 0., 0., 0., 0., 0., 0., 0., 0., 0., 0., 0., 0., 0., 0., 0.,\n",
       "        0., 0., 0., 0.], dtype=float32),\n",
       " 'year': array([0, 0, 0, 0, 0, 0, 0, 0, 0, 0, 0, 0, 0, 0, 0, 0, 0, 0, 0, 0, 0],\n",
       "       dtype=int64)}"
      ]
     },
     "execution_count": 20,
     "metadata": {},
     "output_type": "execute_result"
    }
   ],
   "source": [
    "feature"
   ]
  },
  {
   "cell_type": "code",
   "execution_count": 32,
   "id": "bb93bc8a-e155-4d76-a4c8-6ea9b81d28d2",
   "metadata": {},
   "outputs": [],
   "source": [
    "def plot_dense_example(feature):\n",
    "    # Drop years with missing data\n",
    "    use_years = feature[\"year\"] != 0\n",
    "    feature_no_na = {key: feature[key][use_years] for key in feature}\n",
    "    \n",
    "    \n",
    "    title = \"({:.2f}, {:.2f})  {} masl\".format(feature[\"latitude\"][0], feature[\"longitude\"][0], feature[\"elevation\"][0])\n",
    "\n",
    "    fig, ax = plt.subplots(nrows=5, figsize=(8, 8))\n",
    "\n",
    "    # delta-T\n",
    "    ax[0].scatter(feature_no_na[\"year\"], feature_no_na[\"dT_p5\"], c=\"blue\")\n",
    "    ax[0].scatter(feature_no_na[\"year\"], feature_no_na[\"dT_p50\"], c=\"green\")\n",
    "    ax[0].scatter(feature_no_na[\"year\"], feature_no_na[\"dT_p95\"], c=\"red\")\n",
    "    ax[0].set_ylabel(\"Delta-T (K)\")\n",
    "\n",
    "    # EVI\n",
    "    ax[1].scatter(feature_no_na[\"year\"], feature_no_na[\"EVI_p5\"], c=\"blue\")\n",
    "    ax[1].scatter(feature_no_na[\"year\"], feature_no_na[\"EVI_p50\"], c=\"green\")\n",
    "    ax[1].scatter(feature_no_na[\"year\"], feature_no_na[\"EVI_p95\"], c=\"red\")\n",
    "    ax[1].set_ylabel(\"EVI\")\n",
    "\n",
    "    # SPEI\n",
    "    ax[2].scatter(feature_no_na[\"year\"], feature_no_na[\"spei30d_p5\"], c=\"blue\")\n",
    "    ax[2].scatter(feature_no_na[\"year\"], feature_no_na[\"spei30d_p50\"], c=\"green\")\n",
    "    ax[2].scatter(feature_no_na[\"year\"], feature_no_na[\"spei30d_p95\"], c=\"red\")\n",
    "    ax[2].set_ylabel(\"SPEI\")\n",
    "\n",
    "    # Precip and minimum winter T\n",
    "    ax_twin = ax[3].twinx()\n",
    "    ax[3].scatter(feature_no_na[\"year\"], feature_no_na[\"prcp\"], c=\"blue\")\n",
    "    ax[3].set_ylabel(\"Precipitation (mm)\")\n",
    "    ax_twin.scatter(feature_no_na[\"year\"], feature_no_na[\"winter_tmin\"], c=\"green\")\n",
    "    ax_twin.set_ylabel(\"Winter Tmin (C)\")\n",
    "\n",
    "    # Mortality\n",
    "    ax[4].scatter(feature_no_na[\"year\"], feature_no_na[\"pct_mortality\"])\n",
    "    ax[4].set_ylabel(\"% Mortality\")\n",
    "    ax[4].set_xlabel(\"Year\")\n",
    "\n",
    "    # Cleanup\n",
    "    fig.suptitle(title)\n",
    "    fig.tight_layout()\n",
    "\n",
    "    plt.show()"
   ]
  },
  {
   "cell_type": "code",
   "execution_count": 33,
   "id": "595cbfec-7e91-4c10-a67f-c255c1f73a27",
   "metadata": {},
   "outputs": [
    {
     "data": {
      "image/png": "[encoded data removed]",
      "text/plain": [
       "<Figure size 800x800 with 6 Axes>"
      ]
     },
     "metadata": {},
     "output_type": "display_data"
    }
   ],
   "source": [
    "plot_dense_example(feature)"
   ]
  }
 ],
 "metadata": {
  "kernelspec": {
   "display_name": "Python 3 (ipykernel)",
   "language": "python",
   "name": "python3"
  },
  "language_info": {
   "codemirror_mode": {
    "name": "ipython",
    "version": 3
   },
   "file_extension": ".py",
   "mimetype": "text/x-python",
   "name": "python",
   "nbconvert_exporter": "python",
   "pygments_lexer": "ipython3",
   "version": "3.10.13"
  }
 },
 "nbformat": 4,
 "nbformat_minor": 5
}
