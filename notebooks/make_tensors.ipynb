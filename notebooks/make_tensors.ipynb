{
 "cells": [
  {
   "cell_type": "markdown",
   "id": "b5d4de8e-be7e-4bbc-aca4-1ce67799df07",
   "metadata": {},
   "source": [
    "## Make TFRecords on GCS\n",
    "\n",
    "In this notebook, we combine forest mortality observations from aerial detection surveys with MODIS LST and ERA5 climate re-analysis data."
   ]
  },
  {
   "cell_type": "code",
   "execution_count": 1,
   "id": "0f510f0d-717d-4698-9ab9-b4a43eb5ac0a",
   "metadata": {},
   "outputs": [
    {
     "name": "stdout",
     "output_type": "stream",
     "text": [
      "Changed working dir to G:\\Other computers\\My Laptop\\UW\\Classes\\ESS521\\project\n"
     ]
    }
   ],
   "source": [
    "import ee\n",
    "import geemap\n",
    "import os\n",
    "\n",
    "ee.Initialize()\n",
    "\n",
    "if \"notebooks\" in os.getcwd():\n",
    "    os.chdir(\"..\")\n",
    "    print(\"Changed working dir to\", os.getcwd())"
   ]
  },
  {
   "cell_type": "code",
   "execution_count": 2,
   "id": "71f20778-cee1-4311-99c1-233e7ee6c279",
   "metadata": {},
   "outputs": [
    {
     "data": {
      "text/html": [
       "\n",
       "            <style>\n",
       "                .geemap-dark {\n",
       "                    --jp-widgets-color: white;\n",
       "                    --jp-widgets-label-color: white;\n",
       "                    --jp-ui-font-color1: white;\n",
       "                    --jp-layout-color2: #454545;\n",
       "                    background-color: #383838;\n",
       "                }\n",
       "\n",
       "                .geemap-dark .jupyter-button {\n",
       "                    --jp-layout-color3: #383838;\n",
       "                }\n",
       "\n",
       "                .geemap-colab {\n",
       "                    background-color: var(--colab-primary-surface-color, white);\n",
       "                }\n",
       "\n",
       "                .geemap-colab .jupyter-button {\n",
       "                    --jp-layout-color3: var(--colab-primary-surface-color, white);\n",
       "                }\n",
       "            </style>\n",
       "            "
      ],
      "text/plain": [
       "<IPython.core.display.HTML object>"
      ]
     },
     "metadata": {},
     "output_type": "display_data"
    }
   ],
   "source": [
    "# Pull together all the assets\n",
    "modis_daily = ee.ImageCollection(\"MODIS/061/MYD11A1\")\n",
    "modis_8day  = ee.ImageCollection(\"MODIS/061/MYD11A2\")\n",
    "modis_lc    = ee.ImageCollection(\"MODIS/061/MCD12Q1\")\n",
    "era5        = ee.ImageCollection(\"ECMWF/ERA5/DAILY\")\n",
    "srtm        = ee.Image(\"CGIAR/SRTM90_V4\")\n",
    "states      = ee.FeatureCollection(\"TIGER/2018/States\")\n",
    "ca          = states.filter(ee.Filter.eq(\"NAME\", \"California\")).first();\n",
    "\n",
    "# Survey images\n",
    "ads_damage  = ee.ImageCollection(\"projects/forest-lst/assets/damage_img\")\n",
    "ads_survey  = ee.ImageCollection(\"projects/forest-lst/assets/survey_img\")"
   ]
  },
  {
   "cell_type": "markdown",
   "id": "1cd6c58a-b3e7-4c0f-b118-8efe9f628207",
   "metadata": {},
   "source": [
    "Image operations like to drop the `system:time_start` property sometimes. So, we have to filter the source image data to the export year before doing any joins, array transformations, etc. A good way to organize this is to have functions that take the export year and spit out the processed image."
   ]
  },
  {
   "cell_type": "code",
   "execution_count": 3,
   "id": "5c6b4a77-b80d-4fd1-8756-cd7978ec8b6a",
   "metadata": {},
   "outputs": [
    {
     "data": {
      "text/html": [
       "\n",
       "            <style>\n",
       "                .geemap-dark {\n",
       "                    --jp-widgets-color: white;\n",
       "                    --jp-widgets-label-color: white;\n",
       "                    --jp-ui-font-color1: white;\n",
       "                    --jp-layout-color2: #454545;\n",
       "                    background-color: #383838;\n",
       "                }\n",
       "\n",
       "                .geemap-dark .jupyter-button {\n",
       "                    --jp-layout-color3: #383838;\n",
       "                }\n",
       "\n",
       "                .geemap-colab {\n",
       "                    background-color: var(--colab-primary-surface-color, white);\n",
       "                }\n",
       "\n",
       "                .geemap-colab .jupyter-button {\n",
       "                    --jp-layout-color3: var(--colab-primary-surface-color, white);\n",
       "                }\n",
       "            </style>\n",
       "            "
      ],
      "text/plain": [
       "<IPython.core.display.HTML object>"
      ]
     },
     "metadata": {},
     "output_type": "display_data"
    }
   ],
   "source": [
    "# Simple time series aggregators\n",
    "def make_is_cloudy(filter):\n",
    "    return modis_daily\\\n",
    "            .filter(filter)\\\n",
    "            .map(lambda img: img.select(\"QC_Day\").bitwiseAnd(2).gt(0).rename(\"is_cloudy\"))\n",
    "\n",
    "def make_prcp(filter):\n",
    "    return era5.select([\"total_precipitation\"], [\"prcp\"]).filter(filter)\n",
    "\n",
    "# Join MODIS and ERA5 to make delta T\n",
    "def calculate_dT(feat):\n",
    "    meanMaxT = ee.ImageCollection.fromImages(feat.get(\"secondary\"))\\\n",
    "        .reduce(ee.Reducer.mean())\\\n",
    "        .select(\"maximum_2m_air_temperature_mean\")\\\n",
    "        .resample(\"bilinear\")\n",
    "\n",
    "    lst = ee.Image(feat).select(\"LST_Day_1km\").multiply(0.02)\n",
    "\n",
    "    return lst.subtract(meanMaxT)\\\n",
    "        .rename(\"dT\").unmask(0).copyProperties(lst)\n",
    "\n",
    "def make_8day_dT(filter):\n",
    "    era5_filter = era5.filter(filter)\n",
    "    mod_filter  = modis_8day.filter(filter)\n",
    "\n",
    "    date_range_match = ee.Filter.And(\n",
    "        ee.Filter.lessThanOrEquals(leftField=\"system:time_start\", rightField=\"system:time_start\"),\n",
    "        ee.Filter.greaterThanOrEquals(leftField=\"system:time_start\", rightField=\"system:time_start\")\n",
    "    )\n",
    "\n",
    "    join = ee.Join.saveAll(matchesKey=\"secondary\", ordering=\"system:time_start\", ascending=True)\n",
    "    \n",
    "    dT = join.apply(mod_filter, era5_filter, date_range_match).map(calculate_dT)\n",
    "    dT = ee.ImageCollection(dT)\n",
    "\n",
    "    return dT"
   ]
  },
  {
   "cell_type": "code",
   "execution_count": 4,
   "id": "4aa2b3dc-f819-4232-92a0-6792b7161826",
   "metadata": {},
   "outputs": [
    {
     "data": {
      "text/html": [
       "\n",
       "            <style>\n",
       "                .geemap-dark {\n",
       "                    --jp-widgets-color: white;\n",
       "                    --jp-widgets-label-color: white;\n",
       "                    --jp-ui-font-color1: white;\n",
       "                    --jp-layout-color2: #454545;\n",
       "                    background-color: #383838;\n",
       "                }\n",
       "\n",
       "                .geemap-dark .jupyter-button {\n",
       "                    --jp-layout-color3: #383838;\n",
       "                }\n",
       "\n",
       "                .geemap-colab {\n",
       "                    background-color: var(--colab-primary-surface-color, white);\n",
       "                }\n",
       "\n",
       "                .geemap-colab .jupyter-button {\n",
       "                    --jp-layout-color3: var(--colab-primary-surface-color, white);\n",
       "                }\n",
       "            </style>\n",
       "            "
      ],
      "text/plain": [
       "<IPython.core.display.HTML object>"
      ]
     },
     "metadata": {},
     "output_type": "display_data"
    },
    {
     "data": {
      "application/vnd.jupyter.widget-view+json": {
       "model_id": "64d7fb7c61cb40bfaecd5a17c27698a7",
       "version_major": 2,
       "version_minor": 0
      },
      "text/plain": [
       "Map(center=[0, 0], controls=(WidgetControl(options=['position', 'transparent_bg'], widget=SearchDataGUI(childr…"
      ]
     },
     "execution_count": 4,
     "metadata": {},
     "output_type": "execute_result"
    }
   ],
   "source": [
    "# Verify that it worked\n",
    "filter_18 = ee.Filter.calendarRange(2018, 2018, \"year\")\n",
    "my_dT = make_8day_dT(filter_18)\n",
    "\n",
    "Map = geemap.Map()\n",
    "Map.add_basemap(\"HYBRID\")\n",
    "Map.addLayer(my_dT.first(), dict(min=-5, max=5, palette=[\"blue\", \"white\", \"red\"]))\n",
    "Map"
   ]
  },
  {
   "cell_type": "code",
   "execution_count": 5,
   "id": "3b204d48-3a53-470c-bfd6-f8bf135b7103",
   "metadata": {},
   "outputs": [
    {
     "data": {
      "text/html": [
       "\n",
       "            <style>\n",
       "                .geemap-dark {\n",
       "                    --jp-widgets-color: white;\n",
       "                    --jp-widgets-label-color: white;\n",
       "                    --jp-ui-font-color1: white;\n",
       "                    --jp-layout-color2: #454545;\n",
       "                    background-color: #383838;\n",
       "                }\n",
       "\n",
       "                .geemap-dark .jupyter-button {\n",
       "                    --jp-layout-color3: #383838;\n",
       "                }\n",
       "\n",
       "                .geemap-colab {\n",
       "                    background-color: var(--colab-primary-surface-color, white);\n",
       "                }\n",
       "\n",
       "                .geemap-colab .jupyter-button {\n",
       "                    --jp-layout-color3: var(--colab-primary-surface-color, white);\n",
       "                }\n",
       "            </style>\n",
       "            "
      ],
      "text/plain": [
       "<IPython.core.display.HTML object>"
      ]
     },
     "metadata": {},
     "output_type": "display_data"
    }
   ],
   "source": [
    "# Make severity images. This is the same join as MODIS/ERA except 1:1 so we\n",
    "# do an inner join instead of a saveAll.\n",
    "def calculate_severity(feat):\n",
    "    survey = ee.Image(feat.get(\"survey\"))\n",
    "    damage = ee.Image(feat.get(\"damage\"))\n",
    "\n",
    "    return survey.blend(damage)\n",
    "\n",
    "def make_severity(filter):\n",
    "    ads_damage_filter = ads_damage.filter(filter)\n",
    "    ads_survey_filter = ads_survey.filter(filter)\n",
    "\n",
    "    date_range_match = ee.Filter.And(\n",
    "        ee.Filter.lessThanOrEquals(leftField=\"system:time_start\", rightField=\"system:time_start\"),\n",
    "        ee.Filter.greaterThanOrEquals(leftField=\"system:time_start\", rightField=\"system:time_start\")\n",
    "    )\n",
    "\n",
    "    inner_join = ee.Join.inner(\"damage\", \"survey\")\n",
    "\n",
    "    severity = inner_join.apply(ads_damage_filter, ads_survey_filter, date_range_match).map(calculate_severity)\n",
    "    severity = ee.ImageCollection(severity)\n",
    "\n",
    "    assert(severity.size().getInfo() == 1)\n",
    "    \n",
    "    return severity.first()"
   ]
  },
  {
   "cell_type": "code",
   "execution_count": 6,
   "id": "c03cfbe5-e715-4816-b6d6-fec4260b774a",
   "metadata": {},
   "outputs": [
    {
     "data": {
      "text/html": [
       "\n",
       "            <style>\n",
       "                .geemap-dark {\n",
       "                    --jp-widgets-color: white;\n",
       "                    --jp-widgets-label-color: white;\n",
       "                    --jp-ui-font-color1: white;\n",
       "                    --jp-layout-color2: #454545;\n",
       "                    background-color: #383838;\n",
       "                }\n",
       "\n",
       "                .geemap-dark .jupyter-button {\n",
       "                    --jp-layout-color3: #383838;\n",
       "                }\n",
       "\n",
       "                .geemap-colab {\n",
       "                    background-color: var(--colab-primary-surface-color, white);\n",
       "                }\n",
       "\n",
       "                .geemap-colab .jupyter-button {\n",
       "                    --jp-layout-color3: var(--colab-primary-surface-color, white);\n",
       "                }\n",
       "            </style>\n",
       "            "
      ],
      "text/plain": [
       "<IPython.core.display.HTML object>"
      ]
     },
     "metadata": {},
     "output_type": "display_data"
    },
    {
     "data": {
      "application/vnd.jupyter.widget-view+json": {
       "model_id": "6471968172424a119642c8c2d12e389b",
       "version_major": 2,
       "version_minor": 0
      },
      "text/plain": [
       "Map(center=[37.15243410467141, -119.5265515515086], controls=(WidgetControl(options=['position', 'transparent_…"
      ]
     },
     "execution_count": 6,
     "metadata": {},
     "output_type": "execute_result"
    }
   ],
   "source": [
    "# Verify that it worked (again lol)\n",
    "\n",
    "my_severity = make_severity(filter_18)\n",
    "\n",
    "Map = geemap.Map()\n",
    "Map.add_basemap(\"HYBRID\")\n",
    "Map.addLayer(my_severity, dict(min=0, max=5, palette=[\"white\", \"red\"]))\n",
    "Map.centerObject(ca, zoom=6)\n",
    "Map"
   ]
  },
  {
   "cell_type": "code",
   "execution_count": 7,
   "id": "89fbb179-f233-4536-8e3b-7d5165af370f",
   "metadata": {},
   "outputs": [
    {
     "data": {
      "text/html": [
       "\n",
       "            <style>\n",
       "                .geemap-dark {\n",
       "                    --jp-widgets-color: white;\n",
       "                    --jp-widgets-label-color: white;\n",
       "                    --jp-ui-font-color1: white;\n",
       "                    --jp-layout-color2: #454545;\n",
       "                    background-color: #383838;\n",
       "                }\n",
       "\n",
       "                .geemap-dark .jupyter-button {\n",
       "                    --jp-layout-color3: #383838;\n",
       "                }\n",
       "\n",
       "                .geemap-colab {\n",
       "                    background-color: var(--colab-primary-surface-color, white);\n",
       "                }\n",
       "\n",
       "                .geemap-colab .jupyter-button {\n",
       "                    --jp-layout-color3: var(--colab-primary-surface-color, white);\n",
       "                }\n",
       "            </style>\n",
       "            "
      ],
      "text/plain": [
       "<IPython.core.display.HTML object>"
      ]
     },
     "metadata": {},
     "output_type": "display_data"
    },
    {
     "name": "stdout",
     "output_type": "stream",
     "text": [
      "All dates:\n",
      "2013-01-01 00:00:00\n",
      "2014-01-01 00:00:00\n",
      "2015-01-01 00:00:00\n",
      "2016-01-01 00:00:00\n",
      "2017-01-01 00:00:00\n",
      "2018-01-01 00:00:00\n",
      "2019-01-01 00:00:00\n",
      "2020-01-01 00:00:00\n",
      "2021-01-01 00:00:00\n",
      "2022-01-01 00:00:00\n",
      "2023-01-01 00:00:00\n"
     ]
    }
   ],
   "source": [
    "# Some of the severity maps are all -1, we shouldn't worry about exporting those for now\n",
    "import datetime\n",
    "\n",
    "timestamps = ads_damage.aggregate_array(\"system:time_start\").getInfo()\n",
    "\n",
    "dates = map(\n",
    "    lambda x: datetime.datetime.utcfromtimestamp(x/1000), \n",
    "    timestamps\n",
    ")\n",
    "\n",
    "print(\"All dates:\")\n",
    "for d in dates: print(str(d))"
   ]
  },
  {
   "cell_type": "code",
   "execution_count": 8,
   "id": "6bcc08ed-37f8-42e7-9112-5becb0e994fd",
   "metadata": {},
   "outputs": [
    {
     "data": {
      "text/html": [
       "\n",
       "            <style>\n",
       "                .geemap-dark {\n",
       "                    --jp-widgets-color: white;\n",
       "                    --jp-widgets-label-color: white;\n",
       "                    --jp-ui-font-color1: white;\n",
       "                    --jp-layout-color2: #454545;\n",
       "                    background-color: #383838;\n",
       "                }\n",
       "\n",
       "                .geemap-dark .jupyter-button {\n",
       "                    --jp-layout-color3: #383838;\n",
       "                }\n",
       "\n",
       "                .geemap-colab {\n",
       "                    background-color: var(--colab-primary-surface-color, white);\n",
       "                }\n",
       "\n",
       "                .geemap-colab .jupyter-button {\n",
       "                    --jp-layout-color3: var(--colab-primary-surface-color, white);\n",
       "                }\n",
       "            </style>\n",
       "            "
      ],
      "text/plain": [
       "<IPython.core.display.HTML object>"
      ]
     },
     "metadata": {},
     "output_type": "display_data"
    },
    {
     "data": {
      "application/vnd.jupyter.widget-view+json": {
       "model_id": "2e23eb90473246ff8cf4ab13a61e72a8",
       "version_major": 2,
       "version_minor": 0
      },
      "text/plain": [
       "Map(center=[37.15243410467141, -119.5265515515086], controls=(WidgetControl(options=['position', 'transparent_…"
      ]
     },
     "execution_count": 8,
     "metadata": {},
     "output_type": "execute_result"
    }
   ],
   "source": [
    "# Function to make a forest mask from the annual MODIS LC\n",
    "def make_forest_mask(filter):\n",
    "    return modis_lc.filter(filter).first().select(\"LC_Type1\").lt(6)\n",
    "\n",
    "# Check that it is working\n",
    "my_mask = make_forest_mask(filter_18)\n",
    "\n",
    "my_severity_masked = my_severity.updateMask(my_mask)\n",
    "\n",
    "Map = geemap.Map()\n",
    "Map.add_basemap(\"HYBRID\")\n",
    "Map.addLayer(my_severity, dict(min=0, max=5, palette=[\"white\", \"red\"]), \"unmasked\")\n",
    "Map.addLayer(my_severity_masked, dict(min=0, max=5, palette=[\"white\", \"red\"]), \"masked\")\n",
    "Map.centerObject(ca, zoom=6)\n",
    "Map"
   ]
  },
  {
   "cell_type": "code",
   "execution_count": 34,
   "id": "0203a5af-7559-4cdf-901e-12fd0a3d2701",
   "metadata": {},
   "outputs": [
    {
     "data": {
      "text/html": [
       "\n",
       "            <style>\n",
       "                .geemap-dark {\n",
       "                    --jp-widgets-color: white;\n",
       "                    --jp-widgets-label-color: white;\n",
       "                    --jp-ui-font-color1: white;\n",
       "                    --jp-layout-color2: #454545;\n",
       "                    background-color: #383838;\n",
       "                }\n",
       "\n",
       "                .geemap-dark .jupyter-button {\n",
       "                    --jp-layout-color3: #383838;\n",
       "                }\n",
       "\n",
       "                .geemap-colab {\n",
       "                    background-color: var(--colab-primary-surface-color, white);\n",
       "                }\n",
       "\n",
       "                .geemap-colab .jupyter-button {\n",
       "                    --jp-layout-color3: var(--colab-primary-surface-color, white);\n",
       "                }\n",
       "            </style>\n",
       "            "
      ],
      "text/plain": [
       "<IPython.core.display.HTML object>"
      ]
     },
     "metadata": {},
     "output_type": "display_data"
    }
   ],
   "source": [
    "def make_annual_export_image(year, return_task=False):\n",
    "    print(year)\n",
    "    # Make time series predictors\n",
    "    year_filter = ee.Filter.calendarRange(year, year, \"year\")\n",
    "    \n",
    "    this_is_cloudy = make_is_cloudy(year_filter)\n",
    "    this_prcp      = make_prcp(year_filter)\n",
    "    this_dT        = make_8day_dT(year_filter)\n",
    "\n",
    "    cloud_tensor = this_is_cloudy.size().getInfo()\n",
    "    prcp_tensor  = this_prcp.size().getInfo()\n",
    "    dT_tensor    = this_dT.size().getInfo()\n",
    "\n",
    "    # >= to account for leap years\n",
    "    assert(cloud_tensor >= 365)\n",
    "    assert(prcp_tensor >= 365)\n",
    "    assert(dT_tensor == 46)\n",
    "\n",
    "    # Cast as arrays\n",
    "    this_is_cloudy_arr = this_is_cloudy.toArrayPerBand()\n",
    "    this_prcp_arr = this_prcp.toArrayPerBand()\n",
    "    this_dT_arr = this_dT.toArrayPerBand()\n",
    "\n",
    "    # Make severity labels for *next year*\n",
    "    severity_filter = ee.Filter.calendarRange(year+1, year+1, \"year\")\n",
    "    this_severity = make_severity(severity_filter)\n",
    "    \n",
    "    # Make forest map for this year\n",
    "    this_mask = make_forest_mask(year_filter)\n",
    "\n",
    "    # Concatenate everything together\n",
    "    export_img = ee.Image.cat([\n",
    "        # time series predictors\n",
    "        this_dT_arr,\n",
    "        this_prcp_arr,\n",
    "        this_is_cloudy_arr,\n",
    "        # scalar predictors\n",
    "        ee.Image.pixelLonLat(),\n",
    "        srtm,\n",
    "        # severity label\n",
    "        this_severity\n",
    "    ])\n",
    "\n",
    "    # Mask out non-forest\n",
    "    export_img = export_img.updateMask(this_mask)\n",
    "\n",
    "    if return_task:\n",
    "        # Export!\n",
    "        return ee.batch.Export.image.toCloudStorage(\n",
    "            description=\"annual-export-\"+str(year),\n",
    "            image=export_img,\n",
    "            bucket=\"forest-lst-test-export\",\n",
    "            fileNamePrefix=\"ca_all_features_label/\"+str(year)+\"/\",\n",
    "            region=ca.geometry(),\n",
    "            #shardSize=64,\n",
    "            scale=1000,\n",
    "            crs=this_dT.first().projection(),\n",
    "            fileFormat=\"TFRecord\",\n",
    "            formatOptions=dict(\n",
    "                patchDimensions=[1, 1],\n",
    "                tensorDepths=dict(\n",
    "                    dT=dT_tensor,\n",
    "                    is_cloudy=cloud_tensor,\n",
    "                    prcp=prcp_tensor\n",
    "                )\n",
    "            )\n",
    "        )\n",
    "    else:\n",
    "        return export_img"
   ]
  },
  {
   "cell_type": "code",
   "execution_count": 28,
   "id": "fe90f7c9-a884-45eb-9c13-69a81e81e2c3",
   "metadata": {},
   "outputs": [
    {
     "data": {
      "text/html": [
       "\n",
       "            <style>\n",
       "                .geemap-dark {\n",
       "                    --jp-widgets-color: white;\n",
       "                    --jp-widgets-label-color: white;\n",
       "                    --jp-ui-font-color1: white;\n",
       "                    --jp-layout-color2: #454545;\n",
       "                    background-color: #383838;\n",
       "                }\n",
       "\n",
       "                .geemap-dark .jupyter-button {\n",
       "                    --jp-layout-color3: #383838;\n",
       "                }\n",
       "\n",
       "                .geemap-colab {\n",
       "                    background-color: var(--colab-primary-surface-color, white);\n",
       "                }\n",
       "\n",
       "                .geemap-colab .jupyter-button {\n",
       "                    --jp-layout-color3: var(--colab-primary-surface-color, white);\n",
       "                }\n",
       "            </style>\n",
       "            "
      ],
      "text/plain": [
       "<IPython.core.display.HTML object>"
      ]
     },
     "metadata": {},
     "output_type": "display_data"
    }
   ],
   "source": [
    "testimg = make_annual_export_image(2018)"
   ]
  },
  {
   "cell_type": "code",
   "execution_count": 29,
   "id": "5928256b-2872-473b-a7c8-a9f21dbfc8cc",
   "metadata": {},
   "outputs": [
    {
     "data": {
      "text/html": [
       "\n",
       "            <style>\n",
       "                .geemap-dark {\n",
       "                    --jp-widgets-color: white;\n",
       "                    --jp-widgets-label-color: white;\n",
       "                    --jp-ui-font-color1: white;\n",
       "                    --jp-layout-color2: #454545;\n",
       "                    background-color: #383838;\n",
       "                }\n",
       "\n",
       "                .geemap-dark .jupyter-button {\n",
       "                    --jp-layout-color3: #383838;\n",
       "                }\n",
       "\n",
       "                .geemap-colab {\n",
       "                    background-color: var(--colab-primary-surface-color, white);\n",
       "                }\n",
       "\n",
       "                .geemap-colab .jupyter-button {\n",
       "                    --jp-layout-color3: var(--colab-primary-surface-color, white);\n",
       "                }\n",
       "            </style>\n",
       "            "
      ],
      "text/plain": [
       "<IPython.core.display.HTML object>"
      ]
     },
     "metadata": {},
     "output_type": "display_data"
    },
    {
     "data": {
      "application/json": {
       "bands": [
        {
         "crs": "EPSG:4326",
         "crs_transform": [
          1,
          0,
          0,
          0,
          1,
          0
         ],
         "data_type": {
          "dimensions": 1,
          "precision": "double",
          "type": "PixelType"
         },
         "id": "dT"
        },
        {
         "crs": "EPSG:4326",
         "crs_transform": [
          1,
          0,
          0,
          0,
          1,
          0
         ],
         "data_type": {
          "dimensions": 1,
          "precision": "float",
          "type": "PixelType"
         },
         "id": "prcp"
        },
        {
         "crs": "EPSG:4326",
         "crs_transform": [
          1,
          0,
          0,
          0,
          1,
          0
         ],
         "data_type": {
          "dimensions": 1,
          "max": 1,
          "min": 0,
          "precision": "int",
          "type": "PixelType"
         },
         "id": "is_cloudy"
        },
        {
         "crs": "EPSG:4326",
         "crs_transform": [
          1,
          0,
          0,
          0,
          1,
          0
         ],
         "data_type": {
          "precision": "double",
          "type": "PixelType"
         },
         "id": "longitude"
        },
        {
         "crs": "EPSG:4326",
         "crs_transform": [
          1,
          0,
          0,
          0,
          1,
          0
         ],
         "data_type": {
          "precision": "double",
          "type": "PixelType"
         },
         "id": "latitude"
        },
        {
         "crs": "EPSG:4326",
         "crs_transform": [
          0.000833333333333,
          0,
          -180,
          0,
          -0.000833333333333,
          60
         ],
         "data_type": {
          "max": 32767,
          "min": -32768,
          "precision": "int",
          "type": "PixelType"
         },
         "dimensions": [
          432000,
          144000
         ],
         "id": "elevation"
        },
        {
         "crs": "SR-ORG:6974",
         "crs_transform": [
          1000,
          0,
          -11128000,
          0,
          -1000,
          4672000
         ],
         "data_type": {
          "precision": "double",
          "type": "PixelType"
         },
         "dimensions": [
          1212,
          1055
         ],
         "id": "SEVERITY"
        }
       ],
       "type": "Image"
      },
      "text/plain": [
       "<IPython.core.display.JSON object>"
      ]
     },
     "metadata": {
      "application/json": {
       "expanded": false,
       "root": "root"
      }
     },
     "output_type": "display_data"
    }
   ],
   "source": [
    "from IPython.display import display, JSON\n",
    "\n",
    "display(JSON(testimg.getInfo()))"
   ]
  },
  {
   "cell_type": "code",
   "execution_count": 39,
   "id": "37a86ecd-0309-4a9b-8103-cc1047da2558",
   "metadata": {},
   "outputs": [
    {
     "data": {
      "text/html": [
       "\n",
       "            <style>\n",
       "                .geemap-dark {\n",
       "                    --jp-widgets-color: white;\n",
       "                    --jp-widgets-label-color: white;\n",
       "                    --jp-ui-font-color1: white;\n",
       "                    --jp-layout-color2: #454545;\n",
       "                    background-color: #383838;\n",
       "                }\n",
       "\n",
       "                .geemap-dark .jupyter-button {\n",
       "                    --jp-layout-color3: #383838;\n",
       "                }\n",
       "\n",
       "                .geemap-colab {\n",
       "                    background-color: var(--colab-primary-surface-color, white);\n",
       "                }\n",
       "\n",
       "                .geemap-colab .jupyter-button {\n",
       "                    --jp-layout-color3: var(--colab-primary-surface-color, white);\n",
       "                }\n",
       "            </style>\n",
       "            "
      ],
      "text/plain": [
       "<IPython.core.display.HTML object>"
      ]
     },
     "metadata": {},
     "output_type": "display_data"
    },
    {
     "name": "stdout",
     "output_type": "stream",
     "text": [
      "2016\n",
      "2017\n",
      "2018\n",
      "2019\n"
     ]
    }
   ],
   "source": [
    "# Set up exports from 2016 onwards\n",
    "tasks = [\n",
    "    make_annual_export_image(year, return_task=True) for year in range(2016, 2020)\n",
    "]"
   ]
  },
  {
   "cell_type": "code",
   "execution_count": null,
   "id": "d42abfe4-e2e3-4627-aea5-3d886e73285c",
   "metadata": {},
   "outputs": [],
   "source": [
    "for t in tasks: t.start()"
   ]
  }
 ],
 "metadata": {
  "kernelspec": {
   "display_name": "Python 3 (ipykernel)",
   "language": "python",
   "name": "python3"
  },
  "language_info": {
   "codemirror_mode": {
    "name": "ipython",
    "version": 3
   },
   "file_extension": ".py",
   "mimetype": "text/x-python",
   "name": "python",
   "nbconvert_exporter": "python",
   "pygments_lexer": "ipython3",
   "version": "3.10.13"
  }
 },
 "nbformat": 4,
 "nbformat_minor": 5
}
