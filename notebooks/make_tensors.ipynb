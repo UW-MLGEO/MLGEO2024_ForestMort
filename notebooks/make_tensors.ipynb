{
 "cells": [
  {
   "cell_type": "markdown",
   "id": "b5d4de8e-be7e-4bbc-aca4-1ce67799df07",
   "metadata": {},
   "source": [
    "## Make TFRecords on GCS\n",
    "\n",
    "In this notebook, we combine forest mortality observations from aerial detection surveys with predictor features."
   ]
  },
  {
   "cell_type": "code",
   "execution_count": 1,
   "id": "0f510f0d-717d-4698-9ab9-b4a43eb5ac0a",
   "metadata": {},
   "outputs": [
    {
     "name": "stdout",
     "output_type": "stream",
     "text": [
      "Changed working dir to G:\\Other computers\\My Laptop\\UW\\Classes\\ESS521\\project\n"
     ]
    }
   ],
   "source": [
    "import ee\n",
    "import geemap\n",
    "import os\n",
    "\n",
    "ee.Initialize()\n",
    "\n",
    "if \"notebooks\" in os.getcwd():\n",
    "    os.chdir(\"..\")\n",
    "    print(\"Changed working dir to\", os.getcwd())"
   ]
  },
  {
   "cell_type": "markdown",
   "id": "4b1ef068-2192-4884-bfc5-39d25804df56",
   "metadata": {},
   "source": [
    "Features to calculate:\n",
    " - Annual median, 5th-percentile, 95th-percentile EVI\n",
    " - Annual median, 5th-percentile, 95th-percentile LST - Air T\n",
    " - Annual median, 5th-percentile, 95th-percentile SPEI\n",
    " - Lat/Lon\n",
    " - Elevation\n",
    " - Minimum winter air temperature (e.g. for 2019: minimum from Dec 2018 - Feb 2019)\n",
    " - Water-year precipitation (e.g. for 2019: precip from Oct 2018 - Sep 2019)\n",
    "\n",
    "Another option to consider is SAR as a proxy for canopy moisture as in [this paper](https://www.sciencedirect.com/science/article/pii/S003442572030167X). But, Sentinel-1 is only available post-2014 so we would lose long-term data."
   ]
  },
  {
   "cell_type": "code",
   "execution_count": 2,
   "id": "73c6fd7f-db38-4c1d-b783-29139080b250",
   "metadata": {},
   "outputs": [
    {
     "data": {
      "text/html": [
       "\n",
       "            <style>\n",
       "                .geemap-dark {\n",
       "                    --jp-widgets-color: white;\n",
       "                    --jp-widgets-label-color: white;\n",
       "                    --jp-ui-font-color1: white;\n",
       "                    --jp-layout-color2: #454545;\n",
       "                    background-color: #383838;\n",
       "                }\n",
       "\n",
       "                .geemap-dark .jupyter-button {\n",
       "                    --jp-layout-color3: #383838;\n",
       "                }\n",
       "\n",
       "                .geemap-colab {\n",
       "                    background-color: var(--colab-primary-surface-color, white);\n",
       "                }\n",
       "\n",
       "                .geemap-colab .jupyter-button {\n",
       "                    --jp-layout-color3: var(--colab-primary-surface-color, white);\n",
       "                }\n",
       "            </style>\n",
       "            "
      ],
      "text/plain": [
       "<IPython.core.display.HTML object>"
      ]
     },
     "metadata": {},
     "output_type": "display_data"
    }
   ],
   "source": [
    "# Gather assets\n",
    "modis_lst  = ee.ImageCollection(\"MODIS/061/MYD11A1\")\n",
    "modis_evi  = ee.ImageCollection(\"MODIS/061/MYD13A2\")\n",
    "daymet     = ee.ImageCollection(\"NASA/ORNL/DAYMET_V4\")\n",
    "drought    = ee.ImageCollection(\"GRIDMET/DROUGHT\")\n",
    "srtm       = ee.Image(\"CGIAR/SRTM90_V4\").resample(\"bilinear\")\n",
    "damage     = ee.ImageCollection(\"projects/forest-lst/assets/damage_img\")"
   ]
  },
  {
   "cell_type": "code",
   "execution_count": 3,
   "id": "584f31d7-ef53-4bdb-8ace-9d263e9fbac5",
   "metadata": {},
   "outputs": [
    {
     "data": {
      "text/html": [
       "\n",
       "            <style>\n",
       "                .geemap-dark {\n",
       "                    --jp-widgets-color: white;\n",
       "                    --jp-widgets-label-color: white;\n",
       "                    --jp-ui-font-color1: white;\n",
       "                    --jp-layout-color2: #454545;\n",
       "                    background-color: #383838;\n",
       "                }\n",
       "\n",
       "                .geemap-dark .jupyter-button {\n",
       "                    --jp-layout-color3: #383838;\n",
       "                }\n",
       "\n",
       "                .geemap-colab {\n",
       "                    background-color: var(--colab-primary-surface-color, white);\n",
       "                }\n",
       "\n",
       "                .geemap-colab .jupyter-button {\n",
       "                    --jp-layout-color3: var(--colab-primary-surface-color, white);\n",
       "                }\n",
       "            </style>\n",
       "            "
      ],
      "text/plain": [
       "<IPython.core.display.HTML object>"
      ]
     },
     "metadata": {},
     "output_type": "display_data"
    }
   ],
   "source": [
    "def drought_percentile(year, percentiles=[5, 50, 95]):\n",
    "    this_drought = drought.filter(ee.Filter.calendarRange(year, year, \"year\"))\n",
    "\n",
    "    names = list(map(lambda x: \"p\" + str(x), percentiles))\n",
    "    reducer = ee.Reducer.percentile(percentiles, names)\n",
    "\n",
    "    # The choice of index and aggregation period here is arbitrary.\n",
    "    return this_drought.select(\"spei30d\").reduce(reducer)"
   ]
  },
  {
   "cell_type": "code",
   "execution_count": 4,
   "id": "7819ac85-82b4-4867-88ca-18284beca5aa",
   "metadata": {},
   "outputs": [
    {
     "data": {
      "text/html": [
       "\n",
       "            <style>\n",
       "                .geemap-dark {\n",
       "                    --jp-widgets-color: white;\n",
       "                    --jp-widgets-label-color: white;\n",
       "                    --jp-ui-font-color1: white;\n",
       "                    --jp-layout-color2: #454545;\n",
       "                    background-color: #383838;\n",
       "                }\n",
       "\n",
       "                .geemap-dark .jupyter-button {\n",
       "                    --jp-layout-color3: #383838;\n",
       "                }\n",
       "\n",
       "                .geemap-colab {\n",
       "                    background-color: var(--colab-primary-surface-color, white);\n",
       "                }\n",
       "\n",
       "                .geemap-colab .jupyter-button {\n",
       "                    --jp-layout-color3: var(--colab-primary-surface-color, white);\n",
       "                }\n",
       "            </style>\n",
       "            "
      ],
      "text/plain": [
       "<IPython.core.display.HTML object>"
      ]
     },
     "metadata": {},
     "output_type": "display_data"
    },
    {
     "data": {
      "application/vnd.jupyter.widget-view+json": {
       "model_id": "c5673a0400844c66a8a52a87b793eb1d",
       "version_major": 2,
       "version_minor": 0
      },
      "text/plain": [
       "Map(center=[0, 0], controls=(WidgetControl(options=['position', 'transparent_bg'], widget=SearchDataGUI(childr…"
      ]
     },
     "execution_count": 4,
     "metadata": {},
     "output_type": "execute_result"
    }
   ],
   "source": [
    "d = drought_percentile(2018)\n",
    "\n",
    "Map = geemap.Map()\n",
    "Map.addLayer(d)\n",
    "Map"
   ]
  },
  {
   "cell_type": "code",
   "execution_count": 5,
   "id": "0f176f76-6134-4752-913c-1632727c5cbc",
   "metadata": {},
   "outputs": [
    {
     "data": {
      "text/html": [
       "\n",
       "            <style>\n",
       "                .geemap-dark {\n",
       "                    --jp-widgets-color: white;\n",
       "                    --jp-widgets-label-color: white;\n",
       "                    --jp-ui-font-color1: white;\n",
       "                    --jp-layout-color2: #454545;\n",
       "                    background-color: #383838;\n",
       "                }\n",
       "\n",
       "                .geemap-dark .jupyter-button {\n",
       "                    --jp-layout-color3: #383838;\n",
       "                }\n",
       "\n",
       "                .geemap-colab {\n",
       "                    background-color: var(--colab-primary-surface-color, white);\n",
       "                }\n",
       "\n",
       "                .geemap-colab .jupyter-button {\n",
       "                    --jp-layout-color3: var(--colab-primary-surface-color, white);\n",
       "                }\n",
       "            </style>\n",
       "            "
      ],
      "text/plain": [
       "<IPython.core.display.HTML object>"
      ]
     },
     "metadata": {},
     "output_type": "display_data"
    }
   ],
   "source": [
    "def water_year_precipitation(year):\n",
    "    # Water year for year X is from Oct (X-1) - Sep (X). For example,\n",
    "    # the 2019 water year is from Oct 2018 - Sep 2019.\n",
    "    d = ee.Date.fromYMD(year, 1, 1)\n",
    "    d_start = d.advance(-3, \"month\")\n",
    "    d_end   = d.advance( 9, \"month\")\n",
    "\n",
    "    # Filter daymet to water year, sum prcp\n",
    "    return daymet.filterDate(d_start, d_end).reduce(ee.Reducer.sum()).select(\"prcp_sum\").rename(\"prcp\")"
   ]
  },
  {
   "cell_type": "code",
   "execution_count": 6,
   "id": "c62942bc-6987-41e5-acd1-c35d6b284c53",
   "metadata": {},
   "outputs": [
    {
     "data": {
      "text/html": [
       "\n",
       "            <style>\n",
       "                .geemap-dark {\n",
       "                    --jp-widgets-color: white;\n",
       "                    --jp-widgets-label-color: white;\n",
       "                    --jp-ui-font-color1: white;\n",
       "                    --jp-layout-color2: #454545;\n",
       "                    background-color: #383838;\n",
       "                }\n",
       "\n",
       "                .geemap-dark .jupyter-button {\n",
       "                    --jp-layout-color3: #383838;\n",
       "                }\n",
       "\n",
       "                .geemap-colab {\n",
       "                    background-color: var(--colab-primary-surface-color, white);\n",
       "                }\n",
       "\n",
       "                .geemap-colab .jupyter-button {\n",
       "                    --jp-layout-color3: var(--colab-primary-surface-color, white);\n",
       "                }\n",
       "            </style>\n",
       "            "
      ],
      "text/plain": [
       "<IPython.core.display.HTML object>"
      ]
     },
     "metadata": {},
     "output_type": "display_data"
    },
    {
     "data": {
      "application/vnd.jupyter.widget-view+json": {
       "model_id": "c5639e7394eb4530a80dc752987a7023",
       "version_major": 2,
       "version_minor": 0
      },
      "text/plain": [
       "Map(center=[0, 0], controls=(WidgetControl(options=['position', 'transparent_bg'], widget=SearchDataGUI(childr…"
      ]
     },
     "execution_count": 6,
     "metadata": {},
     "output_type": "execute_result"
    }
   ],
   "source": [
    "p = water_year_precipitation(2020)\n",
    "\n",
    "Map = geemap.Map()\n",
    "Map.addLayer(p)\n",
    "Map"
   ]
  },
  {
   "cell_type": "code",
   "execution_count": 7,
   "id": "817f1c93-92f5-4493-b0e5-7cf170969247",
   "metadata": {},
   "outputs": [
    {
     "data": {
      "text/html": [
       "\n",
       "            <style>\n",
       "                .geemap-dark {\n",
       "                    --jp-widgets-color: white;\n",
       "                    --jp-widgets-label-color: white;\n",
       "                    --jp-ui-font-color1: white;\n",
       "                    --jp-layout-color2: #454545;\n",
       "                    background-color: #383838;\n",
       "                }\n",
       "\n",
       "                .geemap-dark .jupyter-button {\n",
       "                    --jp-layout-color3: #383838;\n",
       "                }\n",
       "\n",
       "                .geemap-colab {\n",
       "                    background-color: var(--colab-primary-surface-color, white);\n",
       "                }\n",
       "\n",
       "                .geemap-colab .jupyter-button {\n",
       "                    --jp-layout-color3: var(--colab-primary-surface-color, white);\n",
       "                }\n",
       "            </style>\n",
       "            "
      ],
      "text/plain": [
       "<IPython.core.display.HTML object>"
      ]
     },
     "metadata": {},
     "output_type": "display_data"
    }
   ],
   "source": [
    "def minimum_winter_air_temperature(year):\n",
    "    # Winter for year X is defined as Dec (x-1) - Feb (x).\n",
    "    d = ee.Date.fromYMD(year, 1, 1)\n",
    "    d_start = d.advance(-1, \"month\")\n",
    "    d_end   = d.advance( 2, \"month\")\n",
    "\n",
    "    # Filter daymet to water year, sum prcp\n",
    "    return daymet.filterDate(d_start, d_end).reduce(ee.Reducer.min()).select(\"tmin_min\").rename(\"winter_tmin\")"
   ]
  },
  {
   "cell_type": "code",
   "execution_count": 8,
   "id": "90c673b1-d649-499e-96de-8609fa008cfd",
   "metadata": {},
   "outputs": [
    {
     "data": {
      "text/html": [
       "\n",
       "            <style>\n",
       "                .geemap-dark {\n",
       "                    --jp-widgets-color: white;\n",
       "                    --jp-widgets-label-color: white;\n",
       "                    --jp-ui-font-color1: white;\n",
       "                    --jp-layout-color2: #454545;\n",
       "                    background-color: #383838;\n",
       "                }\n",
       "\n",
       "                .geemap-dark .jupyter-button {\n",
       "                    --jp-layout-color3: #383838;\n",
       "                }\n",
       "\n",
       "                .geemap-colab {\n",
       "                    background-color: var(--colab-primary-surface-color, white);\n",
       "                }\n",
       "\n",
       "                .geemap-colab .jupyter-button {\n",
       "                    --jp-layout-color3: var(--colab-primary-surface-color, white);\n",
       "                }\n",
       "            </style>\n",
       "            "
      ],
      "text/plain": [
       "<IPython.core.display.HTML object>"
      ]
     },
     "metadata": {},
     "output_type": "display_data"
    },
    {
     "data": {
      "application/vnd.jupyter.widget-view+json": {
       "model_id": "f3aaf7a85c2b4c009bc72dfb73a57281",
       "version_major": 2,
       "version_minor": 0
      },
      "text/plain": [
       "Map(center=[0, 0], controls=(WidgetControl(options=['position', 'transparent_bg'], widget=SearchDataGUI(childr…"
      ]
     },
     "execution_count": 8,
     "metadata": {},
     "output_type": "execute_result"
    }
   ],
   "source": [
    "t = minimum_winter_air_temperature(2020)\n",
    "\n",
    "Map = geemap.Map()\n",
    "Map.addLayer(t)\n",
    "Map"
   ]
  },
  {
   "cell_type": "code",
   "execution_count": 9,
   "id": "5c6b4a77-b80d-4fd1-8756-cd7978ec8b6a",
   "metadata": {},
   "outputs": [
    {
     "data": {
      "text/html": [
       "\n",
       "            <style>\n",
       "                .geemap-dark {\n",
       "                    --jp-widgets-color: white;\n",
       "                    --jp-widgets-label-color: white;\n",
       "                    --jp-ui-font-color1: white;\n",
       "                    --jp-layout-color2: #454545;\n",
       "                    background-color: #383838;\n",
       "                }\n",
       "\n",
       "                .geemap-dark .jupyter-button {\n",
       "                    --jp-layout-color3: #383838;\n",
       "                }\n",
       "\n",
       "                .geemap-colab {\n",
       "                    background-color: var(--colab-primary-surface-color, white);\n",
       "                }\n",
       "\n",
       "                .geemap-colab .jupyter-button {\n",
       "                    --jp-layout-color3: var(--colab-primary-surface-color, white);\n",
       "                }\n",
       "            </style>\n",
       "            "
      ],
      "text/plain": [
       "<IPython.core.display.HTML object>"
      ]
     },
     "metadata": {},
     "output_type": "display_data"
    }
   ],
   "source": [
    "# Join MODIS and ERA5 to make delta T\n",
    "def calculate_dT(feat):\n",
    "    meanMaxT = ee.ImageCollection.fromImages(feat.get(\"secondary\"))\\\n",
    "        .reduce(ee.Reducer.mean())\\\n",
    "        .select(\"tmax_mean\")\\\n",
    "        .resample(\"bilinear\")\n",
    "\n",
    "    # LST gets aggregated up to an annual summary so we can afford\n",
    "    # to be picky about QA\n",
    "    lst = ee.Image(feat)\n",
    "    lst = lst.updateMask(lst.select(\"QC_Day\").bitwiseAnd(1).eq(0))\\\n",
    "        .select(\"LST_Day_1km\").multiply(0.02).subtract(273.15) # K -> C\n",
    "\n",
    "    return lst.subtract(meanMaxT)\\\n",
    "        .rename(\"dT\").copyProperties(lst)\n",
    "\n",
    "def lst_air_difference(year):\n",
    "    filter = ee.Filter.calendarRange(year, year, \"year\")\n",
    "    \n",
    "    daymet_filter = daymet.filter(filter)\n",
    "    modis_lst_filter  = modis_lst.filter(filter)\n",
    "\n",
    "    date_range_match = ee.Filter.And(\n",
    "        ee.Filter.lessThanOrEquals(leftField=\"system:time_start\", rightField=\"system:time_start\"),\n",
    "        ee.Filter.greaterThanOrEquals(leftField=\"system:time_start\", rightField=\"system:time_start\")\n",
    "    )\n",
    "\n",
    "    join = ee.Join.saveAll(matchesKey=\"secondary\", ordering=\"system:time_start\", ascending=True)\n",
    "    \n",
    "    dT = join.apply(modis_lst_filter, daymet_filter, date_range_match).map(calculate_dT)\n",
    "    dT = ee.ImageCollection(dT)\n",
    "\n",
    "    return dT\n",
    "\n",
    "def lst_air_difference_percentile(year, percentiles=[5, 50, 95]):\n",
    "    dT = lst_air_difference(year)\n",
    "    \n",
    "    names = list(map(lambda x: \"p\" + str(x), percentiles))\n",
    "    reducer = ee.Reducer.percentile(percentiles, names)\n",
    "\n",
    "    return dT.reduce(reducer)"
   ]
  },
  {
   "cell_type": "code",
   "execution_count": 10,
   "id": "4aa2b3dc-f819-4232-92a0-6792b7161826",
   "metadata": {},
   "outputs": [
    {
     "data": {
      "text/html": [
       "\n",
       "            <style>\n",
       "                .geemap-dark {\n",
       "                    --jp-widgets-color: white;\n",
       "                    --jp-widgets-label-color: white;\n",
       "                    --jp-ui-font-color1: white;\n",
       "                    --jp-layout-color2: #454545;\n",
       "                    background-color: #383838;\n",
       "                }\n",
       "\n",
       "                .geemap-dark .jupyter-button {\n",
       "                    --jp-layout-color3: #383838;\n",
       "                }\n",
       "\n",
       "                .geemap-colab {\n",
       "                    background-color: var(--colab-primary-surface-color, white);\n",
       "                }\n",
       "\n",
       "                .geemap-colab .jupyter-button {\n",
       "                    --jp-layout-color3: var(--colab-primary-surface-color, white);\n",
       "                }\n",
       "            </style>\n",
       "            "
      ],
      "text/plain": [
       "<IPython.core.display.HTML object>"
      ]
     },
     "metadata": {},
     "output_type": "display_data"
    },
    {
     "data": {
      "application/vnd.jupyter.widget-view+json": {
       "model_id": "976be9fd8d404c028b90e3c2acc36b96",
       "version_major": 2,
       "version_minor": 0
      },
      "text/plain": [
       "Map(center=[0, 0], controls=(WidgetControl(options=['position', 'transparent_bg'], widget=SearchDataGUI(childr…"
      ]
     },
     "execution_count": 10,
     "metadata": {},
     "output_type": "execute_result"
    }
   ],
   "source": [
    "# Verify that it worked\n",
    "my_dT = lst_air_difference(2018)\n",
    "my_dT_percentiles = lst_air_difference_percentile(2018)\n",
    "\n",
    "Map = geemap.Map()\n",
    "Map.add_basemap(\"HYBRID\")\n",
    "Map.addLayer(my_dT.first(), dict(min=-5, max=5, palette=[\"blue\", \"white\", \"red\"]))\n",
    "Map.addLayer(my_dT_percentiles.select(\"dT_p50\"), dict(min=-5, max=5, palette=[\"blue\", \"white\", \"red\"]))\n",
    "Map"
   ]
  },
  {
   "cell_type": "code",
   "execution_count": 11,
   "id": "ba8fa5ce-09e1-4c78-8172-af236ffbd0c0",
   "metadata": {},
   "outputs": [
    {
     "data": {
      "text/html": [
       "\n",
       "            <style>\n",
       "                .geemap-dark {\n",
       "                    --jp-widgets-color: white;\n",
       "                    --jp-widgets-label-color: white;\n",
       "                    --jp-ui-font-color1: white;\n",
       "                    --jp-layout-color2: #454545;\n",
       "                    background-color: #383838;\n",
       "                }\n",
       "\n",
       "                .geemap-dark .jupyter-button {\n",
       "                    --jp-layout-color3: #383838;\n",
       "                }\n",
       "\n",
       "                .geemap-colab {\n",
       "                    background-color: var(--colab-primary-surface-color, white);\n",
       "                }\n",
       "\n",
       "                .geemap-colab .jupyter-button {\n",
       "                    --jp-layout-color3: var(--colab-primary-surface-color, white);\n",
       "                }\n",
       "            </style>\n",
       "            "
      ],
      "text/plain": [
       "<IPython.core.display.HTML object>"
      ]
     },
     "metadata": {},
     "output_type": "display_data"
    }
   ],
   "source": [
    "# Annual percentiles - NDVI, dT, air T\n",
    "def annual_evi_percentile(year, percentiles=[5, 50, 95]):\n",
    "    this_evi = modis_evi.filter(ee.Filter.calendarRange(year, year, \"year\"))\n",
    "\n",
    "    # Since we are doing an annual summary we can afford to be picky about\n",
    "    # image quality.\n",
    "    this_evi = this_evi.map(lambda x: x.updateMask(x.select(\"DetailedQA\").bitwiseAnd(1).eq(0)))\\\n",
    "        .select(\"EVI\")\n",
    "\n",
    "    names = list(map(lambda x: \"p\" + str(x), percentiles))\n",
    "    reducer = ee.Reducer.percentile(percentiles, names)\n",
    "\n",
    "    return this_evi.reduce(reducer).multiply(0.0001)"
   ]
  },
  {
   "cell_type": "code",
   "execution_count": 12,
   "id": "00708145-ef4e-46d1-9bea-66859551f998",
   "metadata": {},
   "outputs": [
    {
     "data": {
      "text/html": [
       "\n",
       "            <style>\n",
       "                .geemap-dark {\n",
       "                    --jp-widgets-color: white;\n",
       "                    --jp-widgets-label-color: white;\n",
       "                    --jp-ui-font-color1: white;\n",
       "                    --jp-layout-color2: #454545;\n",
       "                    background-color: #383838;\n",
       "                }\n",
       "\n",
       "                .geemap-dark .jupyter-button {\n",
       "                    --jp-layout-color3: #383838;\n",
       "                }\n",
       "\n",
       "                .geemap-colab {\n",
       "                    background-color: var(--colab-primary-surface-color, white);\n",
       "                }\n",
       "\n",
       "                .geemap-colab .jupyter-button {\n",
       "                    --jp-layout-color3: var(--colab-primary-surface-color, white);\n",
       "                }\n",
       "            </style>\n",
       "            "
      ],
      "text/plain": [
       "<IPython.core.display.HTML object>"
      ]
     },
     "metadata": {},
     "output_type": "display_data"
    },
    {
     "data": {
      "application/vnd.jupyter.widget-view+json": {
       "model_id": "2db116c9a02043a5bd1d3e2d1081c4d3",
       "version_major": 2,
       "version_minor": 0
      },
      "text/plain": [
       "Map(center=[0, 0], controls=(WidgetControl(options=['position', 'transparent_bg'], widget=SearchDataGUI(childr…"
      ]
     },
     "execution_count": 12,
     "metadata": {},
     "output_type": "execute_result"
    }
   ],
   "source": [
    "evi_18 = annual_evi_percentile(2018)\n",
    "\n",
    "Map = geemap.Map()\n",
    "Map.addLayer(evi_18.select(\"EVI_p50\"))\n",
    "Map"
   ]
  },
  {
   "cell_type": "code",
   "execution_count": 13,
   "id": "befaf757-cdf2-4d95-a87d-d5895925f199",
   "metadata": {},
   "outputs": [
    {
     "data": {
      "text/html": [
       "\n",
       "            <style>\n",
       "                .geemap-dark {\n",
       "                    --jp-widgets-color: white;\n",
       "                    --jp-widgets-label-color: white;\n",
       "                    --jp-ui-font-color1: white;\n",
       "                    --jp-layout-color2: #454545;\n",
       "                    background-color: #383838;\n",
       "                }\n",
       "\n",
       "                .geemap-dark .jupyter-button {\n",
       "                    --jp-layout-color3: #383838;\n",
       "                }\n",
       "\n",
       "                .geemap-colab {\n",
       "                    background-color: var(--colab-primary-surface-color, white);\n",
       "                }\n",
       "\n",
       "                .geemap-colab .jupyter-button {\n",
       "                    --jp-layout-color3: var(--colab-primary-surface-color, white);\n",
       "                }\n",
       "            </style>\n",
       "            "
      ],
      "text/plain": [
       "<IPython.core.display.HTML object>"
      ]
     },
     "metadata": {},
     "output_type": "display_data"
    }
   ],
   "source": [
    "import datetime\n",
    "def make_annual_image(year, percentiles=[5, 50, 95]):\n",
    "    # Record-keeping variables\n",
    "    year_img = ee.Image.constant(year).rename(\"year\").toInt16()\n",
    "    lon_lat  = ee.Image.pixelLonLat()\n",
    "\n",
    "    # Water-year precip\n",
    "    prcp = water_year_precipitation(year)\n",
    "\n",
    "    # Minimum winter T\n",
    "    min_winter_T = minimum_winter_air_temperature(year)\n",
    "\n",
    "    # Percentile-based images\n",
    "    dT = lst_air_difference_percentile(year, percentiles)\n",
    "    evi = annual_evi_percentile(year, percentiles)\n",
    "    spei = drought_percentile(year, percentiles)\n",
    "\n",
    "    # Response - mortality severity\n",
    "    mort = damage.filter(ee.Filter.calendarRange(year, year, \"year\")).first()\n",
    "\n",
    "    # Stack all the bands together. Since we are converting to an array image,\n",
    "    # none of the components of the array can be masked without the entire pixel\n",
    "    # getting masked. At first we have to gap fill with zeros to prevent masking\n",
    "    # when the image is converted to an array image.\n",
    "    all_bands = ee.Image([\n",
    "        mort,\n",
    "        year_img,\n",
    "        lon_lat,\n",
    "        srtm,\n",
    "        prcp,\n",
    "        min_winter_T,\n",
    "        dT,\n",
    "        evi,\n",
    "        spei,\n",
    "    ]).updateMask(mort.mask()).unmask(0)\n",
    "\n",
    "    # Set timekeeping properties\n",
    "    epoch_start = datetime.datetime(year, 1, 1, 0, 0, 0, \n",
    "                                    tzinfo=datetime.timezone.utc)\n",
    "    epoch_end   = datetime.datetime(year+1, 1, 1, 0, 0, 0, \n",
    "                                    tzinfo=datetime.timezone.utc) - datetime.timedelta(milliseconds=1)\n",
    "\n",
    "    all_bands = all_bands.set({\n",
    "        \"system:time_start\": epoch_start.timestamp() * 1000,\n",
    "        \"system:time_end\": epoch_end.timestamp() * 1000\n",
    "    })\n",
    "\n",
    "    return all_bands"
   ]
  },
  {
   "cell_type": "code",
   "execution_count": 14,
   "id": "2cdd895d-51f5-4127-9849-c359200408db",
   "metadata": {},
   "outputs": [
    {
     "data": {
      "text/html": [
       "\n",
       "            <style>\n",
       "                .geemap-dark {\n",
       "                    --jp-widgets-color: white;\n",
       "                    --jp-widgets-label-color: white;\n",
       "                    --jp-ui-font-color1: white;\n",
       "                    --jp-layout-color2: #454545;\n",
       "                    background-color: #383838;\n",
       "                }\n",
       "\n",
       "                .geemap-dark .jupyter-button {\n",
       "                    --jp-layout-color3: #383838;\n",
       "                }\n",
       "\n",
       "                .geemap-colab {\n",
       "                    background-color: var(--colab-primary-surface-color, white);\n",
       "                }\n",
       "\n",
       "                .geemap-colab .jupyter-button {\n",
       "                    --jp-layout-color3: var(--colab-primary-surface-color, white);\n",
       "                }\n",
       "            </style>\n",
       "            "
      ],
      "text/plain": [
       "<IPython.core.display.HTML object>"
      ]
     },
     "metadata": {},
     "output_type": "display_data"
    }
   ],
   "source": [
    "test_img = make_annual_image(2018)"
   ]
  },
  {
   "cell_type": "code",
   "execution_count": 15,
   "id": "ca03b235-864b-42e7-9e62-96080cb4a19e",
   "metadata": {},
   "outputs": [
    {
     "data": {
      "text/html": [
       "\n",
       "            <style>\n",
       "                .geemap-dark {\n",
       "                    --jp-widgets-color: white;\n",
       "                    --jp-widgets-label-color: white;\n",
       "                    --jp-ui-font-color1: white;\n",
       "                    --jp-layout-color2: #454545;\n",
       "                    background-color: #383838;\n",
       "                }\n",
       "\n",
       "                .geemap-dark .jupyter-button {\n",
       "                    --jp-layout-color3: #383838;\n",
       "                }\n",
       "\n",
       "                .geemap-colab {\n",
       "                    background-color: var(--colab-primary-surface-color, white);\n",
       "                }\n",
       "\n",
       "                .geemap-colab .jupyter-button {\n",
       "                    --jp-layout-color3: var(--colab-primary-surface-color, white);\n",
       "                }\n",
       "            </style>\n",
       "            "
      ],
      "text/plain": [
       "<IPython.core.display.HTML object>"
      ]
     },
     "metadata": {},
     "output_type": "display_data"
    },
    {
     "data": {
      "application/json": {
       "bands": [
        {
         "crs": "SR-ORG:6974",
         "crs_transform": [
          1000,
          0,
          -11128000,
          0,
          -1000,
          4672000
         ],
         "data_type": {
          "precision": "double",
          "type": "PixelType"
         },
         "dimensions": [
          1212,
          1055
         ],
         "id": "pct_mortality"
        },
        {
         "crs": "EPSG:4326",
         "crs_transform": [
          1,
          0,
          0,
          0,
          1,
          0
         ],
         "data_type": {
          "max": 32767,
          "min": -32768,
          "precision": "int",
          "type": "PixelType"
         },
         "id": "year"
        },
        {
         "crs": "EPSG:4326",
         "crs_transform": [
          1,
          0,
          0,
          0,
          1,
          0
         ],
         "data_type": {
          "precision": "double",
          "type": "PixelType"
         },
         "id": "longitude"
        },
        {
         "crs": "EPSG:4326",
         "crs_transform": [
          1,
          0,
          0,
          0,
          1,
          0
         ],
         "data_type": {
          "precision": "double",
          "type": "PixelType"
         },
         "id": "latitude"
        },
        {
         "crs": "EPSG:4326",
         "crs_transform": [
          0.000833333333333,
          0,
          -180,
          0,
          -0.000833333333333,
          60
         ],
         "data_type": {
          "max": 32767,
          "min": -32768,
          "precision": "int",
          "type": "PixelType"
         },
         "dimensions": [
          432000,
          144000
         ],
         "id": "elevation"
        },
        {
         "crs": "EPSG:4326",
         "crs_transform": [
          1,
          0,
          0,
          0,
          1,
          0
         ],
         "data_type": {
          "precision": "double",
          "type": "PixelType"
         },
         "id": "prcp"
        },
        {
         "crs": "EPSG:4326",
         "crs_transform": [
          1,
          0,
          0,
          0,
          1,
          0
         ],
         "data_type": {
          "precision": "float",
          "type": "PixelType"
         },
         "id": "winter_tmin"
        },
        {
         "crs": "EPSG:4326",
         "crs_transform": [
          1,
          0,
          0,
          0,
          1,
          0
         ],
         "data_type": {
          "precision": "double",
          "type": "PixelType"
         },
         "id": "dT_p5"
        },
        {
         "crs": "EPSG:4326",
         "crs_transform": [
          1,
          0,
          0,
          0,
          1,
          0
         ],
         "data_type": {
          "precision": "double",
          "type": "PixelType"
         },
         "id": "dT_p50"
        },
        {
         "crs": "EPSG:4326",
         "crs_transform": [
          1,
          0,
          0,
          0,
          1,
          0
         ],
         "data_type": {
          "precision": "double",
          "type": "PixelType"
         },
         "id": "dT_p95"
        },
        {
         "crs": "EPSG:4326",
         "crs_transform": [
          1,
          0,
          0,
          0,
          1,
          0
         ],
         "data_type": {
          "max": 3.2767,
          "min": -3.2768,
          "precision": "double",
          "type": "PixelType"
         },
         "id": "EVI_p5"
        },
        {
         "crs": "EPSG:4326",
         "crs_transform": [
          1,
          0,
          0,
          0,
          1,
          0
         ],
         "data_type": {
          "max": 3.2767,
          "min": -3.2768,
          "precision": "double",
          "type": "PixelType"
         },
         "id": "EVI_p50"
        },
        {
         "crs": "EPSG:4326",
         "crs_transform": [
          1,
          0,
          0,
          0,
          1,
          0
         ],
         "data_type": {
          "max": 3.2767,
          "min": -3.2768,
          "precision": "double",
          "type": "PixelType"
         },
         "id": "EVI_p95"
        },
        {
         "crs": "EPSG:4326",
         "crs_transform": [
          1,
          0,
          0,
          0,
          1,
          0
         ],
         "data_type": {
          "precision": "float",
          "type": "PixelType"
         },
         "id": "spei30d_p5"
        },
        {
         "crs": "EPSG:4326",
         "crs_transform": [
          1,
          0,
          0,
          0,
          1,
          0
         ],
         "data_type": {
          "precision": "float",
          "type": "PixelType"
         },
         "id": "spei30d_p50"
        },
        {
         "crs": "EPSG:4326",
         "crs_transform": [
          1,
          0,
          0,
          0,
          1,
          0
         ],
         "data_type": {
          "precision": "float",
          "type": "PixelType"
         },
         "id": "spei30d_p95"
        }
       ],
       "id": "projects/forest-lst/assets/damage_img/ads_damage_2018",
       "properties": {
        "system:asset_size": 294201,
        "system:footprint": {
         "coordinates": [
          [
           -122.77554680849823,
           42.020760451250624
          ],
          [
           -125.5238635453429,
           42.02076044732887
          ],
          [
           -130.10439147110563,
           42.02076048394162
          ],
          [
           -134.7264013764624,
           42.020588071546
          ],
          [
           -132.80094234964773,
           41.088040716672154
          ],
          [
           -129.29952519202408,
           39.27587163197309
          ],
          [
           -122.02717151838092,
           34.895674756795664
          ],
          [
           -118.70167239841744,
           32.523910518673596
          ],
          [
           -117.48658114849431,
           32.52198943486041
          ],
          [
           -115.87185612607229,
           32.52198946170696
          ],
          [
           -114.2571310388996,
           32.52198943143884
          ],
          [
           -112.64240605739485,
           32.52198938502307
          ],
          [
           -111.02768098621587,
           32.52198942343758
          ],
          [
           -109.41295596776682,
           32.521989412752376
          ],
          [
           -107.79823084517724,
           32.52198940392579
          ],
          [
           -105.747526245163,
           32.51845224864034
          ],
          [
           -107.86777432110595,
           34.25095945691558
          ],
          [
           -110.9083142253754,
           36.49128217211449
          ],
          [
           -120.02334248297109,
           42.02074492109247
          ],
          [
           -122.77554680849823,
           42.020760451250624
          ]
         ],
         "type": "LinearRing"
        },
        "system:index": "ads_damage_2018",
        "system:time_end": 1546300799999,
        "system:time_start": 1514764800000
       },
       "type": "Image",
       "version": 1714601069095734
      },
      "text/plain": [
       "<IPython.core.display.JSON object>"
      ]
     },
     "metadata": {
      "application/json": {
       "expanded": false,
       "root": "root"
      }
     },
     "output_type": "display_data"
    }
   ],
   "source": [
    "from IPython.display import display, JSON\n",
    "\n",
    "display(JSON(test_img.getInfo()))"
   ]
  },
  {
   "cell_type": "code",
   "execution_count": 16,
   "id": "2013be63-5abe-4d15-a406-ace3501901b5",
   "metadata": {},
   "outputs": [
    {
     "data": {
      "text/html": [
       "\n",
       "            <style>\n",
       "                .geemap-dark {\n",
       "                    --jp-widgets-color: white;\n",
       "                    --jp-widgets-label-color: white;\n",
       "                    --jp-ui-font-color1: white;\n",
       "                    --jp-layout-color2: #454545;\n",
       "                    background-color: #383838;\n",
       "                }\n",
       "\n",
       "                .geemap-dark .jupyter-button {\n",
       "                    --jp-layout-color3: #383838;\n",
       "                }\n",
       "\n",
       "                .geemap-colab {\n",
       "                    background-color: var(--colab-primary-surface-color, white);\n",
       "                }\n",
       "\n",
       "                .geemap-colab .jupyter-button {\n",
       "                    --jp-layout-color3: var(--colab-primary-surface-color, white);\n",
       "                }\n",
       "            </style>\n",
       "            "
      ],
      "text/plain": [
       "<IPython.core.display.HTML object>"
      ]
     },
     "metadata": {},
     "output_type": "display_data"
    },
    {
     "data": {
      "application/vnd.jupyter.widget-view+json": {
       "model_id": "690a238090854161a05c1bf2a43fea62",
       "version_major": 2,
       "version_minor": 0
      },
      "text/plain": [
       "Map(center=[0, 0], controls=(WidgetControl(options=['position', 'transparent_bg'], widget=SearchDataGUI(childr…"
      ]
     },
     "execution_count": 16,
     "metadata": {},
     "output_type": "execute_result"
    }
   ],
   "source": [
    "Map = geemap.Map()\n",
    "Map.addLayer(test_img)\n",
    "Map"
   ]
  },
  {
   "cell_type": "code",
   "execution_count": 17,
   "id": "d42abfe4-e2e3-4627-aea5-3d886e73285c",
   "metadata": {},
   "outputs": [
    {
     "data": {
      "text/html": [
       "\n",
       "            <style>\n",
       "                .geemap-dark {\n",
       "                    --jp-widgets-color: white;\n",
       "                    --jp-widgets-label-color: white;\n",
       "                    --jp-ui-font-color1: white;\n",
       "                    --jp-layout-color2: #454545;\n",
       "                    background-color: #383838;\n",
       "                }\n",
       "\n",
       "                .geemap-dark .jupyter-button {\n",
       "                    --jp-layout-color3: #383838;\n",
       "                }\n",
       "\n",
       "                .geemap-colab {\n",
       "                    background-color: var(--colab-primary-surface-color, white);\n",
       "                }\n",
       "\n",
       "                .geemap-colab .jupyter-button {\n",
       "                    --jp-layout-color3: var(--colab-primary-surface-color, white);\n",
       "                }\n",
       "            </style>\n",
       "            "
      ],
      "text/plain": [
       "<IPython.core.display.HTML object>"
      ]
     },
     "metadata": {},
     "output_type": "display_data"
    },
    {
     "name": "stdout",
     "output_type": "stream",
     "text": [
      "Available years: [2002, 2003, 2004, 2005, 2006, 2007, 2008, 2009, 2010, 2011, 2012, 2013, 2014, 2015, 2016, 2017, 2018, 2019, 2020, 2021, 2022]\n"
     ]
    }
   ],
   "source": [
    "# Determine what years have all the data we need\n",
    "all_assets = [modis_lst, modis_evi, daymet, drought, damage]\n",
    "\n",
    "latest_start = max(map(lambda x: x.aggregate_min(\"system:time_start\").getInfo(), all_assets))\n",
    "earliest_end = min(map(lambda x: x.aggregate_max(\"system:time_start\").getInfo(), all_assets))\n",
    "\n",
    "start_year = datetime.datetime.utcfromtimestamp(latest_start // 1000).year\n",
    "end_year   = datetime.datetime.utcfromtimestamp(earliest_end // 1000).year\n",
    "\n",
    "available_years = list(range(start_year, end_year+1))\n",
    "\n",
    "print(\"Available years:\", available_years)"
   ]
  },
  {
   "cell_type": "code",
   "execution_count": 18,
   "id": "230e18b5-3bd4-4f40-b789-6b4e8d4f1959",
   "metadata": {},
   "outputs": [
    {
     "data": {
      "text/html": [
       "\n",
       "            <style>\n",
       "                .geemap-dark {\n",
       "                    --jp-widgets-color: white;\n",
       "                    --jp-widgets-label-color: white;\n",
       "                    --jp-ui-font-color1: white;\n",
       "                    --jp-layout-color2: #454545;\n",
       "                    background-color: #383838;\n",
       "                }\n",
       "\n",
       "                .geemap-dark .jupyter-button {\n",
       "                    --jp-layout-color3: #383838;\n",
       "                }\n",
       "\n",
       "                .geemap-colab {\n",
       "                    background-color: var(--colab-primary-surface-color, white);\n",
       "                }\n",
       "\n",
       "                .geemap-colab .jupyter-button {\n",
       "                    --jp-layout-color3: var(--colab-primary-surface-color, white);\n",
       "                }\n",
       "            </style>\n",
       "            "
      ],
      "text/plain": [
       "<IPython.core.display.HTML object>"
      ]
     },
     "metadata": {},
     "output_type": "display_data"
    }
   ],
   "source": [
    "# Make an image for each year\n",
    "annual_images = list(map(lambda year: make_annual_image(year, percentiles=[5, 50, 95]), available_years))"
   ]
  },
  {
   "cell_type": "code",
   "execution_count": 19,
   "id": "e459f290-b069-4e06-9ccc-6ed7f327c8df",
   "metadata": {},
   "outputs": [
    {
     "data": {
      "text/html": [
       "\n",
       "            <style>\n",
       "                .geemap-dark {\n",
       "                    --jp-widgets-color: white;\n",
       "                    --jp-widgets-label-color: white;\n",
       "                    --jp-ui-font-color1: white;\n",
       "                    --jp-layout-color2: #454545;\n",
       "                    background-color: #383838;\n",
       "                }\n",
       "\n",
       "                .geemap-dark .jupyter-button {\n",
       "                    --jp-layout-color3: #383838;\n",
       "                }\n",
       "\n",
       "                .geemap-colab {\n",
       "                    background-color: var(--colab-primary-surface-color, white);\n",
       "                }\n",
       "\n",
       "                .geemap-colab .jupyter-button {\n",
       "                    --jp-layout-color3: var(--colab-primary-surface-color, white);\n",
       "                }\n",
       "            </style>\n",
       "            "
      ],
      "text/plain": [
       "<IPython.core.display.HTML object>"
      ]
     },
     "metadata": {},
     "output_type": "display_data"
    },
    {
     "name": "stdout",
     "output_type": "stream",
     "text": [
      "Bands: ['pct_mortality', 'year', 'longitude', 'latitude', 'elevation', 'prcp', 'winter_tmin', 'dT_p5', 'dT_p50', 'dT_p95', 'EVI_p5', 'EVI_p50', 'EVI_p95', 'spei30d_p5', 'spei30d_p50', 'spei30d_p95']\n"
     ]
    }
   ],
   "source": [
    "bands = [b[\"id\"] for b in annual_images[0].getInfo()[\"bands\"]]\n",
    "print(\"Bands:\", bands)"
   ]
  },
  {
   "cell_type": "code",
   "execution_count": 20,
   "id": "da4101ca-b287-4aaa-a0e6-c1cdb4fa0ebc",
   "metadata": {},
   "outputs": [
    {
     "data": {
      "text/html": [
       "\n",
       "            <style>\n",
       "                .geemap-dark {\n",
       "                    --jp-widgets-color: white;\n",
       "                    --jp-widgets-label-color: white;\n",
       "                    --jp-ui-font-color1: white;\n",
       "                    --jp-layout-color2: #454545;\n",
       "                    background-color: #383838;\n",
       "                }\n",
       "\n",
       "                .geemap-dark .jupyter-button {\n",
       "                    --jp-layout-color3: #383838;\n",
       "                }\n",
       "\n",
       "                .geemap-colab {\n",
       "                    background-color: var(--colab-primary-surface-color, white);\n",
       "                }\n",
       "\n",
       "                .geemap-colab .jupyter-button {\n",
       "                    --jp-layout-color3: var(--colab-primary-surface-color, white);\n",
       "                }\n",
       "            </style>\n",
       "            "
      ],
      "text/plain": [
       "<IPython.core.display.HTML object>"
      ]
     },
     "metadata": {},
     "output_type": "display_data"
    },
    {
     "data": {
      "application/json": {
       "bands": [
        {
         "crs": "EPSG:4326",
         "crs_transform": [
          1,
          0,
          0,
          0,
          1,
          0
         ],
         "data_type": {
          "dimensions": 1,
          "precision": "double",
          "type": "PixelType"
         },
         "id": "pct_mortality"
        },
        {
         "crs": "EPSG:4326",
         "crs_transform": [
          1,
          0,
          0,
          0,
          1,
          0
         ],
         "data_type": {
          "dimensions": 1,
          "max": 32767,
          "min": -32768,
          "precision": "int",
          "type": "PixelType"
         },
         "id": "year"
        },
        {
         "crs": "EPSG:4326",
         "crs_transform": [
          1,
          0,
          0,
          0,
          1,
          0
         ],
         "data_type": {
          "dimensions": 1,
          "precision": "double",
          "type": "PixelType"
         },
         "id": "longitude"
        },
        {
         "crs": "EPSG:4326",
         "crs_transform": [
          1,
          0,
          0,
          0,
          1,
          0
         ],
         "data_type": {
          "dimensions": 1,
          "precision": "double",
          "type": "PixelType"
         },
         "id": "latitude"
        },
        {
         "crs": "EPSG:4326",
         "crs_transform": [
          1,
          0,
          0,
          0,
          1,
          0
         ],
         "data_type": {
          "dimensions": 1,
          "max": 32767,
          "min": -32768,
          "precision": "int",
          "type": "PixelType"
         },
         "id": "elevation"
        },
        {
         "crs": "EPSG:4326",
         "crs_transform": [
          1,
          0,
          0,
          0,
          1,
          0
         ],
         "data_type": {
          "dimensions": 1,
          "precision": "double",
          "type": "PixelType"
         },
         "id": "prcp"
        },
        {
         "crs": "EPSG:4326",
         "crs_transform": [
          1,
          0,
          0,
          0,
          1,
          0
         ],
         "data_type": {
          "dimensions": 1,
          "precision": "float",
          "type": "PixelType"
         },
         "id": "winter_tmin"
        },
        {
         "crs": "EPSG:4326",
         "crs_transform": [
          1,
          0,
          0,
          0,
          1,
          0
         ],
         "data_type": {
          "dimensions": 1,
          "precision": "double",
          "type": "PixelType"
         },
         "id": "dT_p5"
        },
        {
         "crs": "EPSG:4326",
         "crs_transform": [
          1,
          0,
          0,
          0,
          1,
          0
         ],
         "data_type": {
          "dimensions": 1,
          "precision": "double",
          "type": "PixelType"
         },
         "id": "dT_p50"
        },
        {
         "crs": "EPSG:4326",
         "crs_transform": [
          1,
          0,
          0,
          0,
          1,
          0
         ],
         "data_type": {
          "dimensions": 1,
          "precision": "double",
          "type": "PixelType"
         },
         "id": "dT_p95"
        },
        {
         "crs": "EPSG:4326",
         "crs_transform": [
          1,
          0,
          0,
          0,
          1,
          0
         ],
         "data_type": {
          "dimensions": 1,
          "max": 3.2767,
          "min": -3.2768,
          "precision": "double",
          "type": "PixelType"
         },
         "id": "EVI_p5"
        },
        {
         "crs": "EPSG:4326",
         "crs_transform": [
          1,
          0,
          0,
          0,
          1,
          0
         ],
         "data_type": {
          "dimensions": 1,
          "max": 3.2767,
          "min": -3.2768,
          "precision": "double",
          "type": "PixelType"
         },
         "id": "EVI_p50"
        },
        {
         "crs": "EPSG:4326",
         "crs_transform": [
          1,
          0,
          0,
          0,
          1,
          0
         ],
         "data_type": {
          "dimensions": 1,
          "max": 3.2767,
          "min": -3.2768,
          "precision": "double",
          "type": "PixelType"
         },
         "id": "EVI_p95"
        },
        {
         "crs": "EPSG:4326",
         "crs_transform": [
          1,
          0,
          0,
          0,
          1,
          0
         ],
         "data_type": {
          "dimensions": 1,
          "precision": "float",
          "type": "PixelType"
         },
         "id": "spei30d_p5"
        },
        {
         "crs": "EPSG:4326",
         "crs_transform": [
          1,
          0,
          0,
          0,
          1,
          0
         ],
         "data_type": {
          "dimensions": 1,
          "precision": "float",
          "type": "PixelType"
         },
         "id": "spei30d_p50"
        },
        {
         "crs": "EPSG:4326",
         "crs_transform": [
          1,
          0,
          0,
          0,
          1,
          0
         ],
         "data_type": {
          "dimensions": 1,
          "precision": "float",
          "type": "PixelType"
         },
         "id": "spei30d_p95"
        }
       ],
       "type": "Image"
      },
      "text/plain": [
       "<IPython.core.display.JSON object>"
      ]
     },
     "metadata": {
      "application/json": {
       "expanded": false,
       "root": "root"
      }
     },
     "output_type": "display_data"
    }
   ],
   "source": [
    "# Turn the image list into an image collection, stack it as an array. This has a lot\n",
    "# of pixels that are just full of zeros. This wastes *a lot* of time in the export. But\n",
    "# fortunately we can mask out empty pixels by finding arrays where the lat/lon bands are\n",
    "# all zero.\n",
    "annual_arr = ee.ImageCollection.fromImages(annual_images).toArrayPerBand()\n",
    "display(JSON(annual_arr.getInfo()))\n",
    "\n",
    "annual_arr_has_data = annual_arr.select(\"latitude\")\\\n",
    "    .arrayReduce(ee.Reducer.anyNonZero(), [0])\\\n",
    "    .arrayGet([0])\n",
    "\n",
    "annual_arr = annual_arr.updateMask(annual_arr_has_data)"
   ]
  },
  {
   "cell_type": "code",
   "execution_count": 21,
   "id": "db9f3adc-9ef9-489e-8e89-3c9f3cb64523",
   "metadata": {},
   "outputs": [
    {
     "data": {
      "text/html": [
       "\n",
       "            <style>\n",
       "                .geemap-dark {\n",
       "                    --jp-widgets-color: white;\n",
       "                    --jp-widgets-label-color: white;\n",
       "                    --jp-ui-font-color1: white;\n",
       "                    --jp-layout-color2: #454545;\n",
       "                    background-color: #383838;\n",
       "                }\n",
       "\n",
       "                .geemap-dark .jupyter-button {\n",
       "                    --jp-layout-color3: #383838;\n",
       "                }\n",
       "\n",
       "                .geemap-colab {\n",
       "                    background-color: var(--colab-primary-surface-color, white);\n",
       "                }\n",
       "\n",
       "                .geemap-colab .jupyter-button {\n",
       "                    --jp-layout-color3: var(--colab-primary-surface-color, white);\n",
       "                }\n",
       "            </style>\n",
       "            "
      ],
      "text/plain": [
       "<IPython.core.display.HTML object>"
      ]
     },
     "metadata": {},
     "output_type": "display_data"
    },
    {
     "data": {
      "application/vnd.jupyter.widget-view+json": {
       "model_id": "8dae8d75148945558d0f416d8d95dd69",
       "version_major": 2,
       "version_minor": 0
      },
      "text/plain": [
       "Map(center=[0, 0], controls=(WidgetControl(options=['position', 'transparent_bg'], widget=SearchDataGUI(childr…"
      ]
     },
     "execution_count": 21,
     "metadata": {},
     "output_type": "execute_result"
    }
   ],
   "source": [
    "Map = geemap.Map()\n",
    "\n",
    "Map.addLayer(annual_arr)\n",
    "\n",
    "Map"
   ]
  },
  {
   "cell_type": "code",
   "execution_count": 26,
   "id": "c03af515-da89-484c-aab5-f84513e37758",
   "metadata": {},
   "outputs": [
    {
     "data": {
      "text/html": [
       "\n",
       "            <style>\n",
       "                .geemap-dark {\n",
       "                    --jp-widgets-color: white;\n",
       "                    --jp-widgets-label-color: white;\n",
       "                    --jp-ui-font-color1: white;\n",
       "                    --jp-layout-color2: #454545;\n",
       "                    background-color: #383838;\n",
       "                }\n",
       "\n",
       "                .geemap-dark .jupyter-button {\n",
       "                    --jp-layout-color3: #383838;\n",
       "                }\n",
       "\n",
       "                .geemap-colab {\n",
       "                    background-color: var(--colab-primary-surface-color, white);\n",
       "                }\n",
       "\n",
       "                .geemap-colab .jupyter-button {\n",
       "                    --jp-layout-color3: var(--colab-primary-surface-color, white);\n",
       "                }\n",
       "            </style>\n",
       "            "
      ],
      "text/plain": [
       "<IPython.core.display.HTML object>"
      ]
     },
     "metadata": {},
     "output_type": "display_data"
    }
   ],
   "source": [
    "# What are the bottlenecks in computing the image?\n",
    "ca = ee.FeatureCollection(\"TIGER/2018/States\")\\\n",
    "    .filter(ee.Filter.eq(\"NAME\", \"California\"))\\\n",
    "    .first()\n",
    "\n",
    "with open(\"data_working/ee_annual_arr_profile.txt\", \"w+\") as prof:\n",
    "    with ee.profilePrinting(prof):\n",
    "        annual_arr.sample(scale=1000, numPixels=10, region=ca.geometry()).getInfo()"
   ]
  },
  {
   "cell_type": "code",
   "execution_count": 40,
   "id": "f12f99a8-fb06-458b-805f-d56b9d209b9e",
   "metadata": {},
   "outputs": [
    {
     "data": {
      "text/html": [
       "\n",
       "            <style>\n",
       "                .geemap-dark {\n",
       "                    --jp-widgets-color: white;\n",
       "                    --jp-widgets-label-color: white;\n",
       "                    --jp-ui-font-color1: white;\n",
       "                    --jp-layout-color2: #454545;\n",
       "                    background-color: #383838;\n",
       "                }\n",
       "\n",
       "                .geemap-dark .jupyter-button {\n",
       "                    --jp-layout-color3: #383838;\n",
       "                }\n",
       "\n",
       "                .geemap-colab {\n",
       "                    background-color: var(--colab-primary-surface-color, white);\n",
       "                }\n",
       "\n",
       "                .geemap-colab .jupyter-button {\n",
       "                    --jp-layout-color3: var(--colab-primary-surface-color, white);\n",
       "                }\n",
       "            </style>\n",
       "            "
      ],
      "text/plain": [
       "<IPython.core.display.HTML object>"
      ]
     },
     "metadata": {},
     "output_type": "display_data"
    },
    {
     "name": "stdout",
     "output_type": "stream",
     "text": [
      "Number of tiles: 184\n"
     ]
    },
    {
     "data": {
      "application/vnd.jupyter.widget-view+json": {
       "model_id": "0219448f1f7a4e21afc0ef11e49747b6",
       "version_major": 2,
       "version_minor": 0
      },
      "text/plain": [
       "Map(center=[0, 0], controls=(WidgetControl(options=['position', 'transparent_bg'], widget=SearchDataGUI(childr…"
      ]
     },
     "execution_count": 40,
     "metadata": {},
     "output_type": "execute_result"
    }
   ],
   "source": [
    "# Exporting the entire array image at once takes a long time. But, we would like to keep the tensors\n",
    "# \"dense\". So, split the export up across spatial tiles.\n",
    "# See https://google-earth-engine.com/Advanced-Topics/Scaling-up-in-Earth-Engine/\n",
    "grid_size = 64000 # m, effectively a 64x64 patch\n",
    "grid = ca.geometry().coveringGrid(annual_arr.projection(), grid_size)\n",
    "tile_count = grid.size().getInfo()\n",
    "print(\"Number of tiles:\", tile_count)\n",
    "\n",
    "Map = geemap.Map()\n",
    "Map.addLayer(annual_arr)\n",
    "Map.addLayer(grid)\n",
    "Map"
   ]
  },
  {
   "cell_type": "code",
   "execution_count": 45,
   "id": "104bd0ab-f0fe-4712-967f-bf68b4bc8967",
   "metadata": {},
   "outputs": [
    {
     "data": {
      "text/html": [
       "\n",
       "            <style>\n",
       "                .geemap-dark {\n",
       "                    --jp-widgets-color: white;\n",
       "                    --jp-widgets-label-color: white;\n",
       "                    --jp-ui-font-color1: white;\n",
       "                    --jp-layout-color2: #454545;\n",
       "                    background-color: #383838;\n",
       "                }\n",
       "\n",
       "                .geemap-dark .jupyter-button {\n",
       "                    --jp-layout-color3: #383838;\n",
       "                }\n",
       "\n",
       "                .geemap-colab {\n",
       "                    background-color: var(--colab-primary-surface-color, white);\n",
       "                }\n",
       "\n",
       "                .geemap-colab .jupyter-button {\n",
       "                    --jp-layout-color3: var(--colab-primary-surface-color, white);\n",
       "                }\n",
       "            </style>\n",
       "            "
      ],
      "text/plain": [
       "<IPython.core.display.HTML object>"
      ]
     },
     "metadata": {},
     "output_type": "display_data"
    }
   ],
   "source": [
    "tensorDepths = {b: len(available_years) for b in bands}\n",
    "\n",
    "def make_tile_export(idx, feature):\n",
    "    return ee.batch.Export.image.toCloudStorage(\n",
    "        description=\"ca-dense-tensors-tile\" + str(idx),\n",
    "        image=annual_arr,\n",
    "        bucket=\"forest-lst-test-export\",\n",
    "        fileNamePrefix=\"ca_dense_tensors_v3/tile\"+str(idx)+\"/\",\n",
    "        region=ee.Feature(feature).geometry(),\n",
    "        scale=1000,\n",
    "        crs=annual_arr.projection(),\n",
    "        fileFormat=\"TFRecord\",\n",
    "        formatOptions=dict(\n",
    "            patchDimensions=[1, 1],\n",
    "            tensorDepths=tensorDepths\n",
    "        )\n",
    "    )\n",
    "\n",
    "grid_list = grid.toList(tile_count).getInfo()\n",
    "grid_tasks = [make_tile_export(i, f) for i,f in enumerate(grid_list)]"
   ]
  },
  {
   "cell_type": "code",
   "execution_count": 46,
   "id": "282bb24a-1cda-4404-b532-d3fce2d21bf2",
   "metadata": {},
   "outputs": [
    {
     "data": {
      "text/html": [
       "\n",
       "            <style>\n",
       "                .geemap-dark {\n",
       "                    --jp-widgets-color: white;\n",
       "                    --jp-widgets-label-color: white;\n",
       "                    --jp-ui-font-color1: white;\n",
       "                    --jp-layout-color2: #454545;\n",
       "                    background-color: #383838;\n",
       "                }\n",
       "\n",
       "                .geemap-dark .jupyter-button {\n",
       "                    --jp-layout-color3: #383838;\n",
       "                }\n",
       "\n",
       "                .geemap-colab {\n",
       "                    background-color: var(--colab-primary-surface-color, white);\n",
       "                }\n",
       "\n",
       "                .geemap-colab .jupyter-button {\n",
       "                    --jp-layout-color3: var(--colab-primary-surface-color, white);\n",
       "                }\n",
       "            </style>\n",
       "            "
      ],
      "text/plain": [
       "<IPython.core.display.HTML object>"
      ]
     },
     "metadata": {},
     "output_type": "display_data"
    }
   ],
   "source": [
    "for t in grid_tasks: t.start()"
   ]
  },
  {
   "cell_type": "code",
   "execution_count": 24,
   "id": "8d00c863-ec1b-40b6-9fe1-8ecc32735f88",
   "metadata": {},
   "outputs": [
    {
     "data": {
      "text/html": [
       "\n",
       "            <style>\n",
       "                .geemap-dark {\n",
       "                    --jp-widgets-color: white;\n",
       "                    --jp-widgets-label-color: white;\n",
       "                    --jp-ui-font-color1: white;\n",
       "                    --jp-layout-color2: #454545;\n",
       "                    background-color: #383838;\n",
       "                }\n",
       "\n",
       "                .geemap-dark .jupyter-button {\n",
       "                    --jp-layout-color3: #383838;\n",
       "                }\n",
       "\n",
       "                .geemap-colab {\n",
       "                    background-color: var(--colab-primary-surface-color, white);\n",
       "                }\n",
       "\n",
       "                .geemap-colab .jupyter-button {\n",
       "                    --jp-layout-color3: var(--colab-primary-surface-color, white);\n",
       "                }\n",
       "            </style>\n",
       "            "
      ],
      "text/plain": [
       "<IPython.core.display.HTML object>"
      ]
     },
     "metadata": {},
     "output_type": "display_data"
    }
   ],
   "source": [
    "# Old export strategy for reference\n",
    "'''\n",
    "task = ee.batch.Export.image.toCloudStorage(\n",
    "    description=\"ca-dense-tensors\",\n",
    "    image=annual_arr,\n",
    "    bucket=\"forest-lst-test-export\",\n",
    "    fileNamePrefix=\"ca_dense_tensors_v2/\",\n",
    "    region=ca.geometry(),\n",
    "    #shardSize=64,\n",
    "    scale=1000,\n",
    "    crs=modis_lst.first().projection(),\n",
    "    fileFormat=\"TFRecord\",\n",
    "    formatOptions=dict(\n",
    "        patchDimensions=[1, 1],\n",
    "        tensorDepths=tensorDepths\n",
    "    )\n",
    ")\n",
    "\n",
    "#task.start()\n",
    "'''"
   ]
  }
 ],
 "metadata": {
  "kernelspec": {
   "display_name": "Python 3 (ipykernel)",
   "language": "python",
   "name": "python3"
  },
  "language_info": {
   "codemirror_mode": {
    "name": "ipython",
    "version": 3
   },
   "file_extension": ".py",
   "mimetype": "text/x-python",
   "name": "python",
   "nbconvert_exporter": "python",
   "pygments_lexer": "ipython3",
   "version": "3.10.13"
  }
 },
 "nbformat": 4,
 "nbformat_minor": 5
}
