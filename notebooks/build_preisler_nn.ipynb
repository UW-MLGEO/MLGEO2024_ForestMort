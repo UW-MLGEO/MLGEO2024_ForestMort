{
 "cells": [
  {
   "cell_type": "markdown",
   "id": "3446f3b2-33ea-4432-977f-dd8a2a7a005a",
   "metadata": {},
   "source": [
    "## Replicate model in Preisler et al. (2017)\n",
    "\n",
    "Their approach was to use a general additive model with a logit link function. GAMs are hard to implement in Python and do not play well with tensorflow. We will approximate this with a dense neural network with a logit activation function in the output node."
   ]
  },
  {
   "cell_type": "code",
   "execution_count": 1,
   "id": "035bfb8b-e1e2-49e1-a5e6-7818e1ba3e9e",
   "metadata": {},
   "outputs": [
    {
     "name": "stdout",
     "output_type": "stream",
     "text": [
      "Changed working directory to c:\\Users\\rsgal\\OneDrive - UW\\Desktop\\MLGEO2024_ForestMort\n"
     ]
    }
   ],
   "source": [
    "import tensorflow as tf\n",
    "import keras\n",
    "from sklearn.model_selection import train_test_split\n",
    "from sklearn.metrics import ConfusionMatrixDisplay, RocCurveDisplay\n",
    "import pandas as pd\n",
    "import numpy as np\n",
    "from matplotlib import pyplot as plt\n",
    "\n",
    "import os\n",
    "import shutil\n",
    "import json\n",
    "import random\n",
    "\n",
    "from google.cloud.storage import Client\n",
    "\n",
    "if \"notebooks\" in os.getcwd():\n",
    "    os.chdir(\"..\")\n",
    "    print(\"Changed working directory to\", os.getcwd())"
   ]
  },
  {
   "cell_type": "markdown",
   "id": "6dd5a3f1-1ee1-4b62-886c-50944ecad7be",
   "metadata": {},
   "source": [
    "### Get data from GCS"
   ]
  },
  {
   "cell_type": "code",
   "execution_count": 2,
   "id": "6a2a7d9c-1fe5-4655-a8d3-2f794f365c82",
   "metadata": {},
   "outputs": [
    {
     "name": "stdout",
     "output_type": "stream",
     "text": [
      "gs://preisler_tfdata/preisler-rectangular/yr2009.csv\n",
      "gs://preisler_tfdata/preisler-rectangular/yr2022.csv\n",
      "gs://preisler_tfdata/preisler-rectangular/yr2001.csv\n",
      "gs://preisler_tfdata/preisler-rectangular/yr2003.csv\n",
      "gs://preisler_tfdata/preisler-rectangular/yr2010.csv\n",
      "gs://preisler_tfdata/preisler-rectangular/yr2008.csv\n",
      "gs://preisler_tfdata/preisler-rectangular/yr2016.csv\n",
      "gs://preisler_tfdata/preisler-rectangular/yr2013.csv\n",
      "gs://preisler_tfdata/preisler-rectangular/yr2023.csv\n",
      "gs://preisler_tfdata/preisler-rectangular/yr2012.csv\n",
      "gs://preisler_tfdata/preisler-rectangular/yr2007.csv\n",
      "gs://preisler_tfdata/preisler-rectangular/yr2011.csv\n",
      "gs://preisler_tfdata/preisler-rectangular/yr2015.csv\n",
      "gs://preisler_tfdata/preisler-rectangular/yr2018.csv\n",
      "gs://preisler_tfdata/preisler-rectangular/yr2020.csv\n",
      "gs://preisler_tfdata/preisler-rectangular/yr2004.csv\n",
      "gs://preisler_tfdata/preisler-rectangular/yr2005.csv\n",
      "gs://preisler_tfdata/preisler-rectangular/yr2017.csv\n",
      "gs://preisler_tfdata/preisler-rectangular/yr2021.csv\n",
      "gs://preisler_tfdata/preisler-rectangular/yr2019.csv\n",
      "gs://preisler_tfdata/preisler-rectangular/yr2000.csv\n",
      "gs://preisler_tfdata/preisler-rectangular/yr2006.csv\n",
      "gs://preisler_tfdata/preisler-rectangular/yr2002.csv\n",
      "gs://preisler_tfdata/preisler-rectangular/yr2014.csv\n"
     ]
    }
   ],
   "source": [
    "client = Client(project=\"forest-lst\")\n",
    "bucket = \"preisler_tfdata\"\n",
    "\n",
    "records = [\n",
    "    \"/\".join([\"gs://{}\".format(bucket), f.name])\n",
    "    for f in client.list_blobs(bucket, prefix=\"preisler-rectangular\")\n",
    "    if f.name.endswith(\"csv\") and not \"v2\" in f.name\n",
    "]\n",
    "\n",
    "random.shuffle(records)\n",
    "\n",
    "print(\"\\n\".join(records))"
   ]
  },
  {
   "cell_type": "code",
   "execution_count": 3,
   "id": "c00c8870-dfc9-4e52-8d5d-53cb38b8ebdf",
   "metadata": {},
   "outputs": [
    {
     "data": {
      "text/html": [
       "<div>\n",
       "<style scoped>\n",
       "    .dataframe tbody tr th:only-of-type {\n",
       "        vertical-align: middle;\n",
       "    }\n",
       "\n",
       "    .dataframe tbody tr th {\n",
       "        vertical-align: top;\n",
       "    }\n",
       "\n",
       "    .dataframe thead th {\n",
       "        text-align: right;\n",
       "    }\n",
       "</style>\n",
       "<table border=\"1\" class=\"dataframe\">\n",
       "  <thead>\n",
       "    <tr style=\"text-align: right;\">\n",
       "      <th></th>\n",
       "      <th>fire</th>\n",
       "      <th>latitude</th>\n",
       "      <th>longitude</th>\n",
       "      <th>near</th>\n",
       "      <th>pct_mortality</th>\n",
       "      <th>prcp1</th>\n",
       "      <th>prcp2</th>\n",
       "      <th>prcp3</th>\n",
       "      <th>prcp4</th>\n",
       "      <th>rhost</th>\n",
       "      <th>winter_tmin</th>\n",
       "      <th>year</th>\n",
       "    </tr>\n",
       "  </thead>\n",
       "  <tbody>\n",
       "    <tr>\n",
       "      <th>0</th>\n",
       "      <td>1.071250</td>\n",
       "      <td>32.597501</td>\n",
       "      <td>-116.727088</td>\n",
       "      <td>0.0000</td>\n",
       "      <td>0.0000</td>\n",
       "      <td>253.709123</td>\n",
       "      <td>123.963129</td>\n",
       "      <td>203.019821</td>\n",
       "      <td>561.920981</td>\n",
       "      <td>0.0</td>\n",
       "      <td>0.549722</td>\n",
       "      <td>2009</td>\n",
       "    </tr>\n",
       "    <tr>\n",
       "      <th>1</th>\n",
       "      <td>1.031875</td>\n",
       "      <td>32.597501</td>\n",
       "      <td>-116.691155</td>\n",
       "      <td>0.0000</td>\n",
       "      <td>0.0000</td>\n",
       "      <td>271.459264</td>\n",
       "      <td>129.471659</td>\n",
       "      <td>215.635166</td>\n",
       "      <td>576.789130</td>\n",
       "      <td>0.0</td>\n",
       "      <td>-0.390502</td>\n",
       "      <td>2009</td>\n",
       "    </tr>\n",
       "    <tr>\n",
       "      <th>2</th>\n",
       "      <td>1.000000</td>\n",
       "      <td>32.597501</td>\n",
       "      <td>-116.655223</td>\n",
       "      <td>0.0000</td>\n",
       "      <td>0.0016</td>\n",
       "      <td>285.700573</td>\n",
       "      <td>130.816231</td>\n",
       "      <td>218.105297</td>\n",
       "      <td>574.728217</td>\n",
       "      <td>0.0</td>\n",
       "      <td>-0.781224</td>\n",
       "      <td>2009</td>\n",
       "    </tr>\n",
       "    <tr>\n",
       "      <th>3</th>\n",
       "      <td>0.975625</td>\n",
       "      <td>32.597501</td>\n",
       "      <td>-116.619290</td>\n",
       "      <td>0.0000</td>\n",
       "      <td>0.0024</td>\n",
       "      <td>290.229158</td>\n",
       "      <td>131.142823</td>\n",
       "      <td>221.177488</td>\n",
       "      <td>597.187303</td>\n",
       "      <td>0.0</td>\n",
       "      <td>-1.428286</td>\n",
       "      <td>2009</td>\n",
       "    </tr>\n",
       "    <tr>\n",
       "      <th>4</th>\n",
       "      <td>0.683750</td>\n",
       "      <td>32.597501</td>\n",
       "      <td>-116.583358</td>\n",
       "      <td>0.0024</td>\n",
       "      <td>0.0016</td>\n",
       "      <td>296.791801</td>\n",
       "      <td>134.028127</td>\n",
       "      <td>222.662023</td>\n",
       "      <td>641.961575</td>\n",
       "      <td>0.0</td>\n",
       "      <td>-2.229180</td>\n",
       "      <td>2009</td>\n",
       "    </tr>\n",
       "  </tbody>\n",
       "</table>\n",
       "</div>"
      ],
      "text/plain": [
       "       fire   latitude   longitude    near  pct_mortality       prcp1  \\\n",
       "0  1.071250  32.597501 -116.727088  0.0000         0.0000  253.709123   \n",
       "1  1.031875  32.597501 -116.691155  0.0000         0.0000  271.459264   \n",
       "2  1.000000  32.597501 -116.655223  0.0000         0.0016  285.700573   \n",
       "3  0.975625  32.597501 -116.619290  0.0000         0.0024  290.229158   \n",
       "4  0.683750  32.597501 -116.583358  0.0024         0.0016  296.791801   \n",
       "\n",
       "        prcp2       prcp3       prcp4  rhost  winter_tmin  year  \n",
       "0  123.963129  203.019821  561.920981    0.0     0.549722  2009  \n",
       "1  129.471659  215.635166  576.789130    0.0    -0.390502  2009  \n",
       "2  130.816231  218.105297  574.728217    0.0    -0.781224  2009  \n",
       "3  131.142823  221.177488  597.187303    0.0    -1.428286  2009  \n",
       "4  134.028127  222.662023  641.961575    0.0    -2.229180  2009  "
      ]
     },
     "execution_count": 3,
     "metadata": {},
     "output_type": "execute_result"
    }
   ],
   "source": [
    "ds = pd.concat((pd.read_csv(f).drop([\"system:index\", \".geo\"], axis=1) for f in records), ignore_index=True)\n",
    "ds.head()"
   ]
  },
  {
   "cell_type": "markdown",
   "id": "7f2b3caa-090c-4cc3-911f-7f82924fd29c",
   "metadata": {},
   "source": [
    "### Preprocessing\n",
    "\n",
    "To match the paper, we have to convert `pct_mortality` to a binary variable. Technically there's another model on top of this one that predicts area affected by mortality given that some mortality is predicted. Also, to ensure that each batch learns from a variety of years and geographies, shuffle the data."
   ]
  },
  {
   "cell_type": "code",
   "execution_count": 4,
   "id": "129e63dc-abfb-4a83-a5dd-9289b0ae964c",
   "metadata": {},
   "outputs": [],
   "source": [
    "ds[\"mortality\"] = ds[\"pct_mortality\"] > 0\n",
    "ds = ds.sample(frac=1).reset_index(drop=True)"
   ]
  },
  {
   "cell_type": "code",
   "execution_count": 5,
   "id": "dbfa0eb2-5784-4d73-ad6d-c721344c5746",
   "metadata": {},
   "outputs": [
    {
     "data": {
      "text/html": [
       "<div>\n",
       "<style scoped>\n",
       "    .dataframe tbody tr th:only-of-type {\n",
       "        vertical-align: middle;\n",
       "    }\n",
       "\n",
       "    .dataframe tbody tr th {\n",
       "        vertical-align: top;\n",
       "    }\n",
       "\n",
       "    .dataframe thead th {\n",
       "        text-align: right;\n",
       "    }\n",
       "</style>\n",
       "<table border=\"1\" class=\"dataframe\">\n",
       "  <thead>\n",
       "    <tr style=\"text-align: right;\">\n",
       "      <th></th>\n",
       "      <th>fire</th>\n",
       "      <th>latitude</th>\n",
       "      <th>longitude</th>\n",
       "      <th>near</th>\n",
       "      <th>pct_mortality</th>\n",
       "      <th>prcp1</th>\n",
       "      <th>prcp2</th>\n",
       "      <th>prcp3</th>\n",
       "      <th>prcp4</th>\n",
       "      <th>rhost</th>\n",
       "      <th>winter_tmin</th>\n",
       "      <th>year</th>\n",
       "      <th>mortality</th>\n",
       "    </tr>\n",
       "  </thead>\n",
       "  <tbody>\n",
       "    <tr>\n",
       "      <th>0</th>\n",
       "      <td>0.0</td>\n",
       "      <td>34.927257</td>\n",
       "      <td>-119.242371</td>\n",
       "      <td>0.0032</td>\n",
       "      <td>0.0000</td>\n",
       "      <td>138.503185</td>\n",
       "      <td>439.233292</td>\n",
       "      <td>708.447764</td>\n",
       "      <td>230.731633</td>\n",
       "      <td>0.411326</td>\n",
       "      <td>-7.372568</td>\n",
       "      <td>2008</td>\n",
       "      <td>False</td>\n",
       "    </tr>\n",
       "    <tr>\n",
       "      <th>1</th>\n",
       "      <td>0.0</td>\n",
       "      <td>41.227797</td>\n",
       "      <td>-121.721721</td>\n",
       "      <td>0.2676</td>\n",
       "      <td>0.0000</td>\n",
       "      <td>1369.476364</td>\n",
       "      <td>1025.057284</td>\n",
       "      <td>921.221371</td>\n",
       "      <td>517.643974</td>\n",
       "      <td>0.991807</td>\n",
       "      <td>-11.731773</td>\n",
       "      <td>2018</td>\n",
       "      <td>False</td>\n",
       "    </tr>\n",
       "    <tr>\n",
       "      <th>2</th>\n",
       "      <td>0.0</td>\n",
       "      <td>41.443638</td>\n",
       "      <td>-122.691902</td>\n",
       "      <td>0.0872</td>\n",
       "      <td>0.0000</td>\n",
       "      <td>1115.467088</td>\n",
       "      <td>867.047928</td>\n",
       "      <td>793.209217</td>\n",
       "      <td>406.596676</td>\n",
       "      <td>0.965795</td>\n",
       "      <td>-10.198615</td>\n",
       "      <td>2018</td>\n",
       "      <td>False</td>\n",
       "    </tr>\n",
       "    <tr>\n",
       "      <th>3</th>\n",
       "      <td>0.0</td>\n",
       "      <td>41.792852</td>\n",
       "      <td>-121.003069</td>\n",
       "      <td>0.0000</td>\n",
       "      <td>0.0000</td>\n",
       "      <td>345.663472</td>\n",
       "      <td>411.144866</td>\n",
       "      <td>331.761816</td>\n",
       "      <td>211.036772</td>\n",
       "      <td>0.006146</td>\n",
       "      <td>-15.953222</td>\n",
       "      <td>2005</td>\n",
       "      <td>False</td>\n",
       "    </tr>\n",
       "    <tr>\n",
       "      <th>4</th>\n",
       "      <td>0.0</td>\n",
       "      <td>38.778548</td>\n",
       "      <td>-120.428147</td>\n",
       "      <td>0.0000</td>\n",
       "      <td>0.0000</td>\n",
       "      <td>1054.675338</td>\n",
       "      <td>766.757154</td>\n",
       "      <td>1328.460684</td>\n",
       "      <td>1330.913706</td>\n",
       "      <td>0.968309</td>\n",
       "      <td>-6.273353</td>\n",
       "      <td>2003</td>\n",
       "      <td>False</td>\n",
       "    </tr>\n",
       "    <tr>\n",
       "      <th>...</th>\n",
       "      <td>...</td>\n",
       "      <td>...</td>\n",
       "      <td>...</td>\n",
       "      <td>...</td>\n",
       "      <td>...</td>\n",
       "      <td>...</td>\n",
       "      <td>...</td>\n",
       "      <td>...</td>\n",
       "      <td>...</td>\n",
       "      <td>...</td>\n",
       "      <td>...</td>\n",
       "      <td>...</td>\n",
       "      <td>...</td>\n",
       "    </tr>\n",
       "    <tr>\n",
       "      <th>363669</th>\n",
       "      <td>0.0</td>\n",
       "      <td>39.752216</td>\n",
       "      <td>-121.146799</td>\n",
       "      <td>0.0016</td>\n",
       "      <td>0.0000</td>\n",
       "      <td>3180.441784</td>\n",
       "      <td>2345.538535</td>\n",
       "      <td>1910.850252</td>\n",
       "      <td>2345.897146</td>\n",
       "      <td>0.997972</td>\n",
       "      <td>-9.736435</td>\n",
       "      <td>2007</td>\n",
       "      <td>False</td>\n",
       "    </tr>\n",
       "    <tr>\n",
       "      <th>363670</th>\n",
       "      <td>0.0</td>\n",
       "      <td>37.192694</td>\n",
       "      <td>-118.523719</td>\n",
       "      <td>0.0424</td>\n",
       "      <td>0.0000</td>\n",
       "      <td>494.728581</td>\n",
       "      <td>496.649003</td>\n",
       "      <td>371.828622</td>\n",
       "      <td>820.716547</td>\n",
       "      <td>0.862655</td>\n",
       "      <td>-22.144245</td>\n",
       "      <td>2010</td>\n",
       "      <td>False</td>\n",
       "    </tr>\n",
       "    <tr>\n",
       "      <th>363671</th>\n",
       "      <td>0.0</td>\n",
       "      <td>41.092534</td>\n",
       "      <td>-122.763767</td>\n",
       "      <td>0.0000</td>\n",
       "      <td>0.0000</td>\n",
       "      <td>1111.865332</td>\n",
       "      <td>660.252231</td>\n",
       "      <td>1335.919851</td>\n",
       "      <td>1018.503424</td>\n",
       "      <td>0.998103</td>\n",
       "      <td>-4.798687</td>\n",
       "      <td>2003</td>\n",
       "      <td>False</td>\n",
       "    </tr>\n",
       "    <tr>\n",
       "      <th>363672</th>\n",
       "      <td>0.0</td>\n",
       "      <td>35.280019</td>\n",
       "      <td>-120.607810</td>\n",
       "      <td>0.0016</td>\n",
       "      <td>0.0000</td>\n",
       "      <td>403.378867</td>\n",
       "      <td>536.775440</td>\n",
       "      <td>258.635410</td>\n",
       "      <td>709.899879</td>\n",
       "      <td>0.000992</td>\n",
       "      <td>-1.508881</td>\n",
       "      <td>2010</td>\n",
       "      <td>False</td>\n",
       "    </tr>\n",
       "    <tr>\n",
       "      <th>363673</th>\n",
       "      <td>0.0</td>\n",
       "      <td>40.494063</td>\n",
       "      <td>-122.620036</td>\n",
       "      <td>0.1140</td>\n",
       "      <td>0.0016</td>\n",
       "      <td>547.379116</td>\n",
       "      <td>879.521954</td>\n",
       "      <td>743.547927</td>\n",
       "      <td>1189.588992</td>\n",
       "      <td>0.181682</td>\n",
       "      <td>-1.260453</td>\n",
       "      <td>2015</td>\n",
       "      <td>True</td>\n",
       "    </tr>\n",
       "  </tbody>\n",
       "</table>\n",
       "<p>363674 rows × 13 columns</p>\n",
       "</div>"
      ],
      "text/plain": [
       "        fire   latitude   longitude    near  pct_mortality        prcp1  \\\n",
       "0        0.0  34.927257 -119.242371  0.0032         0.0000   138.503185   \n",
       "1        0.0  41.227797 -121.721721  0.2676         0.0000  1369.476364   \n",
       "2        0.0  41.443638 -122.691902  0.0872         0.0000  1115.467088   \n",
       "3        0.0  41.792852 -121.003069  0.0000         0.0000   345.663472   \n",
       "4        0.0  38.778548 -120.428147  0.0000         0.0000  1054.675338   \n",
       "...      ...        ...         ...     ...            ...          ...   \n",
       "363669   0.0  39.752216 -121.146799  0.0016         0.0000  3180.441784   \n",
       "363670   0.0  37.192694 -118.523719  0.0424         0.0000   494.728581   \n",
       "363671   0.0  41.092534 -122.763767  0.0000         0.0000  1111.865332   \n",
       "363672   0.0  35.280019 -120.607810  0.0016         0.0000   403.378867   \n",
       "363673   0.0  40.494063 -122.620036  0.1140         0.0016   547.379116   \n",
       "\n",
       "              prcp2        prcp3        prcp4     rhost  winter_tmin  year  \\\n",
       "0        439.233292   708.447764   230.731633  0.411326    -7.372568  2008   \n",
       "1       1025.057284   921.221371   517.643974  0.991807   -11.731773  2018   \n",
       "2        867.047928   793.209217   406.596676  0.965795   -10.198615  2018   \n",
       "3        411.144866   331.761816   211.036772  0.006146   -15.953222  2005   \n",
       "4        766.757154  1328.460684  1330.913706  0.968309    -6.273353  2003   \n",
       "...             ...          ...          ...       ...          ...   ...   \n",
       "363669  2345.538535  1910.850252  2345.897146  0.997972    -9.736435  2007   \n",
       "363670   496.649003   371.828622   820.716547  0.862655   -22.144245  2010   \n",
       "363671   660.252231  1335.919851  1018.503424  0.998103    -4.798687  2003   \n",
       "363672   536.775440   258.635410   709.899879  0.000992    -1.508881  2010   \n",
       "363673   879.521954   743.547927  1189.588992  0.181682    -1.260453  2015   \n",
       "\n",
       "        mortality  \n",
       "0           False  \n",
       "1           False  \n",
       "2           False  \n",
       "3           False  \n",
       "4           False  \n",
       "...           ...  \n",
       "363669      False  \n",
       "363670      False  \n",
       "363671      False  \n",
       "363672      False  \n",
       "363673       True  \n",
       "\n",
       "[363674 rows x 13 columns]"
      ]
     },
     "execution_count": 5,
     "metadata": {},
     "output_type": "execute_result"
    }
   ],
   "source": [
    "ds"
   ]
  },
  {
   "cell_type": "markdown",
   "id": "9b374961-9156-4c00-bf59-cb74e4fee087",
   "metadata": {},
   "source": [
    "### Train-validate-test split"
   ]
  },
  {
   "cell_type": "code",
   "execution_count": 6,
   "id": "e8f527b9-652e-4189-831e-4702d7a2dc5f",
   "metadata": {},
   "outputs": [
    {
     "name": "stdout",
     "output_type": "stream",
     "text": [
      "Number of rows in\n",
      "Training: 254571\n",
      "Validation: 73099\n",
      "Testing: 36004\n"
     ]
    }
   ],
   "source": [
    "ds_train, ds_valid_test = train_test_split(ds, test_size=0.3, stratify=ds.year)\n",
    "ds_valid, ds_test       = train_test_split(ds_valid_test, test_size=0.33, stratify=ds_valid_test.year)\n",
    "\n",
    "print(\"Number of rows in\")\n",
    "print(\"Training:\", ds_train.shape[0])\n",
    "print(\"Validation:\", ds_valid.shape[0])\n",
    "print(\"Testing:\", ds_test.shape[0])"
   ]
  },
  {
   "cell_type": "code",
   "execution_count": 7,
   "id": "d43716a6-3037-4b19-9f6a-bd019e0cae8f",
   "metadata": {},
   "outputs": [],
   "source": [
    "# Convert to tf input\n",
    "# Regression version\n",
    "TARGET = [\"pct_mortality\"]\n",
    "BANDS   = [\"fire\", \"near\", \"latitude\", \"longitude\", \"prcp1\", \"prcp2\", \"prcp3\", \"prcp4\", \"rhost\", \"winter_tmin\"]\n",
    "\n",
    "def df_to_tf_input(df):\n",
    "    # Add two dimensions\n",
    "    input = [\n",
    "        df[b].to_numpy() for b in BANDS\n",
    "    ]\n",
    "    output = df[TARGET].to_numpy()\n",
    "    \n",
    "    return input, output\n",
    "\n",
    "X_train, y_train = df_to_tf_input(ds_train)\n",
    "X_valid, y_valid = df_to_tf_input(ds_valid)\n",
    "X_test, y_test = df_to_tf_input(ds_test)"
   ]
  },
  {
   "cell_type": "markdown",
   "id": "a024b0db-185c-4127-ab94-777060d97777",
   "metadata": {},
   "source": [
    "### Model building"
   ]
  },
  {
   "cell_type": "code",
   "execution_count": 8,
   "id": "9757811c-22bc-459f-9247-2a1edec7892d",
   "metadata": {},
   "outputs": [],
   "source": [
    "import keras\n",
    "\n",
    "REG  = keras.regularizers.L1(0.001)\n",
    "DROP = 0.2\n",
    "ACT  = \"tanh\"\n",
    "\n",
    "# print(sorted(list(spec.keys())))\n",
    "\n",
    "def build_preisler_model(init_bias=None):\n",
    "    # Inputs\n",
    "    inputs = [\n",
    "        keras.layers.Input(shape=(1,), name=b) for b in BANDS\n",
    "    ]\n",
    "\n",
    "    concat = keras.layers.Concatenate(axis=-1)(inputs)\n",
    "\n",
    "    # Normalize each band independently. \n",
    "    norm = keras.layers.BatchNormalization(axis=-1)(concat)\n",
    "\n",
    "    # Feed normalized data to a few dense layers with dropout\n",
    "    d1 = keras.layers.Dense(128, activation=ACT)(norm)\n",
    "    drop1 = keras.layers.Dropout(DROP)(d1)\n",
    "    d2 = keras.layers.Dense(16, activation=ACT)(drop1)\n",
    "    drop2 = keras.layers.Dropout(DROP)(d2)\n",
    "    d3 = keras.layers.Dense(8, activation=ACT)(drop2)\n",
    "\n",
    "    # Connect to output.\n",
    "    if init_bias is not None:\n",
    "        init_bias = tf.keras.initializers.Constant(init_bias)\n",
    "\n",
    "    \n",
    "    out_regr = keras.layers.Dense(\n",
    "        1, activation=\"sigmoid\", \n",
    "        name=\"pct_mortality\",\n",
    "        bias_initializer=init_bias\n",
    "    )(d3)\n",
    "    \n",
    "    '''\n",
    "    out_classif = keras.layers.Dense(\n",
    "        1, activation=\"sigmoid\", \n",
    "        name=\"mortality\",\n",
    "        bias_initializer=init_bias\n",
    "    )(d3)\n",
    "    '''\n",
    "\n",
    "    return keras.models.Model(inputs=inputs, outputs=out_regr)\n",
    "\n",
    "# Calculate initial bias\n",
    "init_bias = np.mean(ds_train.pct_mortality)\n",
    "# Build base model\n",
    "model = build_preisler_model(init_bias=init_bias)\n",
    "# Attach preprocessing layer if desired\n",
    "# model = StackBandsModel(StackBands(), model)"
   ]
  },
  {
   "cell_type": "markdown",
   "id": "ee84bf21-10fd-4069-b590-59f53c274372",
   "metadata": {},
   "source": [
    "### Model training"
   ]
  },
  {
   "cell_type": "code",
   "execution_count": 9,
   "id": "3a2d8eb1-f8ab-4efd-9d54-48c17a126de2",
   "metadata": {},
   "outputs": [],
   "source": [
    "classif_metrics = [\n",
    "    keras.metrics.Precision(name=\"precision\"),\n",
    "    keras.metrics.Recall(name=\"recall\"),\n",
    "    keras.metrics.AUC(name=\"auc\"),\n",
    "]\n",
    "\n",
    "regr_metrics = [\n",
    "    keras.metrics.RootMeanSquaredError(name=\"rmse\"),\n",
    "    keras.metrics.R2Score(name=\"r2_score\")\n",
    "]\n",
    "\n",
    "model = build_preisler_model(init_bias=init_bias)\n",
    "model.compile(\n",
    "    loss=\"binary_crossentropy\",\n",
    "    optimizer=keras.optimizers.Adam(learning_rate=0.005),\n",
    "    metrics=regr_metrics\n",
    ")"
   ]
  },
  {
   "cell_type": "code",
   "execution_count": 10,
   "id": "2dd9e588-9980-47dc-a500-420531f87b23",
   "metadata": {},
   "outputs": [],
   "source": [
    "# Callbacks\n",
    "# NOTE THAT SUBCLASSED MODELS WONT SAVE IF THE FILENAME ENDS IN .keras!\n",
    "model_name = \"preisler_regr_noyear.keras\"\n",
    "earlystop = keras.callbacks.EarlyStopping(monitor=\"loss\", patience=5)\n",
    "checkpoint = keras.callbacks.ModelCheckpoint(os.path.join(\"data_working\", \"models\", model_name), save_best_only=True)\n",
    "logdir = os.path.join(\"logs\", model_name)\n",
    "tensorboard_callback = tf.keras.callbacks.TensorBoard(logdir, histogram_freq=1)\n",
    "\n",
    "# Make log directory\n",
    "os.makedirs(logdir, exist_ok=True)\n",
    "# Delete any old logs that might be in there\n",
    "for fname in os.listdir(logdir):\n",
    "    file_path = os.path.join(logdir, fname)\n",
    "    try:\n",
    "        if os.path.isfile(file_path) or os.path.islink(file_path):\n",
    "            os.unlink(file_path)\n",
    "        elif os.path.isdir(file_path):\n",
    "            shutil.rmtree(file_path)\n",
    "    except OSError as e:\n",
    "        print(\"Failed to delete\", file_path)"
   ]
  },
  {
   "cell_type": "code",
   "execution_count": 11,
   "id": "5376d984-9152-41ed-b9f5-2d7fa2e4b19a",
   "metadata": {},
   "outputs": [
    {
     "name": "stdout",
     "output_type": "stream",
     "text": [
      "Epoch 1/30\n"
     ]
    },
    {
     "name": "stderr",
     "output_type": "stream",
     "text": [
      "c:\\Users\\rsgal\\miniforge3\\envs\\forest_mort\\Lib\\site-packages\\keras\\src\\models\\functional.py:225: UserWarning: The structure of `inputs` doesn't match the expected structure: ['fire', 'near', 'latitude', 'longitude', 'prcp1', 'prcp2', 'prcp3', 'prcp4', 'rhost', 'winter_tmin']. Received: the structure of inputs=('*', '*', '*', '*', '*', '*', '*', '*', '*', '*')\n",
      "  warnings.warn(\n"
     ]
    },
    {
     "name": "stdout",
     "output_type": "stream",
     "text": [
      "\u001b[1m498/498\u001b[0m \u001b[32m━━━━━━━━━━━━━━━━━━━━\u001b[0m\u001b[37m\u001b[0m \u001b[1m3s\u001b[0m 3ms/step - loss: 0.1653 - r2_score: -0.7141 - rmse: 0.1387 - val_loss: 0.1092 - val_r2_score: 0.5669 - val_rmse: 0.0758\n",
      "Epoch 2/30\n",
      "\u001b[1m498/498\u001b[0m \u001b[32m━━━━━━━━━━━━━━━━━━━━\u001b[0m\u001b[37m\u001b[0m \u001b[1m1s\u001b[0m 2ms/step - loss: 0.1125 - r2_score: 0.5134 - rmse: 0.0809 - val_loss: 0.1020 - val_r2_score: 0.6441 - val_rmse: 0.0687\n",
      "Epoch 3/30\n",
      "\u001b[1m498/498\u001b[0m \u001b[32m━━━━━━━━━━━━━━━━━━━━\u001b[0m\u001b[37m\u001b[0m \u001b[1m1s\u001b[0m 2ms/step - loss: 0.1080 - r2_score: 0.5719 - rmse: 0.0766 - val_loss: 0.1008 - val_r2_score: 0.6547 - val_rmse: 0.0677\n",
      "Epoch 4/30\n",
      "\u001b[1m498/498\u001b[0m \u001b[32m━━━━━━━━━━━━━━━━━━━━\u001b[0m\u001b[37m\u001b[0m \u001b[1m1s\u001b[0m 2ms/step - loss: 0.1068 - r2_score: 0.5850 - rmse: 0.0751 - val_loss: 0.1016 - val_r2_score: 0.6397 - val_rmse: 0.0692\n",
      "Epoch 5/30\n",
      "\u001b[1m498/498\u001b[0m \u001b[32m━━━━━━━━━━━━━━━━━━━━\u001b[0m\u001b[37m\u001b[0m \u001b[1m1s\u001b[0m 2ms/step - loss: 0.1050 - r2_score: 0.5997 - rmse: 0.0736 - val_loss: 0.0998 - val_r2_score: 0.6621 - val_rmse: 0.0670\n",
      "Epoch 6/30\n",
      "\u001b[1m498/498\u001b[0m \u001b[32m━━━━━━━━━━━━━━━━━━━━\u001b[0m\u001b[37m\u001b[0m \u001b[1m1s\u001b[0m 2ms/step - loss: 0.1044 - r2_score: 0.6048 - rmse: 0.0730 - val_loss: 0.1000 - val_r2_score: 0.6694 - val_rmse: 0.0663\n",
      "Epoch 7/30\n",
      "\u001b[1m498/498\u001b[0m \u001b[32m━━━━━━━━━━━━━━━━━━━━\u001b[0m\u001b[37m\u001b[0m \u001b[1m1s\u001b[0m 2ms/step - loss: 0.1045 - r2_score: 0.6143 - rmse: 0.0729 - val_loss: 0.0991 - val_r2_score: 0.6732 - val_rmse: 0.0659\n",
      "Epoch 8/30\n",
      "\u001b[1m498/498\u001b[0m \u001b[32m━━━━━━━━━━━━━━━━━━━━\u001b[0m\u001b[37m\u001b[0m \u001b[1m1s\u001b[0m 2ms/step - loss: 0.1034 - r2_score: 0.6202 - rmse: 0.0716 - val_loss: 0.0990 - val_r2_score: 0.6699 - val_rmse: 0.0662\n",
      "Epoch 9/30\n",
      "\u001b[1m498/498\u001b[0m \u001b[32m━━━━━━━━━━━━━━━━━━━━\u001b[0m\u001b[37m\u001b[0m \u001b[1m1s\u001b[0m 2ms/step - loss: 0.1034 - r2_score: 0.6204 - rmse: 0.0720 - val_loss: 0.0987 - val_r2_score: 0.6857 - val_rmse: 0.0646\n",
      "Epoch 10/30\n",
      "\u001b[1m498/498\u001b[0m \u001b[32m━━━━━━━━━━━━━━━━━━━━\u001b[0m\u001b[37m\u001b[0m \u001b[1m1s\u001b[0m 2ms/step - loss: 0.1030 - r2_score: 0.6203 - rmse: 0.0717 - val_loss: 0.0985 - val_r2_score: 0.6900 - val_rmse: 0.0642\n",
      "Epoch 11/30\n",
      "\u001b[1m498/498\u001b[0m \u001b[32m━━━━━━━━━━━━━━━━━━━━\u001b[0m\u001b[37m\u001b[0m \u001b[1m1s\u001b[0m 2ms/step - loss: 0.1024 - r2_score: 0.6312 - rmse: 0.0706 - val_loss: 0.0984 - val_r2_score: 0.6892 - val_rmse: 0.0642\n",
      "Epoch 12/30\n",
      "\u001b[1m498/498\u001b[0m \u001b[32m━━━━━━━━━━━━━━━━━━━━\u001b[0m\u001b[37m\u001b[0m \u001b[1m1s\u001b[0m 2ms/step - loss: 0.1026 - r2_score: 0.6335 - rmse: 0.0704 - val_loss: 0.0978 - val_r2_score: 0.6947 - val_rmse: 0.0637\n",
      "Epoch 13/30\n",
      "\u001b[1m498/498\u001b[0m \u001b[32m━━━━━━━━━━━━━━━━━━━━\u001b[0m\u001b[37m\u001b[0m \u001b[1m1s\u001b[0m 2ms/step - loss: 0.1026 - r2_score: 0.6307 - rmse: 0.0704 - val_loss: 0.0976 - val_r2_score: 0.6982 - val_rmse: 0.0633\n",
      "Epoch 14/30\n",
      "\u001b[1m498/498\u001b[0m \u001b[32m━━━━━━━━━━━━━━━━━━━━\u001b[0m\u001b[37m\u001b[0m \u001b[1m1s\u001b[0m 2ms/step - loss: 0.1018 - r2_score: 0.6351 - rmse: 0.0697 - val_loss: 0.0985 - val_r2_score: 0.6820 - val_rmse: 0.0650\n",
      "Epoch 15/30\n",
      "\u001b[1m498/498\u001b[0m \u001b[32m━━━━━━━━━━━━━━━━━━━━\u001b[0m\u001b[37m\u001b[0m \u001b[1m1s\u001b[0m 2ms/step - loss: 0.1021 - r2_score: 0.6383 - rmse: 0.0699 - val_loss: 0.0973 - val_r2_score: 0.7048 - val_rmse: 0.0626\n",
      "Epoch 16/30\n",
      "\u001b[1m498/498\u001b[0m \u001b[32m━━━━━━━━━━━━━━━━━━━━\u001b[0m\u001b[37m\u001b[0m \u001b[1m1s\u001b[0m 2ms/step - loss: 0.1026 - r2_score: 0.6435 - rmse: 0.0702 - val_loss: 0.0976 - val_r2_score: 0.6996 - val_rmse: 0.0632\n",
      "Epoch 17/30\n",
      "\u001b[1m498/498\u001b[0m \u001b[32m━━━━━━━━━━━━━━━━━━━━\u001b[0m\u001b[37m\u001b[0m \u001b[1m1s\u001b[0m 2ms/step - loss: 0.1026 - r2_score: 0.6378 - rmse: 0.0705 - val_loss: 0.0973 - val_r2_score: 0.7049 - val_rmse: 0.0626\n",
      "Epoch 18/30\n",
      "\u001b[1m498/498\u001b[0m \u001b[32m━━━━━━━━━━━━━━━━━━━━\u001b[0m\u001b[37m\u001b[0m \u001b[1m1s\u001b[0m 2ms/step - loss: 0.1022 - r2_score: 0.6483 - rmse: 0.0698 - val_loss: 0.0970 - val_r2_score: 0.7099 - val_rmse: 0.0621\n",
      "Epoch 19/30\n",
      "\u001b[1m498/498\u001b[0m \u001b[32m━━━━━━━━━━━━━━━━━━━━\u001b[0m\u001b[37m\u001b[0m \u001b[1m1s\u001b[0m 3ms/step - loss: 0.1015 - r2_score: 0.6495 - rmse: 0.0688 - val_loss: 0.0972 - val_r2_score: 0.7091 - val_rmse: 0.0621\n",
      "Epoch 20/30\n",
      "\u001b[1m498/498\u001b[0m \u001b[32m━━━━━━━━━━━━━━━━━━━━\u001b[0m\u001b[37m\u001b[0m \u001b[1m2s\u001b[0m 4ms/step - loss: 0.1012 - r2_score: 0.6497 - rmse: 0.0687 - val_loss: 0.0971 - val_r2_score: 0.7084 - val_rmse: 0.0622\n",
      "Epoch 21/30\n",
      "\u001b[1m498/498\u001b[0m \u001b[32m━━━━━━━━━━━━━━━━━━━━\u001b[0m\u001b[37m\u001b[0m \u001b[1m1s\u001b[0m 3ms/step - loss: 0.1014 - r2_score: 0.6549 - rmse: 0.0683 - val_loss: 0.0968 - val_r2_score: 0.7133 - val_rmse: 0.0617\n",
      "Epoch 22/30\n",
      "\u001b[1m498/498\u001b[0m \u001b[32m━━━━━━━━━━━━━━━━━━━━\u001b[0m\u001b[37m\u001b[0m \u001b[1m1s\u001b[0m 2ms/step - loss: 0.1022 - r2_score: 0.6434 - rmse: 0.0694 - val_loss: 0.0975 - val_r2_score: 0.7055 - val_rmse: 0.0625\n",
      "Epoch 23/30\n",
      "\u001b[1m498/498\u001b[0m \u001b[32m━━━━━━━━━━━━━━━━━━━━\u001b[0m\u001b[37m\u001b[0m \u001b[1m1s\u001b[0m 2ms/step - loss: 0.1012 - r2_score: 0.6518 - rmse: 0.0686 - val_loss: 0.0970 - val_r2_score: 0.7095 - val_rmse: 0.0621\n",
      "Epoch 24/30\n",
      "\u001b[1m498/498\u001b[0m \u001b[32m━━━━━━━━━━━━━━━━━━━━\u001b[0m\u001b[37m\u001b[0m \u001b[1m1s\u001b[0m 2ms/step - loss: 0.1017 - r2_score: 0.6523 - rmse: 0.0692 - val_loss: 0.0964 - val_r2_score: 0.7155 - val_rmse: 0.0615\n",
      "Epoch 25/30\n",
      "\u001b[1m498/498\u001b[0m \u001b[32m━━━━━━━━━━━━━━━━━━━━\u001b[0m\u001b[37m\u001b[0m \u001b[1m1s\u001b[0m 2ms/step - loss: 0.1004 - r2_score: 0.6520 - rmse: 0.0684 - val_loss: 0.0962 - val_r2_score: 0.7212 - val_rmse: 0.0608\n",
      "Epoch 26/30\n",
      "\u001b[1m498/498\u001b[0m \u001b[32m━━━━━━━━━━━━━━━━━━━━\u001b[0m\u001b[37m\u001b[0m \u001b[1m1s\u001b[0m 2ms/step - loss: 0.1009 - r2_score: 0.6592 - rmse: 0.0679 - val_loss: 0.0965 - val_r2_score: 0.7145 - val_rmse: 0.0616\n",
      "Epoch 27/30\n",
      "\u001b[1m498/498\u001b[0m \u001b[32m━━━━━━━━━━━━━━━━━━━━\u001b[0m\u001b[37m\u001b[0m \u001b[1m1s\u001b[0m 2ms/step - loss: 0.1005 - r2_score: 0.6658 - rmse: 0.0673 - val_loss: 0.0959 - val_r2_score: 0.7227 - val_rmse: 0.0607\n",
      "Epoch 28/30\n",
      "\u001b[1m498/498\u001b[0m \u001b[32m━━━━━━━━━━━━━━━━━━━━\u001b[0m\u001b[37m\u001b[0m \u001b[1m1s\u001b[0m 2ms/step - loss: 0.1013 - r2_score: 0.6694 - rmse: 0.0678 - val_loss: 0.0960 - val_r2_score: 0.7181 - val_rmse: 0.0612\n",
      "Epoch 29/30\n",
      "\u001b[1m498/498\u001b[0m \u001b[32m━━━━━━━━━━━━━━━━━━━━\u001b[0m\u001b[37m\u001b[0m \u001b[1m1s\u001b[0m 2ms/step - loss: 0.1010 - r2_score: 0.6624 - rmse: 0.0680 - val_loss: 0.0960 - val_r2_score: 0.7210 - val_rmse: 0.0609\n",
      "Epoch 30/30\n",
      "\u001b[1m498/498\u001b[0m \u001b[32m━━━━━━━━━━━━━━━━━━━━\u001b[0m\u001b[37m\u001b[0m \u001b[1m1s\u001b[0m 2ms/step - loss: 0.1008 - r2_score: 0.6621 - rmse: 0.0678 - val_loss: 0.0968 - val_r2_score: 0.6916 - val_rmse: 0.0640\n"
     ]
    }
   ],
   "source": [
    "batch_size = 512\n",
    "\n",
    "history = model.fit(\n",
    "    x=X_train,\n",
    "    y=y_train,\n",
    "    batch_size=batch_size,\n",
    "    validation_data=(X_valid, y_valid),\n",
    "    validation_batch_size=batch_size,\n",
    "    epochs=30,\n",
    "    verbose=1,\n",
    "    callbacks=[checkpoint, earlystop, tensorboard_callback]\n",
    ")"
   ]
  },
  {
   "cell_type": "markdown",
   "id": "1613aaec-6b17-4811-9b38-dbf7552aa33e",
   "metadata": {},
   "source": [
    "### Show fit on training data"
   ]
  },
  {
   "cell_type": "code",
   "execution_count": 14,
   "id": "0f7643c0-c87c-4a9e-a31a-dd017514606e",
   "metadata": {},
   "outputs": [
    {
     "name": "stdout",
     "output_type": "stream",
     "text": [
      "\u001b[1m498/498\u001b[0m \u001b[32m━━━━━━━━━━━━━━━━━━━━\u001b[0m\u001b[37m\u001b[0m \u001b[1m1s\u001b[0m 975us/step\n"
     ]
    }
   ],
   "source": [
    "y_train = ds_train.pct_mortality\n",
    "y_train_hat = model.predict(X_train, batch_size=batch_size).squeeze()"
   ]
  },
  {
   "cell_type": "code",
   "execution_count": 15,
   "id": "1e68a8a9",
   "metadata": {},
   "outputs": [
    {
     "data": {
      "image/png": "[encoded data removed]",
      "text/plain": [
       "<Figure size 640x480 with 1 Axes>"
      ]
     },
     "metadata": {},
     "output_type": "display_data"
    }
   ],
   "source": [
    "\n",
    "def one_to_one_plot(y_actual, y_predicted):\n",
    "    plt.scatter(y_actual, y_predicted, s=1, c=\"b\")\n",
    "    plt.xlabel(\"True % Mortality\")\n",
    "    plt.ylabel(\"Predicted % Mortality\")\n",
    "    plt.xlim(0, 1)\n",
    "    plt.ylim(0, 1)\n",
    "    plt.gca().set_aspect(\"equal\")\n",
    "    return plt.gcf()\n",
    "\n",
    "one_to_one_plot(y_train, y_train_hat)\n",
    "plt.title(\"Training data\")\n",
    "plt.show()"
   ]
  },
  {
   "cell_type": "code",
   "execution_count": 16,
   "id": "63bdce89-0ffc-4fe9-a061-502782282502",
   "metadata": {},
   "outputs": [
    {
     "data": {
      "image/png": "[encoded data removed]",
      "text/plain": [
       "<Figure size 640x480 with 1 Axes>"
      ]
     },
     "metadata": {},
     "output_type": "display_data"
    }
   ],
   "source": [
    "plt.hist(y_train_hat)\n",
    "plt.show()"
   ]
  },
  {
   "cell_type": "code",
   "execution_count": null,
   "id": "701b03af-25b1-4b57-a7c0-71f12a054a6c",
   "metadata": {},
   "outputs": [],
   "source": [
    "'''\n",
    "RocCurveDisplay.from_predictions(y_train, y_train_hat)\n",
    "plt.title(\"Training\")\n",
    "plt.show()\n",
    "'''"
   ]
  },
  {
   "cell_type": "markdown",
   "id": "add7ca41-5527-419c-b06f-583d4db3c79c",
   "metadata": {},
   "source": [
    "### Evaluate on test data"
   ]
  },
  {
   "cell_type": "code",
   "execution_count": 18,
   "id": "74cdcfc5-7ef8-4408-8ebb-60944fc854d6",
   "metadata": {},
   "outputs": [
    {
     "name": "stdout",
     "output_type": "stream",
     "text": [
      "\u001b[1m71/71\u001b[0m \u001b[32m━━━━━━━━━━━━━━━━━━━━\u001b[0m\u001b[37m\u001b[0m \u001b[1m0s\u001b[0m 968us/step\n"
     ]
    },
    {
     "data": {
      "text/plain": [
       "Text(0.5, 1.0, 'Test data')"
      ]
     },
     "execution_count": 18,
     "metadata": {},
     "output_type": "execute_result"
    },
    {
     "data": {
      "image/png": "[encoded data removed]",
      "text/plain": [
       "<Figure size 640x480 with 1 Axes>"
      ]
     },
     "metadata": {},
     "output_type": "display_data"
    }
   ],
   "source": [
    "y_test = ds_test.pct_mortality\n",
    "y_test_hat = model.predict(X_test, batch_size=batch_size).squeeze()\n",
    "\n",
    "one_to_one_plot(y_test, y_test_hat)\n",
    "plt.title(\"Test data\")"
   ]
  },
  {
   "cell_type": "code",
   "execution_count": null,
   "id": "95603c13-5959-468b-b228-30cd87f74aa9",
   "metadata": {},
   "outputs": [],
   "source": [
    "'''\n",
    "RocCurveDisplay.from_predictions(y_test, y_test_hat)\n",
    "plt.title(\"Test Data\")\n",
    "plt.show()\n",
    "'''"
   ]
  },
  {
   "cell_type": "markdown",
   "id": "349befa8-b667-457a-aca8-8556cec61459",
   "metadata": {},
   "source": [
    "### Prepare for export to Google Cloud\n",
    "\n",
    "Wrap in serialization and deserialization layers"
   ]
  },
  {
   "cell_type": "code",
   "execution_count": 10,
   "id": "b8987733-1341-4d69-a5d2-d0dfc3d5f4d9",
   "metadata": {},
   "outputs": [],
   "source": [
    "class StackBands(keras.layers.Layer):\n",
    "    def __init__(self, add_spatial_dims = False, **kwargs):\n",
    "        super(StackBands, self).__init__(**kwargs)\n",
    "        self.add_spatial_dims = add_spatial_dims\n",
    "\n",
    "    def call(self, features_dict):\n",
    "        # Stack all inputs into one tensor so we don't have to manually make an input\n",
    "        # layer for each band.\n",
    "        concat = tf.concat([features_dict[b] for b in BANDS], axis=-1)\n",
    "        if self.add_spatial_dims:\n",
    "            # (None, P) -> (None, 1, 1, P)\n",
    "            # Where None is batch dim and P is the number of bands\n",
    "            # The additional axes are necesary if the model is to be deployed on Gcloud\n",
    "            return tf.expand_dims(tf.expand_dims(concat, axis=1), axis=1)\n",
    "        else:\n",
    "            return concat\n",
    "\n",
    "    def get_config(self):\n",
    "        return super().get_config()\n",
    "\n",
    "class StackBandsModel(keras.Model):\n",
    "    def __init__(self, preprocessing, base_model, **kwargs):\n",
    "        super().__init__(**kwargs)\n",
    "        self.preprocessing = preprocessing\n",
    "        self.base_model = base_model\n",
    "\n",
    "    def call(self, features_dict):\n",
    "        return self.base_model(self.preprocessing(features_dict))\n",
    "\n",
    "    def get_config(self):\n",
    "        return super().get_config()"
   ]
  },
  {
   "cell_type": "code",
   "execution_count": 84,
   "id": "ef614d78-42b8-4cef-9a92-8be14c4024aa",
   "metadata": {},
   "outputs": [],
   "source": [
    "# From https://github.com/google/earthengine-community/blob/master/guides/linked/Earth_Engine_TensorFlow_Vertex_AI.ipynb\n",
    "class DeSerializeInput(tf.keras.layers.Layer):\n",
    "  def __init__(self, **kwargs):\n",
    "    super().__init__(**kwargs)\n",
    "\n",
    "  def call(self, inputs_dict):\n",
    "    return {\n",
    "      k: tf.map_fn(lambda x: tf.io.parse_tensor(x, tf.float32),\n",
    "                   tf.io.decode_base64(v),\n",
    "                   fn_output_signature=tf.float32)\n",
    "        for (k, v) in inputs_dict.items()\n",
    "    }\n",
    "\n",
    "  def get_config(self):\n",
    "    config = super().get_config()\n",
    "    return config\n",
    "\n",
    "\n",
    "class ReSerializeOutput(tf.keras.layers.Layer):\n",
    "  def __init__(self, **kwargs):\n",
    "    super().__init__(**kwargs)\n",
    "\n",
    "  def call(self, output_tensor):\n",
    "    return tf.map_fn(lambda x: tf.io.encode_base64(tf.io.serialize_tensor(x)),\n",
    "                    output_tensor,\n",
    "                    fn_output_signature=tf.string)\n",
    "\n",
    "  def get_config(self):\n",
    "    config = super().get_config()\n",
    "    return config\n",
    "\n",
    "input_deserializer = DeSerializeInput()\n",
    "output_deserializer = ReSerializeOutput()\n",
    "\n",
    "serialized_inputs = {\n",
    "    b: tf.keras.Input(shape=[], dtype='string', name=b) for b in BANDS\n",
    "}\n",
    "\n",
    "updated_model_input = input_deserializer(serialized_inputs)\n",
    "updated_model = model(updated_model_input)\n",
    "updated_model = output_deserializer(updated_model)\n",
    "updated_model= tf.keras.Model(serialized_inputs, updated_model)"
   ]
  },
  {
   "cell_type": "code",
   "execution_count": 85,
   "id": "a4061c8a-9320-4af5-8397-c05a3742a7a5",
   "metadata": {},
   "outputs": [
    {
     "data": {
      "image/png": "[encoded data removed]",
      "text/plain": [
       "<IPython.core.display.Image object>"
      ]
     },
     "execution_count": 85,
     "metadata": {},
     "output_type": "execute_result"
    }
   ],
   "source": [
    "tf.keras.utils.plot_model(updated_model)"
   ]
  },
  {
   "cell_type": "code",
   "execution_count": 90,
   "id": "d90c1675-25de-4d4c-ab6f-35968dba3541",
   "metadata": {},
   "outputs": [],
   "source": [
    "# Save trained model\n",
    "MODEL_DIR = \"gs://\" + bucket + \"/model\""
   ]
  },
  {
   "cell_type": "code",
   "execution_count": 91,
   "id": "54e166f7-943b-4ffa-82e6-266ec0a21e0b",
   "metadata": {},
   "outputs": [
    {
     "name": "stderr",
     "output_type": "stream",
     "text": [
      "CommandException: No URLs matched: gs://preisler_tfdata/model\n"
     ]
    }
   ],
   "source": [
    "!gsutil rm -r {MODEL_DIR}"
   ]
  },
  {
   "cell_type": "code",
   "execution_count": 93,
   "id": "6b9cae80-22f4-4bc5-8055-150588ff4c44",
   "metadata": {},
   "outputs": [
    {
     "name": "stdout",
     "output_type": "stream",
     "text": [
      "WARNING:tensorflow:Compiled the loaded model, but the compiled metrics have yet to be built. `model.compile_metrics` will be empty until you train or evaluate the model.\n",
      "INFO:tensorflow:Assets written to: data_working/models/preisler_classif_gcloud.tf\\assets\n"
     ]
    }
   ],
   "source": [
    "updated_model.save(\"data_working/models/preisler_classif_gcloud.tf\")"
   ]
  },
  {
   "cell_type": "code",
   "execution_count": 94,
   "id": "2fc5b195-66a2-4295-ad81-44c2822c85fa",
   "metadata": {},
   "outputs": [
    {
     "name": "stderr",
     "output_type": "stream",
     "text": [
      "Copying file://data_working\\models\\preisler_classif_gcloud.tf\\saved_model.pb [Content-Type=application/octet-stream]...\n",
      "/ [0 files][    0.0 B/  1.0 MiB]                                                \n",
      "/ [1 files][  1.0 MiB/  1.0 MiB]                                                \n",
      "Copying file://data_working\\models\\preisler_classif_gcloud.tf\\keras_metadata.pb [Content-Type=application/octet-stream]...\n",
      "/ [1 files][  1.0 MiB/  1.1 MiB]                                                \n",
      "/ [2 files][  1.1 MiB/  1.1 MiB]                                                \n",
      "-\n",
      "Copying file://data_working\\models\\preisler_classif_gcloud.tf\\variables\\variables.data-00000-of-00001 [Content-Type=application/octet-stream]...\n",
      "- [2 files][  1.1 MiB/  1.2 MiB]                                                \n",
      "- [3 files][  1.2 MiB/  1.2 MiB]                                                \n",
      "Copying file://data_working\\models\\preisler_classif_gcloud.tf\\variables\\variables.index [Content-Type=application/octet-stream]...\n",
      "- [3 files][  1.2 MiB/  1.2 MiB]                                                \n",
      "- [4 files][  1.2 MiB/  1.2 MiB]                                                \n",
      "\n",
      "Operation completed over 4 objects/1.2 MiB.                                      \n"
     ]
    }
   ],
   "source": [
    "!gsutil cp -r data_working/models/preisler_classif_gcloud.tf/ gs://{bucket}"
   ]
  },
  {
   "cell_type": "markdown",
   "id": "cf28ec5c-fedf-497d-8629-30fa37e559f6",
   "metadata": {},
   "source": [
    "### Deploy model\n",
    "Note this part costs money!"
   ]
  },
  {
   "cell_type": "code",
   "execution_count": 1,
   "id": "6d033aee-93cb-423e-9286-7f3c3b7cf51a",
   "metadata": {},
   "outputs": [
    {
     "name": "stderr",
     "output_type": "stream",
     "text": [
      "Using endpoint [https://us-west1-aiplatform.googleapis.com/]\n",
      "Waiting for operation [8838341206749478912]...\n",
      ".......................done.\n"
     ]
    }
   ],
   "source": [
    "!gcloud ai models upload \\\n",
    "  --artifact-uri=gs://preisler_tfdata/preisler_classif_gcloud.tf \\\n",
    "  --project=forest-lst \\\n",
    "  --region=us-west1 \\\n",
    "  --container-image-uri=us-docker.pkg.dev/vertex-ai/prediction/tf2-cpu.2-11:latest \\\n",
    "  --description=preisler_demo \\\n",
    "  --display-name=preisler_demo \\\n",
    "  --model-id=preisler_demo"
   ]
  },
  {
   "cell_type": "markdown",
   "id": "8938c1ba-397f-4320-b5d8-d3f8d66a8a0e",
   "metadata": {},
   "source": [
    "Create the endpoint"
   ]
  },
  {
   "cell_type": "code",
   "execution_count": 98,
   "id": "e98fce71-b479-46fe-84fc-5dcb8b8d6ac2",
   "metadata": {},
   "outputs": [
    {
     "name": "stdout",
     "output_type": "stream",
     "text": [
      "^C\n"
     ]
    },
    {
     "name": "stderr",
     "output_type": "stream",
     "text": [
      "Using endpoint [https://us-west1-aiplatform.googleapis.com/]\n",
      "Waiting for operation [7372788963947315200]...\n",
      "..................................................................................................................................................................................................................................................................................................................................................................................................................................................................................................................................................................................................................................................................................................................................................................................................................................................................................................................................................................................................................................................done.\n",
      "Created Vertex AI endpoint: projects/198943021770/locations/us-west1/endpoints/5099592104229732352.\n"
     ]
    }
   ],
   "source": [
    "!gcloud ai endpoints create \\\n",
    "  --display-name=preisler-demo \\\n",
    "  --region=us-west1 \\\n",
    "  --project=forest-lst"
   ]
  },
  {
   "cell_type": "markdown",
   "id": "8d060211-e676-4412-ab61-064c27d49b52",
   "metadata": {},
   "source": [
    "Get the endpoint ID"
   ]
  },
  {
   "cell_type": "code",
   "execution_count": 2,
   "id": "7f80fee8-ee10-4911-9abf-f9e5b175a226",
   "metadata": {},
   "outputs": [],
   "source": [
    "ENDPOINT_ID = !gcloud ai endpoints list \\\n",
    "  --project=forest-lst \\\n",
    "  --region=us-west1 \\\n",
    "  --filter=displayName:preisler-demo \\\n",
    "  --format=\"value(ENDPOINT_ID.scope())\"\n",
    "ENDPOINT_ID = ENDPOINT_ID[-1]"
   ]
  },
  {
   "cell_type": "code",
   "execution_count": 3,
   "id": "ad35e024-2153-4d95-a2ef-7160dd9087ee",
   "metadata": {},
   "outputs": [
    {
     "name": "stdout",
     "output_type": "stream",
     "text": [
      "5099592104229732352\n"
     ]
    }
   ],
   "source": [
    "print(ENDPOINT_ID)"
   ]
  },
  {
   "cell_type": "markdown",
   "id": "b8b14a22-afd3-4aac-a678-5ed09d3549bb",
   "metadata": {},
   "source": [
    "Deploy the model"
   ]
  },
  {
   "cell_type": "code",
   "execution_count": 4,
   "id": "5a0ed2c3-bf0c-4311-a71c-d40ca86e2287",
   "metadata": {},
   "outputs": [
    {
     "name": "stderr",
     "output_type": "stream",
     "text": [
      "Using endpoint [https://us-west1-aiplatform.googleapis.com/]\n",
      "Waiting for operation [7868941386957979648]...\n",
      "...............................................................................................................................................................................................................................................................................................................................................................................................................................................................................................................................................................................................................................................................................................................................................................................................................................................................................................................................................................................................................................................................................................................................................................................................................................................................................................................................................................................................................................................................................................................................................................................................................................................................................................................................................................................................................................................................................................................................................................................................................................................................................................................................................................................................................................................................................................................................................................................................................................................................................................................................................................................................................................................................................................................................................................................................................................................................................................................................................................................................................................................................................................................................................................................................................................................................................................................................................................................................................................................................................................................................................................................................................................................................................................................................................................................................................................................................................................................................................................................................................................................................................................................................................................................................................................................................................................................................................................................................................................................................................................................................................................................................................................................................................................................................done.\n",
      "Deployed a model to the endpoint 5099592104229732352. Id of the deployed model: 7386030932236435456.\n"
     ]
    }
   ],
   "source": [
    "!gcloud ai endpoints deploy-model {ENDPOINT_ID} \\\n",
    "  --project=forest-lst \\\n",
    "  --region=us-west1 \\\n",
    "  --model=preisler_demo \\\n",
    "  --display-name=preisler-demo"
   ]
  },
  {
   "cell_type": "markdown",
   "id": "6eef0233-943f-4432-a87d-b407385261cf",
   "metadata": {},
   "source": [
    "### Run model\n",
    "\n",
    "Pull an image from which the training was derived, pass to model, visualize result."
   ]
  },
  {
   "cell_type": "code",
   "execution_count": 5,
   "id": "9f64c26a-1681-43c8-8a56-d9cbff3371e9",
   "metadata": {},
   "outputs": [],
   "source": [
    "import ee\n",
    "import geemap\n",
    "ee.Initialize()"
   ]
  },
  {
   "cell_type": "code",
   "execution_count": 7,
   "id": "a3271670-4963-4d67-8775-3d51013735c2",
   "metadata": {},
   "outputs": [
    {
     "data": {
      "text/html": [
       "\n",
       "            <style>\n",
       "                .geemap-dark {\n",
       "                    --jp-widgets-color: white;\n",
       "                    --jp-widgets-label-color: white;\n",
       "                    --jp-ui-font-color1: white;\n",
       "                    --jp-layout-color2: #454545;\n",
       "                    background-color: #383838;\n",
       "                }\n",
       "\n",
       "                .geemap-dark .jupyter-button {\n",
       "                    --jp-layout-color3: #383838;\n",
       "                }\n",
       "\n",
       "                .geemap-colab {\n",
       "                    background-color: var(--colab-primary-surface-color, white);\n",
       "                }\n",
       "\n",
       "                .geemap-colab .jupyter-button {\n",
       "                    --jp-layout-color3: var(--colab-primary-surface-color, white);\n",
       "                }\n",
       "            </style>\n",
       "            "
      ],
      "text/plain": [
       "<IPython.core.display.HTML object>"
      ]
     },
     "metadata": {},
     "output_type": "display_data"
    },
    {
     "data": {
      "application/vnd.jupyter.widget-view+json": {
       "model_id": "ccfcf43a3f754d22a2e7a8bbf19a202f",
       "version_major": 2,
       "version_minor": 0
      },
      "text/plain": [
       "Map(center=[0, 0], controls=(WidgetControl(options=['position', 'transparent_bg'], widget=SearchDataGUI(childr…"
      ]
     },
     "execution_count": 7,
     "metadata": {},
     "output_type": "execute_result"
    }
   ],
   "source": [
    "example_image = ee.Image(\"projects/forest-lst/assets/preisler-annual-images/2003\")\n",
    "\n",
    "Map = geemap.Map()\n",
    "Map.addLayer(example_image.select(\"pct_mortality\").gt(0))\n",
    "Map"
   ]
  },
  {
   "cell_type": "code",
   "execution_count": 8,
   "id": "f2238d86-7068-41c6-b57b-3bf6cdd2fa18",
   "metadata": {},
   "outputs": [
    {
     "data": {
      "text/html": [
       "\n",
       "            <style>\n",
       "                .geemap-dark {\n",
       "                    --jp-widgets-color: white;\n",
       "                    --jp-widgets-label-color: white;\n",
       "                    --jp-ui-font-color1: white;\n",
       "                    --jp-layout-color2: #454545;\n",
       "                    background-color: #383838;\n",
       "                }\n",
       "\n",
       "                .geemap-dark .jupyter-button {\n",
       "                    --jp-layout-color3: #383838;\n",
       "                }\n",
       "\n",
       "                .geemap-colab {\n",
       "                    background-color: var(--colab-primary-surface-color, white);\n",
       "                }\n",
       "\n",
       "                .geemap-colab .jupyter-button {\n",
       "                    --jp-layout-color3: var(--colab-primary-surface-color, white);\n",
       "                }\n",
       "            </style>\n",
       "            "
      ],
      "text/plain": [
       "<IPython.core.display.HTML object>"
      ]
     },
     "metadata": {},
     "output_type": "display_data"
    }
   ],
   "source": [
    "endpoint_path = (\n",
    "    'projects/' + \"forest-lst\" + '/locations/' + \"us-west1\" + '/endpoints/' + str(ENDPOINT_ID))\n",
    "\n",
    "# Connect to the hosted model.\n",
    "vertex_model = ee.Model.fromVertexAi(\n",
    "  endpoint=endpoint_path,\n",
    "  inputTileSize=[1, 1],\n",
    "  proj=example_image.select(\"pct_mortality\").projection().atScale(4000),\n",
    "  fixInputProj=True,\n",
    "  outputBands={'output': {\n",
    "      'type': ee.PixelType.float(),\n",
    "      'dimensions': 1\n",
    "    }\n",
    "  })"
   ]
  },
  {
   "cell_type": "code",
   "execution_count": 10,
   "id": "30f53128-5749-44f1-ac5a-7a5f2ac968af",
   "metadata": {},
   "outputs": [
    {
     "data": {
      "text/html": [
       "\n",
       "            <style>\n",
       "                .geemap-dark {\n",
       "                    --jp-widgets-color: white;\n",
       "                    --jp-widgets-label-color: white;\n",
       "                    --jp-ui-font-color1: white;\n",
       "                    --jp-layout-color2: #454545;\n",
       "                    background-color: #383838;\n",
       "                }\n",
       "\n",
       "                .geemap-dark .jupyter-button {\n",
       "                    --jp-layout-color3: #383838;\n",
       "                }\n",
       "\n",
       "                .geemap-colab {\n",
       "                    background-color: var(--colab-primary-surface-color, white);\n",
       "                }\n",
       "\n",
       "                .geemap-colab .jupyter-button {\n",
       "                    --jp-layout-color3: var(--colab-primary-surface-color, white);\n",
       "                }\n",
       "            </style>\n",
       "            "
      ],
      "text/plain": [
       "<IPython.core.display.HTML object>"
      ]
     },
     "metadata": {},
     "output_type": "display_data"
    }
   ],
   "source": [
    "BANDS   = [\"fire\", \"near\", \"latitude\", \"longitude\", \"prcp1\", \"prcp2\", \"prcp3\", \"prcp4\", \"rhost\", \"winter_tmin\", \"year\"]\n",
    "prediction = vertex_model.predictImage(example_image.select(BANDS).float()).arrayFlatten([[\"predict_mortality\"]])"
   ]
  },
  {
   "cell_type": "code",
   "execution_count": 12,
   "id": "890e1b80-238c-4d56-ad8a-b84c2eca42d1",
   "metadata": {},
   "outputs": [
    {
     "data": {
      "text/html": [
       "\n",
       "            <style>\n",
       "                .geemap-dark {\n",
       "                    --jp-widgets-color: white;\n",
       "                    --jp-widgets-label-color: white;\n",
       "                    --jp-ui-font-color1: white;\n",
       "                    --jp-layout-color2: #454545;\n",
       "                    background-color: #383838;\n",
       "                }\n",
       "\n",
       "                .geemap-dark .jupyter-button {\n",
       "                    --jp-layout-color3: #383838;\n",
       "                }\n",
       "\n",
       "                .geemap-colab {\n",
       "                    background-color: var(--colab-primary-surface-color, white);\n",
       "                }\n",
       "\n",
       "                .geemap-colab .jupyter-button {\n",
       "                    --jp-layout-color3: var(--colab-primary-surface-color, white);\n",
       "                }\n",
       "            </style>\n",
       "            "
      ],
      "text/plain": [
       "<IPython.core.display.HTML object>"
      ]
     },
     "metadata": {},
     "output_type": "display_data"
    },
    {
     "data": {
      "application/vnd.jupyter.widget-view+json": {
       "model_id": "b41b80ad548c428eb9390b3a882242c6",
       "version_major": 2,
       "version_minor": 0
      },
      "text/plain": [
       "Map(center=[0, 0], controls=(WidgetControl(options=['position', 'transparent_bg'], widget=SearchDataGUI(childr…"
      ]
     },
     "execution_count": 12,
     "metadata": {},
     "output_type": "execute_result"
    }
   ],
   "source": [
    "Map = geemap.Map()\n",
    "\n",
    "Map.addLayer(example_image.select(\"pct_mortality\").gt(0), name=\"true mortality\")\n",
    "Map.addLayer(prediction, name=\"model prediction\")\n",
    "\n",
    "Map"
   ]
  },
  {
   "cell_type": "markdown",
   "id": "4fd29514-cbca-49a1-a29f-cc9b5d23387b",
   "metadata": {},
   "source": [
    "### Export model predictions\n",
    "\n",
    "For display in an EE app."
   ]
  },
  {
   "cell_type": "code",
   "execution_count": 53,
   "id": "a085e3ba-8734-479a-b71a-77848007321f",
   "metadata": {},
   "outputs": [
    {
     "data": {
      "text/html": [
       "\n",
       "            <style>\n",
       "                .geemap-dark {\n",
       "                    --jp-widgets-color: white;\n",
       "                    --jp-widgets-label-color: white;\n",
       "                    --jp-ui-font-color1: white;\n",
       "                    --jp-layout-color2: #454545;\n",
       "                    background-color: #383838;\n",
       "                }\n",
       "\n",
       "                .geemap-dark .jupyter-button {\n",
       "                    --jp-layout-color3: #383838;\n",
       "                }\n",
       "\n",
       "                .geemap-colab {\n",
       "                    background-color: var(--colab-primary-surface-color, white);\n",
       "                }\n",
       "\n",
       "                .geemap-colab .jupyter-button {\n",
       "                    --jp-layout-color3: var(--colab-primary-surface-color, white);\n",
       "                }\n",
       "            </style>\n",
       "            "
      ],
      "text/plain": [
       "<IPython.core.display.HTML object>"
      ]
     },
     "metadata": {},
     "output_type": "display_data"
    }
   ],
   "source": [
    "ic_path = \"projects/forest-lst/assets/preisler-annual-images\"\n",
    "annual_images = ee.ImageCollection(ic_path)\n",
    "img_idxs = annual_images.aggregate_array(\"system:index\").getInfo()\n",
    "\n",
    "def do_model_prediction(ic, idx):\n",
    "    img = ee.Image(ic_path+\"/\"+idx)\n",
    "    return vertex_model.predictImage(img.select(BANDS).float())\\\n",
    "        .arrayFlatten([[\"predict_mortality\"]])\\\n",
    "        .set(\"system:time_start\", img.get(\"system:time_start\"))\\\n",
    "        .set(\"system:time_end\", img.get(\"system:time_end\"))\n",
    "\n",
    "annual_image_predict = list(map(lambda x: do_model_prediction(annual_images, x), img_idxs))"
   ]
  },
  {
   "cell_type": "code",
   "execution_count": 52,
   "id": "af979637-a465-4e86-a85c-962a49d79cf6",
   "metadata": {},
   "outputs": [
    {
     "data": {
      "text/html": [
       "\n",
       "            <style>\n",
       "                .geemap-dark {\n",
       "                    --jp-widgets-color: white;\n",
       "                    --jp-widgets-label-color: white;\n",
       "                    --jp-ui-font-color1: white;\n",
       "                    --jp-layout-color2: #454545;\n",
       "                    background-color: #383838;\n",
       "                }\n",
       "\n",
       "                .geemap-dark .jupyter-button {\n",
       "                    --jp-layout-color3: #383838;\n",
       "                }\n",
       "\n",
       "                .geemap-colab {\n",
       "                    background-color: var(--colab-primary-surface-color, white);\n",
       "                }\n",
       "\n",
       "                .geemap-colab .jupyter-button {\n",
       "                    --jp-layout-color3: var(--colab-primary-surface-color, white);\n",
       "                }\n",
       "            </style>\n",
       "            "
      ],
      "text/plain": [
       "<IPython.core.display.HTML object>"
      ]
     },
     "metadata": {},
     "output_type": "display_data"
    }
   ],
   "source": [
    "!earthengine create collection projects/forest-lst/assets/preisler-annual-image-prediction"
   ]
  },
  {
   "cell_type": "code",
   "execution_count": 51,
   "id": "986bfc58-edfb-4566-b463-f54bc14a4789",
   "metadata": {},
   "outputs": [
    {
     "data": {
      "text/html": [
       "\n",
       "            <style>\n",
       "                .geemap-dark {\n",
       "                    --jp-widgets-color: white;\n",
       "                    --jp-widgets-label-color: white;\n",
       "                    --jp-ui-font-color1: white;\n",
       "                    --jp-layout-color2: #454545;\n",
       "                    background-color: #383838;\n",
       "                }\n",
       "\n",
       "                .geemap-dark .jupyter-button {\n",
       "                    --jp-layout-color3: #383838;\n",
       "                }\n",
       "\n",
       "                .geemap-colab {\n",
       "                    background-color: var(--colab-primary-surface-color, white);\n",
       "                }\n",
       "\n",
       "                .geemap-colab .jupyter-button {\n",
       "                    --jp-layout-color3: var(--colab-primary-surface-color, white);\n",
       "                }\n",
       "            </style>\n",
       "            "
      ],
      "text/plain": [
       "<IPython.core.display.HTML object>"
      ]
     },
     "metadata": {},
     "output_type": "display_data"
    }
   ],
   "source": [
    "!earthengine rm -r projects/forest-lst/assets/preisler-annual-image-prediction"
   ]
  },
  {
   "cell_type": "code",
   "execution_count": 54,
   "id": "4c646d21-dee2-46b8-b9c5-0c0f50a27cde",
   "metadata": {},
   "outputs": [
    {
     "data": {
      "text/html": [
       "\n",
       "            <style>\n",
       "                .geemap-dark {\n",
       "                    --jp-widgets-color: white;\n",
       "                    --jp-widgets-label-color: white;\n",
       "                    --jp-ui-font-color1: white;\n",
       "                    --jp-layout-color2: #454545;\n",
       "                    background-color: #383838;\n",
       "                }\n",
       "\n",
       "                .geemap-dark .jupyter-button {\n",
       "                    --jp-layout-color3: #383838;\n",
       "                }\n",
       "\n",
       "                .geemap-colab {\n",
       "                    background-color: var(--colab-primary-surface-color, white);\n",
       "                }\n",
       "\n",
       "                .geemap-colab .jupyter-button {\n",
       "                    --jp-layout-color3: var(--colab-primary-surface-color, white);\n",
       "                }\n",
       "            </style>\n",
       "            "
      ],
      "text/plain": [
       "<IPython.core.display.HTML object>"
      ]
     },
     "metadata": {},
     "output_type": "display_data"
    }
   ],
   "source": [
    "import datetime\n",
    "\n",
    "def prediction_export_task(img):\n",
    "    ms = img.get(\"system:time_start\").getInfo()\n",
    "    year = datetime.datetime.utcfromtimestamp(ms/1000.0).year\n",
    "    \n",
    "    return ee.batch.Export.image.toAsset(\n",
    "        image=img,\n",
    "        description=\"preisler-annual-image-prediction-{}\".format(year),\n",
    "        assetId=\"projects/forest-lst/assets/preisler-annual-image-prediction/{}\".format(year),\n",
    "        scale=4000,\n",
    "        crs=img.projection()\n",
    "    )\n",
    "\n",
    "tasks = [prediction_export_task(img) for img in annual_image_predict]"
   ]
  },
  {
   "cell_type": "code",
   "execution_count": 55,
   "id": "8c7c0a0f-fb56-4eb8-abde-01aeb3a8362d",
   "metadata": {},
   "outputs": [
    {
     "data": {
      "text/html": [
       "\n",
       "            <style>\n",
       "                .geemap-dark {\n",
       "                    --jp-widgets-color: white;\n",
       "                    --jp-widgets-label-color: white;\n",
       "                    --jp-ui-font-color1: white;\n",
       "                    --jp-layout-color2: #454545;\n",
       "                    background-color: #383838;\n",
       "                }\n",
       "\n",
       "                .geemap-dark .jupyter-button {\n",
       "                    --jp-layout-color3: #383838;\n",
       "                }\n",
       "\n",
       "                .geemap-colab {\n",
       "                    background-color: var(--colab-primary-surface-color, white);\n",
       "                }\n",
       "\n",
       "                .geemap-colab .jupyter-button {\n",
       "                    --jp-layout-color3: var(--colab-primary-surface-color, white);\n",
       "                }\n",
       "            </style>\n",
       "            "
      ],
      "text/plain": [
       "<IPython.core.display.HTML object>"
      ]
     },
     "metadata": {},
     "output_type": "display_data"
    }
   ],
   "source": [
    "for t in tasks: t.start()"
   ]
  }
 ],
 "metadata": {
  "kernelspec": {
   "display_name": "forest_mort",
   "language": "python",
   "name": "python3"
  },
  "language_info": {
   "codemirror_mode": {
    "name": "ipython",
    "version": 3
   },
   "file_extension": ".py",
   "mimetype": "text/x-python",
   "name": "python",
   "nbconvert_exporter": "python",
   "pygments_lexer": "ipython3",
   "version": "3.12.7"
  }
 },
 "nbformat": 4,
 "nbformat_minor": 5
}
