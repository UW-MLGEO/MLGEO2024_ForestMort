{
 "cells": [
  {
   "cell_type": "markdown",
   "id": "3446f3b2-33ea-4432-977f-dd8a2a7a005a",
   "metadata": {},
   "source": [
    "## Replicate model in Preisler et al. (2017)\n",
    "\n",
    "Their approach was to use a general additive model with a logit link function. GAMs are hard to implement in Python and do not play well with tensorflow. We will approximate this with a dense neural network with a logit activation function in the output node."
   ]
  },
  {
   "cell_type": "code",
   "execution_count": 1,
   "id": "035bfb8b-e1e2-49e1-a5e6-7818e1ba3e9e",
   "metadata": {},
   "outputs": [
    {
     "name": "stdout",
     "output_type": "stream",
     "text": [
      "Changed working directory to G:\\Other computers\\My Laptop\\UW\\Classes\\ESS521\\project\n"
     ]
    }
   ],
   "source": [
    "import tensorflow as tf\n",
    "import tensorflow_datasets as tfds\n",
    "from sklearn.metrics import ConfusionMatrixDisplay\n",
    "\n",
    "import os\n",
    "import json\n",
    "import random\n",
    "\n",
    "from google.cloud.storage import Client\n",
    "\n",
    "if \"notebooks\" in os.getcwd():\n",
    "    os.chdir(\"..\")\n",
    "    print(\"Changed working directory to\", os.getcwd())"
   ]
  },
  {
   "cell_type": "markdown",
   "id": "6dd5a3f1-1ee1-4b62-886c-50944ecad7be",
   "metadata": {},
   "source": [
    "### Get example record from GCS"
   ]
  },
  {
   "cell_type": "code",
   "execution_count": 2,
   "id": "6a2a7d9c-1fe5-4655-a8d3-2f794f365c82",
   "metadata": {},
   "outputs": [
    {
     "name": "stdout",
     "output_type": "stream",
     "text": [
      "gs://preisler_tfdata/ca_whole_image/yr2018/00000.tfrecord\n",
      "gs://preisler_tfdata/ca_whole_image/yr2010/00000.tfrecord\n",
      "gs://preisler_tfdata/ca_whole_image/yr2003/00000.tfrecord\n",
      "gs://preisler_tfdata/ca_whole_image/yr2019/00000.tfrecord\n",
      "gs://preisler_tfdata/ca_whole_image/yr2022/00000.tfrecord\n",
      "gs://preisler_tfdata/ca_whole_image/yr2000/00000.tfrecord\n",
      "gs://preisler_tfdata/ca_whole_image/yr2023/00000.tfrecord\n",
      "gs://preisler_tfdata/ca_whole_image/yr2020/00000.tfrecord\n",
      "gs://preisler_tfdata/ca_whole_image/yr2005/00000.tfrecord\n",
      "gs://preisler_tfdata/ca_whole_image/yr2011/00000.tfrecord\n",
      "gs://preisler_tfdata/ca_whole_image/yr2015/00000.tfrecord\n",
      "gs://preisler_tfdata/ca_whole_image/yr2014/00000.tfrecord\n",
      "gs://preisler_tfdata/ca_whole_image/yr2008/00000.tfrecord\n",
      "gs://preisler_tfdata/ca_whole_image/yr2016/00000.tfrecord\n",
      "gs://preisler_tfdata/ca_whole_image/yr2007/00000.tfrecord\n",
      "gs://preisler_tfdata/ca_whole_image/yr2002/00000.tfrecord\n",
      "gs://preisler_tfdata/ca_whole_image/yr2006/00000.tfrecord\n",
      "gs://preisler_tfdata/ca_whole_image/yr2013/00000.tfrecord\n",
      "gs://preisler_tfdata/ca_whole_image/yr2004/00000.tfrecord\n",
      "gs://preisler_tfdata/ca_whole_image/yr2012/00000.tfrecord\n",
      "gs://preisler_tfdata/ca_whole_image/yr2001/00000.tfrecord\n",
      "gs://preisler_tfdata/ca_whole_image/yr2021/00000.tfrecord\n",
      "gs://preisler_tfdata/ca_whole_image/yr2017/00000.tfrecord\n",
      "gs://preisler_tfdata/ca_whole_image/yr2009/00000.tfrecord\n"
     ]
    }
   ],
   "source": [
    "client = Client(project=\"forest-lst\")\n",
    "bucket = \"preisler_tfdata\"\n",
    "\n",
    "records = [\n",
    "    \"/\".join([\"gs://{}\".format(bucket), f.name])\n",
    "    for f in client.list_blobs(bucket, prefix=\"ca_whole_image\")\n",
    "    if \".tfrecord\" in f.name\n",
    "]\n",
    "\n",
    "random.shuffle(records)\n",
    "\n",
    "print(\"\\n\".join(records))"
   ]
  },
  {
   "cell_type": "code",
   "execution_count": 3,
   "id": "65947628-671c-4899-9164-4e89f02cfcdc",
   "metadata": {},
   "outputs": [
    {
     "data": {
      "application/json": {
       "features": {
        "feature": {
         "fire": {
          "floatList": {
           "value": [
            0
           ]
          }
         },
         "latitude": {
          "floatList": {
           "value": [
            0
           ]
          }
         },
         "longitude": {
          "floatList": {
           "value": [
            0
           ]
          }
         },
         "near": {
          "floatList": {
           "value": [
            0
           ]
          }
         },
         "pct_mortality": {
          "floatList": {
           "value": [
            0
           ]
          }
         },
         "prcp1": {
          "floatList": {
           "value": [
            0
           ]
          }
         },
         "prcp2": {
          "floatList": {
           "value": [
            0
           ]
          }
         },
         "prcp3": {
          "floatList": {
           "value": [
            0
           ]
          }
         },
         "prcp4": {
          "floatList": {
           "value": [
            0
           ]
          }
         },
         "rhost": {
          "floatList": {
           "value": [
            0
           ]
          }
         },
         "winter_tmin": {
          "floatList": {
           "value": [
            0
           ]
          }
         },
         "year": {
          "int64List": {
           "value": [
            "0"
           ]
          }
         }
        }
       }
      },
      "text/plain": [
       "<IPython.core.display.JSON object>"
      ]
     },
     "execution_count": 3,
     "metadata": {
      "application/json": {
       "expanded": false,
       "root": "root"
      }
     },
     "output_type": "execute_result"
    }
   ],
   "source": [
    "from google.protobuf import json_format\n",
    "from IPython.display import JSON\n",
    "\n",
    "ds = tf.data.TFRecordDataset(records)\n",
    "\n",
    "raw_record = next(ds.take(1).as_numpy_iterator())\n",
    "example = tf.train.Example()\n",
    "example.ParseFromString(raw_record)\n",
    "m = json.loads(json_format.MessageToJson(example))\n",
    "JSON(m)"
   ]
  },
  {
   "cell_type": "markdown",
   "id": "31dcadbe-e562-4442-a95a-b459fb80dd14",
   "metadata": {},
   "source": [
    "### Tensor spec\n",
    "With this data we are working with the (mostly) raw pixels as output by earth engine. So, we don't have to go through the trouble of making a TF Dataset. Instead we can just define the TensorSpec and go straight to preprocessing. Conveniently, everything here has the same shape so we can use the names from the above JSON to make the spec."
   ]
  },
  {
   "cell_type": "code",
   "execution_count": 4,
   "id": "912ec1ac-214f-405b-ba05-3aef96da403d",
   "metadata": {},
   "outputs": [
    {
     "data": {
      "text/plain": [
       "dict_keys(['year', 'longitude', 'latitude', 'prcp1', 'prcp2', 'prcp3', 'prcp4', 'winter_tmin', 'rhost', 'near', 'fire', 'pct_mortality'])"
      ]
     },
     "execution_count": 4,
     "metadata": {},
     "output_type": "execute_result"
    }
   ],
   "source": [
    "m[\"features\"][\"feature\"].keys()"
   ]
  },
  {
   "cell_type": "code",
   "execution_count": 5,
   "id": "7dac170f-d9a6-48e8-a628-a390d690299c",
   "metadata": {},
   "outputs": [],
   "source": [
    "spec = {\n",
    "    key: tf.io.FixedLenFeature([1], dtype=tf.int64 if key == \"year\" else tf.float32)\n",
    "    for key in m[\"features\"][\"feature\"].keys()\n",
    "}"
   ]
  },
  {
   "cell_type": "code",
   "execution_count": 6,
   "id": "9efe64cf-5f89-4699-b789-ea400ce8e96d",
   "metadata": {},
   "outputs": [],
   "source": [
    "def decode_record(proto):\n",
    "    return tf.io.parse_single_example(proto, spec)\n",
    "\n",
    "def empty_record(record):\n",
    "    return tf.math.count_nonzero(record[\"longitude\"]) > 0\n",
    "\n",
    "ds_dec = ds.map(decode_record).filter(empty_record)\n",
    "\n",
    "feature = next(ds_dec.take(1).as_numpy_iterator())"
   ]
  },
  {
   "cell_type": "code",
   "execution_count": 7,
   "id": "c9d6d48f-036c-4941-8d66-b8030c8a14c1",
   "metadata": {},
   "outputs": [
    {
     "data": {
      "text/plain": [
       "{'fire': array([0.], dtype=float32),\n",
       " 'latitude': array([42.006813], dtype=float32),\n",
       " 'longitude': array([-124.16514], dtype=float32),\n",
       " 'near': array([0.], dtype=float32),\n",
       " 'pct_mortality': array([0.], dtype=float32),\n",
       " 'prcp1': array([3606.8503], dtype=float32),\n",
       " 'prcp2': array([2628.6787], dtype=float32),\n",
       " 'prcp3': array([2036.879], dtype=float32),\n",
       " 'prcp4': array([1606.2972], dtype=float32),\n",
       " 'rhost': array([0.8273447], dtype=float32),\n",
       " 'winter_tmin': array([-1.6765052], dtype=float32),\n",
       " 'year': array([2018], dtype=int64)}"
      ]
     },
     "execution_count": 7,
     "metadata": {},
     "output_type": "execute_result"
    }
   ],
   "source": [
    "feature"
   ]
  },
  {
   "cell_type": "markdown",
   "id": "7f2b3caa-090c-4cc3-911f-7f82924fd29c",
   "metadata": {},
   "source": [
    "### Preprocessing\n",
    "\n",
    "To match the paper, we have to convert `pct_mortality` to a binary variable. Technically there's another model on top of this one that predicts area affected by mortality given that some mortality is predicted."
   ]
  },
  {
   "cell_type": "code",
   "execution_count": 8,
   "id": "129e63dc-abfb-4a83-a5dd-9289b0ae964c",
   "metadata": {},
   "outputs": [],
   "source": [
    "def preprocess(feature):\n",
    "    feature[\"pct_mortality\"] = tf.math.greater(feature[\"pct_mortality\"], 0)\n",
    "\n",
    "    output = feature.pop(\"pct_mortality\")\n",
    "\n",
    "    # Example, target, sample weight\n",
    "    return feature, {\"pct_mortality\": output}\n",
    "\n",
    "ds_proc = ds_dec.map(preprocess)\n",
    "\n",
    "feature = next(ds_proc.take(1).as_numpy_iterator())"
   ]
  },
  {
   "cell_type": "code",
   "execution_count": 9,
   "id": "3244a7a7-0bad-45d9-9fbd-f9479a5d7ada",
   "metadata": {},
   "outputs": [
    {
     "data": {
      "text/plain": [
       "({'fire': array([0.], dtype=float32),\n",
       "  'latitude': array([42.006813], dtype=float32),\n",
       "  'longitude': array([-124.16514], dtype=float32),\n",
       "  'near': array([0.], dtype=float32),\n",
       "  'prcp1': array([3606.8503], dtype=float32),\n",
       "  'prcp2': array([2628.6787], dtype=float32),\n",
       "  'prcp3': array([2036.879], dtype=float32),\n",
       "  'prcp4': array([1606.2972], dtype=float32),\n",
       "  'rhost': array([0.8273447], dtype=float32),\n",
       "  'winter_tmin': array([-1.6765052], dtype=float32),\n",
       "  'year': array([2018], dtype=int64)},\n",
       " {'pct_mortality': array([False])})"
      ]
     },
     "execution_count": 9,
     "metadata": {},
     "output_type": "execute_result"
    }
   ],
   "source": [
    "feature"
   ]
  },
  {
   "cell_type": "markdown",
   "id": "e7ada927-5e7a-43fa-b46d-8090280f9a05",
   "metadata": {},
   "source": [
    "### Model building"
   ]
  },
  {
   "cell_type": "code",
   "execution_count": 10,
   "id": "9757811c-22bc-459f-9247-2a1edec7892d",
   "metadata": {},
   "outputs": [
    {
     "name": "stdout",
     "output_type": "stream",
     "text": [
      "Model: \"model\"\n",
      "__________________________________________________________________________________________________\n",
      " Layer (type)                   Output Shape         Param #     Connected to                     \n",
      "==================================================================================================\n",
      " fire (InputLayer)              [(None, 1)]          0           []                               \n",
      "                                                                                                  \n",
      " latitude (InputLayer)          [(None, 1)]          0           []                               \n",
      "                                                                                                  \n",
      " longitude (InputLayer)         [(None, 1)]          0           []                               \n",
      "                                                                                                  \n",
      " near (InputLayer)              [(None, 1)]          0           []                               \n",
      "                                                                                                  \n",
      " prcp1 (InputLayer)             [(None, 1)]          0           []                               \n",
      "                                                                                                  \n",
      " prcp2 (InputLayer)             [(None, 1)]          0           []                               \n",
      "                                                                                                  \n",
      " prcp3 (InputLayer)             [(None, 1)]          0           []                               \n",
      "                                                                                                  \n",
      " prcp4 (InputLayer)             [(None, 1)]          0           []                               \n",
      "                                                                                                  \n",
      " rhost (InputLayer)             [(None, 1)]          0           []                               \n",
      "                                                                                                  \n",
      " winter_tmin (InputLayer)       [(None, 1)]          0           []                               \n",
      "                                                                                                  \n",
      " concatenate (Concatenate)      (None, 10)           0           ['fire[0][0]',                   \n",
      "                                                                  'latitude[0][0]',               \n",
      "                                                                  'longitude[0][0]',              \n",
      "                                                                  'near[0][0]',                   \n",
      "                                                                  'prcp1[0][0]',                  \n",
      "                                                                  'prcp2[0][0]',                  \n",
      "                                                                  'prcp3[0][0]',                  \n",
      "                                                                  'prcp4[0][0]',                  \n",
      "                                                                  'rhost[0][0]',                  \n",
      "                                                                  'winter_tmin[0][0]']            \n",
      "                                                                                                  \n",
      " batch_normalization (BatchNorm  (None, 10)          40          ['concatenate[0][0]']            \n",
      " alization)                                                                                       \n",
      "                                                                                                  \n",
      " dense (Dense)                  (None, 128)          1408        ['batch_normalization[0][0]']    \n",
      "                                                                                                  \n",
      " dense_1 (Dense)                (None, 16)           2064        ['dense[0][0]']                  \n",
      "                                                                                                  \n",
      " dense_2 (Dense)                (None, 8)            136         ['dense_1[0][0]']                \n",
      "                                                                                                  \n",
      " pct_mortality (Dense)          (None, 1)            9           ['dense_2[0][0]']                \n",
      "                                                                                                  \n",
      "==================================================================================================\n",
      "Total params: 3,657\n",
      "Trainable params: 3,637\n",
      "Non-trainable params: 20\n",
      "__________________________________________________________________________________________________\n"
     ]
    }
   ],
   "source": [
    "import tensorflow.keras as keras\n",
    "\n",
    "REG  = keras.regularizers.L1(0.001)\n",
    "DROP = 0.05\n",
    "ACT  = \"relu\"\n",
    "\n",
    "# print(sorted(list(spec.keys())))\n",
    "\n",
    "def build_preisler_model():\n",
    "    # Inputs\n",
    "    inputs =  [\n",
    "        keras.layers.Input(shape=(1,), name=key)\n",
    "        for key in sorted(list(spec.keys())) \n",
    "        if key not in [\"pct_mortality\", \"year\"]\n",
    "    ]\n",
    "\n",
    "    # Concatenate all the inputs together\n",
    "    concat = keras.layers.Concatenate(axis=1)(inputs)\n",
    "\n",
    "    # Normalize each parameter independently\n",
    "    norm = keras.layers.BatchNormalization(axis=1)(concat)\n",
    "\n",
    "    # Feed normalized data to a few dense layers with dropout\n",
    "    d1 = keras.layers.Dense(128, activation=ACT)(norm)\n",
    "    # drop1 = keras.layers.Dropout(DROP)(d1)\n",
    "    d2 = keras.layers.Dense(16, activation=ACT)(d1)\n",
    "    # drop2 = keras.layers.Dropout(DROP)(d2)\n",
    "    d3 = keras.layers.Dense(8, activation=ACT)(d2)\n",
    "\n",
    "    # Connect to output\n",
    "    out = keras.layers.Dense(1, activation=\"sigmoid\", name=\"pct_mortality\")(d3)\n",
    "\n",
    "    return keras.models.Model(inputs=inputs, outputs=out)\n",
    "\n",
    "model = build_preisler_model()\n",
    "model.summary()"
   ]
  },
  {
   "cell_type": "markdown",
   "id": "9b374961-9156-4c00-bf59-cb74e4fee087",
   "metadata": {},
   "source": [
    "### Train-test-validate split"
   ]
  },
  {
   "cell_type": "code",
   "execution_count": 11,
   "id": "38ebe830-7711-4445-b62b-809fcbe9f133",
   "metadata": {},
   "outputs": [
    {
     "name": "stdout",
     "output_type": "stream",
     "text": [
      "Cells with mortality\t 1275\n",
      "Cells without mortality\t 2225\n"
     ]
    }
   ],
   "source": [
    "from matplotlib import pyplot as plt\n",
    "import numpy as np\n",
    "\n",
    "n_total = 5000\n",
    "n_train = int(n_total * 0.70)\n",
    "n_test  = int(n_total * 0.15)\n",
    "n_valid = int(n_total * 0.15)\n",
    "batch_size = 256\n",
    "\n",
    "ds_train = ds_proc.take(n_train).shuffle(100).batch(batch_size)\n",
    "ds_test  = ds_proc.skip(n_train).take(n_test).shuffle(100).batch(batch_size)\n",
    "ds_valid = ds_proc.skip(n_train+n_test).take(n_valid).shuffle(100).batch(batch_size)\n",
    "\n",
    "# Check distribution of response in training data\n",
    "y_train = [[ex[1][\"pct_mortality\"].numpy() for ex in ds_train]]\n",
    "y_train = np.concatenate(y_train[0]).squeeze()\n",
    "\n",
    "# Regression version\n",
    "# plt.hist(y_train)\n",
    "# plt.show()\n",
    "\n",
    "# Classification version\n",
    "print(\"Cells with mortality\\t\", np.sum(y_train > 0))\n",
    "print(\"Cells without mortality\\t\", np.sum(y_train == 0))"
   ]
  },
  {
   "cell_type": "markdown",
   "id": "ee84bf21-10fd-4069-b590-59f53c274372",
   "metadata": {},
   "source": [
    "### Model training"
   ]
  },
  {
   "cell_type": "code",
   "execution_count": 12,
   "id": "3a2d8eb1-f8ab-4efd-9d54-48c17a126de2",
   "metadata": {},
   "outputs": [],
   "source": [
    "# Reset weights\n",
    "model = build_preisler_model()\n",
    "\n",
    "# Metric to monitor class imbalance\n",
    "def pct_positive_cases(y_true, y_pred):\n",
    "    return tf.math.reduce_mean(y_true)\n",
    "\n",
    "model.compile(\n",
    "    loss=\"binary_crossentropy\",\n",
    "    optimizer=keras.optimizers.Adam(learning_rate=0.005),\n",
    "    metrics=[\n",
    "        keras.metrics.Precision(),\n",
    "        keras.metrics.Recall(),\n",
    "        keras.metrics.AUC(),\n",
    "        pct_positive_cases\n",
    "    ],\n",
    "    weighted_metrics=[]\n",
    ")"
   ]
  },
  {
   "cell_type": "code",
   "execution_count": 14,
   "id": "2dd9e588-9980-47dc-a500-420531f87b23",
   "metadata": {},
   "outputs": [],
   "source": [
    "# Callbacks\n",
    "earlystop = keras.callbacks.EarlyStopping(monitor=\"loss\", patience=3)\n",
    "checkpoint = keras.callbacks.ModelCheckpoint(\"tmp/preisler_model.keras\")\n",
    "logdir = \"logs/\"\n",
    "tensorboard_callback = tf.keras.callbacks.TensorBoard(logdir, histogram_freq=1)"
   ]
  },
  {
   "cell_type": "code",
   "execution_count": 15,
   "id": "5376d984-9152-41ed-b9f5-2d7fa2e4b19a",
   "metadata": {},
   "outputs": [
    {
     "name": "stderr",
     "output_type": "stream",
     "text": [
      "C:\\Users\\rsgal\\miniconda3\\envs\\gee\\lib\\site-packages\\keras\\engine\\functional.py:637: UserWarning: Input dict contained keys ['year'] which did not match any model input. They will be ignored by the model.\n",
      "  inputs = self._flatten_to_reference_inputs(inputs)\n"
     ]
    }
   ],
   "source": [
    "history = model.fit(\n",
    "    x=ds_train,\n",
    "    validation_data=ds_valid,\n",
    "    epochs=100,\n",
    "    verbose=0,\n",
    "    callbacks=[earlystop, checkpoint, tensorboard_callback]\n",
    ")"
   ]
  },
  {
   "cell_type": "code",
   "execution_count": 16,
   "id": "dfca9688-748a-4cda-aa7c-ef696e8fb393",
   "metadata": {},
   "outputs": [
    {
     "data": {
      "image/png": "[encoded data removed]",
      "text/plain": [
       "<Figure size 640x480 with 1 Axes>"
      ]
     },
     "metadata": {},
     "output_type": "display_data"
    }
   ],
   "source": [
    "plt.plot(history.history['loss'])\n",
    "plt.plot(history.history['val_loss'])\n",
    "plt.ylabel('Binary crossentropy')\n",
    "plt.xlabel('epoch')\n",
    "plt.legend(['train', 'val'], loc='upper right')\n",
    "plt.show()"
   ]
  },
  {
   "cell_type": "markdown",
   "id": "1613aaec-6b17-4811-9b38-dbf7552aa33e",
   "metadata": {},
   "source": [
    "### Show fit on training data"
   ]
  },
  {
   "cell_type": "code",
   "execution_count": 18,
   "id": "0f7643c0-c87c-4a9e-a31a-dd017514606e",
   "metadata": {},
   "outputs": [
    {
     "name": "stdout",
     "output_type": "stream",
     "text": [
      "14/14 [==============================] - 2s 27ms/step\n"
     ]
    },
    {
     "data": {
      "image/png": "[encoded data removed]",
      "text/plain": [
       "<Figure size 640x480 with 2 Axes>"
      ]
     },
     "metadata": {},
     "output_type": "display_data"
    }
   ],
   "source": [
    "y_train_hat = model.predict(ds_train)\n",
    "y_train_hat_classif = y_train_hat > 0.5\n",
    "\n",
    "ConfusionMatrixDisplay.from_predictions(y_train, y_train_hat_classif)\n",
    "plt.show()"
   ]
  },
  {
   "cell_type": "code",
   "execution_count": 19,
   "id": "63bdce89-0ffc-4fe9-a061-502782282502",
   "metadata": {},
   "outputs": [
    {
     "data": {
      "image/png": "[encoded data removed]",
      "text/plain": [
       "<Figure size 640x480 with 1 Axes>"
      ]
     },
     "metadata": {},
     "output_type": "display_data"
    }
   ],
   "source": [
    "plt.hist(y_train_hat)\n",
    "plt.show()"
   ]
  },
  {
   "cell_type": "markdown",
   "id": "add7ca41-5527-419c-b06f-583d4db3c79c",
   "metadata": {},
   "source": [
    "### Evaluate on new data"
   ]
  },
  {
   "cell_type": "code",
   "execution_count": 20,
   "id": "8d6539e2-b564-49e4-a421-1a8137b20286",
   "metadata": {},
   "outputs": [
    {
     "name": "stdout",
     "output_type": "stream",
     "text": [
      "3/3 [==============================] - 2s 29ms/step\n"
     ]
    },
    {
     "data": {
      "image/png": "[encoded data removed]",
      "text/plain": [
       "<Figure size 640x480 with 2 Axes>"
      ]
     },
     "metadata": {},
     "output_type": "display_data"
    }
   ],
   "source": [
    "y_test = [[ex[1][\"pct_mortality\"].numpy() for ex in ds_test]]\n",
    "y_test = np.concatenate(y_test[0]).squeeze()\n",
    "\n",
    "y_pred = model.predict(ds_test)\n",
    "ConfusionMatrixDisplay.from_predictions(y_test, y_pred > 0.5)\n",
    "plt.show()"
   ]
  },
  {
   "cell_type": "markdown",
   "id": "1b144a14-58f5-43f0-b7b4-a1243eef5d7f",
   "metadata": {
    "jp-MarkdownHeadingCollapsed": true
   },
   "source": [
    "## Version with rectangular data"
   ]
  },
  {
   "cell_type": "code",
   "execution_count": 19,
   "id": "7d470897-3a96-42cb-8e5c-4607233d7072",
   "metadata": {},
   "outputs": [
    {
     "data": {
      "text/html": [
       "<div>\n",
       "<style scoped>\n",
       "    .dataframe tbody tr th:only-of-type {\n",
       "        vertical-align: middle;\n",
       "    }\n",
       "\n",
       "    .dataframe tbody tr th {\n",
       "        vertical-align: top;\n",
       "    }\n",
       "\n",
       "    .dataframe thead th {\n",
       "        text-align: right;\n",
       "    }\n",
       "</style>\n",
       "<table border=\"1\" class=\"dataframe\">\n",
       "  <thead>\n",
       "    <tr style=\"text-align: right;\">\n",
       "      <th></th>\n",
       "      <th>fire</th>\n",
       "      <th>latitude</th>\n",
       "      <th>longitude</th>\n",
       "      <th>near</th>\n",
       "      <th>pct_mortality</th>\n",
       "      <th>prcp1</th>\n",
       "      <th>prcp2</th>\n",
       "      <th>prcp3</th>\n",
       "      <th>prcp4</th>\n",
       "      <th>rhost</th>\n",
       "      <th>winter_tmin</th>\n",
       "      <th>year</th>\n",
       "    </tr>\n",
       "  </thead>\n",
       "  <tbody>\n",
       "    <tr>\n",
       "      <th>0</th>\n",
       "      <td>0.0</td>\n",
       "      <td>39.364372</td>\n",
       "      <td>-120.643743</td>\n",
       "      <td>0.0</td>\n",
       "      <td>0.0</td>\n",
       "      <td>2165.096253</td>\n",
       "      <td>2625.065732</td>\n",
       "      <td>2528.197322</td>\n",
       "      <td>2350.336264</td>\n",
       "      <td>0.997197</td>\n",
       "      <td>-9.364091</td>\n",
       "      <td>2000</td>\n",
       "    </tr>\n",
       "    <tr>\n",
       "      <th>1</th>\n",
       "      <td>0.0</td>\n",
       "      <td>38.357131</td>\n",
       "      <td>-120.284417</td>\n",
       "      <td>0.0</td>\n",
       "      <td>0.0</td>\n",
       "      <td>1313.865375</td>\n",
       "      <td>2099.670087</td>\n",
       "      <td>1540.242359</td>\n",
       "      <td>1516.318232</td>\n",
       "      <td>1.000000</td>\n",
       "      <td>-7.670080</td>\n",
       "      <td>2000</td>\n",
       "    </tr>\n",
       "    <tr>\n",
       "      <th>2</th>\n",
       "      <td>0.0</td>\n",
       "      <td>37.961582</td>\n",
       "      <td>-119.565764</td>\n",
       "      <td>0.0</td>\n",
       "      <td>0.0</td>\n",
       "      <td>826.657742</td>\n",
       "      <td>1415.066463</td>\n",
       "      <td>1230.405996</td>\n",
       "      <td>1064.524727</td>\n",
       "      <td>0.917275</td>\n",
       "      <td>-12.647418</td>\n",
       "      <td>2000</td>\n",
       "    </tr>\n",
       "    <tr>\n",
       "      <th>3</th>\n",
       "      <td>0.0</td>\n",
       "      <td>40.766764</td>\n",
       "      <td>-121.003069</td>\n",
       "      <td>0.0</td>\n",
       "      <td>0.0</td>\n",
       "      <td>776.796833</td>\n",
       "      <td>1317.913046</td>\n",
       "      <td>939.542740</td>\n",
       "      <td>998.941222</td>\n",
       "      <td>0.991734</td>\n",
       "      <td>-14.273738</td>\n",
       "      <td>2000</td>\n",
       "    </tr>\n",
       "    <tr>\n",
       "      <th>4</th>\n",
       "      <td>0.0</td>\n",
       "      <td>39.558565</td>\n",
       "      <td>-120.176619</td>\n",
       "      <td>0.0</td>\n",
       "      <td>0.0</td>\n",
       "      <td>815.862638</td>\n",
       "      <td>1034.520669</td>\n",
       "      <td>1020.311838</td>\n",
       "      <td>1014.091595</td>\n",
       "      <td>1.000000</td>\n",
       "      <td>-13.128885</td>\n",
       "      <td>2000</td>\n",
       "    </tr>\n",
       "  </tbody>\n",
       "</table>\n",
       "</div>"
      ],
      "text/plain": [
       "   fire   latitude   longitude  near  pct_mortality        prcp1        prcp2  \\\n",
       "0   0.0  39.364372 -120.643743   0.0            0.0  2165.096253  2625.065732   \n",
       "1   0.0  38.357131 -120.284417   0.0            0.0  1313.865375  2099.670087   \n",
       "2   0.0  37.961582 -119.565764   0.0            0.0   826.657742  1415.066463   \n",
       "3   0.0  40.766764 -121.003069   0.0            0.0   776.796833  1317.913046   \n",
       "4   0.0  39.558565 -120.176619   0.0            0.0   815.862638  1034.520669   \n",
       "\n",
       "         prcp3        prcp4     rhost  winter_tmin  year  \n",
       "0  2528.197322  2350.336264  0.997197    -9.364091  2000  \n",
       "1  1540.242359  1516.318232  1.000000    -7.670080  2000  \n",
       "2  1230.405996  1064.524727  0.917275   -12.647418  2000  \n",
       "3   939.542740   998.941222  0.991734   -14.273738  2000  \n",
       "4  1020.311838  1014.091595  1.000000   -13.128885  2000  "
      ]
     },
     "execution_count": 19,
     "metadata": {},
     "output_type": "execute_result"
    }
   ],
   "source": [
    "import pandas as pd\n",
    "rect = pd.read_csv(\"gs://preisler_tfdata/preisler-tensors-rectangular.csv\")\n",
    "rect.drop(labels=[\"system:index\", \".geo\"], inplace=True, axis=1)\n",
    "rect.head()"
   ]
  },
  {
   "cell_type": "code",
   "execution_count": 20,
   "id": "747b624f-3f88-48b2-a0fc-4747862f0cd7",
   "metadata": {},
   "outputs": [
    {
     "data": {
      "text/plain": [
       "(16428, 12)"
      ]
     },
     "execution_count": 20,
     "metadata": {},
     "output_type": "execute_result"
    }
   ],
   "source": [
    "rect.shape"
   ]
  },
  {
   "cell_type": "markdown",
   "id": "05e9d04c-2285-4933-9beb-667b91e17da1",
   "metadata": {},
   "source": [
    "If we manually scale the data and use a model without batch normalization, does the model perform better?"
   ]
  },
  {
   "cell_type": "code",
   "execution_count": 21,
   "id": "b3114437-3975-45b8-a133-6e65715703bd",
   "metadata": {},
   "outputs": [
    {
     "data": {
      "text/html": [
       "<div>\n",
       "<style scoped>\n",
       "    .dataframe tbody tr th:only-of-type {\n",
       "        vertical-align: middle;\n",
       "    }\n",
       "\n",
       "    .dataframe tbody tr th {\n",
       "        vertical-align: top;\n",
       "    }\n",
       "\n",
       "    .dataframe thead th {\n",
       "        text-align: right;\n",
       "    }\n",
       "</style>\n",
       "<table border=\"1\" class=\"dataframe\">\n",
       "  <thead>\n",
       "    <tr style=\"text-align: right;\">\n",
       "      <th></th>\n",
       "      <th>fire</th>\n",
       "      <th>latitude</th>\n",
       "      <th>longitude</th>\n",
       "      <th>near</th>\n",
       "      <th>prcp1</th>\n",
       "      <th>prcp2</th>\n",
       "      <th>prcp3</th>\n",
       "      <th>prcp4</th>\n",
       "      <th>rhost</th>\n",
       "      <th>winter_tmin</th>\n",
       "      <th>year</th>\n",
       "    </tr>\n",
       "  </thead>\n",
       "  <tbody>\n",
       "    <tr>\n",
       "      <th>count</th>\n",
       "      <td>1.642800e+04</td>\n",
       "      <td>1.642800e+04</td>\n",
       "      <td>1.642800e+04</td>\n",
       "      <td>1.642800e+04</td>\n",
       "      <td>1.642800e+04</td>\n",
       "      <td>1.642800e+04</td>\n",
       "      <td>1.642800e+04</td>\n",
       "      <td>1.642800e+04</td>\n",
       "      <td>1.642800e+04</td>\n",
       "      <td>1.642800e+04</td>\n",
       "      <td>1.642800e+04</td>\n",
       "    </tr>\n",
       "    <tr>\n",
       "      <th>mean</th>\n",
       "      <td>-1.197898e-14</td>\n",
       "      <td>-2.036901e-13</td>\n",
       "      <td>5.590738e-13</td>\n",
       "      <td>2.119797e-15</td>\n",
       "      <td>-2.149040e-15</td>\n",
       "      <td>-9.238545e-16</td>\n",
       "      <td>-2.609136e-15</td>\n",
       "      <td>-9.327144e-16</td>\n",
       "      <td>-1.514834e-14</td>\n",
       "      <td>1.493915e-16</td>\n",
       "      <td>8.314589e-15</td>\n",
       "    </tr>\n",
       "    <tr>\n",
       "      <th>std</th>\n",
       "      <td>1.000000e+00</td>\n",
       "      <td>1.000000e+00</td>\n",
       "      <td>1.000000e+00</td>\n",
       "      <td>1.000000e+00</td>\n",
       "      <td>1.000000e+00</td>\n",
       "      <td>1.000000e+00</td>\n",
       "      <td>1.000000e+00</td>\n",
       "      <td>1.000000e+00</td>\n",
       "      <td>1.000000e+00</td>\n",
       "      <td>1.000000e+00</td>\n",
       "      <td>1.000000e+00</td>\n",
       "    </tr>\n",
       "    <tr>\n",
       "      <th>min</th>\n",
       "      <td>-2.206856e-01</td>\n",
       "      <td>-2.575962e+00</td>\n",
       "      <td>-1.817177e+00</td>\n",
       "      <td>-4.930066e-01</td>\n",
       "      <td>-1.562842e+00</td>\n",
       "      <td>-1.572711e+00</td>\n",
       "      <td>-1.663400e+00</td>\n",
       "      <td>-1.667384e+00</td>\n",
       "      <td>-1.508965e+00</td>\n",
       "      <td>-3.830124e+00</td>\n",
       "      <td>-1.958816e+00</td>\n",
       "    </tr>\n",
       "    <tr>\n",
       "      <th>25%</th>\n",
       "      <td>-2.206856e-01</td>\n",
       "      <td>-7.297761e-01</td>\n",
       "      <td>-8.950848e-01</td>\n",
       "      <td>-4.930066e-01</td>\n",
       "      <td>-7.605963e-01</td>\n",
       "      <td>-7.500063e-01</td>\n",
       "      <td>-7.696947e-01</td>\n",
       "      <td>-7.755382e-01</td>\n",
       "      <td>-1.182704e+00</td>\n",
       "      <td>-7.761360e-01</td>\n",
       "      <td>-8.170477e-01</td>\n",
       "    </tr>\n",
       "    <tr>\n",
       "      <th>50%</th>\n",
       "      <td>-2.206856e-01</td>\n",
       "      <td>2.031942e-01</td>\n",
       "      <td>7.797297e-03</td>\n",
       "      <td>-4.720559e-01</td>\n",
       "      <td>-2.347033e-01</td>\n",
       "      <td>-2.370821e-01</td>\n",
       "      <td>-2.277868e-01</td>\n",
       "      <td>-2.248279e-01</td>\n",
       "      <td>4.491864e-01</td>\n",
       "      <td>1.518011e-01</td>\n",
       "      <td>-1.499243e-03</td>\n",
       "    </tr>\n",
       "    <tr>\n",
       "      <th>75%</th>\n",
       "      <td>-2.206856e-01</td>\n",
       "      <td>8.555440e-01</td>\n",
       "      <td>6.801563e-01</td>\n",
       "      <td>-5.304195e-02</td>\n",
       "      <td>5.505130e-01</td>\n",
       "      <td>5.460332e-01</td>\n",
       "      <td>5.811095e-01</td>\n",
       "      <td>5.952271e-01</td>\n",
       "      <td>9.212638e-01</td>\n",
       "      <td>8.539091e-01</td>\n",
       "      <td>8.140492e-01</td>\n",
       "    </tr>\n",
       "    <tr>\n",
       "      <th>max</th>\n",
       "      <td>1.005337e+01</td>\n",
       "      <td>1.402949e+00</td>\n",
       "      <td>2.428290e+00</td>\n",
       "      <td>4.744668e+00</td>\n",
       "      <td>6.612845e+00</td>\n",
       "      <td>6.533966e+00</td>\n",
       "      <td>5.067192e+00</td>\n",
       "      <td>5.008829e+00</td>\n",
       "      <td>9.971658e-01</td>\n",
       "      <td>2.094110e+00</td>\n",
       "      <td>1.792707e+00</td>\n",
       "    </tr>\n",
       "  </tbody>\n",
       "</table>\n",
       "</div>"
      ],
      "text/plain": [
       "               fire      latitude     longitude          near         prcp1  \\\n",
       "count  1.642800e+04  1.642800e+04  1.642800e+04  1.642800e+04  1.642800e+04   \n",
       "mean  -1.197898e-14 -2.036901e-13  5.590738e-13  2.119797e-15 -2.149040e-15   \n",
       "std    1.000000e+00  1.000000e+00  1.000000e+00  1.000000e+00  1.000000e+00   \n",
       "min   -2.206856e-01 -2.575962e+00 -1.817177e+00 -4.930066e-01 -1.562842e+00   \n",
       "25%   -2.206856e-01 -7.297761e-01 -8.950848e-01 -4.930066e-01 -7.605963e-01   \n",
       "50%   -2.206856e-01  2.031942e-01  7.797297e-03 -4.720559e-01 -2.347033e-01   \n",
       "75%   -2.206856e-01  8.555440e-01  6.801563e-01 -5.304195e-02  5.505130e-01   \n",
       "max    1.005337e+01  1.402949e+00  2.428290e+00  4.744668e+00  6.612845e+00   \n",
       "\n",
       "              prcp2         prcp3         prcp4         rhost   winter_tmin  \\\n",
       "count  1.642800e+04  1.642800e+04  1.642800e+04  1.642800e+04  1.642800e+04   \n",
       "mean  -9.238545e-16 -2.609136e-15 -9.327144e-16 -1.514834e-14  1.493915e-16   \n",
       "std    1.000000e+00  1.000000e+00  1.000000e+00  1.000000e+00  1.000000e+00   \n",
       "min   -1.572711e+00 -1.663400e+00 -1.667384e+00 -1.508965e+00 -3.830124e+00   \n",
       "25%   -7.500063e-01 -7.696947e-01 -7.755382e-01 -1.182704e+00 -7.761360e-01   \n",
       "50%   -2.370821e-01 -2.277868e-01 -2.248279e-01  4.491864e-01  1.518011e-01   \n",
       "75%    5.460332e-01  5.811095e-01  5.952271e-01  9.212638e-01  8.539091e-01   \n",
       "max    6.533966e+00  5.067192e+00  5.008829e+00  9.971658e-01  2.094110e+00   \n",
       "\n",
       "               year  \n",
       "count  1.642800e+04  \n",
       "mean   8.314589e-15  \n",
       "std    1.000000e+00  \n",
       "min   -1.958816e+00  \n",
       "25%   -8.170477e-01  \n",
       "50%   -1.499243e-03  \n",
       "75%    8.140492e-01  \n",
       "max    1.792707e+00  "
      ]
     },
     "execution_count": 21,
     "metadata": {},
     "output_type": "execute_result"
    }
   ],
   "source": [
    "# From https://keras.io/examples/timeseries/timeseries_weather_forecasting/\n",
    "def normalize(data):\n",
    "    data_mean = data.mean(axis=0)\n",
    "    data_std = data.std(axis=0)\n",
    "    return (data - data_mean) / data_std\n",
    "\n",
    "rect_norm = normalize(rect.drop(\"pct_mortality\", axis=1))\n",
    "# Verify that it is properly normalized\n",
    "rect_norm.describe()"
   ]
  },
  {
   "cell_type": "code",
   "execution_count": 22,
   "id": "0ac5f053-dd4a-46a4-bcc8-b906712aa5ea",
   "metadata": {},
   "outputs": [
    {
     "name": "stdout",
     "output_type": "stream",
     "text": [
      "Model: \"model_2\"\n",
      "_________________________________________________________________\n",
      " Layer (type)                Output Shape              Param #   \n",
      "=================================================================\n",
      " input (InputLayer)          [(None, 11)]              0         \n",
      "                                                                 \n",
      " dense_6 (Dense)             (None, 128)               1536      \n",
      "                                                                 \n",
      " dense_7 (Dense)             (None, 64)                8256      \n",
      "                                                                 \n",
      " pct_mortality (Dense)       (None, 1)                 65        \n",
      "                                                                 \n",
      "=================================================================\n",
      "Total params: 9,857\n",
      "Trainable params: 9,857\n",
      "Non-trainable params: 0\n",
      "_________________________________________________________________\n"
     ]
    }
   ],
   "source": [
    "ACT = \"relu\"\n",
    "\n",
    "def build_nobn_model():\n",
    "    # Same model as before, just without batch normalization\n",
    "        # Inputs\n",
    "    inputs =  keras.layers.Input(shape=(11,), name=\"input\")\n",
    "\n",
    "    # Feed normalized data to a few dense layers\n",
    "    d1 = keras.layers.Dense(128, activation=ACT)(inputs)\n",
    "    #d2 = keras.layers.Dense(16, activation=ACT)(d1)\n",
    "    d3 = keras.layers.Dense(64,  activation=ACT)(d1)\n",
    "\n",
    "    # Connect to output\n",
    "    out = keras.layers.Dense(1, activation=\"sigmoid\", name=\"pct_mortality\")(d3)\n",
    "\n",
    "    return keras.models.Model(inputs=inputs, outputs=out)\n",
    "\n",
    "model_nobn = build_nobn_model()\n",
    "model_nobn.summary()"
   ]
  },
  {
   "cell_type": "code",
   "execution_count": 23,
   "id": "2268a4e4-d341-4a17-a4b9-dea05be8afd5",
   "metadata": {},
   "outputs": [],
   "source": [
    "model_nobn.compile(\n",
    "    loss=\"binary_crossentropy\",\n",
    "    optimizer=keras.optimizers.Adam(learning_rate=1e-3),\n",
    "    metrics=[\n",
    "        keras.metrics.Precision(),\n",
    "        keras.metrics.Recall(),\n",
    "        keras.metrics.AUC(),\n",
    "        pct_positive_cases\n",
    "    ],\n",
    "    weighted_metrics=[]\n",
    ")"
   ]
  },
  {
   "cell_type": "code",
   "execution_count": 24,
   "id": "a4e4fb6b-2c31-4a88-9fee-b66bac1447fe",
   "metadata": {},
   "outputs": [
    {
     "name": "stdout",
     "output_type": "stream",
     "text": [
      "Epoch 1/10\n",
      "514/514 [==============================] - 1s 1ms/step - loss: 0.4958 - precision_1: 0.6905 - recall_1: 0.5004 - auc_1: 0.8112 - pct_positive_cases: 0.3392\n",
      "Epoch 2/10\n",
      "514/514 [==============================] - 1s 1ms/step - loss: 0.4610 - precision_1: 0.7010 - recall_1: 0.5945 - auc_1: 0.8397 - pct_positive_cases: 0.3393\n",
      "Epoch 3/10\n",
      "514/514 [==============================] - 1s 1ms/step - loss: 0.4482 - precision_1: 0.7110 - recall_1: 0.6174 - auc_1: 0.8499 - pct_positive_cases: 0.3392\n",
      "Epoch 4/10\n",
      "514/514 [==============================] - 1s 1ms/step - loss: 0.4402 - precision_1: 0.7168 - recall_1: 0.6253 - auc_1: 0.8555 - pct_positive_cases: 0.3392\n",
      "Epoch 5/10\n",
      "514/514 [==============================] - 1s 1ms/step - loss: 0.4342 - precision_1: 0.7224 - recall_1: 0.6356 - auc_1: 0.8599 - pct_positive_cases: 0.3392\n",
      "Epoch 6/10\n",
      "514/514 [==============================] - 1s 1ms/step - loss: 0.4285 - precision_1: 0.7255 - recall_1: 0.6436 - auc_1: 0.8641 - pct_positive_cases: 0.3393\n",
      "Epoch 7/10\n",
      "514/514 [==============================] - 1s 1ms/step - loss: 0.4235 - precision_1: 0.7317 - recall_1: 0.6494 - auc_1: 0.8671 - pct_positive_cases: 0.3392\n",
      "Epoch 8/10\n",
      "514/514 [==============================] - 1s 1ms/step - loss: 0.4201 - precision_1: 0.7365 - recall_1: 0.6546 - auc_1: 0.8696 - pct_positive_cases: 0.3395\n",
      "Epoch 9/10\n",
      "514/514 [==============================] - 1s 1ms/step - loss: 0.4173 - precision_1: 0.7386 - recall_1: 0.6551 - auc_1: 0.8715 - pct_positive_cases: 0.3392\n",
      "Epoch 10/10\n",
      "514/514 [==============================] - 1s 2ms/step - loss: 0.4120 - precision_1: 0.7425 - recall_1: 0.6598 - auc_1: 0.8749 - pct_positive_cases: 0.3392\n"
     ]
    }
   ],
   "source": [
    "X = rect_norm\n",
    "y = rect[\"pct_mortality\"] > 0\n",
    "\n",
    "history = model_nobn.fit(\n",
    "    x=X,\n",
    "    y=y,\n",
    "    epochs=10,\n",
    "    verbose=1\n",
    ")"
   ]
  },
  {
   "cell_type": "code",
   "execution_count": 25,
   "id": "1fada814-e453-4158-95b7-5cf690862a4a",
   "metadata": {},
   "outputs": [
    {
     "name": "stdout",
     "output_type": "stream",
     "text": [
      "514/514 [==============================] - 1s 909us/step\n"
     ]
    },
    {
     "data": {
      "image/png": "[encoded data removed]",
      "text/plain": [
       "<Figure size 640x480 with 1 Axes>"
      ]
     },
     "metadata": {},
     "output_type": "display_data"
    }
   ],
   "source": [
    "# See distribution of predictions\n",
    "yhat = model_nobn.predict(X)\n",
    "plt.hist(yhat)\n",
    "plt.xlabel(\"Mortality probability\")\n",
    "plt.ylabel(\"Number of cells\")\n",
    "plt.show()"
   ]
  }
 ],
 "metadata": {
  "kernelspec": {
   "display_name": "Python 3 (ipykernel)",
   "language": "python",
   "name": "python3"
  },
  "language_info": {
   "codemirror_mode": {
    "name": "ipython",
    "version": 3
   },
   "file_extension": ".py",
   "mimetype": "text/x-python",
   "name": "python",
   "nbconvert_exporter": "python",
   "pygments_lexer": "ipython3",
   "version": "3.10.13"
  }
 },
 "nbformat": 4,
 "nbformat_minor": 5
}
