{
 "cells": [
  {
   "cell_type": "markdown",
   "id": "3446f3b2-33ea-4432-977f-dd8a2a7a005a",
   "metadata": {},
   "source": [
    "## Replicate model in Preisler et al. (2017)\n",
    "\n",
    "Their approach was to use a general additive model with a logit link function. GAMs are hard to implement in Python and do not play well with tensorflow. We will approximate this with a dense neural network with a logit activation function in the output node."
   ]
  },
  {
   "cell_type": "code",
   "execution_count": 1,
   "id": "035bfb8b-e1e2-49e1-a5e6-7818e1ba3e9e",
   "metadata": {},
   "outputs": [
    {
     "name": "stdout",
     "output_type": "stream",
     "text": [
      "Changed working directory to G:\\Other computers\\My Laptop\\UW\\Classes\\ESS521\\project\n"
     ]
    }
   ],
   "source": [
    "import tensorflow as tf\n",
    "import tensorflow.keras as keras\n",
    "from sklearn.model_selection import train_test_split\n",
    "from sklearn.metrics import ConfusionMatrixDisplay, RocCurveDisplay\n",
    "import pandas as pd\n",
    "import numpy as np\n",
    "from matplotlib import pyplot as plt\n",
    "\n",
    "import os\n",
    "import shutil\n",
    "import json\n",
    "import random\n",
    "\n",
    "from google.cloud.storage import Client\n",
    "\n",
    "if \"notebooks\" in os.getcwd():\n",
    "    os.chdir(\"..\")\n",
    "    print(\"Changed working directory to\", os.getcwd())"
   ]
  },
  {
   "cell_type": "markdown",
   "id": "6dd5a3f1-1ee1-4b62-886c-50944ecad7be",
   "metadata": {},
   "source": [
    "### Get data from GCS"
   ]
  },
  {
   "cell_type": "code",
   "execution_count": 2,
   "id": "6a2a7d9c-1fe5-4655-a8d3-2f794f365c82",
   "metadata": {},
   "outputs": [
    {
     "name": "stdout",
     "output_type": "stream",
     "text": [
      "gs://preisler_tfdata/preisler-rectangular/yr2017.csv\n",
      "gs://preisler_tfdata/preisler-rectangular/yr2015.csv\n",
      "gs://preisler_tfdata/preisler-rectangular/yr2013.csv\n",
      "gs://preisler_tfdata/preisler-rectangular/yr2012.csv\n",
      "gs://preisler_tfdata/preisler-rectangular/yr2019.csv\n",
      "gs://preisler_tfdata/preisler-rectangular/yr2008.csv\n",
      "gs://preisler_tfdata/preisler-rectangular/yr2005.csv\n",
      "gs://preisler_tfdata/preisler-rectangular/yr2006.csv\n",
      "gs://preisler_tfdata/preisler-rectangular/yr2021.csv\n",
      "gs://preisler_tfdata/preisler-rectangular/yr2004.csv\n",
      "gs://preisler_tfdata/preisler-rectangular/yr2003.csv\n",
      "gs://preisler_tfdata/preisler-rectangular/yr2022.csv\n",
      "gs://preisler_tfdata/preisler-rectangular/yr2000.csv\n",
      "gs://preisler_tfdata/preisler-rectangular/yr2010.csv\n",
      "gs://preisler_tfdata/preisler-rectangular/yr2020.csv\n",
      "gs://preisler_tfdata/preisler-rectangular/yr2014.csv\n",
      "gs://preisler_tfdata/preisler-rectangular/yr2011.csv\n",
      "gs://preisler_tfdata/preisler-rectangular/yr2018.csv\n",
      "gs://preisler_tfdata/preisler-rectangular/yr2016.csv\n",
      "gs://preisler_tfdata/preisler-rectangular/yr2023.csv\n",
      "gs://preisler_tfdata/preisler-rectangular/yr2009.csv\n",
      "gs://preisler_tfdata/preisler-rectangular/yr2007.csv\n",
      "gs://preisler_tfdata/preisler-rectangular/yr2001.csv\n",
      "gs://preisler_tfdata/preisler-rectangular/yr2002.csv\n"
     ]
    }
   ],
   "source": [
    "client = Client(project=\"forest-lst\")\n",
    "bucket = \"preisler_tfdata\"\n",
    "\n",
    "records = [\n",
    "    \"/\".join([\"gs://{}\".format(bucket), f.name])\n",
    "    for f in client.list_blobs(bucket, prefix=\"preisler-rectangular\")\n",
    "    if f.name.endswith(\"csv\")\n",
    "]\n",
    "\n",
    "random.shuffle(records)\n",
    "\n",
    "print(\"\\n\".join(records))"
   ]
  },
  {
   "cell_type": "code",
   "execution_count": 3,
   "id": "c00c8870-dfc9-4e52-8d5d-53cb38b8ebdf",
   "metadata": {},
   "outputs": [
    {
     "data": {
      "text/html": [
       "<div>\n",
       "<style scoped>\n",
       "    .dataframe tbody tr th:only-of-type {\n",
       "        vertical-align: middle;\n",
       "    }\n",
       "\n",
       "    .dataframe tbody tr th {\n",
       "        vertical-align: top;\n",
       "    }\n",
       "\n",
       "    .dataframe thead th {\n",
       "        text-align: right;\n",
       "    }\n",
       "</style>\n",
       "<table border=\"1\" class=\"dataframe\">\n",
       "  <thead>\n",
       "    <tr style=\"text-align: right;\">\n",
       "      <th></th>\n",
       "      <th>fire</th>\n",
       "      <th>latitude</th>\n",
       "      <th>longitude</th>\n",
       "      <th>near</th>\n",
       "      <th>pct_mortality</th>\n",
       "      <th>prcp1</th>\n",
       "      <th>prcp2</th>\n",
       "      <th>prcp3</th>\n",
       "      <th>prcp4</th>\n",
       "      <th>rhost</th>\n",
       "      <th>winter_tmin</th>\n",
       "      <th>year</th>\n",
       "    </tr>\n",
       "  </thead>\n",
       "  <tbody>\n",
       "    <tr>\n",
       "      <th>0</th>\n",
       "      <td>0.0</td>\n",
       "      <td>32.567223</td>\n",
       "      <td>-116.763021</td>\n",
       "      <td>0.0000</td>\n",
       "      <td>0.0</td>\n",
       "      <td>234.205253</td>\n",
       "      <td>202.872362</td>\n",
       "      <td>114.119815</td>\n",
       "      <td>187.302191</td>\n",
       "      <td>0.0</td>\n",
       "      <td>-0.102075</td>\n",
       "      <td>2017</td>\n",
       "    </tr>\n",
       "    <tr>\n",
       "      <th>1</th>\n",
       "      <td>0.0</td>\n",
       "      <td>32.597501</td>\n",
       "      <td>-116.763021</td>\n",
       "      <td>0.0016</td>\n",
       "      <td>0.0</td>\n",
       "      <td>312.314256</td>\n",
       "      <td>258.789153</td>\n",
       "      <td>178.469079</td>\n",
       "      <td>222.927832</td>\n",
       "      <td>0.0</td>\n",
       "      <td>0.005460</td>\n",
       "      <td>2017</td>\n",
       "    </tr>\n",
       "    <tr>\n",
       "      <th>2</th>\n",
       "      <td>0.0</td>\n",
       "      <td>32.597501</td>\n",
       "      <td>-116.727088</td>\n",
       "      <td>0.0016</td>\n",
       "      <td>0.0</td>\n",
       "      <td>270.826874</td>\n",
       "      <td>261.987799</td>\n",
       "      <td>171.079298</td>\n",
       "      <td>234.237278</td>\n",
       "      <td>0.0</td>\n",
       "      <td>-0.612492</td>\n",
       "      <td>2017</td>\n",
       "    </tr>\n",
       "    <tr>\n",
       "      <th>3</th>\n",
       "      <td>0.0</td>\n",
       "      <td>32.597501</td>\n",
       "      <td>-116.691155</td>\n",
       "      <td>0.0016</td>\n",
       "      <td>0.0</td>\n",
       "      <td>323.561230</td>\n",
       "      <td>298.307428</td>\n",
       "      <td>196.842554</td>\n",
       "      <td>247.394694</td>\n",
       "      <td>0.0</td>\n",
       "      <td>-1.302602</td>\n",
       "      <td>2017</td>\n",
       "    </tr>\n",
       "    <tr>\n",
       "      <th>4</th>\n",
       "      <td>0.0</td>\n",
       "      <td>32.597501</td>\n",
       "      <td>-116.655223</td>\n",
       "      <td>0.0016</td>\n",
       "      <td>0.0</td>\n",
       "      <td>380.061979</td>\n",
       "      <td>350.316682</td>\n",
       "      <td>206.710981</td>\n",
       "      <td>257.534478</td>\n",
       "      <td>0.0</td>\n",
       "      <td>-1.691688</td>\n",
       "      <td>2017</td>\n",
       "    </tr>\n",
       "  </tbody>\n",
       "</table>\n",
       "</div>"
      ],
      "text/plain": [
       "   fire   latitude   longitude    near  pct_mortality       prcp1       prcp2  \\\n",
       "0   0.0  32.567223 -116.763021  0.0000            0.0  234.205253  202.872362   \n",
       "1   0.0  32.597501 -116.763021  0.0016            0.0  312.314256  258.789153   \n",
       "2   0.0  32.597501 -116.727088  0.0016            0.0  270.826874  261.987799   \n",
       "3   0.0  32.597501 -116.691155  0.0016            0.0  323.561230  298.307428   \n",
       "4   0.0  32.597501 -116.655223  0.0016            0.0  380.061979  350.316682   \n",
       "\n",
       "        prcp3       prcp4  rhost  winter_tmin  year  \n",
       "0  114.119815  187.302191    0.0    -0.102075  2017  \n",
       "1  178.469079  222.927832    0.0     0.005460  2017  \n",
       "2  171.079298  234.237278    0.0    -0.612492  2017  \n",
       "3  196.842554  247.394694    0.0    -1.302602  2017  \n",
       "4  206.710981  257.534478    0.0    -1.691688  2017  "
      ]
     },
     "execution_count": 3,
     "metadata": {},
     "output_type": "execute_result"
    }
   ],
   "source": [
    "ds = pd.concat((pd.read_csv(f).drop([\"system:index\", \".geo\"], axis=1) for f in records), ignore_index=True)\n",
    "ds.head()"
   ]
  },
  {
   "cell_type": "markdown",
   "id": "7f2b3caa-090c-4cc3-911f-7f82924fd29c",
   "metadata": {},
   "source": [
    "### Preprocessing\n",
    "\n",
    "To match the paper, we have to convert `pct_mortality` to a binary variable. Technically there's another model on top of this one that predicts area affected by mortality given that some mortality is predicted. Also, to ensure that each batch learns from a variety of years and geographies, shuffle the data."
   ]
  },
  {
   "cell_type": "code",
   "execution_count": 4,
   "id": "129e63dc-abfb-4a83-a5dd-9289b0ae964c",
   "metadata": {},
   "outputs": [],
   "source": [
    "ds[\"mortality\"] = ds[\"pct_mortality\"] > 0\n",
    "ds = ds.sample(frac=1).reset_index(drop=True)"
   ]
  },
  {
   "cell_type": "code",
   "execution_count": 5,
   "id": "dbfa0eb2-5784-4d73-ad6d-c721344c5746",
   "metadata": {},
   "outputs": [
    {
     "data": {
      "text/html": [
       "<div>\n",
       "<style scoped>\n",
       "    .dataframe tbody tr th:only-of-type {\n",
       "        vertical-align: middle;\n",
       "    }\n",
       "\n",
       "    .dataframe tbody tr th {\n",
       "        vertical-align: top;\n",
       "    }\n",
       "\n",
       "    .dataframe thead th {\n",
       "        text-align: right;\n",
       "    }\n",
       "</style>\n",
       "<table border=\"1\" class=\"dataframe\">\n",
       "  <thead>\n",
       "    <tr style=\"text-align: right;\">\n",
       "      <th></th>\n",
       "      <th>fire</th>\n",
       "      <th>latitude</th>\n",
       "      <th>longitude</th>\n",
       "      <th>near</th>\n",
       "      <th>pct_mortality</th>\n",
       "      <th>prcp1</th>\n",
       "      <th>prcp2</th>\n",
       "      <th>prcp3</th>\n",
       "      <th>prcp4</th>\n",
       "      <th>rhost</th>\n",
       "      <th>winter_tmin</th>\n",
       "      <th>year</th>\n",
       "      <th>mortality</th>\n",
       "    </tr>\n",
       "  </thead>\n",
       "  <tbody>\n",
       "    <tr>\n",
       "      <th>0</th>\n",
       "      <td>0.0</td>\n",
       "      <td>41.200767</td>\n",
       "      <td>-121.721721</td>\n",
       "      <td>0.0016</td>\n",
       "      <td>0.0080</td>\n",
       "      <td>715.048241</td>\n",
       "      <td>766.796043</td>\n",
       "      <td>1466.286858</td>\n",
       "      <td>1096.728779</td>\n",
       "      <td>0.988139</td>\n",
       "      <td>-15.912049</td>\n",
       "      <td>2009</td>\n",
       "      <td>True</td>\n",
       "    </tr>\n",
       "    <tr>\n",
       "      <th>1</th>\n",
       "      <td>0.0</td>\n",
       "      <td>40.412035</td>\n",
       "      <td>-122.260710</td>\n",
       "      <td>0.0000</td>\n",
       "      <td>0.0000</td>\n",
       "      <td>1006.185221</td>\n",
       "      <td>755.570030</td>\n",
       "      <td>597.777986</td>\n",
       "      <td>599.503334</td>\n",
       "      <td>0.000000</td>\n",
       "      <td>-2.657379</td>\n",
       "      <td>2011</td>\n",
       "      <td>False</td>\n",
       "    </tr>\n",
       "    <tr>\n",
       "      <th>2</th>\n",
       "      <td>0.0</td>\n",
       "      <td>37.164064</td>\n",
       "      <td>-119.134573</td>\n",
       "      <td>0.1060</td>\n",
       "      <td>0.1632</td>\n",
       "      <td>1270.310308</td>\n",
       "      <td>867.267589</td>\n",
       "      <td>699.192381</td>\n",
       "      <td>627.819895</td>\n",
       "      <td>0.828685</td>\n",
       "      <td>-18.552517</td>\n",
       "      <td>2011</td>\n",
       "      <td>True</td>\n",
       "    </tr>\n",
       "    <tr>\n",
       "      <th>3</th>\n",
       "      <td>0.0</td>\n",
       "      <td>38.159624</td>\n",
       "      <td>-120.428147</td>\n",
       "      <td>0.0048</td>\n",
       "      <td>0.0124</td>\n",
       "      <td>814.081922</td>\n",
       "      <td>775.063124</td>\n",
       "      <td>1671.069935</td>\n",
       "      <td>1115.339154</td>\n",
       "      <td>0.876070</td>\n",
       "      <td>-7.572286</td>\n",
       "      <td>2014</td>\n",
       "      <td>True</td>\n",
       "    </tr>\n",
       "    <tr>\n",
       "      <th>4</th>\n",
       "      <td>0.0</td>\n",
       "      <td>40.739544</td>\n",
       "      <td>-124.201071</td>\n",
       "      <td>0.0000</td>\n",
       "      <td>0.0000</td>\n",
       "      <td>859.463524</td>\n",
       "      <td>1004.646140</td>\n",
       "      <td>1036.377790</td>\n",
       "      <td>1073.250293</td>\n",
       "      <td>0.151488</td>\n",
       "      <td>-2.819886</td>\n",
       "      <td>2014</td>\n",
       "      <td>False</td>\n",
       "    </tr>\n",
       "    <tr>\n",
       "      <th>...</th>\n",
       "      <td>...</td>\n",
       "      <td>...</td>\n",
       "      <td>...</td>\n",
       "      <td>...</td>\n",
       "      <td>...</td>\n",
       "      <td>...</td>\n",
       "      <td>...</td>\n",
       "      <td>...</td>\n",
       "      <td>...</td>\n",
       "      <td>...</td>\n",
       "      <td>...</td>\n",
       "      <td>...</td>\n",
       "      <td>...</td>\n",
       "    </tr>\n",
       "    <tr>\n",
       "      <th>363669</th>\n",
       "      <td>0.0</td>\n",
       "      <td>41.658763</td>\n",
       "      <td>-124.093273</td>\n",
       "      <td>0.0000</td>\n",
       "      <td>0.0000</td>\n",
       "      <td>2419.078958</td>\n",
       "      <td>1646.314040</td>\n",
       "      <td>1409.330437</td>\n",
       "      <td>1930.212100</td>\n",
       "      <td>0.885806</td>\n",
       "      <td>-1.834389</td>\n",
       "      <td>2017</td>\n",
       "      <td>False</td>\n",
       "    </tr>\n",
       "    <tr>\n",
       "      <th>363670</th>\n",
       "      <td>0.0</td>\n",
       "      <td>37.106773</td>\n",
       "      <td>-118.703382</td>\n",
       "      <td>0.0000</td>\n",
       "      <td>0.0000</td>\n",
       "      <td>525.316655</td>\n",
       "      <td>173.639915</td>\n",
       "      <td>291.813085</td>\n",
       "      <td>1096.652793</td>\n",
       "      <td>0.000000</td>\n",
       "      <td>-34.278667</td>\n",
       "      <td>2023</td>\n",
       "      <td>False</td>\n",
       "    </tr>\n",
       "    <tr>\n",
       "      <th>363671</th>\n",
       "      <td>0.0</td>\n",
       "      <td>37.478393</td>\n",
       "      <td>-119.529832</td>\n",
       "      <td>0.5580</td>\n",
       "      <td>0.5824</td>\n",
       "      <td>1163.447402</td>\n",
       "      <td>543.323269</td>\n",
       "      <td>597.082687</td>\n",
       "      <td>1563.588661</td>\n",
       "      <td>0.410347</td>\n",
       "      <td>-14.266918</td>\n",
       "      <td>2023</td>\n",
       "      <td>True</td>\n",
       "    </tr>\n",
       "    <tr>\n",
       "      <th>363672</th>\n",
       "      <td>0.0</td>\n",
       "      <td>37.307104</td>\n",
       "      <td>-119.996956</td>\n",
       "      <td>0.0000</td>\n",
       "      <td>0.0000</td>\n",
       "      <td>901.522576</td>\n",
       "      <td>688.142014</td>\n",
       "      <td>422.249347</td>\n",
       "      <td>405.631840</td>\n",
       "      <td>0.000000</td>\n",
       "      <td>-3.204898</td>\n",
       "      <td>2012</td>\n",
       "      <td>False</td>\n",
       "    </tr>\n",
       "    <tr>\n",
       "      <th>363673</th>\n",
       "      <td>0.0</td>\n",
       "      <td>37.164064</td>\n",
       "      <td>-118.523719</td>\n",
       "      <td>0.0000</td>\n",
       "      <td>0.0000</td>\n",
       "      <td>210.198332</td>\n",
       "      <td>418.120860</td>\n",
       "      <td>254.283141</td>\n",
       "      <td>265.967053</td>\n",
       "      <td>0.910753</td>\n",
       "      <td>-24.931656</td>\n",
       "      <td>2003</td>\n",
       "      <td>False</td>\n",
       "    </tr>\n",
       "  </tbody>\n",
       "</table>\n",
       "<p>363674 rows × 13 columns</p>\n",
       "</div>"
      ],
      "text/plain": [
       "        fire   latitude   longitude    near  pct_mortality        prcp1  \\\n",
       "0        0.0  41.200767 -121.721721  0.0016         0.0080   715.048241   \n",
       "1        0.0  40.412035 -122.260710  0.0000         0.0000  1006.185221   \n",
       "2        0.0  37.164064 -119.134573  0.1060         0.1632  1270.310308   \n",
       "3        0.0  38.159624 -120.428147  0.0048         0.0124   814.081922   \n",
       "4        0.0  40.739544 -124.201071  0.0000         0.0000   859.463524   \n",
       "...      ...        ...         ...     ...            ...          ...   \n",
       "363669   0.0  41.658763 -124.093273  0.0000         0.0000  2419.078958   \n",
       "363670   0.0  37.106773 -118.703382  0.0000         0.0000   525.316655   \n",
       "363671   0.0  37.478393 -119.529832  0.5580         0.5824  1163.447402   \n",
       "363672   0.0  37.307104 -119.996956  0.0000         0.0000   901.522576   \n",
       "363673   0.0  37.164064 -118.523719  0.0000         0.0000   210.198332   \n",
       "\n",
       "              prcp2        prcp3        prcp4     rhost  winter_tmin  year  \\\n",
       "0        766.796043  1466.286858  1096.728779  0.988139   -15.912049  2009   \n",
       "1        755.570030   597.777986   599.503334  0.000000    -2.657379  2011   \n",
       "2        867.267589   699.192381   627.819895  0.828685   -18.552517  2011   \n",
       "3        775.063124  1671.069935  1115.339154  0.876070    -7.572286  2014   \n",
       "4       1004.646140  1036.377790  1073.250293  0.151488    -2.819886  2014   \n",
       "...             ...          ...          ...       ...          ...   ...   \n",
       "363669  1646.314040  1409.330437  1930.212100  0.885806    -1.834389  2017   \n",
       "363670   173.639915   291.813085  1096.652793  0.000000   -34.278667  2023   \n",
       "363671   543.323269   597.082687  1563.588661  0.410347   -14.266918  2023   \n",
       "363672   688.142014   422.249347   405.631840  0.000000    -3.204898  2012   \n",
       "363673   418.120860   254.283141   265.967053  0.910753   -24.931656  2003   \n",
       "\n",
       "        mortality  \n",
       "0            True  \n",
       "1           False  \n",
       "2            True  \n",
       "3            True  \n",
       "4           False  \n",
       "...           ...  \n",
       "363669      False  \n",
       "363670      False  \n",
       "363671       True  \n",
       "363672      False  \n",
       "363673      False  \n",
       "\n",
       "[363674 rows x 13 columns]"
      ]
     },
     "execution_count": 5,
     "metadata": {},
     "output_type": "execute_result"
    }
   ],
   "source": [
    "ds"
   ]
  },
  {
   "cell_type": "markdown",
   "id": "9b374961-9156-4c00-bf59-cb74e4fee087",
   "metadata": {},
   "source": [
    "### Train-validate-test split"
   ]
  },
  {
   "cell_type": "code",
   "execution_count": 6,
   "id": "e8f527b9-652e-4189-831e-4702d7a2dc5f",
   "metadata": {},
   "outputs": [
    {
     "name": "stdout",
     "output_type": "stream",
     "text": [
      "Number of rows in\n",
      "Training: 254571\n",
      "Validation: 73099\n",
      "Testing: 36004\n"
     ]
    }
   ],
   "source": [
    "ds_train, ds_valid_test = train_test_split(ds, test_size=0.3, stratify=ds.year)\n",
    "ds_valid, ds_test       = train_test_split(ds_valid_test, test_size=0.33, stratify=ds_valid_test.year)\n",
    "\n",
    "print(\"Number of rows in\")\n",
    "print(\"Training:\", ds_train.shape[0])\n",
    "print(\"Validation:\", ds_valid.shape[0])\n",
    "print(\"Testing:\", ds_test.shape[0])"
   ]
  },
  {
   "cell_type": "code",
   "execution_count": 64,
   "id": "d43716a6-3037-4b19-9f6a-bd019e0cae8f",
   "metadata": {},
   "outputs": [],
   "source": [
    "# Convert to tfdatasets\n",
    "# Classification only for now\n",
    "TARGET = [\"mortality\"]\n",
    "BANDS   = [\"fire\", \"near\", \"latitude\", \"longitude\", \"prcp1\", \"prcp2\", \"prcp3\", \"prcp4\", \"rhost\", \"winter_tmin\", \"year\"]\n",
    "TENSOR_TYPE = tf.float64\n",
    "\n",
    "def df_to_tfdataset(df):\n",
    "    # Add two dimensions\n",
    "    inputs = {\n",
    "        b: tf.expand_dims(tf.expand_dims(tf.expand_dims(tf.cast(v, TENSOR_TYPE), axis=-1), axis=-1), axis=-1)\n",
    "        for b,v in dict(df[BANDS]).items()\n",
    "    }\n",
    "    output = tf.expand_dims(tf.expand_dims(df[TARGET], axis=-1), axis=-1)\n",
    "    return tf.data.Dataset.from_tensor_slices((inputs, output))\n",
    "\n",
    "tf_train = df_to_tfdataset(ds_train)\n",
    "tf_valid = df_to_tfdataset(ds_valid)\n",
    "tf_test  = df_to_tfdataset(ds_test)"
   ]
  },
  {
   "cell_type": "code",
   "execution_count": 65,
   "id": "c5726a60-4588-41a8-bc9b-8bafeb9ce445",
   "metadata": {},
   "outputs": [
    {
     "data": {
      "text/plain": [
       "({'fire': <tf.Tensor: shape=(1, 1, 1), dtype=float64, numpy=array([[[0.]]])>,\n",
       "  'near': <tf.Tensor: shape=(1, 1, 1), dtype=float64, numpy=array([[[0.6548]]])>,\n",
       "  'latitude': <tf.Tensor: shape=(1, 1, 1), dtype=float64, numpy=array([[[36.47370679]]])>,\n",
       "  'longitude': <tf.Tensor: shape=(1, 1, 1), dtype=float64, numpy=array([[[-118.91897731]]])>,\n",
       "  'prcp1': <tf.Tensor: shape=(1, 1, 1), dtype=float64, numpy=array([[[258.14106521]]])>,\n",
       "  'prcp2': <tf.Tensor: shape=(1, 1, 1), dtype=float64, numpy=array([[[345.29042487]]])>,\n",
       "  'prcp3': <tf.Tensor: shape=(1, 1, 1), dtype=float64, numpy=array([[[475.85349308]]])>,\n",
       "  'prcp4': <tf.Tensor: shape=(1, 1, 1), dtype=float64, numpy=array([[[915.74368691]]])>,\n",
       "  'rhost': <tf.Tensor: shape=(1, 1, 1), dtype=float64, numpy=array([[[0.]]])>,\n",
       "  'winter_tmin': <tf.Tensor: shape=(1, 1, 1), dtype=float64, numpy=array([[[-3.2760975]]])>,\n",
       "  'year': <tf.Tensor: shape=(1, 1, 1), dtype=float64, numpy=array([[[2015.]]])>},\n",
       " <tf.Tensor: shape=(1, 1, 1), dtype=bool, numpy=array([[[ True]]])>)"
      ]
     },
     "execution_count": 65,
     "metadata": {},
     "output_type": "execute_result"
    }
   ],
   "source": [
    "iter(tf_train.take(1)).next()"
   ]
  },
  {
   "cell_type": "markdown",
   "id": "a024b0db-185c-4127-ab94-777060d97777",
   "metadata": {},
   "source": [
    "### Model building"
   ]
  },
  {
   "cell_type": "code",
   "execution_count": 66,
   "id": "b8987733-1341-4d69-a5d2-d0dfc3d5f4d9",
   "metadata": {},
   "outputs": [],
   "source": [
    "class StackBands(keras.layers.Layer):\n",
    "    def __init__(self, **kwargs):\n",
    "        super(StackBands, self).__init__(**kwargs)\n",
    "\n",
    "    def call(self, features_dict):\n",
    "        # (None, 1, 1, 1) -> (None, 1, 1, P)\n",
    "        # Where None is the batch dimension\n",
    "        return tf.concat([features_dict[b] for b in BANDS], axis=-1)\n",
    "\n",
    "    def get_config(self):\n",
    "        return super().get_config()\n",
    "\n",
    "class StackBandsModel(keras.Model):\n",
    "    def __init__(self, preprocessing, base_model, **kwargs):\n",
    "        super().__init__(**kwargs)\n",
    "        self.preprocessing = preprocessing\n",
    "        self.base_model = base_model\n",
    "\n",
    "    def call(self, features_dict):\n",
    "        return self.base_model(self.preprocessing(features_dict))\n",
    "\n",
    "    def get_config(self):\n",
    "        return super().get_config()"
   ]
  },
  {
   "cell_type": "code",
   "execution_count": 67,
   "id": "9757811c-22bc-459f-9247-2a1edec7892d",
   "metadata": {},
   "outputs": [],
   "source": [
    "import tensorflow.keras as keras\n",
    "\n",
    "REG  = keras.regularizers.L1(0.001)\n",
    "DROP = 0.2\n",
    "ACT  = \"tanh\"\n",
    "\n",
    "# print(sorted(list(spec.keys())))\n",
    "\n",
    "def build_preisler_model(init_bias=None):\n",
    "    # Inputs\n",
    "    inputs =  keras.layers.Input(shape=(1, 1, len(BANDS)))\n",
    "\n",
    "    # Normalize each band independently. \n",
    "    norm = keras.layers.BatchNormalization(axis=-1)(inputs)\n",
    "\n",
    "    # Feed normalized data to a few dense layers with dropout\n",
    "    d1 = keras.layers.Dense(128, activation=ACT)(norm)\n",
    "    drop1 = keras.layers.Dropout(DROP)(d1)\n",
    "    d2 = keras.layers.Dense(16, activation=ACT)(drop1)\n",
    "    drop2 = keras.layers.Dropout(DROP)(d2)\n",
    "    d3 = keras.layers.Dense(8, activation=ACT)(drop2)\n",
    "\n",
    "    # Connect to output.\n",
    "    if init_bias is not None:\n",
    "        init_bias = tf.keras.initializers.Constant(init_bias)\n",
    "\n",
    "    '''\n",
    "    out_regr = keras.layers.Dense(\n",
    "        1, activation=\"sigmoid\", \n",
    "        name=\"pct_mortality\",\n",
    "        bias_initializer=init_bias\n",
    "    )(d3)\n",
    "    '''\n",
    "\n",
    "    out_classif = keras.layers.Dense(\n",
    "        1, activation=\"sigmoid\", \n",
    "        name=\"mortality\",\n",
    "        bias_initializer=init_bias\n",
    "    )(d3)\n",
    "\n",
    "    return keras.models.Model(inputs=inputs, outputs=out_classif)\n",
    "\n",
    "# Calculate initial bias\n",
    "init_bias = np.log(np.sum(ds_train.mortality) / np.sum(~ds_train.mortality))\n",
    "# Build base model\n",
    "base_model = build_preisler_model(init_bias=init_bias)\n",
    "# Attach preprocessing layer\n",
    "model = StackBandsModel(StackBands(), base_model)"
   ]
  },
  {
   "cell_type": "markdown",
   "id": "ee84bf21-10fd-4069-b590-59f53c274372",
   "metadata": {},
   "source": [
    "### Model training"
   ]
  },
  {
   "cell_type": "code",
   "execution_count": 68,
   "id": "3a2d8eb1-f8ab-4efd-9d54-48c17a126de2",
   "metadata": {},
   "outputs": [],
   "source": [
    "# Metric to monitor class imbalance\n",
    "def pct_positive_cases(y_true, y_pred):\n",
    "    return tf.math.reduce_mean(y_true)\n",
    "\n",
    "classif_metrics = [\n",
    "    keras.metrics.Precision(),\n",
    "    keras.metrics.Recall(),\n",
    "    keras.metrics.AUC(),\n",
    "    pct_positive_cases\n",
    "]\n",
    "\n",
    "regr_metrics = [\n",
    "    keras.metrics.RootMeanSquaredError(),\n",
    "]\n",
    "\n",
    "model.compile(\n",
    "    loss=\"binary_crossentropy\",\n",
    "    optimizer=keras.optimizers.Adam(learning_rate=0.005),\n",
    "    metrics=classif_metrics\n",
    ")"
   ]
  },
  {
   "cell_type": "code",
   "execution_count": 71,
   "id": "2dd9e588-9980-47dc-a500-420531f87b23",
   "metadata": {},
   "outputs": [],
   "source": [
    "# Callbacks\n",
    "model_name = \"preisler_classif_gcloud.keras\"\n",
    "earlystop = keras.callbacks.EarlyStopping(monitor=\"loss\", patience=5)\n",
    "checkpoint = keras.callbacks.ModelCheckpoint(os.path.join(\"data_working\", \"models\", model_name), save_weights_only=True)\n",
    "logdir = os.path.join(\"logs\", model_name)\n",
    "tensorboard_callback = tf.keras.callbacks.TensorBoard(logdir, histogram_freq=1)\n",
    "\n",
    "# Make log directory\n",
    "os.makedirs(logdir, exist_ok=True)\n",
    "# Delete any old logs that might be in there\n",
    "for fname in os.listdir(logdir):\n",
    "    file_path = os.path.join(logdir, fname)\n",
    "    try:\n",
    "        if os.path.isfile(file_path) or os.path.islink(file_path):\n",
    "            os.unlink(file_path)\n",
    "        elif os.path.isdir(file_path):\n",
    "            shutil.rmtree(file_path)\n",
    "    except OSError as e:\n",
    "        print(\"Failed to delete\", file_path)"
   ]
  },
  {
   "cell_type": "code",
   "execution_count": 72,
   "id": "5376d984-9152-41ed-b9f5-2d7fa2e4b19a",
   "metadata": {},
   "outputs": [
    {
     "name": "stdout",
     "output_type": "stream",
     "text": [
      "Epoch 1/30\n",
      "498/498 [==============================] - 5s 10ms/step - loss: 0.4730 - precision_2: 0.6735 - recall_2: 0.6221 - auc_2: 0.8299 - pct_positive_cases: 0.3377 - val_loss: 0.4497 - val_precision_2: 0.7105 - val_recall_2: 0.6315 - val_auc_2: 0.8503 - val_pct_positive_cases: 0.3386\n",
      "Epoch 2/30\n",
      "498/498 [==============================] - 5s 11ms/step - loss: 0.4645 - precision_2: 0.6870 - recall_2: 0.6241 - auc_2: 0.8367 - pct_positive_cases: 0.3377 - val_loss: 0.4377 - val_precision_2: 0.7065 - val_recall_2: 0.6691 - val_auc_2: 0.8581 - val_pct_positive_cases: 0.3386\n",
      "Epoch 3/30\n",
      "498/498 [==============================] - 6s 11ms/step - loss: 0.4561 - precision_2: 0.6990 - recall_2: 0.6280 - auc_2: 0.8435 - pct_positive_cases: 0.3377 - val_loss: 0.4306 - val_precision_2: 0.7273 - val_recall_2: 0.6493 - val_auc_2: 0.8629 - val_pct_positive_cases: 0.3386\n",
      "Epoch 4/30\n",
      "498/498 [==============================] - 6s 11ms/step - loss: 0.4506 - precision_2: 0.7062 - recall_2: 0.6340 - auc_2: 0.8479 - pct_positive_cases: 0.3377 - val_loss: 0.4290 - val_precision_2: 0.7274 - val_recall_2: 0.6474 - val_auc_2: 0.8645 - val_pct_positive_cases: 0.3386\n",
      "Epoch 5/30\n",
      "498/498 [==============================] - 6s 11ms/step - loss: 0.4482 - precision_2: 0.7072 - recall_2: 0.6392 - auc_2: 0.8498 - pct_positive_cases: 0.3377 - val_loss: 0.4218 - val_precision_2: 0.7340 - val_recall_2: 0.6595 - val_auc_2: 0.8692 - val_pct_positive_cases: 0.3386\n",
      "Epoch 6/30\n",
      "498/498 [==============================] - 6s 12ms/step - loss: 0.4445 - precision_2: 0.7122 - recall_2: 0.6390 - auc_2: 0.8526 - pct_positive_cases: 0.3377 - val_loss: 0.4198 - val_precision_2: 0.7394 - val_recall_2: 0.6590 - val_auc_2: 0.8707 - val_pct_positive_cases: 0.3386\n",
      "Epoch 7/30\n",
      "498/498 [==============================] - 6s 12ms/step - loss: 0.4430 - precision_2: 0.7157 - recall_2: 0.6386 - auc_2: 0.8535 - pct_positive_cases: 0.3377 - val_loss: 0.4176 - val_precision_2: 0.7381 - val_recall_2: 0.6603 - val_auc_2: 0.8724 - val_pct_positive_cases: 0.3386\n",
      "Epoch 8/30\n",
      "498/498 [==============================] - 6s 12ms/step - loss: 0.4411 - precision_2: 0.7146 - recall_2: 0.6436 - auc_2: 0.8551 - pct_positive_cases: 0.3377 - val_loss: 0.4206 - val_precision_2: 0.7528 - val_recall_2: 0.6326 - val_auc_2: 0.8714 - val_pct_positive_cases: 0.3386\n",
      "Epoch 9/30\n",
      "498/498 [==============================] - 6s 11ms/step - loss: 0.4391 - precision_2: 0.7170 - recall_2: 0.6436 - auc_2: 0.8566 - pct_positive_cases: 0.3377 - val_loss: 0.4186 - val_precision_2: 0.7541 - val_recall_2: 0.6302 - val_auc_2: 0.8729 - val_pct_positive_cases: 0.3386\n",
      "Epoch 10/30\n",
      "498/498 [==============================] - 6s 12ms/step - loss: 0.4372 - precision_2: 0.7183 - recall_2: 0.6481 - auc_2: 0.8580 - pct_positive_cases: 0.3377 - val_loss: 0.4148 - val_precision_2: 0.7488 - val_recall_2: 0.6490 - val_auc_2: 0.8752 - val_pct_positive_cases: 0.3386\n",
      "Epoch 11/30\n",
      "498/498 [==============================] - 6s 12ms/step - loss: 0.4369 - precision_2: 0.7175 - recall_2: 0.6507 - auc_2: 0.8581 - pct_positive_cases: 0.3377 - val_loss: 0.4161 - val_precision_2: 0.7457 - val_recall_2: 0.6493 - val_auc_2: 0.8738 - val_pct_positive_cases: 0.3386\n",
      "Epoch 12/30\n",
      "498/498 [==============================] - 6s 12ms/step - loss: 0.4357 - precision_2: 0.7186 - recall_2: 0.6483 - auc_2: 0.8590 - pct_positive_cases: 0.3377 - val_loss: 0.4182 - val_precision_2: 0.7519 - val_recall_2: 0.6362 - val_auc_2: 0.8739 - val_pct_positive_cases: 0.3386\n",
      "Epoch 13/30\n",
      "498/498 [==============================] - 6s 12ms/step - loss: 0.4351 - precision_2: 0.7185 - recall_2: 0.6491 - auc_2: 0.8595 - pct_positive_cases: 0.3377 - val_loss: 0.4163 - val_precision_2: 0.7555 - val_recall_2: 0.6442 - val_auc_2: 0.8750 - val_pct_positive_cases: 0.3386\n",
      "Epoch 14/30\n",
      "498/498 [==============================] - 6s 12ms/step - loss: 0.4344 - precision_2: 0.7194 - recall_2: 0.6511 - auc_2: 0.8600 - pct_positive_cases: 0.3377 - val_loss: 0.4136 - val_precision_2: 0.7409 - val_recall_2: 0.6688 - val_auc_2: 0.8754 - val_pct_positive_cases: 0.3386\n",
      "Epoch 15/30\n",
      "498/498 [==============================] - 6s 12ms/step - loss: 0.4335 - precision_2: 0.7218 - recall_2: 0.6516 - auc_2: 0.8607 - pct_positive_cases: 0.3377 - val_loss: 0.4108 - val_precision_2: 0.7408 - val_recall_2: 0.6785 - val_auc_2: 0.8778 - val_pct_positive_cases: 0.3386\n",
      "Epoch 16/30\n",
      "498/498 [==============================] - 6s 12ms/step - loss: 0.4328 - precision_2: 0.7196 - recall_2: 0.6521 - auc_2: 0.8611 - pct_positive_cases: 0.3377 - val_loss: 0.4123 - val_precision_2: 0.7492 - val_recall_2: 0.6570 - val_auc_2: 0.8755 - val_pct_positive_cases: 0.3386\n",
      "Epoch 17/30\n",
      "498/498 [==============================] - 6s 12ms/step - loss: 0.4321 - precision_2: 0.7208 - recall_2: 0.6564 - auc_2: 0.8618 - pct_positive_cases: 0.3377 - val_loss: 0.4101 - val_precision_2: 0.7529 - val_recall_2: 0.6610 - val_auc_2: 0.8781 - val_pct_positive_cases: 0.3386\n",
      "Epoch 18/30\n",
      "498/498 [==============================] - 6s 12ms/step - loss: 0.4323 - precision_2: 0.7196 - recall_2: 0.6553 - auc_2: 0.8615 - pct_positive_cases: 0.3377 - val_loss: 0.4117 - val_precision_2: 0.7476 - val_recall_2: 0.6652 - val_auc_2: 0.8774 - val_pct_positive_cases: 0.3386\n",
      "Epoch 19/30\n",
      "498/498 [==============================] - 6s 12ms/step - loss: 0.4313 - precision_2: 0.7210 - recall_2: 0.6579 - auc_2: 0.8622 - pct_positive_cases: 0.3377 - val_loss: 0.4121 - val_precision_2: 0.7518 - val_recall_2: 0.6566 - val_auc_2: 0.8773 - val_pct_positive_cases: 0.3386\n",
      "Epoch 20/30\n",
      "498/498 [==============================] - 6s 12ms/step - loss: 0.4308 - precision_2: 0.7206 - recall_2: 0.6605 - auc_2: 0.8628 - pct_positive_cases: 0.3377 - val_loss: 0.4136 - val_precision_2: 0.7483 - val_recall_2: 0.6635 - val_auc_2: 0.8783 - val_pct_positive_cases: 0.3386\n",
      "Epoch 21/30\n",
      "498/498 [==============================] - 6s 12ms/step - loss: 0.4299 - precision_2: 0.7203 - recall_2: 0.6606 - auc_2: 0.8634 - pct_positive_cases: 0.3377 - val_loss: 0.4086 - val_precision_2: 0.7476 - val_recall_2: 0.6664 - val_auc_2: 0.8794 - val_pct_positive_cases: 0.3386\n",
      "Epoch 22/30\n",
      "498/498 [==============================] - 6s 12ms/step - loss: 0.4293 - precision_2: 0.7211 - recall_2: 0.6579 - auc_2: 0.8636 - pct_positive_cases: 0.3377 - val_loss: 0.4075 - val_precision_2: 0.7439 - val_recall_2: 0.6768 - val_auc_2: 0.8804 - val_pct_positive_cases: 0.3386\n",
      "Epoch 23/30\n",
      "498/498 [==============================] - 6s 12ms/step - loss: 0.4295 - precision_2: 0.7209 - recall_2: 0.6585 - auc_2: 0.8635 - pct_positive_cases: 0.3377 - val_loss: 0.4087 - val_precision_2: 0.7448 - val_recall_2: 0.6681 - val_auc_2: 0.8791 - val_pct_positive_cases: 0.3386\n",
      "Epoch 24/30\n",
      "498/498 [==============================] - 6s 12ms/step - loss: 0.4289 - precision_2: 0.7209 - recall_2: 0.6616 - auc_2: 0.8640 - pct_positive_cases: 0.3377 - val_loss: 0.4080 - val_precision_2: 0.7438 - val_recall_2: 0.6795 - val_auc_2: 0.8801 - val_pct_positive_cases: 0.3386\n",
      "Epoch 25/30\n",
      "498/498 [==============================] - 6s 12ms/step - loss: 0.4284 - precision_2: 0.7215 - recall_2: 0.6619 - auc_2: 0.8644 - pct_positive_cases: 0.3377 - val_loss: 0.4071 - val_precision_2: 0.7586 - val_recall_2: 0.6560 - val_auc_2: 0.8804 - val_pct_positive_cases: 0.3386\n",
      "Epoch 26/30\n",
      "498/498 [==============================] - 6s 12ms/step - loss: 0.4287 - precision_2: 0.7212 - recall_2: 0.6638 - auc_2: 0.8640 - pct_positive_cases: 0.3377 - val_loss: 0.4076 - val_precision_2: 0.7401 - val_recall_2: 0.6863 - val_auc_2: 0.8800 - val_pct_positive_cases: 0.3386\n",
      "Epoch 27/30\n",
      "498/498 [==============================] - 6s 12ms/step - loss: 0.4277 - precision_2: 0.7227 - recall_2: 0.6659 - auc_2: 0.8650 - pct_positive_cases: 0.3377 - val_loss: 0.4067 - val_precision_2: 0.7319 - val_recall_2: 0.6988 - val_auc_2: 0.8806 - val_pct_positive_cases: 0.3386\n",
      "Epoch 28/30\n",
      "498/498 [==============================] - 6s 12ms/step - loss: 0.4277 - precision_2: 0.7241 - recall_2: 0.6600 - auc_2: 0.8648 - pct_positive_cases: 0.3377 - val_loss: 0.4074 - val_precision_2: 0.7366 - val_recall_2: 0.6900 - val_auc_2: 0.8803 - val_pct_positive_cases: 0.3386\n",
      "Epoch 29/30\n",
      "498/498 [==============================] - 6s 12ms/step - loss: 0.4276 - precision_2: 0.7228 - recall_2: 0.6623 - auc_2: 0.8650 - pct_positive_cases: 0.3377 - val_loss: 0.4043 - val_precision_2: 0.7381 - val_recall_2: 0.6896 - val_auc_2: 0.8817 - val_pct_positive_cases: 0.3386\n",
      "Epoch 30/30\n",
      "498/498 [==============================] - 6s 12ms/step - loss: 0.4262 - precision_2: 0.7246 - recall_2: 0.6634 - auc_2: 0.8659 - pct_positive_cases: 0.3377 - val_loss: 0.4074 - val_precision_2: 0.7496 - val_recall_2: 0.6681 - val_auc_2: 0.8799 - val_pct_positive_cases: 0.3386\n"
     ]
    }
   ],
   "source": [
    "batch_size = 512\n",
    "\n",
    "history = model.fit(\n",
    "    x=tf_train.batch(batch_size),\n",
    "    validation_data=tf_valid.batch(batch_size),\n",
    "    epochs=30,\n",
    "    verbose=1,\n",
    "    callbacks=[checkpoint, earlystop, tensorboard_callback]\n",
    ")"
   ]
  },
  {
   "cell_type": "markdown",
   "id": "1613aaec-6b17-4811-9b38-dbf7552aa33e",
   "metadata": {},
   "source": [
    "### Show fit on training data"
   ]
  },
  {
   "cell_type": "code",
   "execution_count": 79,
   "id": "0f7643c0-c87c-4a9e-a31a-dd017514606e",
   "metadata": {},
   "outputs": [
    {
     "name": "stdout",
     "output_type": "stream",
     "text": [
      "498/498 [==============================] - 3s 7ms/step\n"
     ]
    },
    {
     "data": {
      "image/png": "[encoded data removed]",
      "text/plain": [
       "<Figure size 640x480 with 2 Axes>"
      ]
     },
     "metadata": {},
     "output_type": "display_data"
    }
   ],
   "source": [
    "y_train = ds_train.mortality\n",
    "y_train_hat = tf.squeeze(model.predict(tf_train.batch(512))).numpy()\n",
    "y_train_hat_classif = y_train_hat > 0.5\n",
    "\n",
    "ConfusionMatrixDisplay.from_predictions(y_train, y_train_hat_classif)\n",
    "plt.show()"
   ]
  },
  {
   "cell_type": "code",
   "execution_count": 80,
   "id": "63bdce89-0ffc-4fe9-a061-502782282502",
   "metadata": {},
   "outputs": [
    {
     "data": {
      "image/png": "[encoded data removed]",
      "text/plain": [
       "<Figure size 640x480 with 1 Axes>"
      ]
     },
     "metadata": {},
     "output_type": "display_data"
    }
   ],
   "source": [
    "plt.hist(y_train_hat)\n",
    "plt.show()"
   ]
  },
  {
   "cell_type": "code",
   "execution_count": 81,
   "id": "701b03af-25b1-4b57-a7c0-71f12a054a6c",
   "metadata": {},
   "outputs": [
    {
     "data": {
      "image/png": "[encoded data removed]",
      "text/plain": [
       "<Figure size 640x480 with 1 Axes>"
      ]
     },
     "metadata": {},
     "output_type": "display_data"
    }
   ],
   "source": [
    "RocCurveDisplay.from_predictions(y_train, y_train_hat)\n",
    "plt.title(\"Training\")\n",
    "plt.show()"
   ]
  },
  {
   "cell_type": "markdown",
   "id": "add7ca41-5527-419c-b06f-583d4db3c79c",
   "metadata": {},
   "source": [
    "### Evaluate on test data"
   ]
  },
  {
   "cell_type": "code",
   "execution_count": 82,
   "id": "74cdcfc5-7ef8-4408-8ebb-60944fc854d6",
   "metadata": {},
   "outputs": [
    {
     "name": "stdout",
     "output_type": "stream",
     "text": [
      "71/71 [==============================] - 0s 6ms/step\n"
     ]
    },
    {
     "data": {
      "image/png": "[encoded data removed]",
      "text/plain": [
       "<Figure size 640x480 with 2 Axes>"
      ]
     },
     "metadata": {},
     "output_type": "display_data"
    }
   ],
   "source": [
    "y_test = ds_test.mortality\n",
    "y_test_hat = tf.squeeze(model.predict(tf_test.batch(512))).numpy()\n",
    "y_test_hat_classif = y_test_hat > 0.5\n",
    "\n",
    "ConfusionMatrixDisplay.from_predictions(y_test, y_test_hat_classif)\n",
    "plt.show()"
   ]
  },
  {
   "cell_type": "code",
   "execution_count": 83,
   "id": "95603c13-5959-468b-b228-30cd87f74aa9",
   "metadata": {},
   "outputs": [
    {
     "data": {
      "image/png": "[encoded data removed]",
      "text/plain": [
       "<Figure size 640x480 with 1 Axes>"
      ]
     },
     "metadata": {},
     "output_type": "display_data"
    }
   ],
   "source": [
    "RocCurveDisplay.from_predictions(y_test, y_test_hat)\n",
    "plt.title(\"Test Data\")\n",
    "plt.show()"
   ]
  },
  {
   "cell_type": "markdown",
   "id": "349befa8-b667-457a-aca8-8556cec61459",
   "metadata": {},
   "source": [
    "### Prepare for export to Google Cloud\n",
    "\n",
    "Wrap in serialization and deserialization layers"
   ]
  },
  {
   "cell_type": "code",
   "execution_count": 84,
   "id": "ef614d78-42b8-4cef-9a92-8be14c4024aa",
   "metadata": {},
   "outputs": [],
   "source": [
    "# From https://github.com/google/earthengine-community/blob/master/guides/linked/Earth_Engine_TensorFlow_Vertex_AI.ipynb\n",
    "class DeSerializeInput(tf.keras.layers.Layer):\n",
    "  def __init__(self, **kwargs):\n",
    "    super().__init__(**kwargs)\n",
    "\n",
    "  def call(self, inputs_dict):\n",
    "    return {\n",
    "      k: tf.map_fn(lambda x: tf.io.parse_tensor(x, tf.float32),\n",
    "                   tf.io.decode_base64(v),\n",
    "                   fn_output_signature=tf.float32)\n",
    "        for (k, v) in inputs_dict.items()\n",
    "    }\n",
    "\n",
    "  def get_config(self):\n",
    "    config = super().get_config()\n",
    "    return config\n",
    "\n",
    "\n",
    "class ReSerializeOutput(tf.keras.layers.Layer):\n",
    "  def __init__(self, **kwargs):\n",
    "    super().__init__(**kwargs)\n",
    "\n",
    "  def call(self, output_tensor):\n",
    "    return tf.map_fn(lambda x: tf.io.encode_base64(tf.io.serialize_tensor(x)),\n",
    "                    output_tensor,\n",
    "                    fn_output_signature=tf.string)\n",
    "\n",
    "  def get_config(self):\n",
    "    config = super().get_config()\n",
    "    return config\n",
    "\n",
    "input_deserializer = DeSerializeInput()\n",
    "output_deserializer = ReSerializeOutput()\n",
    "\n",
    "serialized_inputs = {\n",
    "    b: tf.keras.Input(shape=[], dtype='string', name=b) for b in BANDS\n",
    "}\n",
    "\n",
    "updated_model_input = input_deserializer(serialized_inputs)\n",
    "updated_model = model(updated_model_input)\n",
    "updated_model = output_deserializer(updated_model)\n",
    "updated_model= tf.keras.Model(serialized_inputs, updated_model)"
   ]
  },
  {
   "cell_type": "code",
   "execution_count": 85,
   "id": "a4061c8a-9320-4af5-8397-c05a3742a7a5",
   "metadata": {},
   "outputs": [
    {
     "data": {
      "image/png": "[encoded data removed]",
      "text/plain": [
       "<IPython.core.display.Image object>"
      ]
     },
     "execution_count": 85,
     "metadata": {},
     "output_type": "execute_result"
    }
   ],
   "source": [
    "tf.keras.utils.plot_model(updated_model)"
   ]
  },
  {
   "cell_type": "code",
   "execution_count": 90,
   "id": "d90c1675-25de-4d4c-ab6f-35968dba3541",
   "metadata": {},
   "outputs": [],
   "source": [
    "# Save trained model\n",
    "MODEL_DIR = \"gs://\" + bucket + \"/model\""
   ]
  },
  {
   "cell_type": "code",
   "execution_count": 91,
   "id": "54e166f7-943b-4ffa-82e6-266ec0a21e0b",
   "metadata": {},
   "outputs": [
    {
     "name": "stderr",
     "output_type": "stream",
     "text": [
      "CommandException: No URLs matched: gs://preisler_tfdata/model\n"
     ]
    }
   ],
   "source": [
    "!gsutil rm -r {MODEL_DIR}"
   ]
  },
  {
   "cell_type": "code",
   "execution_count": 93,
   "id": "6b9cae80-22f4-4bc5-8055-150588ff4c44",
   "metadata": {},
   "outputs": [
    {
     "name": "stdout",
     "output_type": "stream",
     "text": [
      "WARNING:tensorflow:Compiled the loaded model, but the compiled metrics have yet to be built. `model.compile_metrics` will be empty until you train or evaluate the model.\n",
      "INFO:tensorflow:Assets written to: data_working/models/preisler_classif_gcloud.tf\\assets\n"
     ]
    }
   ],
   "source": [
    "updated_model.save(\"data_working/models/preisler_classif_gcloud.tf\")"
   ]
  },
  {
   "cell_type": "code",
   "execution_count": 94,
   "id": "2fc5b195-66a2-4295-ad81-44c2822c85fa",
   "metadata": {},
   "outputs": [
    {
     "name": "stderr",
     "output_type": "stream",
     "text": [
      "Copying file://data_working\\models\\preisler_classif_gcloud.tf\\saved_model.pb [Content-Type=application/octet-stream]...\n",
      "/ [0 files][    0.0 B/  1.0 MiB]                                                \n",
      "/ [1 files][  1.0 MiB/  1.0 MiB]                                                \n",
      "Copying file://data_working\\models\\preisler_classif_gcloud.tf\\keras_metadata.pb [Content-Type=application/octet-stream]...\n",
      "/ [1 files][  1.0 MiB/  1.1 MiB]                                                \n",
      "/ [2 files][  1.1 MiB/  1.1 MiB]                                                \n",
      "-\n",
      "Copying file://data_working\\models\\preisler_classif_gcloud.tf\\variables\\variables.data-00000-of-00001 [Content-Type=application/octet-stream]...\n",
      "- [2 files][  1.1 MiB/  1.2 MiB]                                                \n",
      "- [3 files][  1.2 MiB/  1.2 MiB]                                                \n",
      "Copying file://data_working\\models\\preisler_classif_gcloud.tf\\variables\\variables.index [Content-Type=application/octet-stream]...\n",
      "- [3 files][  1.2 MiB/  1.2 MiB]                                                \n",
      "- [4 files][  1.2 MiB/  1.2 MiB]                                                \n",
      "\n",
      "Operation completed over 4 objects/1.2 MiB.                                      \n"
     ]
    }
   ],
   "source": [
    "!gsutil cp -r data_working/models/preisler_classif_gcloud.tf/ gs://{bucket}"
   ]
  },
  {
   "cell_type": "markdown",
   "id": "cf28ec5c-fedf-497d-8629-30fa37e559f6",
   "metadata": {},
   "source": [
    "### Deploy model\n",
    "Note this part costs money!"
   ]
  },
  {
   "cell_type": "code",
   "execution_count": 97,
   "id": "6d033aee-93cb-423e-9286-7f3c3b7cf51a",
   "metadata": {},
   "outputs": [
    {
     "name": "stdout",
     "output_type": "stream",
     "text": [
      "^C\n"
     ]
    }
   ],
   "source": [
    "!gcloud ai models upload \\\n",
    "  --artifact-uri=gs://preisler_tfdata/preisler_classif_gcloud.tf \\\n",
    "  --project=forest-lst \\\n",
    "  --region=us-west1 \\\n",
    "  --container-image-uri=us-docker.pkg.dev/vertex-ai/prediction/tf2-cpu.2-11:latest \\\n",
    "  --description=preisler_demo \\\n",
    "  --display-name=preisler_demo \\\n",
    "  --model-id=preisler_demo"
   ]
  },
  {
   "cell_type": "markdown",
   "id": "8938c1ba-397f-4320-b5d8-d3f8d66a8a0e",
   "metadata": {},
   "source": [
    "Create the endpoint"
   ]
  },
  {
   "cell_type": "code",
   "execution_count": 98,
   "id": "e98fce71-b479-46fe-84fc-5dcb8b8d6ac2",
   "metadata": {},
   "outputs": [
    {
     "name": "stdout",
     "output_type": "stream",
     "text": [
      "^C\n"
     ]
    },
    {
     "name": "stderr",
     "output_type": "stream",
     "text": [
      "Using endpoint [https://us-west1-aiplatform.googleapis.com/]\n",
      "Waiting for operation [7372788963947315200]...\n",
      "..................................................................................................................................................................................................................................................................................................................................................................................................................................................................................................................................................................................................................................................................................................................................................................................................................................................................................................................................................................................................................................................done.\n",
      "Created Vertex AI endpoint: projects/198943021770/locations/us-west1/endpoints/5099592104229732352.\n"
     ]
    }
   ],
   "source": [
    "!gcloud ai endpoints create \\\n",
    "  --display-name=preisler-demo \\\n",
    "  --region=us-west1 \\\n",
    "  --project=forest-lst"
   ]
  },
  {
   "cell_type": "markdown",
   "id": "8d060211-e676-4412-ab61-064c27d49b52",
   "metadata": {},
   "source": [
    "Get the endpoint ID"
   ]
  },
  {
   "cell_type": "code",
   "execution_count": 99,
   "id": "7f80fee8-ee10-4911-9abf-f9e5b175a226",
   "metadata": {},
   "outputs": [],
   "source": [
    "ENDPOINT_ID = !gcloud ai endpoints list \\\n",
    "  --project=forest-lst \\\n",
    "  --region=us-west1 \\\n",
    "  --filter=displayName:preisler-demo \\\n",
    "  --format=\"value(ENDPOINT_ID.scope())\"\n",
    "ENDPOINT_ID = ENDPOINT_ID[-1]"
   ]
  },
  {
   "cell_type": "markdown",
   "id": "b8b14a22-afd3-4aac-a678-5ed09d3549bb",
   "metadata": {},
   "source": [
    "Deploy the model"
   ]
  },
  {
   "cell_type": "code",
   "execution_count": 102,
   "id": "5a0ed2c3-bf0c-4311-a71c-d40ca86e2287",
   "metadata": {},
   "outputs": [
    {
     "name": "stderr",
     "output_type": "stream",
     "text": [
      "Using endpoint [https://us-west1-aiplatform.googleapis.com/]\n",
      "Waiting for operation [243590753819820032]...\n",
      "............................................................................................................................................................................................................................................................................................................................................................................................................................................................................................................................................................................................................................................................................................................................................................................................................................................................................................................................................................................................................................................................................................................................................................................................................................................................................................................................................................................................................................................................................................................................................................................................................................................................................................................................................................................................................................................................................................................................................................................................................................................................................................................................................................................................................................................................................................................................................................................................................................................................................................................................................................................................................................................................................................................................................................................................................................................................................................................................................................................................................................................................................................................................................................................................................................................................................................................................................................................................................................................................................................................................................................................................................................................................................................................................................................................................................................................................................................................................................................................................................................................................................................................................................................................................................................................................................................................................................................................................................................................................................................................................................................................................................................................................................................done.\n",
      "Deployed a model to the endpoint 5099592104229732352. Id of the deployed model: 5707103064901550080.\n"
     ]
    }
   ],
   "source": [
    "!gcloud ai endpoints deploy-model {ENDPOINT_ID} \\\n",
    "  --project=forest-lst \\\n",
    "  --region=us-west1 \\\n",
    "  --model=preisler_demo \\\n",
    "  --display-name=preisler-demo"
   ]
  },
  {
   "cell_type": "markdown",
   "id": "6eef0233-943f-4432-a87d-b407385261cf",
   "metadata": {},
   "source": [
    "### Run model\n",
    "\n",
    "Pull an image from which the training was derived, pass to model, visualize result."
   ]
  },
  {
   "cell_type": "code",
   "execution_count": 103,
   "id": "9f64c26a-1681-43c8-8a56-d9cbff3371e9",
   "metadata": {},
   "outputs": [],
   "source": [
    "import ee\n",
    "import geemap\n",
    "ee.Initialize()"
   ]
  },
  {
   "cell_type": "code",
   "execution_count": 107,
   "id": "a3271670-4963-4d67-8775-3d51013735c2",
   "metadata": {},
   "outputs": [
    {
     "data": {
      "text/html": [
       "\n",
       "            <style>\n",
       "                .geemap-dark {\n",
       "                    --jp-widgets-color: white;\n",
       "                    --jp-widgets-label-color: white;\n",
       "                    --jp-ui-font-color1: white;\n",
       "                    --jp-layout-color2: #454545;\n",
       "                    background-color: #383838;\n",
       "                }\n",
       "\n",
       "                .geemap-dark .jupyter-button {\n",
       "                    --jp-layout-color3: #383838;\n",
       "                }\n",
       "\n",
       "                .geemap-colab {\n",
       "                    background-color: var(--colab-primary-surface-color, white);\n",
       "                }\n",
       "\n",
       "                .geemap-colab .jupyter-button {\n",
       "                    --jp-layout-color3: var(--colab-primary-surface-color, white);\n",
       "                }\n",
       "            </style>\n",
       "            "
      ],
      "text/plain": [
       "<IPython.core.display.HTML object>"
      ]
     },
     "metadata": {},
     "output_type": "display_data"
    },
    {
     "data": {
      "application/vnd.jupyter.widget-view+json": {
       "model_id": "21beacbdcca74f7da2fd5ab20bdcf767",
       "version_major": 2,
       "version_minor": 0
      },
      "text/plain": [
       "Map(center=[0, 0], controls=(WidgetControl(options=['position', 'transparent_bg'], widget=SearchDataGUI(childr…"
      ]
     },
     "execution_count": 107,
     "metadata": {},
     "output_type": "execute_result"
    }
   ],
   "source": [
    "example_image = ee.Image(\"projects/forest-lst/assets/preisler-annual-images/2003\")\n",
    "\n",
    "Map = geemap.Map()\n",
    "Map.addLayer(example_image.select(\"pct_mortality\"))\n",
    "Map"
   ]
  },
  {
   "cell_type": "code",
   "execution_count": 108,
   "id": "f2238d86-7068-41c6-b57b-3bf6cdd2fa18",
   "metadata": {},
   "outputs": [
    {
     "data": {
      "text/html": [
       "\n",
       "            <style>\n",
       "                .geemap-dark {\n",
       "                    --jp-widgets-color: white;\n",
       "                    --jp-widgets-label-color: white;\n",
       "                    --jp-ui-font-color1: white;\n",
       "                    --jp-layout-color2: #454545;\n",
       "                    background-color: #383838;\n",
       "                }\n",
       "\n",
       "                .geemap-dark .jupyter-button {\n",
       "                    --jp-layout-color3: #383838;\n",
       "                }\n",
       "\n",
       "                .geemap-colab {\n",
       "                    background-color: var(--colab-primary-surface-color, white);\n",
       "                }\n",
       "\n",
       "                .geemap-colab .jupyter-button {\n",
       "                    --jp-layout-color3: var(--colab-primary-surface-color, white);\n",
       "                }\n",
       "            </style>\n",
       "            "
      ],
      "text/plain": [
       "<IPython.core.display.HTML object>"
      ]
     },
     "metadata": {},
     "output_type": "display_data"
    }
   ],
   "source": [
    "endpoint_path = (\n",
    "    'projects/' + \"forest-lst\" + '/locations/' + \"us-west1\" + '/endpoints/' + str(ENDPOINT_ID))\n",
    "\n",
    "# Connect to the hosted model.\n",
    "vertex_model = ee.Model.fromVertexAi(\n",
    "  endpoint=endpoint_path,\n",
    "  inputTileSize=[1, 1],\n",
    "  proj=example_image.select(\"pct_mortality\").projection().atScale(4000),\n",
    "  fixInputProj=True,\n",
    "  outputBands={'output': {\n",
    "      'type': ee.PixelType.float(),\n",
    "      'dimensions': 1\n",
    "    }\n",
    "  })"
   ]
  },
  {
   "cell_type": "code",
   "execution_count": 115,
   "id": "30f53128-5749-44f1-ac5a-7a5f2ac968af",
   "metadata": {},
   "outputs": [
    {
     "data": {
      "text/html": [
       "\n",
       "            <style>\n",
       "                .geemap-dark {\n",
       "                    --jp-widgets-color: white;\n",
       "                    --jp-widgets-label-color: white;\n",
       "                    --jp-ui-font-color1: white;\n",
       "                    --jp-layout-color2: #454545;\n",
       "                    background-color: #383838;\n",
       "                }\n",
       "\n",
       "                .geemap-dark .jupyter-button {\n",
       "                    --jp-layout-color3: #383838;\n",
       "                }\n",
       "\n",
       "                .geemap-colab {\n",
       "                    background-color: var(--colab-primary-surface-color, white);\n",
       "                }\n",
       "\n",
       "                .geemap-colab .jupyter-button {\n",
       "                    --jp-layout-color3: var(--colab-primary-surface-color, white);\n",
       "                }\n",
       "            </style>\n",
       "            "
      ],
      "text/plain": [
       "<IPython.core.display.HTML object>"
      ]
     },
     "metadata": {},
     "output_type": "display_data"
    }
   ],
   "source": [
    "prediction = vertex_model.predictImage(example_image.select(BANDS).float()).arrayFlatten([[\"predict_mortality\"]])"
   ]
  },
  {
   "cell_type": "code",
   "execution_count": 116,
   "id": "890e1b80-238c-4d56-ad8a-b84c2eca42d1",
   "metadata": {},
   "outputs": [
    {
     "data": {
      "text/html": [
       "\n",
       "            <style>\n",
       "                .geemap-dark {\n",
       "                    --jp-widgets-color: white;\n",
       "                    --jp-widgets-label-color: white;\n",
       "                    --jp-ui-font-color1: white;\n",
       "                    --jp-layout-color2: #454545;\n",
       "                    background-color: #383838;\n",
       "                }\n",
       "\n",
       "                .geemap-dark .jupyter-button {\n",
       "                    --jp-layout-color3: #383838;\n",
       "                }\n",
       "\n",
       "                .geemap-colab {\n",
       "                    background-color: var(--colab-primary-surface-color, white);\n",
       "                }\n",
       "\n",
       "                .geemap-colab .jupyter-button {\n",
       "                    --jp-layout-color3: var(--colab-primary-surface-color, white);\n",
       "                }\n",
       "            </style>\n",
       "            "
      ],
      "text/plain": [
       "<IPython.core.display.HTML object>"
      ]
     },
     "metadata": {},
     "output_type": "display_data"
    },
    {
     "data": {
      "application/vnd.jupyter.widget-view+json": {
       "model_id": "e0f8b983e23248718f4f858ac58bddd0",
       "version_major": 2,
       "version_minor": 0
      },
      "text/plain": [
       "Map(center=[0, 0], controls=(WidgetControl(options=['position', 'transparent_bg'], widget=SearchDataGUI(childr…"
      ]
     },
     "execution_count": 116,
     "metadata": {},
     "output_type": "execute_result"
    }
   ],
   "source": [
    "Map = geemap.Map()\n",
    "\n",
    "Map.addLayer(example_image.select(\"pct_mortality\"), name=\"true mortality\")\n",
    "Map.addLayer(prediction, name=\"model prediction\")\n",
    "\n",
    "Map"
   ]
  }
 ],
 "metadata": {
  "kernelspec": {
   "display_name": "Python 3 (ipykernel)",
   "language": "python",
   "name": "python3"
  },
  "language_info": {
   "codemirror_mode": {
    "name": "ipython",
    "version": 3
   },
   "file_extension": ".py",
   "mimetype": "text/x-python",
   "name": "python",
   "nbconvert_exporter": "python",
   "pygments_lexer": "ipython3",
   "version": "3.10.13"
  }
 },
 "nbformat": 4,
 "nbformat_minor": 5
}
