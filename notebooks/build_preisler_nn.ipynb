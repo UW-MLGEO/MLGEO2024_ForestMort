{
 "cells": [
  {
   "cell_type": "markdown",
   "id": "3446f3b2-33ea-4432-977f-dd8a2a7a005a",
   "metadata": {},
   "source": [
    "## Replicate model in Preisler et al. (2017)\n",
    "\n",
    "Their approach was to use a general additive model with a logit link function. GAMs are hard to implement in Python and do not play well with tensorflow. We will approximate this with a dense neural network with a logit activation function in the output node."
   ]
  },
  {
   "cell_type": "code",
   "execution_count": 1,
   "id": "035bfb8b-e1e2-49e1-a5e6-7818e1ba3e9e",
   "metadata": {},
   "outputs": [
    {
     "name": "stdout",
     "output_type": "stream",
     "text": [
      "Changed working directory to G:\\Other computers\\My Laptop\\UW\\Classes\\ESS521\\project\n"
     ]
    }
   ],
   "source": [
    "import tensorflow as tf\n",
    "import tensorflow.keras as keras\n",
    "from sklearn.model_selection import train_test_split\n",
    "from sklearn.metrics import ConfusionMatrixDisplay, RocCurveDisplay\n",
    "import pandas as pd\n",
    "import numpy as np\n",
    "from matplotlib import pyplot as plt\n",
    "\n",
    "import os\n",
    "import shutil\n",
    "import json\n",
    "import random\n",
    "\n",
    "from google.cloud.storage import Client\n",
    "\n",
    "if \"notebooks\" in os.getcwd():\n",
    "    os.chdir(\"..\")\n",
    "    print(\"Changed working directory to\", os.getcwd())"
   ]
  },
  {
   "cell_type": "markdown",
   "id": "6dd5a3f1-1ee1-4b62-886c-50944ecad7be",
   "metadata": {},
   "source": [
    "### Get data from GCS"
   ]
  },
  {
   "cell_type": "code",
   "execution_count": 2,
   "id": "6a2a7d9c-1fe5-4655-a8d3-2f794f365c82",
   "metadata": {},
   "outputs": [
    {
     "name": "stdout",
     "output_type": "stream",
     "text": [
      "gs://preisler_tfdata/preisler-rectangular/yr2022.csv\n",
      "gs://preisler_tfdata/preisler-rectangular/yr2019.csv\n",
      "gs://preisler_tfdata/preisler-rectangular/yr2021.csv\n",
      "gs://preisler_tfdata/preisler-rectangular/yr2014.csv\n",
      "gs://preisler_tfdata/preisler-rectangular/yr2013.csv\n",
      "gs://preisler_tfdata/preisler-rectangular/yr2016.csv\n",
      "gs://preisler_tfdata/preisler-rectangular/yr2007.csv\n",
      "gs://preisler_tfdata/preisler-rectangular/yr2023.csv\n",
      "gs://preisler_tfdata/preisler-rectangular/yr2011.csv\n",
      "gs://preisler_tfdata/preisler-rectangular/yr2000.csv\n",
      "gs://preisler_tfdata/preisler-rectangular/yr2008.csv\n",
      "gs://preisler_tfdata/preisler-rectangular/yr2002.csv\n",
      "gs://preisler_tfdata/preisler-rectangular/yr2012.csv\n",
      "gs://preisler_tfdata/preisler-rectangular/yr2017.csv\n",
      "gs://preisler_tfdata/preisler-rectangular/yr2003.csv\n",
      "gs://preisler_tfdata/preisler-rectangular/yr2005.csv\n",
      "gs://preisler_tfdata/preisler-rectangular/yr2004.csv\n",
      "gs://preisler_tfdata/preisler-rectangular/yr2006.csv\n",
      "gs://preisler_tfdata/preisler-rectangular/yr2001.csv\n",
      "gs://preisler_tfdata/preisler-rectangular/yr2009.csv\n",
      "gs://preisler_tfdata/preisler-rectangular/yr2010.csv\n",
      "gs://preisler_tfdata/preisler-rectangular/yr2018.csv\n",
      "gs://preisler_tfdata/preisler-rectangular/yr2015.csv\n",
      "gs://preisler_tfdata/preisler-rectangular/yr2020.csv\n"
     ]
    }
   ],
   "source": [
    "client = Client(project=\"forest-lst\")\n",
    "bucket = \"preisler_tfdata\"\n",
    "\n",
    "records = [\n",
    "    \"/\".join([\"gs://{}\".format(bucket), f.name])\n",
    "    for f in client.list_blobs(bucket, prefix=\"preisler-rectangular\")\n",
    "    if f.name.endswith(\"csv\")\n",
    "]\n",
    "\n",
    "random.shuffle(records)\n",
    "\n",
    "print(\"\\n\".join(records))"
   ]
  },
  {
   "cell_type": "code",
   "execution_count": 3,
   "id": "c00c8870-dfc9-4e52-8d5d-53cb38b8ebdf",
   "metadata": {},
   "outputs": [
    {
     "data": {
      "text/html": [
       "<div>\n",
       "<style scoped>\n",
       "    .dataframe tbody tr th:only-of-type {\n",
       "        vertical-align: middle;\n",
       "    }\n",
       "\n",
       "    .dataframe tbody tr th {\n",
       "        vertical-align: top;\n",
       "    }\n",
       "\n",
       "    .dataframe thead th {\n",
       "        text-align: right;\n",
       "    }\n",
       "</style>\n",
       "<table border=\"1\" class=\"dataframe\">\n",
       "  <thead>\n",
       "    <tr style=\"text-align: right;\">\n",
       "      <th></th>\n",
       "      <th>fire</th>\n",
       "      <th>latitude</th>\n",
       "      <th>longitude</th>\n",
       "      <th>near</th>\n",
       "      <th>pct_mortality</th>\n",
       "      <th>prcp1</th>\n",
       "      <th>prcp2</th>\n",
       "      <th>prcp3</th>\n",
       "      <th>prcp4</th>\n",
       "      <th>rhost</th>\n",
       "      <th>winter_tmin</th>\n",
       "      <th>year</th>\n",
       "    </tr>\n",
       "  </thead>\n",
       "  <tbody>\n",
       "    <tr>\n",
       "      <th>0</th>\n",
       "      <td>0.0</td>\n",
       "      <td>32.658025</td>\n",
       "      <td>-116.727088</td>\n",
       "      <td>0.0</td>\n",
       "      <td>0.0</td>\n",
       "      <td>325.494847</td>\n",
       "      <td>622.429791</td>\n",
       "      <td>652.588838</td>\n",
       "      <td>161.910931</td>\n",
       "      <td>0.0</td>\n",
       "      <td>-2.821773</td>\n",
       "      <td>2022</td>\n",
       "    </tr>\n",
       "    <tr>\n",
       "      <th>1</th>\n",
       "      <td>0.0</td>\n",
       "      <td>32.658025</td>\n",
       "      <td>-116.691155</td>\n",
       "      <td>0.0</td>\n",
       "      <td>0.0</td>\n",
       "      <td>253.127072</td>\n",
       "      <td>536.203888</td>\n",
       "      <td>568.321732</td>\n",
       "      <td>167.239978</td>\n",
       "      <td>0.0</td>\n",
       "      <td>-2.459687</td>\n",
       "      <td>2022</td>\n",
       "    </tr>\n",
       "    <tr>\n",
       "      <th>2</th>\n",
       "      <td>0.0</td>\n",
       "      <td>32.658025</td>\n",
       "      <td>-116.655223</td>\n",
       "      <td>0.0</td>\n",
       "      <td>0.0</td>\n",
       "      <td>281.577814</td>\n",
       "      <td>525.679323</td>\n",
       "      <td>539.978408</td>\n",
       "      <td>168.988773</td>\n",
       "      <td>0.0</td>\n",
       "      <td>-3.120074</td>\n",
       "      <td>2022</td>\n",
       "    </tr>\n",
       "    <tr>\n",
       "      <th>3</th>\n",
       "      <td>0.0</td>\n",
       "      <td>32.658025</td>\n",
       "      <td>-116.619290</td>\n",
       "      <td>0.0</td>\n",
       "      <td>0.0</td>\n",
       "      <td>234.968720</td>\n",
       "      <td>513.938967</td>\n",
       "      <td>458.207106</td>\n",
       "      <td>148.831018</td>\n",
       "      <td>0.0</td>\n",
       "      <td>-3.985616</td>\n",
       "      <td>2022</td>\n",
       "    </tr>\n",
       "    <tr>\n",
       "      <th>4</th>\n",
       "      <td>0.0</td>\n",
       "      <td>32.658025</td>\n",
       "      <td>-116.583358</td>\n",
       "      <td>0.0</td>\n",
       "      <td>0.0</td>\n",
       "      <td>212.701848</td>\n",
       "      <td>503.380566</td>\n",
       "      <td>440.518453</td>\n",
       "      <td>150.470865</td>\n",
       "      <td>0.0</td>\n",
       "      <td>-4.482521</td>\n",
       "      <td>2022</td>\n",
       "    </tr>\n",
       "  </tbody>\n",
       "</table>\n",
       "</div>"
      ],
      "text/plain": [
       "   fire   latitude   longitude  near  pct_mortality       prcp1       prcp2  \\\n",
       "0   0.0  32.658025 -116.727088   0.0            0.0  325.494847  622.429791   \n",
       "1   0.0  32.658025 -116.691155   0.0            0.0  253.127072  536.203888   \n",
       "2   0.0  32.658025 -116.655223   0.0            0.0  281.577814  525.679323   \n",
       "3   0.0  32.658025 -116.619290   0.0            0.0  234.968720  513.938967   \n",
       "4   0.0  32.658025 -116.583358   0.0            0.0  212.701848  503.380566   \n",
       "\n",
       "        prcp3       prcp4  rhost  winter_tmin  year  \n",
       "0  652.588838  161.910931    0.0    -2.821773  2022  \n",
       "1  568.321732  167.239978    0.0    -2.459687  2022  \n",
       "2  539.978408  168.988773    0.0    -3.120074  2022  \n",
       "3  458.207106  148.831018    0.0    -3.985616  2022  \n",
       "4  440.518453  150.470865    0.0    -4.482521  2022  "
      ]
     },
     "execution_count": 3,
     "metadata": {},
     "output_type": "execute_result"
    }
   ],
   "source": [
    "ds = pd.concat((pd.read_csv(f).drop([\"system:index\", \".geo\"], axis=1) for f in records), ignore_index=True)\n",
    "ds.head()"
   ]
  },
  {
   "cell_type": "markdown",
   "id": "7f2b3caa-090c-4cc3-911f-7f82924fd29c",
   "metadata": {},
   "source": [
    "### Preprocessing\n",
    "\n",
    "To match the paper, we have to convert `pct_mortality` to a binary variable. Technically there's another model on top of this one that predicts area affected by mortality given that some mortality is predicted. Also, to ensure that each batch learns from a variety of years and geographies, shuffle the data."
   ]
  },
  {
   "cell_type": "code",
   "execution_count": 4,
   "id": "129e63dc-abfb-4a83-a5dd-9289b0ae964c",
   "metadata": {},
   "outputs": [],
   "source": [
    "ds[\"mortality\"] = ds[\"pct_mortality\"] > 0\n",
    "ds = ds.sample(frac=1).reset_index(drop=True)"
   ]
  },
  {
   "cell_type": "code",
   "execution_count": 5,
   "id": "dbfa0eb2-5784-4d73-ad6d-c721344c5746",
   "metadata": {},
   "outputs": [
    {
     "data": {
      "text/html": [
       "<div>\n",
       "<style scoped>\n",
       "    .dataframe tbody tr th:only-of-type {\n",
       "        vertical-align: middle;\n",
       "    }\n",
       "\n",
       "    .dataframe tbody tr th {\n",
       "        vertical-align: top;\n",
       "    }\n",
       "\n",
       "    .dataframe thead th {\n",
       "        text-align: right;\n",
       "    }\n",
       "</style>\n",
       "<table border=\"1\" class=\"dataframe\">\n",
       "  <thead>\n",
       "    <tr style=\"text-align: right;\">\n",
       "      <th></th>\n",
       "      <th>fire</th>\n",
       "      <th>latitude</th>\n",
       "      <th>longitude</th>\n",
       "      <th>near</th>\n",
       "      <th>pct_mortality</th>\n",
       "      <th>prcp1</th>\n",
       "      <th>prcp2</th>\n",
       "      <th>prcp3</th>\n",
       "      <th>prcp4</th>\n",
       "      <th>rhost</th>\n",
       "      <th>winter_tmin</th>\n",
       "      <th>year</th>\n",
       "      <th>mortality</th>\n",
       "    </tr>\n",
       "  </thead>\n",
       "  <tbody>\n",
       "    <tr>\n",
       "      <th>0</th>\n",
       "      <td>0.5825</td>\n",
       "      <td>39.917770</td>\n",
       "      <td>-121.326462</td>\n",
       "      <td>0.0560</td>\n",
       "      <td>0.0000</td>\n",
       "      <td>1426.174366</td>\n",
       "      <td>1327.207029</td>\n",
       "      <td>969.107596</td>\n",
       "      <td>1041.548015</td>\n",
       "      <td>0.938949</td>\n",
       "      <td>-8.243082</td>\n",
       "      <td>2011</td>\n",
       "      <td>False</td>\n",
       "    </tr>\n",
       "    <tr>\n",
       "      <th>1</th>\n",
       "      <td>0.0000</td>\n",
       "      <td>37.449872</td>\n",
       "      <td>-118.056595</td>\n",
       "      <td>0.0024</td>\n",
       "      <td>0.0020</td>\n",
       "      <td>161.388139</td>\n",
       "      <td>327.919548</td>\n",
       "      <td>452.837730</td>\n",
       "      <td>172.020591</td>\n",
       "      <td>0.993927</td>\n",
       "      <td>-21.458261</td>\n",
       "      <td>2013</td>\n",
       "      <td>True</td>\n",
       "    </tr>\n",
       "    <tr>\n",
       "      <th>2</th>\n",
       "      <td>0.0000</td>\n",
       "      <td>36.560342</td>\n",
       "      <td>-118.703382</td>\n",
       "      <td>0.0000</td>\n",
       "      <td>0.0104</td>\n",
       "      <td>771.291523</td>\n",
       "      <td>811.726773</td>\n",
       "      <td>880.969627</td>\n",
       "      <td>623.192827</td>\n",
       "      <td>0.932808</td>\n",
       "      <td>-9.047246</td>\n",
       "      <td>2003</td>\n",
       "      <td>True</td>\n",
       "    </tr>\n",
       "    <tr>\n",
       "      <th>3</th>\n",
       "      <td>0.0000</td>\n",
       "      <td>39.917770</td>\n",
       "      <td>-123.805812</td>\n",
       "      <td>0.0000</td>\n",
       "      <td>0.0000</td>\n",
       "      <td>2638.889712</td>\n",
       "      <td>1604.522822</td>\n",
       "      <td>1826.287775</td>\n",
       "      <td>2262.425598</td>\n",
       "      <td>0.998544</td>\n",
       "      <td>-4.323664</td>\n",
       "      <td>2007</td>\n",
       "      <td>False</td>\n",
       "    </tr>\n",
       "    <tr>\n",
       "      <th>4</th>\n",
       "      <td>0.0000</td>\n",
       "      <td>37.706168</td>\n",
       "      <td>-118.200325</td>\n",
       "      <td>0.0000</td>\n",
       "      <td>0.0000</td>\n",
       "      <td>188.144747</td>\n",
       "      <td>101.115701</td>\n",
       "      <td>153.091273</td>\n",
       "      <td>392.503666</td>\n",
       "      <td>0.920451</td>\n",
       "      <td>-25.769016</td>\n",
       "      <td>2002</td>\n",
       "      <td>False</td>\n",
       "    </tr>\n",
       "    <tr>\n",
       "      <th>...</th>\n",
       "      <td>...</td>\n",
       "      <td>...</td>\n",
       "      <td>...</td>\n",
       "      <td>...</td>\n",
       "      <td>...</td>\n",
       "      <td>...</td>\n",
       "      <td>...</td>\n",
       "      <td>...</td>\n",
       "      <td>...</td>\n",
       "      <td>...</td>\n",
       "      <td>...</td>\n",
       "      <td>...</td>\n",
       "      <td>...</td>\n",
       "    </tr>\n",
       "    <tr>\n",
       "      <th>363669</th>\n",
       "      <td>0.0000</td>\n",
       "      <td>41.281824</td>\n",
       "      <td>-121.721721</td>\n",
       "      <td>0.2896</td>\n",
       "      <td>0.0000</td>\n",
       "      <td>1128.806786</td>\n",
       "      <td>829.589853</td>\n",
       "      <td>679.323483</td>\n",
       "      <td>1168.116276</td>\n",
       "      <td>0.998522</td>\n",
       "      <td>-12.034532</td>\n",
       "      <td>2004</td>\n",
       "      <td>False</td>\n",
       "    </tr>\n",
       "    <tr>\n",
       "      <th>363670</th>\n",
       "      <td>0.9750</td>\n",
       "      <td>37.164064</td>\n",
       "      <td>-119.242371</td>\n",
       "      <td>0.4636</td>\n",
       "      <td>0.0320</td>\n",
       "      <td>1033.833065</td>\n",
       "      <td>761.124041</td>\n",
       "      <td>930.000199</td>\n",
       "      <td>1791.664896</td>\n",
       "      <td>0.967486</td>\n",
       "      <td>-12.723442</td>\n",
       "      <td>2023</td>\n",
       "      <td>True</td>\n",
       "    </tr>\n",
       "    <tr>\n",
       "      <th>363671</th>\n",
       "      <td>0.0000</td>\n",
       "      <td>40.848357</td>\n",
       "      <td>-120.967136</td>\n",
       "      <td>0.0816</td>\n",
       "      <td>0.0184</td>\n",
       "      <td>873.253212</td>\n",
       "      <td>563.755891</td>\n",
       "      <td>352.199658</td>\n",
       "      <td>694.002207</td>\n",
       "      <td>0.815990</td>\n",
       "      <td>-15.091597</td>\n",
       "      <td>2004</td>\n",
       "      <td>True</td>\n",
       "    </tr>\n",
       "    <tr>\n",
       "      <th>363672</th>\n",
       "      <td>1.0000</td>\n",
       "      <td>41.038350</td>\n",
       "      <td>-123.123093</td>\n",
       "      <td>0.4340</td>\n",
       "      <td>0.2204</td>\n",
       "      <td>877.739953</td>\n",
       "      <td>820.771721</td>\n",
       "      <td>1540.569937</td>\n",
       "      <td>1158.411143</td>\n",
       "      <td>0.772829</td>\n",
       "      <td>-8.720040</td>\n",
       "      <td>2009</td>\n",
       "      <td>True</td>\n",
       "    </tr>\n",
       "    <tr>\n",
       "      <th>363673</th>\n",
       "      <td>0.0000</td>\n",
       "      <td>42.006813</td>\n",
       "      <td>-122.476306</td>\n",
       "      <td>0.0000</td>\n",
       "      <td>0.0000</td>\n",
       "      <td>645.605992</td>\n",
       "      <td>643.952779</td>\n",
       "      <td>967.969206</td>\n",
       "      <td>587.141196</td>\n",
       "      <td>0.454007</td>\n",
       "      <td>-16.588957</td>\n",
       "      <td>2014</td>\n",
       "      <td>False</td>\n",
       "    </tr>\n",
       "  </tbody>\n",
       "</table>\n",
       "<p>363674 rows × 13 columns</p>\n",
       "</div>"
      ],
      "text/plain": [
       "          fire   latitude   longitude    near  pct_mortality        prcp1  \\\n",
       "0       0.5825  39.917770 -121.326462  0.0560         0.0000  1426.174366   \n",
       "1       0.0000  37.449872 -118.056595  0.0024         0.0020   161.388139   \n",
       "2       0.0000  36.560342 -118.703382  0.0000         0.0104   771.291523   \n",
       "3       0.0000  39.917770 -123.805812  0.0000         0.0000  2638.889712   \n",
       "4       0.0000  37.706168 -118.200325  0.0000         0.0000   188.144747   \n",
       "...        ...        ...         ...     ...            ...          ...   \n",
       "363669  0.0000  41.281824 -121.721721  0.2896         0.0000  1128.806786   \n",
       "363670  0.9750  37.164064 -119.242371  0.4636         0.0320  1033.833065   \n",
       "363671  0.0000  40.848357 -120.967136  0.0816         0.0184   873.253212   \n",
       "363672  1.0000  41.038350 -123.123093  0.4340         0.2204   877.739953   \n",
       "363673  0.0000  42.006813 -122.476306  0.0000         0.0000   645.605992   \n",
       "\n",
       "              prcp2        prcp3        prcp4     rhost  winter_tmin  year  \\\n",
       "0       1327.207029   969.107596  1041.548015  0.938949    -8.243082  2011   \n",
       "1        327.919548   452.837730   172.020591  0.993927   -21.458261  2013   \n",
       "2        811.726773   880.969627   623.192827  0.932808    -9.047246  2003   \n",
       "3       1604.522822  1826.287775  2262.425598  0.998544    -4.323664  2007   \n",
       "4        101.115701   153.091273   392.503666  0.920451   -25.769016  2002   \n",
       "...             ...          ...          ...       ...          ...   ...   \n",
       "363669   829.589853   679.323483  1168.116276  0.998522   -12.034532  2004   \n",
       "363670   761.124041   930.000199  1791.664896  0.967486   -12.723442  2023   \n",
       "363671   563.755891   352.199658   694.002207  0.815990   -15.091597  2004   \n",
       "363672   820.771721  1540.569937  1158.411143  0.772829    -8.720040  2009   \n",
       "363673   643.952779   967.969206   587.141196  0.454007   -16.588957  2014   \n",
       "\n",
       "        mortality  \n",
       "0           False  \n",
       "1            True  \n",
       "2            True  \n",
       "3           False  \n",
       "4           False  \n",
       "...           ...  \n",
       "363669      False  \n",
       "363670       True  \n",
       "363671       True  \n",
       "363672       True  \n",
       "363673      False  \n",
       "\n",
       "[363674 rows x 13 columns]"
      ]
     },
     "execution_count": 5,
     "metadata": {},
     "output_type": "execute_result"
    }
   ],
   "source": [
    "ds"
   ]
  },
  {
   "cell_type": "markdown",
   "id": "9b374961-9156-4c00-bf59-cb74e4fee087",
   "metadata": {},
   "source": [
    "### Train-validate-test split"
   ]
  },
  {
   "cell_type": "code",
   "execution_count": 6,
   "id": "e8f527b9-652e-4189-831e-4702d7a2dc5f",
   "metadata": {},
   "outputs": [
    {
     "name": "stdout",
     "output_type": "stream",
     "text": [
      "Number of rows in\n",
      "Training: 254571\n",
      "Validation: 73099\n",
      "Testing: 36004\n"
     ]
    }
   ],
   "source": [
    "ds_train, ds_valid_test = train_test_split(ds, test_size=0.3, stratify=ds.year)\n",
    "ds_valid, ds_test       = train_test_split(ds_valid_test, test_size=0.33, stratify=ds_valid_test.year)\n",
    "\n",
    "print(\"Number of rows in\")\n",
    "print(\"Training:\", ds_train.shape[0])\n",
    "print(\"Validation:\", ds_valid.shape[0])\n",
    "print(\"Testing:\", ds_test.shape[0])"
   ]
  },
  {
   "cell_type": "code",
   "execution_count": 43,
   "id": "d43716a6-3037-4b19-9f6a-bd019e0cae8f",
   "metadata": {},
   "outputs": [],
   "source": [
    "# Convert to tfdatasets\n",
    "# Classification only for now\n",
    "TARGET = [\"mortality\"]\n",
    "BANDS   = [\"fire\", \"near\", \"latitude\", \"longitude\", \"prcp1\", \"prcp2\", \"prcp3\", \"prcp4\", \"rhost\", \"winter_tmin\"]\n",
    "TENSOR_TYPE = tf.float64\n",
    "\n",
    "def df_to_tfdataset(df):\n",
    "    # Add two dimensions\n",
    "    inputs = {\n",
    "        b: tf.expand_dims(v, axis=-1) for b,v in dict(df[BANDS]).items()\n",
    "    }\n",
    "    output = df[TARGET]\n",
    "    return tf.data.Dataset.from_tensor_slices((inputs, output))\n",
    "\n",
    "tf_train = df_to_tfdataset(ds_train)\n",
    "tf_valid = df_to_tfdataset(ds_valid)\n",
    "tf_test  = df_to_tfdataset(ds_test)"
   ]
  },
  {
   "cell_type": "code",
   "execution_count": 44,
   "id": "c5726a60-4588-41a8-bc9b-8bafeb9ce445",
   "metadata": {},
   "outputs": [
    {
     "data": {
      "text/plain": [
       "({'fire': <tf.Tensor: shape=(1,), dtype=float64, numpy=array([0.])>,\n",
       "  'near': <tf.Tensor: shape=(1,), dtype=float64, numpy=array([0.0016])>,\n",
       "  'latitude': <tf.Tensor: shape=(1,), dtype=float64, numpy=array([38.41346263])>,\n",
       "  'longitude': <tf.Tensor: shape=(1,), dtype=float64, numpy=array([-122.47630584])>,\n",
       "  'prcp1': <tf.Tensor: shape=(1,), dtype=float64, numpy=array([824.01897405])>,\n",
       "  'prcp2': <tf.Tensor: shape=(1,), dtype=float64, numpy=array([1554.96702501])>,\n",
       "  'prcp3': <tf.Tensor: shape=(1,), dtype=float64, numpy=array([1259.43660646])>,\n",
       "  'prcp4': <tf.Tensor: shape=(1,), dtype=float64, numpy=array([774.72775397])>,\n",
       "  'rhost': <tf.Tensor: shape=(1,), dtype=float64, numpy=array([0.88380832])>,\n",
       "  'winter_tmin': <tf.Tensor: shape=(1,), dtype=float64, numpy=array([-3.5460212])>},\n",
       " <tf.Tensor: shape=(1,), dtype=bool, numpy=array([ True])>)"
      ]
     },
     "execution_count": 44,
     "metadata": {},
     "output_type": "execute_result"
    }
   ],
   "source": [
    "iter(tf_train.take(1)).next()"
   ]
  },
  {
   "cell_type": "markdown",
   "id": "a024b0db-185c-4127-ab94-777060d97777",
   "metadata": {},
   "source": [
    "### Model building"
   ]
  },
  {
   "cell_type": "code",
   "execution_count": 45,
   "id": "b8987733-1341-4d69-a5d2-d0dfc3d5f4d9",
   "metadata": {},
   "outputs": [],
   "source": [
    "class StackBands(keras.layers.Layer):\n",
    "    def __init__(self, add_spatial_dims = False, **kwargs):\n",
    "        super(StackBands, self).__init__(**kwargs)\n",
    "        self.add_spatial_dims = add_spatial_dims\n",
    "\n",
    "    def call(self, features_dict):\n",
    "        # Stack all inputs into one tensor so we don't have to manually make an input\n",
    "        # layer for each band.\n",
    "        concat = tf.concat([features_dict[b] for b in BANDS], axis=-1)\n",
    "        if self.add_spatial_dims:\n",
    "            # (None, P) -> (None, 1, 1, P)\n",
    "            # Where None is batch dim and P is the number of bands\n",
    "            # The additional axes are necesary if the model is to be deployed on Gcloud\n",
    "            return tf.expand_dims(tf.expand_dims(concat, axis=1), axis=1)\n",
    "        else:\n",
    "            return concat\n",
    "\n",
    "    def get_config(self):\n",
    "        return super().get_config()\n",
    "\n",
    "class StackBandsModel(keras.Model):\n",
    "    def __init__(self, preprocessing, base_model, **kwargs):\n",
    "        super().__init__(**kwargs)\n",
    "        self.preprocessing = preprocessing\n",
    "        self.base_model = base_model\n",
    "\n",
    "    def call(self, features_dict):\n",
    "        return self.base_model(self.preprocessing(features_dict))\n",
    "\n",
    "    def get_config(self):\n",
    "        return super().get_config()"
   ]
  },
  {
   "cell_type": "code",
   "execution_count": 71,
   "id": "9757811c-22bc-459f-9247-2a1edec7892d",
   "metadata": {},
   "outputs": [],
   "source": [
    "import tensorflow.keras as keras\n",
    "\n",
    "REG  = keras.regularizers.L1(0.001)\n",
    "DROP = 0.2\n",
    "ACT  = \"tanh\"\n",
    "\n",
    "# print(sorted(list(spec.keys())))\n",
    "\n",
    "def build_preisler_model(init_bias=None):\n",
    "    # Inputs\n",
    "    inputs = [\n",
    "        keras.layers.Input(shape=(1), name=b) for b in BANDS\n",
    "    ]\n",
    "\n",
    "    concat = keras.layers.Concatenate(axis=-1)(inputs)\n",
    "\n",
    "    # Normalize each band independently. \n",
    "    norm = keras.layers.BatchNormalization(axis=-1)(concat)\n",
    "\n",
    "    # Feed normalized data to a few dense layers with dropout\n",
    "    d1 = keras.layers.Dense(128, activation=ACT)(norm)\n",
    "    drop1 = keras.layers.Dropout(DROP)(d1)\n",
    "    d2 = keras.layers.Dense(16, activation=ACT)(drop1)\n",
    "    drop2 = keras.layers.Dropout(DROP)(d2)\n",
    "    d3 = keras.layers.Dense(8, activation=ACT)(drop2)\n",
    "\n",
    "    # Connect to output.\n",
    "    if init_bias is not None:\n",
    "        init_bias = tf.keras.initializers.Constant(init_bias)\n",
    "\n",
    "    '''\n",
    "    out_regr = keras.layers.Dense(\n",
    "        1, activation=\"sigmoid\", \n",
    "        name=\"pct_mortality\",\n",
    "        bias_initializer=init_bias\n",
    "    )(d3)\n",
    "    '''\n",
    "\n",
    "    out_classif = keras.layers.Dense(\n",
    "        1, activation=\"sigmoid\", \n",
    "        name=\"mortality\",\n",
    "        bias_initializer=init_bias\n",
    "    )(d3)\n",
    "\n",
    "    return keras.models.Model(inputs=inputs, outputs=out_classif)\n",
    "\n",
    "# Calculate initial bias\n",
    "init_bias = np.log(np.sum(ds_train.mortality) / np.sum(~ds_train.mortality))\n",
    "# Build base model\n",
    "model = build_preisler_model(init_bias=init_bias)\n",
    "# Attach preprocessing layer if desired\n",
    "# model = StackBandsModel(StackBands(), model)"
   ]
  },
  {
   "cell_type": "markdown",
   "id": "ee84bf21-10fd-4069-b590-59f53c274372",
   "metadata": {},
   "source": [
    "### Model training"
   ]
  },
  {
   "cell_type": "code",
   "execution_count": 72,
   "id": "3a2d8eb1-f8ab-4efd-9d54-48c17a126de2",
   "metadata": {},
   "outputs": [],
   "source": [
    "# Metric to monitor class imbalance\n",
    "def pct_positive_cases(y_true, y_pred):\n",
    "    return tf.math.reduce_mean(y_true)\n",
    "\n",
    "classif_metrics = [\n",
    "    keras.metrics.Precision(name=\"precision\"),\n",
    "    keras.metrics.Recall(name=\"recall\"),\n",
    "    keras.metrics.AUC(name=\"auc\"),\n",
    "    pct_positive_cases\n",
    "]\n",
    "\n",
    "regr_metrics = [\n",
    "    keras.metrics.RootMeanSquaredError(name=\"rmse\"),\n",
    "]\n",
    "\n",
    "model.compile(\n",
    "    loss=\"binary_crossentropy\",\n",
    "    optimizer=keras.optimizers.Adam(learning_rate=0.005),\n",
    "    metrics=classif_metrics\n",
    ")"
   ]
  },
  {
   "cell_type": "code",
   "execution_count": 73,
   "id": "2dd9e588-9980-47dc-a500-420531f87b23",
   "metadata": {},
   "outputs": [],
   "source": [
    "# Callbacks\n",
    "# NOTE THAT SUBCLASSED MODELS WONT SAVE IF THE FILENAME ENDS IN .keras!\n",
    "model_name = \"preisler_classif_noyear.model\"\n",
    "earlystop = keras.callbacks.EarlyStopping(monitor=\"loss\", patience=5)\n",
    "checkpoint = keras.callbacks.ModelCheckpoint(os.path.join(\"data_working\", \"models\", model_name), save_best_only=True)\n",
    "logdir = os.path.join(\"logs\", model_name)\n",
    "tensorboard_callback = tf.keras.callbacks.TensorBoard(logdir, histogram_freq=1)\n",
    "\n",
    "# Make log directory\n",
    "os.makedirs(logdir, exist_ok=True)\n",
    "# Delete any old logs that might be in there\n",
    "for fname in os.listdir(logdir):\n",
    "    file_path = os.path.join(logdir, fname)\n",
    "    try:\n",
    "        if os.path.isfile(file_path) or os.path.islink(file_path):\n",
    "            os.unlink(file_path)\n",
    "        elif os.path.isdir(file_path):\n",
    "            shutil.rmtree(file_path)\n",
    "    except OSError as e:\n",
    "        print(\"Failed to delete\", file_path)"
   ]
  },
  {
   "cell_type": "code",
   "execution_count": 74,
   "id": "5376d984-9152-41ed-b9f5-2d7fa2e4b19a",
   "metadata": {},
   "outputs": [
    {
     "name": "stdout",
     "output_type": "stream",
     "text": [
      "Epoch 1/30\n",
      "494/498 [============================>.] - ETA: 0s - loss: 0.5138 - precision: 0.6539 - recall: 0.5182 - auc: 0.7907 - pct_positive_cases: 0.3381INFO:tensorflow:Assets written to: data_working\\models\\preisler_classif_noyear.model\\assets\n",
      "498/498 [==============================] - 8s 14ms/step - loss: 0.5136 - precision: 0.6540 - recall: 0.5186 - auc: 0.7908 - pct_positive_cases: 0.3382 - val_loss: 0.4847 - val_precision: 0.6505 - val_recall: 0.6416 - val_auc: 0.8214 - val_pct_positive_cases: 0.3363\n",
      "Epoch 2/30\n",
      "497/498 [============================>.] - ETA: 0s - loss: 0.4913 - precision: 0.6781 - recall: 0.5527 - auc: 0.8118 - pct_positive_cases: 0.3382INFO:tensorflow:Assets written to: data_working\\models\\preisler_classif_noyear.model\\assets\n",
      "498/498 [==============================] - 7s 14ms/step - loss: 0.4913 - precision: 0.6781 - recall: 0.5528 - auc: 0.8118 - pct_positive_cases: 0.3382 - val_loss: 0.4663 - val_precision: 0.6736 - val_recall: 0.6376 - val_auc: 0.8336 - val_pct_positive_cases: 0.3363\n",
      "Epoch 3/30\n",
      "496/498 [============================>.] - ETA: 0s - loss: 0.4851 - precision: 0.6907 - recall: 0.5538 - auc: 0.8176 - pct_positive_cases: 0.3382INFO:tensorflow:Assets written to: data_working\\models\\preisler_classif_noyear.model\\assets\n",
      "498/498 [==============================] - 7s 14ms/step - loss: 0.4851 - precision: 0.6906 - recall: 0.5539 - auc: 0.8176 - pct_positive_cases: 0.3382 - val_loss: 0.4636 - val_precision: 0.6737 - val_recall: 0.6658 - val_auc: 0.8382 - val_pct_positive_cases: 0.3363\n",
      "Epoch 4/30\n",
      "498/498 [==============================] - 5s 10ms/step - loss: 0.4816 - precision: 0.6950 - recall: 0.5555 - auc: 0.8206 - pct_positive_cases: 0.3382 - val_loss: 0.4692 - val_precision: 0.6639 - val_recall: 0.6702 - val_auc: 0.8360 - val_pct_positive_cases: 0.3363\n",
      "Epoch 5/30\n",
      "497/498 [============================>.] - ETA: 0s - loss: 0.4793 - precision: 0.6963 - recall: 0.5625 - auc: 0.8227 - pct_positive_cases: 0.3382INFO:tensorflow:Assets written to: data_working\\models\\preisler_classif_noyear.model\\assets\n",
      "498/498 [==============================] - 7s 14ms/step - loss: 0.4792 - precision: 0.6963 - recall: 0.5626 - auc: 0.8227 - pct_positive_cases: 0.3382 - val_loss: 0.4611 - val_precision: 0.6766 - val_recall: 0.6701 - val_auc: 0.8407 - val_pct_positive_cases: 0.3363\n",
      "Epoch 6/30\n",
      "496/498 [============================>.] - ETA: 0s - loss: 0.4774 - precision: 0.6999 - recall: 0.5619 - auc: 0.8242 - pct_positive_cases: 0.3382INFO:tensorflow:Assets written to: data_working\\models\\preisler_classif_noyear.model\\assets\n",
      "498/498 [==============================] - 7s 14ms/step - loss: 0.4774 - precision: 0.7000 - recall: 0.5618 - auc: 0.8242 - pct_positive_cases: 0.3382 - val_loss: 0.4574 - val_precision: 0.6781 - val_recall: 0.6727 - val_auc: 0.8429 - val_pct_positive_cases: 0.3363\n",
      "Epoch 7/30\n",
      "497/498 [============================>.] - ETA: 0s - loss: 0.4746 - precision: 0.7031 - recall: 0.5675 - auc: 0.8266 - pct_positive_cases: 0.3382INFO:tensorflow:Assets written to: data_working\\models\\preisler_classif_noyear.model\\assets\n",
      "498/498 [==============================] - 7s 15ms/step - loss: 0.4746 - precision: 0.7031 - recall: 0.5675 - auc: 0.8266 - pct_positive_cases: 0.3382 - val_loss: 0.4512 - val_precision: 0.6995 - val_recall: 0.6451 - val_auc: 0.8457 - val_pct_positive_cases: 0.3363\n",
      "Epoch 8/30\n",
      "498/498 [==============================] - 5s 10ms/step - loss: 0.4730 - precision: 0.7025 - recall: 0.5707 - auc: 0.8282 - pct_positive_cases: 0.3382 - val_loss: 0.4565 - val_precision: 0.6829 - val_recall: 0.6611 - val_auc: 0.8435 - val_pct_positive_cases: 0.3363\n",
      "Epoch 9/30\n",
      "493/498 [============================>.] - ETA: 0s - loss: 0.4715 - precision: 0.7048 - recall: 0.5781 - auc: 0.8295 - pct_positive_cases: 0.3382INFO:tensorflow:Assets written to: data_working\\models\\preisler_classif_noyear.model\\assets\n",
      "498/498 [==============================] - 7s 15ms/step - loss: 0.4715 - precision: 0.7051 - recall: 0.5777 - auc: 0.8296 - pct_positive_cases: 0.3382 - val_loss: 0.4455 - val_precision: 0.7076 - val_recall: 0.6545 - val_auc: 0.8507 - val_pct_positive_cases: 0.3363\n",
      "Epoch 10/30\n",
      "498/498 [==============================] - 5s 10ms/step - loss: 0.4697 - precision: 0.7039 - recall: 0.5773 - auc: 0.8311 - pct_positive_cases: 0.3382 - val_loss: 0.4462 - val_precision: 0.7144 - val_recall: 0.6285 - val_auc: 0.8498 - val_pct_positive_cases: 0.3363\n",
      "Epoch 11/30\n",
      "495/498 [============================>.] - ETA: 0s - loss: 0.4679 - precision: 0.7063 - recall: 0.5820 - auc: 0.8326 - pct_positive_cases: 0.3381INFO:tensorflow:Assets written to: data_working\\models\\preisler_classif_noyear.model\\assets\n",
      "498/498 [==============================] - 7s 14ms/step - loss: 0.4679 - precision: 0.7065 - recall: 0.5820 - auc: 0.8327 - pct_positive_cases: 0.3382 - val_loss: 0.4453 - val_precision: 0.6981 - val_recall: 0.6675 - val_auc: 0.8517 - val_pct_positive_cases: 0.3363\n",
      "Epoch 12/30\n",
      "494/498 [============================>.] - ETA: 0s - loss: 0.4669 - precision: 0.7071 - recall: 0.5838 - auc: 0.8333 - pct_positive_cases: 0.3381INFO:tensorflow:Assets written to: data_working\\models\\preisler_classif_noyear.model\\assets\n",
      "498/498 [==============================] - 7s 15ms/step - loss: 0.4669 - precision: 0.7072 - recall: 0.5835 - auc: 0.8333 - pct_positive_cases: 0.3382 - val_loss: 0.4412 - val_precision: 0.7106 - val_recall: 0.6511 - val_auc: 0.8539 - val_pct_positive_cases: 0.3363\n",
      "Epoch 13/30\n",
      "497/498 [============================>.] - ETA: 0s - loss: 0.4646 - precision: 0.7085 - recall: 0.5893 - auc: 0.8356 - pct_positive_cases: 0.3382INFO:tensorflow:Assets written to: data_working\\models\\preisler_classif_noyear.model\\assets\n",
      "498/498 [==============================] - 7s 15ms/step - loss: 0.4646 - precision: 0.7085 - recall: 0.5893 - auc: 0.8356 - pct_positive_cases: 0.3382 - val_loss: 0.4398 - val_precision: 0.7050 - val_recall: 0.6594 - val_auc: 0.8549 - val_pct_positive_cases: 0.3363\n",
      "Epoch 14/30\n",
      "495/498 [============================>.] - ETA: 0s - loss: 0.4642 - precision: 0.7079 - recall: 0.5931 - auc: 0.8361 - pct_positive_cases: 0.3381INFO:tensorflow:Assets written to: data_working\\models\\preisler_classif_noyear.model\\assets\n",
      "498/498 [==============================] - 7s 14ms/step - loss: 0.4641 - precision: 0.7082 - recall: 0.5932 - auc: 0.8361 - pct_positive_cases: 0.3382 - val_loss: 0.4388 - val_precision: 0.7080 - val_recall: 0.6645 - val_auc: 0.8561 - val_pct_positive_cases: 0.3363\n",
      "Epoch 15/30\n",
      "494/498 [============================>.] - ETA: 0s - loss: 0.4625 - precision: 0.7098 - recall: 0.5929 - auc: 0.8374 - pct_positive_cases: 0.3381INFO:tensorflow:Assets written to: data_working\\models\\preisler_classif_noyear.model\\assets\n",
      "498/498 [==============================] - 7s 15ms/step - loss: 0.4626 - precision: 0.7099 - recall: 0.5927 - auc: 0.8374 - pct_positive_cases: 0.3382 - val_loss: 0.4380 - val_precision: 0.7084 - val_recall: 0.6686 - val_auc: 0.8573 - val_pct_positive_cases: 0.3363\n",
      "Epoch 16/30\n",
      "495/498 [============================>.] - ETA: 0s - loss: 0.4621 - precision: 0.7084 - recall: 0.5932 - auc: 0.8377 - pct_positive_cases: 0.3381INFO:tensorflow:Assets written to: data_working\\models\\preisler_classif_noyear.model\\assets\n",
      "498/498 [==============================] - 8s 16ms/step - loss: 0.4621 - precision: 0.7087 - recall: 0.5931 - auc: 0.8378 - pct_positive_cases: 0.3382 - val_loss: 0.4358 - val_precision: 0.7267 - val_recall: 0.6413 - val_auc: 0.8581 - val_pct_positive_cases: 0.3363\n",
      "Epoch 17/30\n",
      "495/498 [============================>.] - ETA: 0s - loss: 0.4606 - precision: 0.7110 - recall: 0.5963 - auc: 0.8389 - pct_positive_cases: 0.3381INFO:tensorflow:Assets written to: data_working\\models\\preisler_classif_noyear.model\\assets\n",
      "498/498 [==============================] - 7s 14ms/step - loss: 0.4606 - precision: 0.7111 - recall: 0.5962 - auc: 0.8389 - pct_positive_cases: 0.3382 - val_loss: 0.4338 - val_precision: 0.7164 - val_recall: 0.6655 - val_auc: 0.8601 - val_pct_positive_cases: 0.3363\n",
      "Epoch 18/30\n",
      "495/498 [============================>.] - ETA: 0s - loss: 0.4605 - precision: 0.7104 - recall: 0.5948 - auc: 0.8391 - pct_positive_cases: 0.3381INFO:tensorflow:Assets written to: data_working\\models\\preisler_classif_noyear.model\\assets\n",
      "498/498 [==============================] - 8s 16ms/step - loss: 0.4606 - precision: 0.7106 - recall: 0.5947 - auc: 0.8391 - pct_positive_cases: 0.3382 - val_loss: 0.4334 - val_precision: 0.7263 - val_recall: 0.6397 - val_auc: 0.8597 - val_pct_positive_cases: 0.3363\n",
      "Epoch 19/30\n",
      "498/498 [==============================] - ETA: 0s - loss: 0.4588 - precision: 0.7135 - recall: 0.5965 - auc: 0.8403 - pct_positive_cases: 0.3382INFO:tensorflow:Assets written to: data_working\\models\\preisler_classif_noyear.model\\assets\n",
      "498/498 [==============================] - 8s 16ms/step - loss: 0.4588 - precision: 0.7135 - recall: 0.5965 - auc: 0.8403 - pct_positive_cases: 0.3382 - val_loss: 0.4313 - val_precision: 0.7279 - val_recall: 0.6442 - val_auc: 0.8619 - val_pct_positive_cases: 0.3363\n",
      "Epoch 20/30\n",
      "497/498 [============================>.] - ETA: 0s - loss: 0.4573 - precision: 0.7133 - recall: 0.5990 - auc: 0.8417 - pct_positive_cases: 0.3382INFO:tensorflow:Assets written to: data_working\\models\\preisler_classif_noyear.model\\assets\n",
      "498/498 [==============================] - 7s 15ms/step - loss: 0.4573 - precision: 0.7133 - recall: 0.5990 - auc: 0.8417 - pct_positive_cases: 0.3382 - val_loss: 0.4292 - val_precision: 0.7349 - val_recall: 0.6367 - val_auc: 0.8625 - val_pct_positive_cases: 0.3363\n",
      "Epoch 21/30\n",
      "498/498 [==============================] - 5s 10ms/step - loss: 0.4575 - precision: 0.7126 - recall: 0.5999 - auc: 0.8414 - pct_positive_cases: 0.3382 - val_loss: 0.4314 - val_precision: 0.7274 - val_recall: 0.6484 - val_auc: 0.8611 - val_pct_positive_cases: 0.3363\n",
      "Epoch 22/30\n",
      "498/498 [==============================] - 5s 11ms/step - loss: 0.4564 - precision: 0.7138 - recall: 0.6022 - auc: 0.8425 - pct_positive_cases: 0.3382 - val_loss: 0.4308 - val_precision: 0.7348 - val_recall: 0.6298 - val_auc: 0.8613 - val_pct_positive_cases: 0.3363\n",
      "Epoch 23/30\n",
      "498/498 [==============================] - 5s 10ms/step - loss: 0.4564 - precision: 0.7126 - recall: 0.6017 - auc: 0.8425 - pct_positive_cases: 0.3382 - val_loss: 0.4308 - val_precision: 0.7334 - val_recall: 0.6232 - val_auc: 0.8617 - val_pct_positive_cases: 0.3363\n",
      "Epoch 24/30\n",
      "493/498 [============================>.] - ETA: 0s - loss: 0.4550 - precision: 0.7117 - recall: 0.6050 - auc: 0.8436 - pct_positive_cases: 0.3382INFO:tensorflow:Assets written to: data_working\\models\\preisler_classif_noyear.model\\assets\n",
      "498/498 [==============================] - 8s 15ms/step - loss: 0.4550 - precision: 0.7119 - recall: 0.6048 - auc: 0.8436 - pct_positive_cases: 0.3382 - val_loss: 0.4288 - val_precision: 0.7307 - val_recall: 0.6468 - val_auc: 0.8634 - val_pct_positive_cases: 0.3363\n",
      "Epoch 25/30\n",
      "493/498 [============================>.] - ETA: 0s - loss: 0.4542 - precision: 0.7120 - recall: 0.6063 - auc: 0.8443 - pct_positive_cases: 0.3382INFO:tensorflow:Assets written to: data_working\\models\\preisler_classif_noyear.model\\assets\n",
      "498/498 [==============================] - 7s 15ms/step - loss: 0.4542 - precision: 0.7121 - recall: 0.6062 - auc: 0.8443 - pct_positive_cases: 0.3382 - val_loss: 0.4277 - val_precision: 0.7057 - val_recall: 0.6908 - val_auc: 0.8647 - val_pct_positive_cases: 0.3363\n",
      "Epoch 26/30\n",
      "498/498 [==============================] - 5s 10ms/step - loss: 0.4539 - precision: 0.7126 - recall: 0.6095 - auc: 0.8446 - pct_positive_cases: 0.3382 - val_loss: 0.4289 - val_precision: 0.7310 - val_recall: 0.6454 - val_auc: 0.8633 - val_pct_positive_cases: 0.3363\n",
      "Epoch 27/30\n",
      "493/498 [============================>.] - ETA: 0s - loss: 0.4523 - precision: 0.7147 - recall: 0.6069 - auc: 0.8457 - pct_positive_cases: 0.3382INFO:tensorflow:Assets written to: data_working\\models\\preisler_classif_noyear.model\\assets\n",
      "498/498 [==============================] - 7s 14ms/step - loss: 0.4523 - precision: 0.7149 - recall: 0.6065 - auc: 0.8458 - pct_positive_cases: 0.3382 - val_loss: 0.4257 - val_precision: 0.7423 - val_recall: 0.6264 - val_auc: 0.8657 - val_pct_positive_cases: 0.3363\n",
      "Epoch 28/30\n",
      "495/498 [============================>.] - ETA: 0s - loss: 0.4529 - precision: 0.7156 - recall: 0.6085 - auc: 0.8453 - pct_positive_cases: 0.3381INFO:tensorflow:Assets written to: data_working\\models\\preisler_classif_noyear.model\\assets\n",
      "498/498 [==============================] - 8s 16ms/step - loss: 0.4529 - precision: 0.7158 - recall: 0.6084 - auc: 0.8453 - pct_positive_cases: 0.3382 - val_loss: 0.4246 - val_precision: 0.7271 - val_recall: 0.6641 - val_auc: 0.8670 - val_pct_positive_cases: 0.3363\n",
      "Epoch 29/30\n",
      "498/498 [==============================] - 5s 11ms/step - loss: 0.4523 - precision: 0.7158 - recall: 0.6072 - auc: 0.8458 - pct_positive_cases: 0.3382 - val_loss: 0.4253 - val_precision: 0.7392 - val_recall: 0.6435 - val_auc: 0.8657 - val_pct_positive_cases: 0.3363\n",
      "Epoch 30/30\n",
      "492/498 [============================>.] - ETA: 0s - loss: 0.4522 - precision: 0.7169 - recall: 0.6093 - auc: 0.8461 - pct_positive_cases: 0.3382INFO:tensorflow:Assets written to: data_working\\models\\preisler_classif_noyear.model\\assets\n",
      "498/498 [==============================] - 8s 16ms/step - loss: 0.4522 - precision: 0.7170 - recall: 0.6086 - auc: 0.8460 - pct_positive_cases: 0.3382 - val_loss: 0.4244 - val_precision: 0.7298 - val_recall: 0.6582 - val_auc: 0.8665 - val_pct_positive_cases: 0.3363\n"
     ]
    }
   ],
   "source": [
    "batch_size = 512\n",
    "\n",
    "history = model.fit(\n",
    "    x=tf_train.batch(batch_size),\n",
    "    validation_data=tf_valid.batch(batch_size),\n",
    "    epochs=30,\n",
    "    verbose=1,\n",
    "    callbacks=[checkpoint, earlystop, tensorboard_callback]\n",
    ")"
   ]
  },
  {
   "cell_type": "markdown",
   "id": "1613aaec-6b17-4811-9b38-dbf7552aa33e",
   "metadata": {},
   "source": [
    "### Show fit on training data"
   ]
  },
  {
   "cell_type": "code",
   "execution_count": 75,
   "id": "0f7643c0-c87c-4a9e-a31a-dd017514606e",
   "metadata": {},
   "outputs": [
    {
     "name": "stdout",
     "output_type": "stream",
     "text": [
      "498/498 [==============================] - 3s 6ms/step\n"
     ]
    },
    {
     "data": {
      "image/png": "[encoded data removed]",
      "text/plain": [
       "<Figure size 640x480 with 2 Axes>"
      ]
     },
     "metadata": {},
     "output_type": "display_data"
    }
   ],
   "source": [
    "y_train = ds_train.mortality\n",
    "y_train_hat = tf.squeeze(model.predict(tf_train.batch(512))).numpy()\n",
    "y_train_hat_classif = y_train_hat > 0.5\n",
    "\n",
    "ConfusionMatrixDisplay.from_predictions(y_train, y_train_hat_classif)\n",
    "plt.show()"
   ]
  },
  {
   "cell_type": "code",
   "execution_count": 76,
   "id": "63bdce89-0ffc-4fe9-a061-502782282502",
   "metadata": {},
   "outputs": [
    {
     "data": {
      "image/png": "[encoded data removed]",
      "text/plain": [
       "<Figure size 640x480 with 1 Axes>"
      ]
     },
     "metadata": {},
     "output_type": "display_data"
    }
   ],
   "source": [
    "plt.hist(y_train_hat)\n",
    "plt.show()"
   ]
  },
  {
   "cell_type": "code",
   "execution_count": 77,
   "id": "701b03af-25b1-4b57-a7c0-71f12a054a6c",
   "metadata": {},
   "outputs": [
    {
     "data": {
      "image/png": "[encoded data removed]",
      "text/plain": [
       "<Figure size 640x480 with 1 Axes>"
      ]
     },
     "metadata": {},
     "output_type": "display_data"
    }
   ],
   "source": [
    "RocCurveDisplay.from_predictions(y_train, y_train_hat)\n",
    "plt.title(\"Training\")\n",
    "plt.show()"
   ]
  },
  {
   "cell_type": "markdown",
   "id": "add7ca41-5527-419c-b06f-583d4db3c79c",
   "metadata": {},
   "source": [
    "### Evaluate on test data"
   ]
  },
  {
   "cell_type": "code",
   "execution_count": 78,
   "id": "74cdcfc5-7ef8-4408-8ebb-60944fc854d6",
   "metadata": {},
   "outputs": [
    {
     "name": "stdout",
     "output_type": "stream",
     "text": [
      "71/71 [==============================] - 0s 6ms/step\n"
     ]
    },
    {
     "data": {
      "image/png": "[encoded data removed]",
      "text/plain": [
       "<Figure size 640x480 with 2 Axes>"
      ]
     },
     "metadata": {},
     "output_type": "display_data"
    }
   ],
   "source": [
    "y_test = ds_test.mortality\n",
    "y_test_hat = tf.squeeze(model.predict(tf_test.batch(512))).numpy()\n",
    "y_test_hat_classif = y_test_hat > 0.5\n",
    "\n",
    "ConfusionMatrixDisplay.from_predictions(y_test, y_test_hat_classif)\n",
    "plt.show()"
   ]
  },
  {
   "cell_type": "code",
   "execution_count": 79,
   "id": "95603c13-5959-468b-b228-30cd87f74aa9",
   "metadata": {},
   "outputs": [
    {
     "data": {
      "image/png": "[encoded data removed]",
      "text/plain": [
       "<Figure size 640x480 with 1 Axes>"
      ]
     },
     "metadata": {},
     "output_type": "display_data"
    }
   ],
   "source": [
    "RocCurveDisplay.from_predictions(y_test, y_test_hat)\n",
    "plt.title(\"Test Data\")\n",
    "plt.show()"
   ]
  },
  {
   "cell_type": "code",
   "execution_count": 80,
   "id": "9a569873-c6d5-4ae8-9c7a-07b67acef00a",
   "metadata": {},
   "outputs": [
    {
     "name": "stdout",
     "output_type": "stream",
     "text": [
      "INFO:tensorflow:Assets written to: data_working/models/preisler_classif_noyear.model/assets\n"
     ]
    }
   ],
   "source": [
    "model.save(\"data_working/models/preisler_classif_noyear.model/\")"
   ]
  },
  {
   "cell_type": "markdown",
   "id": "349befa8-b667-457a-aca8-8556cec61459",
   "metadata": {},
   "source": [
    "### Prepare for export to Google Cloud\n",
    "\n",
    "Wrap in serialization and deserialization layers"
   ]
  },
  {
   "cell_type": "code",
   "execution_count": 84,
   "id": "ef614d78-42b8-4cef-9a92-8be14c4024aa",
   "metadata": {},
   "outputs": [],
   "source": [
    "# From https://github.com/google/earthengine-community/blob/master/guides/linked/Earth_Engine_TensorFlow_Vertex_AI.ipynb\n",
    "class DeSerializeInput(tf.keras.layers.Layer):\n",
    "  def __init__(self, **kwargs):\n",
    "    super().__init__(**kwargs)\n",
    "\n",
    "  def call(self, inputs_dict):\n",
    "    return {\n",
    "      k: tf.map_fn(lambda x: tf.io.parse_tensor(x, tf.float32),\n",
    "                   tf.io.decode_base64(v),\n",
    "                   fn_output_signature=tf.float32)\n",
    "        for (k, v) in inputs_dict.items()\n",
    "    }\n",
    "\n",
    "  def get_config(self):\n",
    "    config = super().get_config()\n",
    "    return config\n",
    "\n",
    "\n",
    "class ReSerializeOutput(tf.keras.layers.Layer):\n",
    "  def __init__(self, **kwargs):\n",
    "    super().__init__(**kwargs)\n",
    "\n",
    "  def call(self, output_tensor):\n",
    "    return tf.map_fn(lambda x: tf.io.encode_base64(tf.io.serialize_tensor(x)),\n",
    "                    output_tensor,\n",
    "                    fn_output_signature=tf.string)\n",
    "\n",
    "  def get_config(self):\n",
    "    config = super().get_config()\n",
    "    return config\n",
    "\n",
    "input_deserializer = DeSerializeInput()\n",
    "output_deserializer = ReSerializeOutput()\n",
    "\n",
    "serialized_inputs = {\n",
    "    b: tf.keras.Input(shape=[], dtype='string', name=b) for b in BANDS\n",
    "}\n",
    "\n",
    "updated_model_input = input_deserializer(serialized_inputs)\n",
    "updated_model = model(updated_model_input)\n",
    "updated_model = output_deserializer(updated_model)\n",
    "updated_model= tf.keras.Model(serialized_inputs, updated_model)"
   ]
  },
  {
   "cell_type": "code",
   "execution_count": 85,
   "id": "a4061c8a-9320-4af5-8397-c05a3742a7a5",
   "metadata": {},
   "outputs": [
    {
     "data": {
      "image/png": "[encoded data removed]",
      "text/plain": [
       "<IPython.core.display.Image object>"
      ]
     },
     "execution_count": 85,
     "metadata": {},
     "output_type": "execute_result"
    }
   ],
   "source": [
    "tf.keras.utils.plot_model(updated_model)"
   ]
  },
  {
   "cell_type": "code",
   "execution_count": 90,
   "id": "d90c1675-25de-4d4c-ab6f-35968dba3541",
   "metadata": {},
   "outputs": [],
   "source": [
    "# Save trained model\n",
    "MODEL_DIR = \"gs://\" + bucket + \"/model\""
   ]
  },
  {
   "cell_type": "code",
   "execution_count": 91,
   "id": "54e166f7-943b-4ffa-82e6-266ec0a21e0b",
   "metadata": {},
   "outputs": [
    {
     "name": "stderr",
     "output_type": "stream",
     "text": [
      "CommandException: No URLs matched: gs://preisler_tfdata/model\n"
     ]
    }
   ],
   "source": [
    "!gsutil rm -r {MODEL_DIR}"
   ]
  },
  {
   "cell_type": "code",
   "execution_count": 93,
   "id": "6b9cae80-22f4-4bc5-8055-150588ff4c44",
   "metadata": {},
   "outputs": [
    {
     "name": "stdout",
     "output_type": "stream",
     "text": [
      "WARNING:tensorflow:Compiled the loaded model, but the compiled metrics have yet to be built. `model.compile_metrics` will be empty until you train or evaluate the model.\n",
      "INFO:tensorflow:Assets written to: data_working/models/preisler_classif_gcloud.tf\\assets\n"
     ]
    }
   ],
   "source": [
    "updated_model.save(\"data_working/models/preisler_classif_gcloud.tf\")"
   ]
  },
  {
   "cell_type": "code",
   "execution_count": 94,
   "id": "2fc5b195-66a2-4295-ad81-44c2822c85fa",
   "metadata": {},
   "outputs": [
    {
     "name": "stderr",
     "output_type": "stream",
     "text": [
      "Copying file://data_working\\models\\preisler_classif_gcloud.tf\\saved_model.pb [Content-Type=application/octet-stream]...\n",
      "/ [0 files][    0.0 B/  1.0 MiB]                                                \n",
      "/ [1 files][  1.0 MiB/  1.0 MiB]                                                \n",
      "Copying file://data_working\\models\\preisler_classif_gcloud.tf\\keras_metadata.pb [Content-Type=application/octet-stream]...\n",
      "/ [1 files][  1.0 MiB/  1.1 MiB]                                                \n",
      "/ [2 files][  1.1 MiB/  1.1 MiB]                                                \n",
      "-\n",
      "Copying file://data_working\\models\\preisler_classif_gcloud.tf\\variables\\variables.data-00000-of-00001 [Content-Type=application/octet-stream]...\n",
      "- [2 files][  1.1 MiB/  1.2 MiB]                                                \n",
      "- [3 files][  1.2 MiB/  1.2 MiB]                                                \n",
      "Copying file://data_working\\models\\preisler_classif_gcloud.tf\\variables\\variables.index [Content-Type=application/octet-stream]...\n",
      "- [3 files][  1.2 MiB/  1.2 MiB]                                                \n",
      "- [4 files][  1.2 MiB/  1.2 MiB]                                                \n",
      "\n",
      "Operation completed over 4 objects/1.2 MiB.                                      \n"
     ]
    }
   ],
   "source": [
    "!gsutil cp -r data_working/models/preisler_classif_gcloud.tf/ gs://{bucket}"
   ]
  },
  {
   "cell_type": "markdown",
   "id": "cf28ec5c-fedf-497d-8629-30fa37e559f6",
   "metadata": {},
   "source": [
    "### Deploy model\n",
    "Note this part costs money!"
   ]
  },
  {
   "cell_type": "code",
   "execution_count": 1,
   "id": "6d033aee-93cb-423e-9286-7f3c3b7cf51a",
   "metadata": {},
   "outputs": [
    {
     "name": "stderr",
     "output_type": "stream",
     "text": [
      "Using endpoint [https://us-west1-aiplatform.googleapis.com/]\n",
      "Waiting for operation [8838341206749478912]...\n",
      ".......................done.\n"
     ]
    }
   ],
   "source": [
    "!gcloud ai models upload \\\n",
    "  --artifact-uri=gs://preisler_tfdata/preisler_classif_gcloud.tf \\\n",
    "  --project=forest-lst \\\n",
    "  --region=us-west1 \\\n",
    "  --container-image-uri=us-docker.pkg.dev/vertex-ai/prediction/tf2-cpu.2-11:latest \\\n",
    "  --description=preisler_demo \\\n",
    "  --display-name=preisler_demo \\\n",
    "  --model-id=preisler_demo"
   ]
  },
  {
   "cell_type": "markdown",
   "id": "8938c1ba-397f-4320-b5d8-d3f8d66a8a0e",
   "metadata": {},
   "source": [
    "Create the endpoint"
   ]
  },
  {
   "cell_type": "code",
   "execution_count": 98,
   "id": "e98fce71-b479-46fe-84fc-5dcb8b8d6ac2",
   "metadata": {},
   "outputs": [
    {
     "name": "stdout",
     "output_type": "stream",
     "text": [
      "^C\n"
     ]
    },
    {
     "name": "stderr",
     "output_type": "stream",
     "text": [
      "Using endpoint [https://us-west1-aiplatform.googleapis.com/]\n",
      "Waiting for operation [7372788963947315200]...\n",
      "..................................................................................................................................................................................................................................................................................................................................................................................................................................................................................................................................................................................................................................................................................................................................................................................................................................................................................................................................................................................................................................................done.\n",
      "Created Vertex AI endpoint: projects/198943021770/locations/us-west1/endpoints/5099592104229732352.\n"
     ]
    }
   ],
   "source": [
    "!gcloud ai endpoints create \\\n",
    "  --display-name=preisler-demo \\\n",
    "  --region=us-west1 \\\n",
    "  --project=forest-lst"
   ]
  },
  {
   "cell_type": "markdown",
   "id": "8d060211-e676-4412-ab61-064c27d49b52",
   "metadata": {},
   "source": [
    "Get the endpoint ID"
   ]
  },
  {
   "cell_type": "code",
   "execution_count": 2,
   "id": "7f80fee8-ee10-4911-9abf-f9e5b175a226",
   "metadata": {},
   "outputs": [],
   "source": [
    "ENDPOINT_ID = !gcloud ai endpoints list \\\n",
    "  --project=forest-lst \\\n",
    "  --region=us-west1 \\\n",
    "  --filter=displayName:preisler-demo \\\n",
    "  --format=\"value(ENDPOINT_ID.scope())\"\n",
    "ENDPOINT_ID = ENDPOINT_ID[-1]"
   ]
  },
  {
   "cell_type": "code",
   "execution_count": 3,
   "id": "ad35e024-2153-4d95-a2ef-7160dd9087ee",
   "metadata": {},
   "outputs": [
    {
     "name": "stdout",
     "output_type": "stream",
     "text": [
      "5099592104229732352\n"
     ]
    }
   ],
   "source": [
    "print(ENDPOINT_ID)"
   ]
  },
  {
   "cell_type": "markdown",
   "id": "b8b14a22-afd3-4aac-a678-5ed09d3549bb",
   "metadata": {},
   "source": [
    "Deploy the model"
   ]
  },
  {
   "cell_type": "code",
   "execution_count": 4,
   "id": "5a0ed2c3-bf0c-4311-a71c-d40ca86e2287",
   "metadata": {},
   "outputs": [
    {
     "name": "stderr",
     "output_type": "stream",
     "text": [
      "Using endpoint [https://us-west1-aiplatform.googleapis.com/]\n",
      "Waiting for operation [7868941386957979648]...\n",
      "...............................................................................................................................................................................................................................................................................................................................................................................................................................................................................................................................................................................................................................................................................................................................................................................................................................................................................................................................................................................................................................................................................................................................................................................................................................................................................................................................................................................................................................................................................................................................................................................................................................................................................................................................................................................................................................................................................................................................................................................................................................................................................................................................................................................................................................................................................................................................................................................................................................................................................................................................................................................................................................................................................................................................................................................................................................................................................................................................................................................................................................................................................................................................................................................................................................................................................................................................................................................................................................................................................................................................................................................................................................................................................................................................................................................................................................................................................................................................................................................................................................................................................................................................................................................................................................................................................................................................................................................................................................................................................................................................................................................................................................................................................................................................done.\n",
      "Deployed a model to the endpoint 5099592104229732352. Id of the deployed model: 7386030932236435456.\n"
     ]
    }
   ],
   "source": [
    "!gcloud ai endpoints deploy-model {ENDPOINT_ID} \\\n",
    "  --project=forest-lst \\\n",
    "  --region=us-west1 \\\n",
    "  --model=preisler_demo \\\n",
    "  --display-name=preisler-demo"
   ]
  },
  {
   "cell_type": "markdown",
   "id": "6eef0233-943f-4432-a87d-b407385261cf",
   "metadata": {},
   "source": [
    "### Run model\n",
    "\n",
    "Pull an image from which the training was derived, pass to model, visualize result."
   ]
  },
  {
   "cell_type": "code",
   "execution_count": 5,
   "id": "9f64c26a-1681-43c8-8a56-d9cbff3371e9",
   "metadata": {},
   "outputs": [],
   "source": [
    "import ee\n",
    "import geemap\n",
    "ee.Initialize()"
   ]
  },
  {
   "cell_type": "code",
   "execution_count": 7,
   "id": "a3271670-4963-4d67-8775-3d51013735c2",
   "metadata": {},
   "outputs": [
    {
     "data": {
      "text/html": [
       "\n",
       "            <style>\n",
       "                .geemap-dark {\n",
       "                    --jp-widgets-color: white;\n",
       "                    --jp-widgets-label-color: white;\n",
       "                    --jp-ui-font-color1: white;\n",
       "                    --jp-layout-color2: #454545;\n",
       "                    background-color: #383838;\n",
       "                }\n",
       "\n",
       "                .geemap-dark .jupyter-button {\n",
       "                    --jp-layout-color3: #383838;\n",
       "                }\n",
       "\n",
       "                .geemap-colab {\n",
       "                    background-color: var(--colab-primary-surface-color, white);\n",
       "                }\n",
       "\n",
       "                .geemap-colab .jupyter-button {\n",
       "                    --jp-layout-color3: var(--colab-primary-surface-color, white);\n",
       "                }\n",
       "            </style>\n",
       "            "
      ],
      "text/plain": [
       "<IPython.core.display.HTML object>"
      ]
     },
     "metadata": {},
     "output_type": "display_data"
    },
    {
     "data": {
      "application/vnd.jupyter.widget-view+json": {
       "model_id": "ccfcf43a3f754d22a2e7a8bbf19a202f",
       "version_major": 2,
       "version_minor": 0
      },
      "text/plain": [
       "Map(center=[0, 0], controls=(WidgetControl(options=['position', 'transparent_bg'], widget=SearchDataGUI(childr…"
      ]
     },
     "execution_count": 7,
     "metadata": {},
     "output_type": "execute_result"
    }
   ],
   "source": [
    "example_image = ee.Image(\"projects/forest-lst/assets/preisler-annual-images/2003\")\n",
    "\n",
    "Map = geemap.Map()\n",
    "Map.addLayer(example_image.select(\"pct_mortality\").gt(0))\n",
    "Map"
   ]
  },
  {
   "cell_type": "code",
   "execution_count": 8,
   "id": "f2238d86-7068-41c6-b57b-3bf6cdd2fa18",
   "metadata": {},
   "outputs": [
    {
     "data": {
      "text/html": [
       "\n",
       "            <style>\n",
       "                .geemap-dark {\n",
       "                    --jp-widgets-color: white;\n",
       "                    --jp-widgets-label-color: white;\n",
       "                    --jp-ui-font-color1: white;\n",
       "                    --jp-layout-color2: #454545;\n",
       "                    background-color: #383838;\n",
       "                }\n",
       "\n",
       "                .geemap-dark .jupyter-button {\n",
       "                    --jp-layout-color3: #383838;\n",
       "                }\n",
       "\n",
       "                .geemap-colab {\n",
       "                    background-color: var(--colab-primary-surface-color, white);\n",
       "                }\n",
       "\n",
       "                .geemap-colab .jupyter-button {\n",
       "                    --jp-layout-color3: var(--colab-primary-surface-color, white);\n",
       "                }\n",
       "            </style>\n",
       "            "
      ],
      "text/plain": [
       "<IPython.core.display.HTML object>"
      ]
     },
     "metadata": {},
     "output_type": "display_data"
    }
   ],
   "source": [
    "endpoint_path = (\n",
    "    'projects/' + \"forest-lst\" + '/locations/' + \"us-west1\" + '/endpoints/' + str(ENDPOINT_ID))\n",
    "\n",
    "# Connect to the hosted model.\n",
    "vertex_model = ee.Model.fromVertexAi(\n",
    "  endpoint=endpoint_path,\n",
    "  inputTileSize=[1, 1],\n",
    "  proj=example_image.select(\"pct_mortality\").projection().atScale(4000),\n",
    "  fixInputProj=True,\n",
    "  outputBands={'output': {\n",
    "      'type': ee.PixelType.float(),\n",
    "      'dimensions': 1\n",
    "    }\n",
    "  })"
   ]
  },
  {
   "cell_type": "code",
   "execution_count": 10,
   "id": "30f53128-5749-44f1-ac5a-7a5f2ac968af",
   "metadata": {},
   "outputs": [
    {
     "data": {
      "text/html": [
       "\n",
       "            <style>\n",
       "                .geemap-dark {\n",
       "                    --jp-widgets-color: white;\n",
       "                    --jp-widgets-label-color: white;\n",
       "                    --jp-ui-font-color1: white;\n",
       "                    --jp-layout-color2: #454545;\n",
       "                    background-color: #383838;\n",
       "                }\n",
       "\n",
       "                .geemap-dark .jupyter-button {\n",
       "                    --jp-layout-color3: #383838;\n",
       "                }\n",
       "\n",
       "                .geemap-colab {\n",
       "                    background-color: var(--colab-primary-surface-color, white);\n",
       "                }\n",
       "\n",
       "                .geemap-colab .jupyter-button {\n",
       "                    --jp-layout-color3: var(--colab-primary-surface-color, white);\n",
       "                }\n",
       "            </style>\n",
       "            "
      ],
      "text/plain": [
       "<IPython.core.display.HTML object>"
      ]
     },
     "metadata": {},
     "output_type": "display_data"
    }
   ],
   "source": [
    "BANDS   = [\"fire\", \"near\", \"latitude\", \"longitude\", \"prcp1\", \"prcp2\", \"prcp3\", \"prcp4\", \"rhost\", \"winter_tmin\", \"year\"]\n",
    "prediction = vertex_model.predictImage(example_image.select(BANDS).float()).arrayFlatten([[\"predict_mortality\"]])"
   ]
  },
  {
   "cell_type": "code",
   "execution_count": 12,
   "id": "890e1b80-238c-4d56-ad8a-b84c2eca42d1",
   "metadata": {},
   "outputs": [
    {
     "data": {
      "text/html": [
       "\n",
       "            <style>\n",
       "                .geemap-dark {\n",
       "                    --jp-widgets-color: white;\n",
       "                    --jp-widgets-label-color: white;\n",
       "                    --jp-ui-font-color1: white;\n",
       "                    --jp-layout-color2: #454545;\n",
       "                    background-color: #383838;\n",
       "                }\n",
       "\n",
       "                .geemap-dark .jupyter-button {\n",
       "                    --jp-layout-color3: #383838;\n",
       "                }\n",
       "\n",
       "                .geemap-colab {\n",
       "                    background-color: var(--colab-primary-surface-color, white);\n",
       "                }\n",
       "\n",
       "                .geemap-colab .jupyter-button {\n",
       "                    --jp-layout-color3: var(--colab-primary-surface-color, white);\n",
       "                }\n",
       "            </style>\n",
       "            "
      ],
      "text/plain": [
       "<IPython.core.display.HTML object>"
      ]
     },
     "metadata": {},
     "output_type": "display_data"
    },
    {
     "data": {
      "application/vnd.jupyter.widget-view+json": {
       "model_id": "b41b80ad548c428eb9390b3a882242c6",
       "version_major": 2,
       "version_minor": 0
      },
      "text/plain": [
       "Map(center=[0, 0], controls=(WidgetControl(options=['position', 'transparent_bg'], widget=SearchDataGUI(childr…"
      ]
     },
     "execution_count": 12,
     "metadata": {},
     "output_type": "execute_result"
    }
   ],
   "source": [
    "Map = geemap.Map()\n",
    "\n",
    "Map.addLayer(example_image.select(\"pct_mortality\").gt(0), name=\"true mortality\")\n",
    "Map.addLayer(prediction, name=\"model prediction\")\n",
    "\n",
    "Map"
   ]
  },
  {
   "cell_type": "markdown",
   "id": "4fd29514-cbca-49a1-a29f-cc9b5d23387b",
   "metadata": {},
   "source": [
    "### Export model predictions\n",
    "\n",
    "For display in an EE app."
   ]
  },
  {
   "cell_type": "code",
   "execution_count": 53,
   "id": "a085e3ba-8734-479a-b71a-77848007321f",
   "metadata": {},
   "outputs": [
    {
     "data": {
      "text/html": [
       "\n",
       "            <style>\n",
       "                .geemap-dark {\n",
       "                    --jp-widgets-color: white;\n",
       "                    --jp-widgets-label-color: white;\n",
       "                    --jp-ui-font-color1: white;\n",
       "                    --jp-layout-color2: #454545;\n",
       "                    background-color: #383838;\n",
       "                }\n",
       "\n",
       "                .geemap-dark .jupyter-button {\n",
       "                    --jp-layout-color3: #383838;\n",
       "                }\n",
       "\n",
       "                .geemap-colab {\n",
       "                    background-color: var(--colab-primary-surface-color, white);\n",
       "                }\n",
       "\n",
       "                .geemap-colab .jupyter-button {\n",
       "                    --jp-layout-color3: var(--colab-primary-surface-color, white);\n",
       "                }\n",
       "            </style>\n",
       "            "
      ],
      "text/plain": [
       "<IPython.core.display.HTML object>"
      ]
     },
     "metadata": {},
     "output_type": "display_data"
    }
   ],
   "source": [
    "ic_path = \"projects/forest-lst/assets/preisler-annual-images\"\n",
    "annual_images = ee.ImageCollection(ic_path)\n",
    "img_idxs = annual_images.aggregate_array(\"system:index\").getInfo()\n",
    "\n",
    "def do_model_prediction(ic, idx):\n",
    "    img = ee.Image(ic_path+\"/\"+idx)\n",
    "    return vertex_model.predictImage(img.select(BANDS).float())\\\n",
    "        .arrayFlatten([[\"predict_mortality\"]])\\\n",
    "        .set(\"system:time_start\", img.get(\"system:time_start\"))\\\n",
    "        .set(\"system:time_end\", img.get(\"system:time_end\"))\n",
    "\n",
    "annual_image_predict = list(map(lambda x: do_model_prediction(annual_images, x), img_idxs))"
   ]
  },
  {
   "cell_type": "code",
   "execution_count": 52,
   "id": "af979637-a465-4e86-a85c-962a49d79cf6",
   "metadata": {},
   "outputs": [
    {
     "data": {
      "text/html": [
       "\n",
       "            <style>\n",
       "                .geemap-dark {\n",
       "                    --jp-widgets-color: white;\n",
       "                    --jp-widgets-label-color: white;\n",
       "                    --jp-ui-font-color1: white;\n",
       "                    --jp-layout-color2: #454545;\n",
       "                    background-color: #383838;\n",
       "                }\n",
       "\n",
       "                .geemap-dark .jupyter-button {\n",
       "                    --jp-layout-color3: #383838;\n",
       "                }\n",
       "\n",
       "                .geemap-colab {\n",
       "                    background-color: var(--colab-primary-surface-color, white);\n",
       "                }\n",
       "\n",
       "                .geemap-colab .jupyter-button {\n",
       "                    --jp-layout-color3: var(--colab-primary-surface-color, white);\n",
       "                }\n",
       "            </style>\n",
       "            "
      ],
      "text/plain": [
       "<IPython.core.display.HTML object>"
      ]
     },
     "metadata": {},
     "output_type": "display_data"
    }
   ],
   "source": [
    "!earthengine create collection projects/forest-lst/assets/preisler-annual-image-prediction"
   ]
  },
  {
   "cell_type": "code",
   "execution_count": 51,
   "id": "986bfc58-edfb-4566-b463-f54bc14a4789",
   "metadata": {},
   "outputs": [
    {
     "data": {
      "text/html": [
       "\n",
       "            <style>\n",
       "                .geemap-dark {\n",
       "                    --jp-widgets-color: white;\n",
       "                    --jp-widgets-label-color: white;\n",
       "                    --jp-ui-font-color1: white;\n",
       "                    --jp-layout-color2: #454545;\n",
       "                    background-color: #383838;\n",
       "                }\n",
       "\n",
       "                .geemap-dark .jupyter-button {\n",
       "                    --jp-layout-color3: #383838;\n",
       "                }\n",
       "\n",
       "                .geemap-colab {\n",
       "                    background-color: var(--colab-primary-surface-color, white);\n",
       "                }\n",
       "\n",
       "                .geemap-colab .jupyter-button {\n",
       "                    --jp-layout-color3: var(--colab-primary-surface-color, white);\n",
       "                }\n",
       "            </style>\n",
       "            "
      ],
      "text/plain": [
       "<IPython.core.display.HTML object>"
      ]
     },
     "metadata": {},
     "output_type": "display_data"
    }
   ],
   "source": [
    "!earthengine rm -r projects/forest-lst/assets/preisler-annual-image-prediction"
   ]
  },
  {
   "cell_type": "code",
   "execution_count": 54,
   "id": "4c646d21-dee2-46b8-b9c5-0c0f50a27cde",
   "metadata": {},
   "outputs": [
    {
     "data": {
      "text/html": [
       "\n",
       "            <style>\n",
       "                .geemap-dark {\n",
       "                    --jp-widgets-color: white;\n",
       "                    --jp-widgets-label-color: white;\n",
       "                    --jp-ui-font-color1: white;\n",
       "                    --jp-layout-color2: #454545;\n",
       "                    background-color: #383838;\n",
       "                }\n",
       "\n",
       "                .geemap-dark .jupyter-button {\n",
       "                    --jp-layout-color3: #383838;\n",
       "                }\n",
       "\n",
       "                .geemap-colab {\n",
       "                    background-color: var(--colab-primary-surface-color, white);\n",
       "                }\n",
       "\n",
       "                .geemap-colab .jupyter-button {\n",
       "                    --jp-layout-color3: var(--colab-primary-surface-color, white);\n",
       "                }\n",
       "            </style>\n",
       "            "
      ],
      "text/plain": [
       "<IPython.core.display.HTML object>"
      ]
     },
     "metadata": {},
     "output_type": "display_data"
    }
   ],
   "source": [
    "import datetime\n",
    "\n",
    "def prediction_export_task(img):\n",
    "    ms = img.get(\"system:time_start\").getInfo()\n",
    "    year = datetime.datetime.utcfromtimestamp(ms/1000.0).year\n",
    "    \n",
    "    return ee.batch.Export.image.toAsset(\n",
    "        image=img,\n",
    "        description=\"preisler-annual-image-prediction-{}\".format(year),\n",
    "        assetId=\"projects/forest-lst/assets/preisler-annual-image-prediction/{}\".format(year),\n",
    "        scale=4000,\n",
    "        crs=img.projection()\n",
    "    )\n",
    "\n",
    "tasks = [prediction_export_task(img) for img in annual_image_predict]"
   ]
  },
  {
   "cell_type": "code",
   "execution_count": 55,
   "id": "8c7c0a0f-fb56-4eb8-abde-01aeb3a8362d",
   "metadata": {},
   "outputs": [
    {
     "data": {
      "text/html": [
       "\n",
       "            <style>\n",
       "                .geemap-dark {\n",
       "                    --jp-widgets-color: white;\n",
       "                    --jp-widgets-label-color: white;\n",
       "                    --jp-ui-font-color1: white;\n",
       "                    --jp-layout-color2: #454545;\n",
       "                    background-color: #383838;\n",
       "                }\n",
       "\n",
       "                .geemap-dark .jupyter-button {\n",
       "                    --jp-layout-color3: #383838;\n",
       "                }\n",
       "\n",
       "                .geemap-colab {\n",
       "                    background-color: var(--colab-primary-surface-color, white);\n",
       "                }\n",
       "\n",
       "                .geemap-colab .jupyter-button {\n",
       "                    --jp-layout-color3: var(--colab-primary-surface-color, white);\n",
       "                }\n",
       "            </style>\n",
       "            "
      ],
      "text/plain": [
       "<IPython.core.display.HTML object>"
      ]
     },
     "metadata": {},
     "output_type": "display_data"
    }
   ],
   "source": [
    "for t in tasks: t.start()"
   ]
  }
 ],
 "metadata": {
  "kernelspec": {
   "display_name": "Python 3 (ipykernel)",
   "language": "python",
   "name": "python3"
  },
  "language_info": {
   "codemirror_mode": {
    "name": "ipython",
    "version": 3
   },
   "file_extension": ".py",
   "mimetype": "text/x-python",
   "name": "python",
   "nbconvert_exporter": "python",
   "pygments_lexer": "ipython3",
   "version": "3.10.13"
  }
 },
 "nbformat": 4,
 "nbformat_minor": 5
}
