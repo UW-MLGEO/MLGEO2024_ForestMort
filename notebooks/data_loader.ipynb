{
 "cells": [
  {
   "cell_type": "markdown",
   "id": "831944f3-93a9-4fa0-8dc6-bc5463294366",
   "metadata": {},
   "source": [
    "### Generate examples depending on window size"
   ]
  },
  {
   "cell_type": "code",
   "execution_count": 1,
   "id": "30f9cb5c-8384-4b36-bbce-7c77cf800c6d",
   "metadata": {},
   "outputs": [],
   "source": [
    "from google.cloud.storage import Client\n",
    "import tensorflow as tf\n",
    "import os\n",
    "import numpy as np"
   ]
  },
  {
   "cell_type": "code",
   "execution_count": 2,
   "id": "5f1a6a97-7683-4334-8163-a7e55b311c5a",
   "metadata": {},
   "outputs": [],
   "source": [
    "class TimeSeriesGenerator():\n",
    "    def __init__(self, client, bucket, prefix, spec):\n",
    "        # Find all .tfrecords in the bucket with the given prefix\n",
    "        self._records = [\n",
    "            \"/\".join([\"gs://{}\".format(bucket), f.name])\n",
    "            for f in client.list_blobs(bucket, prefix=prefix)\n",
    "            if \".tfrecord\" in f.name\n",
    "        ]\n",
    "\n",
    "        assert(len(self._records) > 0)\n",
    "        \n",
    "        # Make a TFRecordDataset, parse, drop empty records, shuffle\n",
    "        self._spec = spec\n",
    "        self._ds = tf.data.TFRecordDataset(self._records)\\\n",
    "            .map(self._decode_record)\\\n",
    "            .filter(self._empty_record)\\\n",
    "            .shuffle(8)\n",
    "\n",
    "    def _empty_record(self, example):\n",
    "        return tf.math.count_nonzero(example[\"year\"]) > 0\n",
    "\n",
    "    def _decode_record(self, proto):\n",
    "        return tf.io.parse_single_example(proto, self._spec)\n",
    "    \n",
    "    def _generate_examples(self, example, window_size):\n",
    "        windows = np.lib.stride_tricks.sliding_window_view(example[\"year\"], window_size)\n",
    "        start_idxs  = np.where(np.sum(windows > 0, axis=1) == window_size)[0]\n",
    "        # Shuffle so sequences are not chronological\n",
    "        np.random.shuffle(start_idxs)\n",
    "        for idx in start_idxs:\n",
    "            yield {\n",
    "                key: example[key][idx:idx+window_size] for key in example\n",
    "            }\n",
    "    \n",
    "    def generate_window(self, window_size):\n",
    "        # Return a generator that yields examples of the given window size\n",
    "        # TODO consider holding several Examples in memory so that one batch\n",
    "        # comes from many pixels.\n",
    "        def gen():\n",
    "            for example in self._ds:\n",
    "                for ex_windowed in self._generate_examples(example, window_size):\n",
    "                    yield ex_windowed\n",
    "        return gen"
   ]
  },
  {
   "cell_type": "code",
   "execution_count": 3,
   "id": "32fa2e84-a864-4112-9f7b-32eff83f25a6",
   "metadata": {},
   "outputs": [],
   "source": [
    "FEATURE_LEN = 21\n",
    "client = Client(project=\"forest-lst\")\n",
    "spec = {\n",
    "    \"EVI_p5\"       : tf.io.FixedLenFeature([FEATURE_LEN], dtype=tf.float32),\n",
    "    \"EVI_p50\"      : tf.io.FixedLenFeature([FEATURE_LEN], dtype=tf.float32),\n",
    "    \"EVI_p95\"      : tf.io.FixedLenFeature([FEATURE_LEN], dtype=tf.float32),\n",
    "    \"dT_p5\"        : tf.io.FixedLenFeature([FEATURE_LEN], dtype=tf.float32),\n",
    "    \"dT_p50\"       : tf.io.FixedLenFeature([FEATURE_LEN], dtype=tf.float32),\n",
    "    \"dT_p95\"       : tf.io.FixedLenFeature([FEATURE_LEN], dtype=tf.float32),\n",
    "    \"spei30d_p5\"   : tf.io.FixedLenFeature([FEATURE_LEN], dtype=tf.float32),\n",
    "    \"spei30d_p50\"  : tf.io.FixedLenFeature([FEATURE_LEN], dtype=tf.float32),\n",
    "    \"spei30d_p95\"  : tf.io.FixedLenFeature([FEATURE_LEN], dtype=tf.float32),\n",
    "    \"winter_tmin\"  : tf.io.FixedLenFeature([FEATURE_LEN], dtype=tf.float32),\n",
    "    \"prcp\"         : tf.io.FixedLenFeature([FEATURE_LEN], dtype=tf.float32),\n",
    "    \"latitude\"     : tf.io.FixedLenFeature([FEATURE_LEN], dtype=tf.float32),\n",
    "    \"longitude\"    : tf.io.FixedLenFeature([FEATURE_LEN], dtype=tf.float32),\n",
    "    \"elevation\"    : tf.io.FixedLenFeature([FEATURE_LEN], dtype=tf.int64),\n",
    "    \"year\"         : tf.io.FixedLenFeature([FEATURE_LEN], dtype=tf.int64),\n",
    "    \"pct_mortality\": tf.io.FixedLenFeature([FEATURE_LEN], dtype=tf.float32)\n",
    "    \n",
    "}\n",
    "\n",
    "tsg = TimeSeriesGenerator(client, \"forest-lst-test-export\", \"ca_dense_tensors_v3\", spec)"
   ]
  },
  {
   "cell_type": "code",
   "execution_count": 4,
   "id": "44c1578d-5378-4b28-a2bd-5a0cec9e77f1",
   "metadata": {},
   "outputs": [],
   "source": [
    "window_size = 4\n",
    "\n",
    "windowed_spec = {\n",
    "    key: tf.TensorSpec([window_size], dtype=spec[key].dtype, name=key)\n",
    "    for key in spec\n",
    "}\n",
    "\n",
    "windowed_ds = tf.data.Dataset.from_generator(\n",
    "    generator=tsg.generate_window(window_size),\n",
    "    output_signature=windowed_spec\n",
    ")"
   ]
  },
  {
   "cell_type": "code",
   "execution_count": 6,
   "id": "00c83b96-5f74-4584-a08e-6f35e5fd65e0",
   "metadata": {},
   "outputs": [
    {
     "name": "stdout",
     "output_type": "stream",
     "text": [
      "CPU times: total: 203 ms\n",
      "Wall time: 4.14 s\n"
     ]
    },
    {
     "data": {
      "text/plain": [
       "<tf.Tensor: shape=(8, 4), dtype=int64, numpy=\n",
       "array([[2006, 2007, 2008, 2009],\n",
       "       [2011, 2012, 2013, 2014],\n",
       "       [2008, 2009, 2010, 2011],\n",
       "       [2010, 2011, 2012, 2013],\n",
       "       [2007, 2008, 2009, 2010],\n",
       "       [2009, 2010, 2011, 2012],\n",
       "       [2016, 2017, 2018, 2019],\n",
       "       [2014, 2015, 2016, 2017]], dtype=int64)>"
      ]
     },
     "execution_count": 6,
     "metadata": {},
     "output_type": "execute_result"
    }
   ],
   "source": [
    "%%time\n",
    "next(iter(windowed_ds.batch(8)))[\"year\"]"
   ]
  }
 ],
 "metadata": {
  "kernelspec": {
   "display_name": "Python 3 (ipykernel)",
   "language": "python",
   "name": "python3"
  },
  "language_info": {
   "codemirror_mode": {
    "name": "ipython",
    "version": 3
   },
   "file_extension": ".py",
   "mimetype": "text/x-python",
   "name": "python",
   "nbconvert_exporter": "python",
   "pygments_lexer": "ipython3",
   "version": "3.10.13"
  }
 },
 "nbformat": 4,
 "nbformat_minor": 5
}
