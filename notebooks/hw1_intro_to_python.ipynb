{
 "cells": [
  {
   "cell_type": "markdown",
   "id": "d69fdf91-b92c-4cee-bfa8-d6bc6f934607",
   "metadata": {},
   "source": [
    "### My first notebook\n",
    "Importing things"
   ]
  },
  {
   "cell_type": "code",
   "execution_count": 1,
   "id": "c4e3ae7a-ce34-4ffe-b244-91a9d20dd0f7",
   "metadata": {
    "scrolled": true
   },
   "outputs": [
    {
     "name": "stdout",
     "output_type": "stream",
     "text": [
      "Importing util failed :(\n"
     ]
    },
    {
     "name": "stderr",
     "output_type": "stream",
     "text": [
      "/home/jovyan/MLGEO2024_kganz/notebooks/../util/__init__.py:11: UserWarning: TensorFlow not found! Module util.training will not be loaded.\n",
      "  warnings.warn(\"TensorFlow not found! Module util.training will not be loaded.\")\n"
     ]
    },
    {
     "name": "stdout",
     "output_type": "stream",
     "text": [
      "Importing util worked!\n"
     ]
    }
   ],
   "source": [
    "# If this notebook was launched from a subdirectory, append the repo root to the path\n",
    "try:\n",
    "    import util\n",
    "except ImportError:\n",
    "    print(\"Importing util failed :(\")\n",
    "    import sys\n",
    "    sys.path.append(\"..\")\n",
    "finally:\n",
    "    import util\n",
    "    print(\"Importing util worked!\")"
   ]
  },
  {
   "cell_type": "markdown",
   "id": "2fdec6a2-ffdd-4847-97ed-57182f9bb3a4",
   "metadata": {},
   "source": [
    "Lists"
   ]
  },
  {
   "cell_type": "code",
   "execution_count": 3,
   "id": "72bd56c3-d285-4318-9d1e-b88cb743848c",
   "metadata": {},
   "outputs": [
    {
     "name": "stdout",
     "output_type": "stream",
     "text": [
      "Values equal: True\n"
     ]
    }
   ],
   "source": [
    "import numpy as np\n",
    "\n",
    "# a list\n",
    "mylist = list(range(10))\n",
    "\n",
    "# an array\n",
    "myarr  = np.arange(10)\n",
    "\n",
    "print(\"Values equal:\", np.all(myarr == mylist))"
   ]
  },
  {
   "cell_type": "markdown",
   "id": "444dc499-3238-4a59-b3d6-3a33f629e321",
   "metadata": {},
   "source": [
    "Functions"
   ]
  },
  {
   "cell_type": "code",
   "execution_count": 4,
   "id": "e79ebeac-eaad-494b-b283-bb42459c6dc2",
   "metadata": {},
   "outputs": [],
   "source": [
    "def smiley(x, y, a, b):\n",
    "    '''\n",
    "    Make a curve defining a smiley face.\n",
    "\n",
    "    x, y: center of the ellipse\n",
    "    a: horizontal axis\n",
    "    b: vertical axis\n",
    "    '''\n",
    "    t = np.linspace(np.pi, np.pi * 2)\n",
    "\n",
    "    curve_x = a * np.cos(t)\n",
    "    curve_y = b * np.sin(t)\n",
    "    \n",
    "    c = np.sqrt(a ** 2 - b ** 2)\n",
    "    \n",
    "    f1 = (x-c, y)\n",
    "    f2 = (x+c, y)\n",
    "\n",
    "    return f1, f2, curve_x, curve_y"
   ]
  },
  {
   "cell_type": "code",
   "execution_count": 5,
   "id": "e8a61b81-3a8e-41ab-b1b7-090f1cb1a1a1",
   "metadata": {},
   "outputs": [
    {
     "data": {
      "text/plain": [
       "((-4.898979485566356, 0),\n",
       " (4.898979485566356, 0),\n",
       " array([-5.        , -4.98972696, -4.95895007, -4.90779578, -4.83647432,\n",
       "        -4.74527874, -4.63458379, -4.50484434, -4.35659352, -4.19044052,\n",
       "        -4.00706811, -3.80722979, -3.59174675, -3.36150445, -3.11744901,\n",
       "        -2.8605833 , -2.59196284, -2.31269145, -2.02391672, -1.72682527,\n",
       "        -1.42263793, -1.11260467, -0.79799948, -0.48011513, -0.16025789,\n",
       "         0.16025789,  0.48011513,  0.79799948,  1.11260467,  1.42263793,\n",
       "         1.72682527,  2.02391672,  2.31269145,  2.59196284,  2.8605833 ,\n",
       "         3.11744901,  3.36150445,  3.59174675,  3.80722979,  4.00706811,\n",
       "         4.19044052,  4.35659352,  4.50484434,  4.63458379,  4.74527874,\n",
       "         4.83647432,  4.90779578,  4.95895007,  4.98972696,  5.        ]),\n",
       " array([ 1.22464680e-16, -6.40702200e-02, -1.27877162e-01, -1.91158629e-01,\n",
       "        -2.53654584e-01, -3.15108218e-01, -3.75267005e-01, -4.33883739e-01,\n",
       "        -4.90717552e-01, -5.45534901e-01, -5.98110530e-01, -6.48228395e-01,\n",
       "        -6.95682551e-01, -7.40277997e-01, -7.81831482e-01, -8.20172255e-01,\n",
       "        -8.55142763e-01, -8.86599306e-01, -9.14412623e-01, -9.38468422e-01,\n",
       "        -9.58667853e-01, -9.74927912e-01, -9.87181783e-01, -9.95379113e-01,\n",
       "        -9.99486216e-01, -9.99486216e-01, -9.95379113e-01, -9.87181783e-01,\n",
       "        -9.74927912e-01, -9.58667853e-01, -9.38468422e-01, -9.14412623e-01,\n",
       "        -8.86599306e-01, -8.55142763e-01, -8.20172255e-01, -7.81831482e-01,\n",
       "        -7.40277997e-01, -6.95682551e-01, -6.48228395e-01, -5.98110530e-01,\n",
       "        -5.45534901e-01, -4.90717552e-01, -4.33883739e-01, -3.75267005e-01,\n",
       "        -3.15108218e-01, -2.53654584e-01, -1.91158629e-01, -1.27877162e-01,\n",
       "        -6.40702200e-02, -2.44929360e-16]))"
      ]
     },
     "execution_count": 5,
     "metadata": {},
     "output_type": "execute_result"
    }
   ],
   "source": [
    "smiley(0, 0, 5, 1)"
   ]
  },
  {
   "cell_type": "markdown",
   "id": "079f1c0f-0848-43e1-ac31-8e4b1294b1f4",
   "metadata": {},
   "source": [
    "Figures"
   ]
  },
  {
   "cell_type": "code",
   "execution_count": 13,
   "id": "60c4d610-10ce-4b20-8587-d554e525d410",
   "metadata": {},
   "outputs": [],
   "source": [
    "from matplotlib import pyplot as plt\n",
    "\n",
    "def plot_smiley(f1, f2, curve_x, curve_y):\n",
    "    plt.plot(*f1, 'bo')\n",
    "    plt.plot(*f2, 'bo')\n",
    "    plt.plot(curve_x, curve_y, color=\"blue\")\n",
    "    plt.axis('equal')\n",
    "    return plt.gcf()"
   ]
  },
  {
   "cell_type": "code",
   "execution_count": 22,
   "id": "3786ea0d-b242-49ab-9cbb-f128d9c00818",
   "metadata": {},
   "outputs": [
    {
     "data": {
      "image/png": "[encoded data removed]",
      "text/plain": [
       "<Figure size 640x480 with 1 Axes>"
      ]
     },
     "metadata": {},
     "output_type": "display_data"
    }
   ],
   "source": [
    "smile_fig = plot_smiley(*smiley(0, 0, 1.25, 1))\n",
    "plt.show()"
   ]
  },
  {
   "cell_type": "code",
   "execution_count": 19,
   "id": "2bb9fa92-a500-4c37-96c3-95ba881318c9",
   "metadata": {},
   "outputs": [],
   "source": [
    "smile_fig.savefig(\":).png\")"
   ]
  }
 ],
 "metadata": {
  "kernelspec": {
   "display_name": "Python 3 (ipykernel)",
   "language": "python",
   "name": "python3"
  },
  "language_info": {
   "codemirror_mode": {
    "name": "ipython",
    "version": 3
   },
   "file_extension": ".py",
   "mimetype": "text/x-python",
   "name": "python",
   "nbconvert_exporter": "python",
   "pygments_lexer": "ipython3",
   "version": "3.11.9"
  }
 },
 "nbformat": 4,
 "nbformat_minor": 5
}
