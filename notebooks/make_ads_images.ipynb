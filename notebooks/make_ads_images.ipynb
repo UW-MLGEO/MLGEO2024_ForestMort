{
 "cells": [
  {
   "cell_type": "markdown",
   "id": "3d386222-a4fb-4903-b93d-bfcbd2eb671f",
   "metadata": {},
   "source": [
    "## Make ADS damage images\n",
    "\n",
    "In `clean_ads_polygons.ipynb`, we ingested the ADS polygon dataset into Earth Engine. Now, we need to convert these to annual images so that we can add them to our TFRecordDataset."
   ]
  },
  {
   "cell_type": "code",
   "execution_count": 1,
   "id": "0512d4ed-6fae-4ec6-ba49-468cd2c1dd89",
   "metadata": {
    "scrolled": true
   },
   "outputs": [
    {
     "name": "stdout",
     "output_type": "stream",
     "text": [
      "Changed working dir to G:\\Other computers\\My Laptop\\UW\\Classes\\ESS521\\project\n"
     ]
    }
   ],
   "source": [
    "import ee\n",
    "import geemap\n",
    "\n",
    "ee.Initialize()\n",
    "\n",
    "import os\n",
    "import datetime\n",
    "\n",
    "if \"notebooks\" in os.getcwd():\n",
    "    os.chdir(\"..\")\n",
    "    print(\"Changed working dir to\", os.getcwd())"
   ]
  },
  {
   "cell_type": "markdown",
   "id": "4e093cac-861a-488d-ad76-96712caae68a",
   "metadata": {},
   "source": [
    "## Part 1: damage polygons\n",
    "\n",
    "Get the asset, filter to an arbitrary year, and map."
   ]
  },
  {
   "cell_type": "code",
   "execution_count": 50,
   "id": "7de9d93c-da14-40e1-a612-43e96a97d6d3",
   "metadata": {},
   "outputs": [
    {
     "data": {
      "text/html": [
       "\n",
       "            <style>\n",
       "                .geemap-dark {\n",
       "                    --jp-widgets-color: white;\n",
       "                    --jp-widgets-label-color: white;\n",
       "                    --jp-ui-font-color1: white;\n",
       "                    --jp-layout-color2: #454545;\n",
       "                    background-color: #383838;\n",
       "                }\n",
       "\n",
       "                .geemap-dark .jupyter-button {\n",
       "                    --jp-layout-color3: #383838;\n",
       "                }\n",
       "\n",
       "                .geemap-colab {\n",
       "                    background-color: var(--colab-primary-surface-color, white);\n",
       "                }\n",
       "\n",
       "                .geemap-colab .jupyter-button {\n",
       "                    --jp-layout-color3: var(--colab-primary-surface-color, white);\n",
       "                }\n",
       "            </style>\n",
       "            "
      ],
      "text/plain": [
       "<IPython.core.display.HTML object>"
      ]
     },
     "metadata": {},
     "output_type": "display_data"
    }
   ],
   "source": [
    "# Get assets\n",
    "ads_damage = ee.FeatureCollection(\"projects/forest-lst/assets/damage_polygons\")\n",
    "ads_survey = ee.FeatureCollection(\"projects/forest-lst/assets/survey_polygons\")\n",
    "mod_lc     = ee.ImageCollection(\"MODIS/061/MCD12Q1\")\n",
    "\n",
    "# We use this as an export region\n",
    "ca = ee.FeatureCollection(\"TIGER/2018/States\")\\\n",
    "    .filter(ee.Filter.eq(\"NAME\", \"California\"))\\\n",
    "    .first()"
   ]
  },
  {
   "cell_type": "code",
   "execution_count": 34,
   "id": "8f770293-fcc6-45e3-99a4-b5221ffef377",
   "metadata": {},
   "outputs": [
    {
     "data": {
      "text/html": [
       "\n",
       "            <style>\n",
       "                .geemap-dark {\n",
       "                    --jp-widgets-color: white;\n",
       "                    --jp-widgets-label-color: white;\n",
       "                    --jp-ui-font-color1: white;\n",
       "                    --jp-layout-color2: #454545;\n",
       "                    background-color: #383838;\n",
       "                }\n",
       "\n",
       "                .geemap-dark .jupyter-button {\n",
       "                    --jp-layout-color3: #383838;\n",
       "                }\n",
       "\n",
       "                .geemap-colab {\n",
       "                    background-color: var(--colab-primary-surface-color, white);\n",
       "                }\n",
       "\n",
       "                .geemap-colab .jupyter-button {\n",
       "                    --jp-layout-color3: var(--colab-primary-surface-color, white);\n",
       "                }\n",
       "            </style>\n",
       "            "
      ],
      "text/plain": [
       "<IPython.core.display.HTML object>"
      ]
     },
     "metadata": {},
     "output_type": "display_data"
    },
    {
     "name": "stdout",
     "output_type": "stream",
     "text": [
      "Damage: dict_keys(['1997', '1998', '1999', '2000', '2001', '2002', '2003', '2004', '2005', '2006', '2007', '2008', '2009', '2010', '2011', '2012', '2013', '2014', '2015', '2016', '2017', '2018', '2019', '2020', '2021', '2022', '2023'])\n",
      "Survey: dict_keys(['1997', '1998', '1999', '2000', '2001', '2002', '2003', '2004', '2005', '2006', '2007', '2008', '2009', '2010', '2011', '2012', '2013', '2014', '2015', '2016', '2017', '2018', '2019', '2020', '2021', '2022', '2023'])\n"
     ]
    }
   ],
   "source": [
    "damage_years = ads_damage.aggregate_histogram(\"SURVEY_YEA\").getInfo().keys()\n",
    "survey_years = ads_damage.aggregate_histogram(\"SURVEY_YEA\").getInfo().keys()\n",
    "\n",
    "print(\"Damage:\", damage_years)\n",
    "print(\"Survey:\", survey_years)"
   ]
  },
  {
   "cell_type": "code",
   "execution_count": 3,
   "id": "4e248ec8-2f34-42a0-abc3-3c8c0d1f17cc",
   "metadata": {},
   "outputs": [
    {
     "data": {
      "text/html": [
       "\n",
       "            <style>\n",
       "                .geemap-dark {\n",
       "                    --jp-widgets-color: white;\n",
       "                    --jp-widgets-label-color: white;\n",
       "                    --jp-ui-font-color1: white;\n",
       "                    --jp-layout-color2: #454545;\n",
       "                    background-color: #383838;\n",
       "                }\n",
       "\n",
       "                .geemap-dark .jupyter-button {\n",
       "                    --jp-layout-color3: #383838;\n",
       "                }\n",
       "\n",
       "                .geemap-colab {\n",
       "                    background-color: var(--colab-primary-surface-color, white);\n",
       "                }\n",
       "\n",
       "                .geemap-colab .jupyter-button {\n",
       "                    --jp-layout-color3: var(--colab-primary-surface-color, white);\n",
       "                }\n",
       "            </style>\n",
       "            "
      ],
      "text/plain": [
       "<IPython.core.display.HTML object>"
      ]
     },
     "metadata": {},
     "output_type": "display_data"
    },
    {
     "name": "stdout",
     "output_type": "stream",
     "text": [
      "{'California flatheaded borer': 7, 'Jeffrey pine beetle': 413, 'bears': 311, 'drought': 8, 'fir engraver': 4014, 'flatheaded fir borer': 300, 'goldspotted oak borer': 23, 'mountain pine beetle': 181, 'pinyon ips': 12, 'sudden oak death': 441, 'unknown': 28, 'unknown bark beetle': 4, 'unknown wood borer': 2, 'western pine beetle': 564}\n"
     ]
    }
   ],
   "source": [
    "# Examine a year of data. How did the trees die?\n",
    "ads_damage_18 = ads_damage.filter(ee.Filter.equals(\"SURVEY_YEA\", 2018))\n",
    "print(ads_damage_18.aggregate_histogram(\"DCA_COMMON\").getInfo())"
   ]
  },
  {
   "cell_type": "code",
   "execution_count": 4,
   "id": "d3416323-f18a-4b43-b4a8-a4a2857597a4",
   "metadata": {},
   "outputs": [
    {
     "data": {
      "text/html": [
       "\n",
       "            <style>\n",
       "                .geemap-dark {\n",
       "                    --jp-widgets-color: white;\n",
       "                    --jp-widgets-label-color: white;\n",
       "                    --jp-ui-font-color1: white;\n",
       "                    --jp-layout-color2: #454545;\n",
       "                    background-color: #383838;\n",
       "                }\n",
       "\n",
       "                .geemap-dark .jupyter-button {\n",
       "                    --jp-layout-color3: #383838;\n",
       "                }\n",
       "\n",
       "                .geemap-colab {\n",
       "                    background-color: var(--colab-primary-surface-color, white);\n",
       "                }\n",
       "\n",
       "                .geemap-colab .jupyter-button {\n",
       "                    --jp-layout-color3: var(--colab-primary-surface-color, white);\n",
       "                }\n",
       "            </style>\n",
       "            "
      ],
      "text/plain": [
       "<IPython.core.display.HTML object>"
      ]
     },
     "metadata": {},
     "output_type": "display_data"
    },
    {
     "data": {
      "application/vnd.jupyter.widget-view+json": {
       "model_id": "f4f668bc70c54992a3c0027885d626af",
       "version_major": 2,
       "version_minor": 0
      },
      "text/plain": [
       "Map(center=[0, 0], controls=(WidgetControl(options=['position', 'transparent_bg'], widget=SearchDataGUI(childr…"
      ]
     },
     "execution_count": 4,
     "metadata": {},
     "output_type": "execute_result"
    }
   ],
   "source": [
    "Map = geemap.Map()\n",
    "Map.add_basemap(\"HYBRID\")\n",
    "Map.addLayer(ads_damage_18, {}, 'Damage polygons')\n",
    "Map"
   ]
  },
  {
   "cell_type": "markdown",
   "id": "77b22d53-644f-40d7-ab41-c7fa47f9b7c3",
   "metadata": {},
   "source": [
    "Rasterize using the MODIS LC projection, color pixels by percent of pixel area where mortality occurred."
   ]
  },
  {
   "cell_type": "code",
   "execution_count": 11,
   "id": "06ed52c2-6c0c-451e-9a29-8c1835045ea6",
   "metadata": {},
   "outputs": [
    {
     "data": {
      "text/html": [
       "\n",
       "            <style>\n",
       "                .geemap-dark {\n",
       "                    --jp-widgets-color: white;\n",
       "                    --jp-widgets-label-color: white;\n",
       "                    --jp-ui-font-color1: white;\n",
       "                    --jp-layout-color2: #454545;\n",
       "                    background-color: #383838;\n",
       "                }\n",
       "\n",
       "                .geemap-dark .jupyter-button {\n",
       "                    --jp-layout-color3: #383838;\n",
       "                }\n",
       "\n",
       "                .geemap-colab {\n",
       "                    background-color: var(--colab-primary-surface-color, white);\n",
       "                }\n",
       "\n",
       "                .geemap-colab .jupyter-button {\n",
       "                    --jp-layout-color3: var(--colab-primary-surface-color, white);\n",
       "                }\n",
       "            </style>\n",
       "            "
      ],
      "text/plain": [
       "<IPython.core.display.HTML object>"
      ]
     },
     "metadata": {},
     "output_type": "display_data"
    }
   ],
   "source": [
    "mod_proj = mod_lc.first().projection()\n",
    "\n",
    "zero = ee.Image(0)\n",
    "\n",
    "# initial rasterization at 100 m resolution\n",
    "ads_18_raster = ads_damage_18.map(lambda x: x.set(\"const\", 1))\\\n",
    "    .reduceToImage([\"const\"], ee.Reducer.max())\\\n",
    "    .rename(\"mort_pct\")\n",
    "\n",
    "# Blend with the zero image, then reduce resolution to calculate pixel fraction\n",
    "ads_18_pct_mort = zero.blend(ads_18_raster)\\\n",
    "    .setDefaultProjection(mod_proj, None, 10)\\\n",
    "    .reduceResolution(ee.Reducer.mean(), maxPixels=2048, bestEffort=True)\\\n",
    "    .reproject(mod_proj, None, 1000)\n",
    "\n",
    "# Build the mask - surveyed region that was classified as forest in the \n",
    "# annual MODIS LC product.\n",
    "ads_18_survey = ads_survey.filter(ee.Filter.equals(\"SURVEY_YEA\", 2018))\\\n",
    "    .map(lambda x: x.set(\"const\", 1))\n",
    "\n",
    "mod_18 = mod_lc.filter(ee.Filter.calendarRange(2018, 2018, \"year\")).first()\n",
    "\n",
    "mask = ads_18_survey.reduceToImage([\"const\"], ee.Reducer.max())\\\n",
    "    .setDefaultProjection(mod_proj)\\\n",
    "    .eq(1)\\\n",
    "    .And(mod_18.select(\"LC_Type1\").lt(6))\n",
    "\n",
    "ads_18_masked = ads_18_pct_mort.updateMask(mask).reproject(mod_proj, None, 1000)"
   ]
  },
  {
   "cell_type": "code",
   "execution_count": 12,
   "id": "6f52b085-2bea-4f0e-aa5e-a5b758ab764c",
   "metadata": {},
   "outputs": [
    {
     "data": {
      "text/html": [
       "\n",
       "            <style>\n",
       "                .geemap-dark {\n",
       "                    --jp-widgets-color: white;\n",
       "                    --jp-widgets-label-color: white;\n",
       "                    --jp-ui-font-color1: white;\n",
       "                    --jp-layout-color2: #454545;\n",
       "                    background-color: #383838;\n",
       "                }\n",
       "\n",
       "                .geemap-dark .jupyter-button {\n",
       "                    --jp-layout-color3: #383838;\n",
       "                }\n",
       "\n",
       "                .geemap-colab {\n",
       "                    background-color: var(--colab-primary-surface-color, white);\n",
       "                }\n",
       "\n",
       "                .geemap-colab .jupyter-button {\n",
       "                    --jp-layout-color3: var(--colab-primary-surface-color, white);\n",
       "                }\n",
       "            </style>\n",
       "            "
      ],
      "text/plain": [
       "<IPython.core.display.HTML object>"
      ]
     },
     "metadata": {},
     "output_type": "display_data"
    },
    {
     "data": {
      "application/vnd.jupyter.widget-view+json": {
       "model_id": "adf8617a0f354d3080e61ab977cd7466",
       "version_major": 2,
       "version_minor": 0
      },
      "text/plain": [
       "Map(center=[0, 0], controls=(WidgetControl(options=['position', 'transparent_bg'], widget=SearchDataGUI(childr…"
      ]
     },
     "execution_count": 12,
     "metadata": {},
     "output_type": "execute_result"
    }
   ],
   "source": [
    "# Verify that it worked\n",
    "img_vis = {\n",
    "    \"min\": 0,\n",
    "    \"max\": 1,\n",
    "    \"palette\": [\"white\", \"red\"]\n",
    "}\n",
    "\n",
    "Map = geemap.Map()\n",
    "Map.add_basemap(\"HYBRID\")\n",
    "Map.addLayer(ads_18_pct_mort, img_vis, \"Damage raster\")\n",
    "Map.addLayer(ads_18_masked, img_vis, \"Masked damage raster\")\n",
    "Map.addLayer(ads_damage_18, {}, 'Damage polygons')\n",
    "\n",
    "Map"
   ]
  },
  {
   "cell_type": "markdown",
   "id": "ced50c00-83da-4cdc-b3a9-99ac9527b4b8",
   "metadata": {},
   "source": [
    "Make an image for each year, export it to an image collection."
   ]
  },
  {
   "cell_type": "code",
   "execution_count": 46,
   "id": "161afc54-8de5-4d12-9db9-5980464eca09",
   "metadata": {},
   "outputs": [
    {
     "data": {
      "text/html": [
       "\n",
       "            <style>\n",
       "                .geemap-dark {\n",
       "                    --jp-widgets-color: white;\n",
       "                    --jp-widgets-label-color: white;\n",
       "                    --jp-ui-font-color1: white;\n",
       "                    --jp-layout-color2: #454545;\n",
       "                    background-color: #383838;\n",
       "                }\n",
       "\n",
       "                .geemap-dark .jupyter-button {\n",
       "                    --jp-layout-color3: #383838;\n",
       "                }\n",
       "\n",
       "                .geemap-colab {\n",
       "                    background-color: var(--colab-primary-surface-color, white);\n",
       "                }\n",
       "\n",
       "                .geemap-colab .jupyter-button {\n",
       "                    --jp-layout-color3: var(--colab-primary-surface-color, white);\n",
       "                }\n",
       "            </style>\n",
       "            "
      ],
      "text/plain": [
       "<IPython.core.display.HTML object>"
      ]
     },
     "metadata": {},
     "output_type": "display_data"
    }
   ],
   "source": [
    "def make_ads_damage_image(year, out_collection, as_img=False):\n",
    "    # Filter to the given year\n",
    "    year_filter = ee.Filter.calendarRange(year, year, \"year\")\n",
    "    eq_filter   = ee.Filter.eq(\"SURVEY_YEA\", year)\n",
    "    \n",
    "    this_damage = ads_damage.filter(eq_filter)\n",
    "    this_survey = ads_survey.filter(eq_filter)\n",
    "    this_lc     = mod_lc.filter(year_filter).first()\n",
    "\n",
    "    # Rasterize the damage polygons\n",
    "    zero = ee.Image(0)\n",
    "    damage_raster = this_damage.map(lambda x: x.set(\"const\", 1))\\\n",
    "        .reduceToImage([\"const\"], ee.Reducer.max())\n",
    "\n",
    "    damage_pct_mort = zero.blend(damage_raster)\\\n",
    "        .setDefaultProjection(mod_proj, None, 10)\\\n",
    "        .reduceResolution(ee.Reducer.mean(), maxPixels=2048, bestEffort=True)\n",
    "\n",
    "    # Make the mask\n",
    "    mask = this_survey.map(lambda x: x.set(\"const\", 1))\\\n",
    "        .reduceToImage([\"const\"], ee.Reducer.max())\\\n",
    "        .setDefaultProjection(mod_proj)\\\n",
    "        .And(this_lc.select(\"LC_Type1\").lt(6))\n",
    "\n",
    "    # Apply the mask and set output projection\n",
    "    damage_masked = damage_pct_mort.updateMask(mask)\\\n",
    "        .reproject(mod_proj, None, 1000)\\\n",
    "        .rename(\"pct_mortality\")\n",
    "    \n",
    "    # Set timekeeping properties\n",
    "    epoch_start = datetime.datetime(year, 1, 1, 0, 0, 0, \n",
    "                                    tzinfo=datetime.timezone.utc)\n",
    "    epoch_end   = datetime.datetime(year+1, 1, 1, 0, 0, 0, \n",
    "                                    tzinfo=datetime.timezone.utc) - datetime.timedelta(milliseconds=1)\n",
    "\n",
    "    damage_masked = damage_masked.set({\n",
    "        \"system:time_start\": epoch_start.timestamp() * 1000,\n",
    "        \"system:time_end\": epoch_end.timestamp() * 1000\n",
    "    })\n",
    "    \n",
    "    # Return export task\n",
    "    fname = \"ads_damage_\"+str(year)\n",
    "    asset = \"/\".join([out_collection, fname])\n",
    "\n",
    "    if as_img:\n",
    "        return damage_masked\n",
    "    else:\n",
    "        return ee.batch.Export.image.toAsset(\n",
    "            damage_masked, description=fname, assetId=asset,\n",
    "            # N.b. you have to provide a geometry\n",
    "            region=ca.geometry(), scale=1000, crs=mod_proj\n",
    "        )"
   ]
  },
  {
   "cell_type": "code",
   "execution_count": 47,
   "id": "f18bdde4-0ee5-4e4c-b610-ed99b8b9296c",
   "metadata": {},
   "outputs": [
    {
     "data": {
      "text/html": [
       "\n",
       "            <style>\n",
       "                .geemap-dark {\n",
       "                    --jp-widgets-color: white;\n",
       "                    --jp-widgets-label-color: white;\n",
       "                    --jp-ui-font-color1: white;\n",
       "                    --jp-layout-color2: #454545;\n",
       "                    background-color: #383838;\n",
       "                }\n",
       "\n",
       "                .geemap-dark .jupyter-button {\n",
       "                    --jp-layout-color3: #383838;\n",
       "                }\n",
       "\n",
       "                .geemap-colab {\n",
       "                    background-color: var(--colab-primary-surface-color, white);\n",
       "                }\n",
       "\n",
       "                .geemap-colab .jupyter-button {\n",
       "                    --jp-layout-color3: var(--colab-primary-surface-color, white);\n",
       "                }\n",
       "            </style>\n",
       "            "
      ],
      "text/plain": [
       "<IPython.core.display.HTML object>"
      ]
     },
     "metadata": {},
     "output_type": "display_data"
    }
   ],
   "source": [
    "test_img = make_ads_damage_image(2019, \"projects/forest-lst/assets/damage_img\", as_img=True)"
   ]
  },
  {
   "cell_type": "code",
   "execution_count": 48,
   "id": "81c322ca-4fb3-4f28-9225-80df7f37f111",
   "metadata": {},
   "outputs": [
    {
     "data": {
      "text/html": [
       "\n",
       "            <style>\n",
       "                .geemap-dark {\n",
       "                    --jp-widgets-color: white;\n",
       "                    --jp-widgets-label-color: white;\n",
       "                    --jp-ui-font-color1: white;\n",
       "                    --jp-layout-color2: #454545;\n",
       "                    background-color: #383838;\n",
       "                }\n",
       "\n",
       "                .geemap-dark .jupyter-button {\n",
       "                    --jp-layout-color3: #383838;\n",
       "                }\n",
       "\n",
       "                .geemap-colab {\n",
       "                    background-color: var(--colab-primary-surface-color, white);\n",
       "                }\n",
       "\n",
       "                .geemap-colab .jupyter-button {\n",
       "                    --jp-layout-color3: var(--colab-primary-surface-color, white);\n",
       "                }\n",
       "            </style>\n",
       "            "
      ],
      "text/plain": [
       "<IPython.core.display.HTML object>"
      ]
     },
     "metadata": {},
     "output_type": "display_data"
    },
    {
     "data": {
      "application/vnd.jupyter.widget-view+json": {
       "model_id": "77d9ac0a11a84a029ace19b83e6b1876",
       "version_major": 2,
       "version_minor": 0
      },
      "text/plain": [
       "Map(center=[0, 0], controls=(WidgetControl(options=['position', 'transparent_bg'], widget=SearchDataGUI(childr…"
      ]
     },
     "execution_count": 48,
     "metadata": {},
     "output_type": "execute_result"
    }
   ],
   "source": [
    "Map = geemap.Map()\n",
    "Map.add_basemap(\"HYBRID\")\n",
    "Map.addLayer(test_img, img_vis, \"test image\")\n",
    "Map"
   ]
  },
  {
   "cell_type": "code",
   "execution_count": 39,
   "id": "4e82cf7a-cfca-4d4d-b1b5-2bcd9380a781",
   "metadata": {},
   "outputs": [
    {
     "data": {
      "text/html": [
       "\n",
       "            <style>\n",
       "                .geemap-dark {\n",
       "                    --jp-widgets-color: white;\n",
       "                    --jp-widgets-label-color: white;\n",
       "                    --jp-ui-font-color1: white;\n",
       "                    --jp-layout-color2: #454545;\n",
       "                    background-color: #383838;\n",
       "                }\n",
       "\n",
       "                .geemap-dark .jupyter-button {\n",
       "                    --jp-layout-color3: #383838;\n",
       "                }\n",
       "\n",
       "                .geemap-colab {\n",
       "                    background-color: var(--colab-primary-surface-color, white);\n",
       "                }\n",
       "\n",
       "                .geemap-colab .jupyter-button {\n",
       "                    --jp-layout-color3: var(--colab-primary-surface-color, white);\n",
       "                }\n",
       "            </style>\n",
       "            "
      ],
      "text/plain": [
       "<IPython.core.display.HTML object>"
      ]
     },
     "metadata": {},
     "output_type": "display_data"
    },
    {
     "data": {
      "text/plain": [
       "0"
      ]
     },
     "execution_count": 39,
     "metadata": {},
     "output_type": "execute_result"
    }
   ],
   "source": [
    "# Create destination image collection\n",
    "collection = \"projects/forest-lst/assets/damage_img\"\n",
    "os.system(\"earthengine create collection {}\".format(collection))"
   ]
  },
  {
   "cell_type": "code",
   "execution_count": 36,
   "id": "a2627268-626d-4015-9cc6-bcf7d0ee7ef3",
   "metadata": {},
   "outputs": [
    {
     "data": {
      "text/html": [
       "\n",
       "            <style>\n",
       "                .geemap-dark {\n",
       "                    --jp-widgets-color: white;\n",
       "                    --jp-widgets-label-color: white;\n",
       "                    --jp-ui-font-color1: white;\n",
       "                    --jp-layout-color2: #454545;\n",
       "                    background-color: #383838;\n",
       "                }\n",
       "\n",
       "                .geemap-dark .jupyter-button {\n",
       "                    --jp-layout-color3: #383838;\n",
       "                }\n",
       "\n",
       "                .geemap-colab {\n",
       "                    background-color: var(--colab-primary-surface-color, white);\n",
       "                }\n",
       "\n",
       "                .geemap-colab .jupyter-button {\n",
       "                    --jp-layout-color3: var(--colab-primary-surface-color, white);\n",
       "                }\n",
       "            </style>\n",
       "            "
      ],
      "text/plain": [
       "<IPython.core.display.HTML object>"
      ]
     },
     "metadata": {},
     "output_type": "display_data"
    },
    {
     "name": "stdout",
     "output_type": "stream",
     "text": [
      "[2014, 2009, 2017, 2001, 1997, 2000, 2018, 2019, 2010, 1998, 1999, 2020, 2013, 2022, 2004, 2008, 2011, 2021, 2015, 2012, 2006, 2005, 2002, 2003, 2023, 2007, 2016]\n"
     ]
    }
   ],
   "source": [
    "years = list(map(int, set(damage_years) & set(survey_years)))\n",
    "print(years)"
   ]
  },
  {
   "cell_type": "code",
   "execution_count": 51,
   "id": "2f5a8bf8-703d-4e52-b921-4e23c16cc536",
   "metadata": {},
   "outputs": [
    {
     "data": {
      "text/html": [
       "\n",
       "            <style>\n",
       "                .geemap-dark {\n",
       "                    --jp-widgets-color: white;\n",
       "                    --jp-widgets-label-color: white;\n",
       "                    --jp-ui-font-color1: white;\n",
       "                    --jp-layout-color2: #454545;\n",
       "                    background-color: #383838;\n",
       "                }\n",
       "\n",
       "                .geemap-dark .jupyter-button {\n",
       "                    --jp-layout-color3: #383838;\n",
       "                }\n",
       "\n",
       "                .geemap-colab {\n",
       "                    background-color: var(--colab-primary-surface-color, white);\n",
       "                }\n",
       "\n",
       "                .geemap-colab .jupyter-button {\n",
       "                    --jp-layout-color3: var(--colab-primary-surface-color, white);\n",
       "                }\n",
       "            </style>\n",
       "            "
      ],
      "text/plain": [
       "<IPython.core.display.HTML object>"
      ]
     },
     "metadata": {},
     "output_type": "display_data"
    },
    {
     "name": "stdout",
     "output_type": "stream",
     "text": [
      "Starting ads_damage_2014\n",
      "Starting ads_damage_2009\n",
      "Starting ads_damage_2017\n",
      "Starting ads_damage_2001\n",
      "Starting ads_damage_1997\n",
      "Starting ads_damage_2000\n",
      "Starting ads_damage_2018\n",
      "Starting ads_damage_2019\n",
      "Starting ads_damage_2010\n",
      "Starting ads_damage_1998\n",
      "Starting ads_damage_1999\n",
      "Starting ads_damage_2020\n",
      "Starting ads_damage_2013\n",
      "Starting ads_damage_2022\n",
      "Starting ads_damage_2004\n",
      "Starting ads_damage_2008\n",
      "Starting ads_damage_2011\n",
      "Starting ads_damage_2021\n",
      "Starting ads_damage_2015\n",
      "Starting ads_damage_2012\n",
      "Starting ads_damage_2006\n",
      "Starting ads_damage_2005\n",
      "Starting ads_damage_2002\n",
      "Starting ads_damage_2003\n",
      "Starting ads_damage_2023\n",
      "Starting ads_damage_2007\n",
      "Starting ads_damage_2016\n"
     ]
    }
   ],
   "source": [
    "tasks = map(lambda x: make_ads_damage_image(x, collection), years)\n",
    "for t in tasks: \n",
    "    print(\"Starting\", t.config[\"description\"])\n",
    "    t.start()"
   ]
  }
 ],
 "metadata": {
  "kernelspec": {
   "display_name": "Python 3 (ipykernel)",
   "language": "python",
   "name": "python3"
  },
  "language_info": {
   "codemirror_mode": {
    "name": "ipython",
    "version": 3
   },
   "file_extension": ".py",
   "mimetype": "text/x-python",
   "name": "python",
   "nbconvert_exporter": "python",
   "pygments_lexer": "ipython3",
   "version": "3.10.13"
  }
 },
 "nbformat": 4,
 "nbformat_minor": 5
}
