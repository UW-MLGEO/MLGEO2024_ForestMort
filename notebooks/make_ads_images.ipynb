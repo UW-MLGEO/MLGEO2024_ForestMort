{
 "cells": [
  {
   "cell_type": "markdown",
   "id": "3d386222-a4fb-4903-b93d-bfcbd2eb671f",
   "metadata": {},
   "source": [
    "## Make ADS damage images\n",
    "\n",
    "In `clean_ads_polygons.ipynb`, we ingested the ADS polygon dataset into Earth Engine. Now, we need to convert these to annual images so that we can add them to our TFRecordDataset."
   ]
  },
  {
   "cell_type": "code",
   "execution_count": 1,
   "id": "0512d4ed-6fae-4ec6-ba49-468cd2c1dd89",
   "metadata": {
    "scrolled": true
   },
   "outputs": [
    {
     "name": "stdout",
     "output_type": "stream",
     "text": [
      "Changed working dir to G:\\Other computers\\My Laptop\\UW\\Classes\\ESS521\\project\n"
     ]
    }
   ],
   "source": [
    "import ee\n",
    "import geemap\n",
    "\n",
    "ee.Initialize()\n",
    "\n",
    "import os\n",
    "import datetime\n",
    "\n",
    "if \"notebooks\" in os.getcwd():\n",
    "    os.chdir(\"..\")\n",
    "    print(\"Changed working dir to\", os.getcwd())"
   ]
  },
  {
   "cell_type": "markdown",
   "id": "4e093cac-861a-488d-ad76-96712caae68a",
   "metadata": {},
   "source": [
    "## Part 1: damage polygons\n",
    "\n",
    "Get the asset, filter to an arbitrary year, and map by severity."
   ]
  },
  {
   "cell_type": "code",
   "execution_count": 2,
   "id": "70270fb9-97da-4c80-b519-14cdf5a4862b",
   "metadata": {},
   "outputs": [
    {
     "data": {
      "text/html": [
       "\n",
       "            <style>\n",
       "                .geemap-dark {\n",
       "                    --jp-widgets-color: white;\n",
       "                    --jp-widgets-label-color: white;\n",
       "                    --jp-ui-font-color1: white;\n",
       "                    --jp-layout-color2: #454545;\n",
       "                    background-color: #383838;\n",
       "                }\n",
       "\n",
       "                .geemap-dark .jupyter-button {\n",
       "                    --jp-layout-color3: #383838;\n",
       "                }\n",
       "\n",
       "                .geemap-colab {\n",
       "                    background-color: var(--colab-primary-surface-color, white);\n",
       "                }\n",
       "\n",
       "                .geemap-colab .jupyter-button {\n",
       "                    --jp-layout-color3: var(--colab-primary-surface-color, white);\n",
       "                }\n",
       "            </style>\n",
       "            "
      ],
      "text/plain": [
       "<IPython.core.display.HTML object>"
      ]
     },
     "metadata": {},
     "output_type": "display_data"
    },
    {
     "name": "stdout",
     "output_type": "stream",
     "text": [
      "{'1.0': 287, '2.0': 1154, '3.0': 562, '4.0': 194, '5.0': 22}\n"
     ]
    }
   ],
   "source": [
    "ads = ee.FeatureCollection(\"projects/forest-lst/assets/damage_polygons\")\n",
    "ads_18 = ads.filter(ee.Filter.equals(\"YEAR\", 2018))\n",
    "print(ads_18.aggregate_histogram(\"SEVERITY\").getInfo())"
   ]
  },
  {
   "cell_type": "code",
   "execution_count": 3,
   "id": "d3416323-f18a-4b43-b4a8-a4a2857597a4",
   "metadata": {},
   "outputs": [
    {
     "data": {
      "text/html": [
       "\n",
       "            <style>\n",
       "                .geemap-dark {\n",
       "                    --jp-widgets-color: white;\n",
       "                    --jp-widgets-label-color: white;\n",
       "                    --jp-ui-font-color1: white;\n",
       "                    --jp-layout-color2: #454545;\n",
       "                    background-color: #383838;\n",
       "                }\n",
       "\n",
       "                .geemap-dark .jupyter-button {\n",
       "                    --jp-layout-color3: #383838;\n",
       "                }\n",
       "\n",
       "                .geemap-colab {\n",
       "                    background-color: var(--colab-primary-surface-color, white);\n",
       "                }\n",
       "\n",
       "                .geemap-colab .jupyter-button {\n",
       "                    --jp-layout-color3: var(--colab-primary-surface-color, white);\n",
       "                }\n",
       "            </style>\n",
       "            "
      ],
      "text/plain": [
       "<IPython.core.display.HTML object>"
      ]
     },
     "metadata": {},
     "output_type": "display_data"
    },
    {
     "data": {
      "application/vnd.jupyter.widget-view+json": {
       "model_id": "7ab5d17116994029995dfeb9e3127642",
       "version_major": 2,
       "version_minor": 0
      },
      "text/plain": [
       "Map(center=[0, 0], controls=(WidgetControl(options=['position', 'transparent_bg'], widget=SearchDataGUI(childr…"
      ]
     },
     "execution_count": 3,
     "metadata": {},
     "output_type": "execute_result"
    }
   ],
   "source": [
    "severity_codes = [1.0, 2.0, 3.0, 4.0, 5.0]\n",
    "colors = ['#fef0d9','#fdcc8a','#fc8d59','#e34a33','#b30000']\n",
    "labels = [\"Very Light\", \"Light\", \"Moderate\", \"Severe\", \"Very Severe\"]\n",
    "\n",
    "styled_fc = geemap.ee_vector_style(\n",
    "    ads_18, column='SEVERITY', labels=severity_codes, fillColor=colors, color='000000'\n",
    ")\n",
    "\n",
    "Map = geemap.Map()\n",
    "Map.add_basemap(\"HYBRID\")\n",
    "\n",
    "Map.addLayer(styled_fc, {}, 'Damage polygons')\n",
    "Map.add_legend(title='Damage severity', labels=labels, colors=colors)\n",
    "Map"
   ]
  },
  {
   "cell_type": "markdown",
   "id": "77b22d53-644f-40d7-ab41-c7fa47f9b7c3",
   "metadata": {},
   "source": [
    "Rasterize using the MODIS projection, color pixels by severity. If two polys overlap, take the maximum severity."
   ]
  },
  {
   "cell_type": "code",
   "execution_count": 4,
   "id": "06ed52c2-6c0c-451e-9a29-8c1835045ea6",
   "metadata": {},
   "outputs": [
    {
     "data": {
      "text/html": [
       "\n",
       "            <style>\n",
       "                .geemap-dark {\n",
       "                    --jp-widgets-color: white;\n",
       "                    --jp-widgets-label-color: white;\n",
       "                    --jp-ui-font-color1: white;\n",
       "                    --jp-layout-color2: #454545;\n",
       "                    background-color: #383838;\n",
       "                }\n",
       "\n",
       "                .geemap-dark .jupyter-button {\n",
       "                    --jp-layout-color3: #383838;\n",
       "                }\n",
       "\n",
       "                .geemap-colab {\n",
       "                    background-color: var(--colab-primary-surface-color, white);\n",
       "                }\n",
       "\n",
       "                .geemap-colab .jupyter-button {\n",
       "                    --jp-layout-color3: var(--colab-primary-surface-color, white);\n",
       "                }\n",
       "            </style>\n",
       "            "
      ],
      "text/plain": [
       "<IPython.core.display.HTML object>"
      ]
     },
     "metadata": {},
     "output_type": "display_data"
    }
   ],
   "source": [
    "mod_proj = ee.ImageCollection(\"MODIS/061/MYD11A1\").first().projection()\n",
    "# Force scale\n",
    "ads_18_raster = ads_18.reduceToImage([\"SEVERITY\"], ee.Reducer.max()).rename(\"SEVERITY\").reproject(mod_proj, None, 1000)"
   ]
  },
  {
   "cell_type": "code",
   "execution_count": 5,
   "id": "6f52b085-2bea-4f0e-aa5e-a5b758ab764c",
   "metadata": {},
   "outputs": [
    {
     "data": {
      "text/html": [
       "\n",
       "            <style>\n",
       "                .geemap-dark {\n",
       "                    --jp-widgets-color: white;\n",
       "                    --jp-widgets-label-color: white;\n",
       "                    --jp-ui-font-color1: white;\n",
       "                    --jp-layout-color2: #454545;\n",
       "                    background-color: #383838;\n",
       "                }\n",
       "\n",
       "                .geemap-dark .jupyter-button {\n",
       "                    --jp-layout-color3: #383838;\n",
       "                }\n",
       "\n",
       "                .geemap-colab {\n",
       "                    background-color: var(--colab-primary-surface-color, white);\n",
       "                }\n",
       "\n",
       "                .geemap-colab .jupyter-button {\n",
       "                    --jp-layout-color3: var(--colab-primary-surface-color, white);\n",
       "                }\n",
       "            </style>\n",
       "            "
      ],
      "text/plain": [
       "<IPython.core.display.HTML object>"
      ]
     },
     "metadata": {},
     "output_type": "display_data"
    },
    {
     "data": {
      "application/vnd.jupyter.widget-view+json": {
       "model_id": "16ad0a2ada4a48bc99f78f55ebd7f5df",
       "version_major": 2,
       "version_minor": 0
      },
      "text/plain": [
       "Map(center=[0, 0], controls=(WidgetControl(options=['position', 'transparent_bg'], widget=SearchDataGUI(childr…"
      ]
     },
     "execution_count": 5,
     "metadata": {},
     "output_type": "execute_result"
    }
   ],
   "source": [
    "# Verify that it worked\n",
    "img_vis = {\n",
    "    \"min\": 1,\n",
    "    \"max\": 5,\n",
    "    \"palette\": colors\n",
    "}\n",
    "\n",
    "Map = geemap.Map()\n",
    "Map.add_basemap(\"HYBRID\")\n",
    "Map.addLayer(ads_18_raster, img_vis, \"Damage raster\")\n",
    "Map.addLayer(styled_fc, {\"color\": \"#000000\", \"lineWidth\": 2}, 'Damage polygons')\n",
    "Map.add_legend(title='Damage severity', labels=labels, colors=colors)\n",
    "Map"
   ]
  },
  {
   "cell_type": "markdown",
   "id": "ced50c00-83da-4cdc-b3a9-99ac9527b4b8",
   "metadata": {},
   "source": [
    "Make an image for each year, export it to an image collection."
   ]
  },
  {
   "cell_type": "code",
   "execution_count": 6,
   "id": "161afc54-8de5-4d12-9db9-5980464eca09",
   "metadata": {},
   "outputs": [
    {
     "data": {
      "text/html": [
       "\n",
       "            <style>\n",
       "                .geemap-dark {\n",
       "                    --jp-widgets-color: white;\n",
       "                    --jp-widgets-label-color: white;\n",
       "                    --jp-ui-font-color1: white;\n",
       "                    --jp-layout-color2: #454545;\n",
       "                    background-color: #383838;\n",
       "                }\n",
       "\n",
       "                .geemap-dark .jupyter-button {\n",
       "                    --jp-layout-color3: #383838;\n",
       "                }\n",
       "\n",
       "                .geemap-colab {\n",
       "                    background-color: var(--colab-primary-surface-color, white);\n",
       "                }\n",
       "\n",
       "                .geemap-colab .jupyter-button {\n",
       "                    --jp-layout-color3: var(--colab-primary-surface-color, white);\n",
       "                }\n",
       "            </style>\n",
       "            "
      ],
      "text/plain": [
       "<IPython.core.display.HTML object>"
      ]
     },
     "metadata": {},
     "output_type": "display_data"
    }
   ],
   "source": [
    "ca = ee.FeatureCollection(\"TIGER/2018/States\").filter(ee.Filter.eq(\"NAME\", \"California\")).first();\n",
    "\n",
    "def make_ads_damage_image(year, out_collection):\n",
    "    # Filter to the given year\n",
    "    ads_filter = ads.filter(ee.Filter.equals(\"YEAR\", year))\n",
    "    \n",
    "    # Bail out if this year has no severity data\n",
    "    if not len(ads_filter.aggregate_array(\"SEVERITY\").getInfo()):\n",
    "        print(year, \"has no severity data\")\n",
    "        return None\n",
    "    \n",
    "    ads_raster = ads_filter.reduceToImage([\"SEVERITY\"], ee.Reducer.max()).rename(\"SEVERITY\").reproject(mod_proj, None, 1000)\n",
    "\n",
    "    # Set timekeeping properties\n",
    "    epoch_start = datetime.datetime(year, 1, 1, 0, 0, 0, \n",
    "                                    tzinfo=datetime.timezone.utc)\n",
    "    epoch_end   = datetime.datetime(year+1, 1, 1, 0, 0, 0, \n",
    "                                    tzinfo=datetime.timezone.utc) - datetime.timedelta(milliseconds=1)\n",
    "\n",
    "    ads_raster = ads_raster.set({\n",
    "        \"system:time_start\": epoch_start.timestamp() * 1000,\n",
    "        \"system:time_end\": epoch_end.timestamp() * 1000\n",
    "    })\n",
    "    \n",
    "    # Return export task\n",
    "    fname = \"ads_damage_\"+str(year)\n",
    "    asset = \"/\".join([out_collection, fname])\n",
    "    \n",
    "    return ee.batch.Export.image.toAsset(\n",
    "        ads_raster, description=fname, assetId=asset,\n",
    "        # N.b. you have to provide a geometry\n",
    "        region=ca.geometry(), scale=1000, crs=mod_proj\n",
    "    )"
   ]
  },
  {
   "cell_type": "code",
   "execution_count": 7,
   "id": "f18bdde4-0ee5-4e4c-b610-ed99b8b9296c",
   "metadata": {},
   "outputs": [
    {
     "data": {
      "text/html": [
       "\n",
       "            <style>\n",
       "                .geemap-dark {\n",
       "                    --jp-widgets-color: white;\n",
       "                    --jp-widgets-label-color: white;\n",
       "                    --jp-ui-font-color1: white;\n",
       "                    --jp-layout-color2: #454545;\n",
       "                    background-color: #383838;\n",
       "                }\n",
       "\n",
       "                .geemap-dark .jupyter-button {\n",
       "                    --jp-layout-color3: #383838;\n",
       "                }\n",
       "\n",
       "                .geemap-colab {\n",
       "                    background-color: var(--colab-primary-surface-color, white);\n",
       "                }\n",
       "\n",
       "                .geemap-colab .jupyter-button {\n",
       "                    --jp-layout-color3: var(--colab-primary-surface-color, white);\n",
       "                }\n",
       "            </style>\n",
       "            "
      ],
      "text/plain": [
       "<IPython.core.display.HTML object>"
      ]
     },
     "metadata": {},
     "output_type": "display_data"
    },
    {
     "data": {
      "text/plain": [
       "<Task Type.EXPORT_IMAGE: ads_damage_2020 (State.UNSUBMITTED)>"
      ]
     },
     "execution_count": 7,
     "metadata": {},
     "output_type": "execute_result"
    }
   ],
   "source": [
    "make_ads_damage_image(2020, \"projects/forest-lst/assets/damage_img\")"
   ]
  },
  {
   "cell_type": "code",
   "execution_count": 8,
   "id": "4e82cf7a-cfca-4d4d-b1b5-2bcd9380a781",
   "metadata": {},
   "outputs": [
    {
     "data": {
      "text/html": [
       "\n",
       "            <style>\n",
       "                .geemap-dark {\n",
       "                    --jp-widgets-color: white;\n",
       "                    --jp-widgets-label-color: white;\n",
       "                    --jp-ui-font-color1: white;\n",
       "                    --jp-layout-color2: #454545;\n",
       "                    background-color: #383838;\n",
       "                }\n",
       "\n",
       "                .geemap-dark .jupyter-button {\n",
       "                    --jp-layout-color3: #383838;\n",
       "                }\n",
       "\n",
       "                .geemap-colab {\n",
       "                    background-color: var(--colab-primary-surface-color, white);\n",
       "                }\n",
       "\n",
       "                .geemap-colab .jupyter-button {\n",
       "                    --jp-layout-color3: var(--colab-primary-surface-color, white);\n",
       "                }\n",
       "            </style>\n",
       "            "
      ],
      "text/plain": [
       "<IPython.core.display.HTML object>"
      ]
     },
     "metadata": {},
     "output_type": "display_data"
    },
    {
     "data": {
      "text/plain": [
       "0"
      ]
     },
     "execution_count": 8,
     "metadata": {},
     "output_type": "execute_result"
    }
   ],
   "source": [
    "# Create destination image collection\n",
    "collection = \"projects/forest-lst/assets/damage_img\"\n",
    "os.system(\"earthengine create collection {}\".format(collection))"
   ]
  },
  {
   "cell_type": "code",
   "execution_count": 9,
   "id": "468aa9d9-6bc0-4213-8216-6feb67ab8a43",
   "metadata": {},
   "outputs": [
    {
     "data": {
      "text/html": [
       "\n",
       "            <style>\n",
       "                .geemap-dark {\n",
       "                    --jp-widgets-color: white;\n",
       "                    --jp-widgets-label-color: white;\n",
       "                    --jp-ui-font-color1: white;\n",
       "                    --jp-layout-color2: #454545;\n",
       "                    background-color: #383838;\n",
       "                }\n",
       "\n",
       "                .geemap-dark .jupyter-button {\n",
       "                    --jp-layout-color3: #383838;\n",
       "                }\n",
       "\n",
       "                .geemap-colab {\n",
       "                    background-color: var(--colab-primary-surface-color, white);\n",
       "                }\n",
       "\n",
       "                .geemap-colab .jupyter-button {\n",
       "                    --jp-layout-color3: var(--colab-primary-surface-color, white);\n",
       "                }\n",
       "            </style>\n",
       "            "
      ],
      "text/plain": [
       "<IPython.core.display.HTML object>"
      ]
     },
     "metadata": {},
     "output_type": "display_data"
    },
    {
     "name": "stdout",
     "output_type": "stream",
     "text": [
      "[1997, 1998, 1999, 2000, 2001, 2002, 2003, 2004, 2005, 2006, 2007, 2008, 2009, 2010, 2011, 2012, 2013, 2014, 2015, 2016, 2017, 2018, 2019, 2020, 2021, 2022, 2023]\n"
     ]
    }
   ],
   "source": [
    "# Make images for all years of data\n",
    "years = list(map(int, ads.aggregate_histogram(\"YEAR\").getInfo().keys()))\n",
    "print(years)"
   ]
  },
  {
   "cell_type": "code",
   "execution_count": 10,
   "id": "48f8aad3-1a80-4a0a-ac00-cacfc000f15e",
   "metadata": {},
   "outputs": [
    {
     "data": {
      "text/html": [
       "\n",
       "            <style>\n",
       "                .geemap-dark {\n",
       "                    --jp-widgets-color: white;\n",
       "                    --jp-widgets-label-color: white;\n",
       "                    --jp-ui-font-color1: white;\n",
       "                    --jp-layout-color2: #454545;\n",
       "                    background-color: #383838;\n",
       "                }\n",
       "\n",
       "                .geemap-dark .jupyter-button {\n",
       "                    --jp-layout-color3: #383838;\n",
       "                }\n",
       "\n",
       "                .geemap-colab {\n",
       "                    background-color: var(--colab-primary-surface-color, white);\n",
       "                }\n",
       "\n",
       "                .geemap-colab .jupyter-button {\n",
       "                    --jp-layout-color3: var(--colab-primary-surface-color, white);\n",
       "                }\n",
       "            </style>\n",
       "            "
      ],
      "text/plain": [
       "<IPython.core.display.HTML object>"
      ]
     },
     "metadata": {},
     "output_type": "display_data"
    }
   ],
   "source": [
    "tasks = map(lambda x: make_ads_damage_image(x, collection), years)"
   ]
  },
  {
   "cell_type": "code",
   "execution_count": 11,
   "id": "069fba2e-7a67-47a7-bff6-d02f2913e861",
   "metadata": {
    "scrolled": true
   },
   "outputs": [
    {
     "data": {
      "text/html": [
       "\n",
       "            <style>\n",
       "                .geemap-dark {\n",
       "                    --jp-widgets-color: white;\n",
       "                    --jp-widgets-label-color: white;\n",
       "                    --jp-ui-font-color1: white;\n",
       "                    --jp-layout-color2: #454545;\n",
       "                    background-color: #383838;\n",
       "                }\n",
       "\n",
       "                .geemap-dark .jupyter-button {\n",
       "                    --jp-layout-color3: #383838;\n",
       "                }\n",
       "\n",
       "                .geemap-colab {\n",
       "                    background-color: var(--colab-primary-surface-color, white);\n",
       "                }\n",
       "\n",
       "                .geemap-colab .jupyter-button {\n",
       "                    --jp-layout-color3: var(--colab-primary-surface-color, white);\n",
       "                }\n",
       "            </style>\n",
       "            "
      ],
      "text/plain": [
       "<IPython.core.display.HTML object>"
      ]
     },
     "metadata": {},
     "output_type": "display_data"
    },
    {
     "name": "stdout",
     "output_type": "stream",
     "text": [
      "1997 has no severity data\n",
      "1998 has no severity data\n",
      "1999 has no severity data\n",
      "2000 has no severity data\n",
      "2001 has no severity data\n",
      "2002 has no severity data\n",
      "2003 has no severity data\n",
      "2004 has no severity data\n",
      "2005 has no severity data\n",
      "2006 has no severity data\n",
      "2007 has no severity data\n",
      "2008 has no severity data\n",
      "2009 has no severity data\n",
      "2010 has no severity data\n",
      "2011 has no severity data\n",
      "2012 has no severity data\n"
     ]
    }
   ],
   "source": [
    "for t in tasks:\n",
    "    if t is not None:\n",
    "        t.start()"
   ]
  },
  {
   "cell_type": "markdown",
   "id": "19155917-be90-487b-9f71-2465bbf3edf4",
   "metadata": {},
   "source": [
    "## Part 2: survey polygons\n",
    "\n",
    "More or less doing the same thing here except we set a constant (unmasked!) value of zero for the surveys. This corresponds to a mortality event with zero severity."
   ]
  },
  {
   "cell_type": "code",
   "execution_count": 22,
   "id": "14fe1251-381e-4700-8382-aa63c505a80f",
   "metadata": {},
   "outputs": [
    {
     "data": {
      "text/html": [
       "\n",
       "            <style>\n",
       "                .geemap-dark {\n",
       "                    --jp-widgets-color: white;\n",
       "                    --jp-widgets-label-color: white;\n",
       "                    --jp-ui-font-color1: white;\n",
       "                    --jp-layout-color2: #454545;\n",
       "                    background-color: #383838;\n",
       "                }\n",
       "\n",
       "                .geemap-dark .jupyter-button {\n",
       "                    --jp-layout-color3: #383838;\n",
       "                }\n",
       "\n",
       "                .geemap-colab {\n",
       "                    background-color: var(--colab-primary-surface-color, white);\n",
       "                }\n",
       "\n",
       "                .geemap-colab .jupyter-button {\n",
       "                    --jp-layout-color3: var(--colab-primary-surface-color, white);\n",
       "                }\n",
       "            </style>\n",
       "            "
      ],
      "text/plain": [
       "<IPython.core.display.HTML object>"
      ]
     },
     "metadata": {},
     "output_type": "display_data"
    }
   ],
   "source": [
    "surveys = ee.FeatureCollection(\"projects/forest-lst/assets/survey_polygons\")\n",
    "\n",
    "def make_ads_survey_image(year, out_collection):\n",
    "    # Grab the polygon\n",
    "    feature = surveys.filter(ee.Filter.equals(\"YEAR\", year))\n",
    "\n",
    "    # Add a dummy property\n",
    "    feature = feature.map(lambda f: f.set(\"dummy\", 0))\n",
    "\n",
    "    # Rasterize, keep output band as severity for convenience with the damage polygons\n",
    "    img = feature.reduceToImage([\"dummy\"], ee.Reducer.first()).rename(\"SEVERITY\").reproject(mod_proj, None, 1000)\n",
    "\n",
    "    # Set timekeeping properties\n",
    "    epoch_start = datetime.datetime(year, 1, 1, 0, 0, 0, \n",
    "                                    tzinfo=datetime.timezone.utc)\n",
    "    epoch_end   = datetime.datetime(year+1, 1, 1, 0, 0, 0, \n",
    "                                    tzinfo=datetime.timezone.utc) - datetime.timedelta(milliseconds=1)\n",
    "\n",
    "    img = img.set({\n",
    "        \"system:time_start\": epoch_start.timestamp() * 1000,\n",
    "        \"system:time_end\": epoch_end.timestamp() * 1000\n",
    "    })\n",
    "\n",
    "    # Return export task\n",
    "    fname = \"ads_survey_\"+str(year)\n",
    "    asset = \"/\".join([out_collection, fname])\n",
    "    \n",
    "    return ee.batch.Export.image.toAsset(\n",
    "        img, description=fname, assetId=asset,\n",
    "        # N.b. you have to provide a geometry\n",
    "        region=ca.geometry(), scale=1000, crs=mod_proj\n",
    "    )"
   ]
  },
  {
   "cell_type": "code",
   "execution_count": 20,
   "id": "380110ef-d71d-4b43-8d4e-31640f351d76",
   "metadata": {},
   "outputs": [
    {
     "data": {
      "text/html": [
       "\n",
       "            <style>\n",
       "                .geemap-dark {\n",
       "                    --jp-widgets-color: white;\n",
       "                    --jp-widgets-label-color: white;\n",
       "                    --jp-ui-font-color1: white;\n",
       "                    --jp-layout-color2: #454545;\n",
       "                    background-color: #383838;\n",
       "                }\n",
       "\n",
       "                .geemap-dark .jupyter-button {\n",
       "                    --jp-layout-color3: #383838;\n",
       "                }\n",
       "\n",
       "                .geemap-colab {\n",
       "                    background-color: var(--colab-primary-surface-color, white);\n",
       "                }\n",
       "\n",
       "                .geemap-colab .jupyter-button {\n",
       "                    --jp-layout-color3: var(--colab-primary-surface-color, white);\n",
       "                }\n",
       "            </style>\n",
       "            "
      ],
      "text/plain": [
       "<IPython.core.display.HTML object>"
      ]
     },
     "metadata": {},
     "output_type": "display_data"
    },
    {
     "data": {
      "text/plain": [
       "0"
      ]
     },
     "execution_count": 20,
     "metadata": {},
     "output_type": "execute_result"
    }
   ],
   "source": [
    "survey_collection = \"projects/forest-lst/assets/survey_img\"\n",
    "os.system(\"earthengine create collection {}\".format(survey_collection))"
   ]
  },
  {
   "cell_type": "code",
   "execution_count": 13,
   "id": "a2627268-626d-4015-9cc6-bcf7d0ee7ef3",
   "metadata": {},
   "outputs": [
    {
     "data": {
      "text/html": [
       "\n",
       "            <style>\n",
       "                .geemap-dark {\n",
       "                    --jp-widgets-color: white;\n",
       "                    --jp-widgets-label-color: white;\n",
       "                    --jp-ui-font-color1: white;\n",
       "                    --jp-layout-color2: #454545;\n",
       "                    background-color: #383838;\n",
       "                }\n",
       "\n",
       "                .geemap-dark .jupyter-button {\n",
       "                    --jp-layout-color3: #383838;\n",
       "                }\n",
       "\n",
       "                .geemap-colab {\n",
       "                    background-color: var(--colab-primary-surface-color, white);\n",
       "                }\n",
       "\n",
       "                .geemap-colab .jupyter-button {\n",
       "                    --jp-layout-color3: var(--colab-primary-surface-color, white);\n",
       "                }\n",
       "            </style>\n",
       "            "
      ],
      "text/plain": [
       "<IPython.core.display.HTML object>"
      ]
     },
     "metadata": {},
     "output_type": "display_data"
    },
    {
     "name": "stdout",
     "output_type": "stream",
     "text": [
      "[1999, 2000, 2001, 2002, 2003, 2004, 2005, 2006, 2007, 2008, 2009, 2010, 2011, 2012, 2013, 2014, 2015, 2016, 2017, 2018, 2019, 2020, 2021, 2022, 2023]\n"
     ]
    }
   ],
   "source": [
    "years = list(map(int, surveys.aggregate_histogram(\"YEAR\").getInfo().keys()))\n",
    "print(years)"
   ]
  },
  {
   "cell_type": "code",
   "execution_count": 23,
   "id": "2f5a8bf8-703d-4e52-b921-4e23c16cc536",
   "metadata": {},
   "outputs": [
    {
     "data": {
      "text/html": [
       "\n",
       "            <style>\n",
       "                .geemap-dark {\n",
       "                    --jp-widgets-color: white;\n",
       "                    --jp-widgets-label-color: white;\n",
       "                    --jp-ui-font-color1: white;\n",
       "                    --jp-layout-color2: #454545;\n",
       "                    background-color: #383838;\n",
       "                }\n",
       "\n",
       "                .geemap-dark .jupyter-button {\n",
       "                    --jp-layout-color3: #383838;\n",
       "                }\n",
       "\n",
       "                .geemap-colab {\n",
       "                    background-color: var(--colab-primary-surface-color, white);\n",
       "                }\n",
       "\n",
       "                .geemap-colab .jupyter-button {\n",
       "                    --jp-layout-color3: var(--colab-primary-surface-color, white);\n",
       "                }\n",
       "            </style>\n",
       "            "
      ],
      "text/plain": [
       "<IPython.core.display.HTML object>"
      ]
     },
     "metadata": {},
     "output_type": "display_data"
    }
   ],
   "source": [
    "tasks = map(lambda x: make_ads_survey_image(x, survey_collection), years)\n",
    "for t in tasks: t.start()"
   ]
  }
 ],
 "metadata": {
  "kernelspec": {
   "display_name": "Python 3 (ipykernel)",
   "language": "python",
   "name": "python3"
  },
  "language_info": {
   "codemirror_mode": {
    "name": "ipython",
    "version": 3
   },
   "file_extension": ".py",
   "mimetype": "text/x-python",
   "name": "python",
   "nbconvert_exporter": "python",
   "pygments_lexer": "ipython3",
   "version": "3.10.13"
  }
 },
 "nbformat": 4,
 "nbformat_minor": 5
}
